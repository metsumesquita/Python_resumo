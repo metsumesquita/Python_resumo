{
  "nbformat": 4,
  "nbformat_minor": 0,
  "metadata": {
    "colab": {
      "provenance": [],
      "toc_visible": true,
      "authorship_tag": "ABX9TyNpVUZ2GIhzZhxw74rx0+bm",
      "include_colab_link": true
    },
    "kernelspec": {
      "name": "python3",
      "display_name": "Python 3"
    },
    "language_info": {
      "name": "python"
    }
  },
  "cells": [
    {
      "cell_type": "markdown",
      "metadata": {
        "id": "view-in-github",
        "colab_type": "text"
      },
      "source": [
        "<a href=\"https://colab.research.google.com/github/metsumesquita/Python_resumo/blob/main/repeti%C3%A7%C3%B5es_e_condicionais.ipynb\" target=\"_parent\"><img src=\"https://colab.research.google.com/assets/colab-badge.svg\" alt=\"Open In Colab\"/></a>"
      ]
    },
    {
      "cell_type": "code",
      "source": [
        "i=1\n",
        "while i<=5:\n",
        "  print(i)\n",
        "  i=i+1\n",
        "print('crescente')"
      ],
      "metadata": {
        "id": "SZS8q1RLtPGi"
      },
      "execution_count": null,
      "outputs": []
    },
    {
      "cell_type": "code",
      "source": [
        "#repeated\n",
        "n=5\n",
        "while n>0:\n",
        "  print(n)\n",
        "  n=n-1\n",
        "print('decrescente')"
      ],
      "metadata": {
        "id": "vbXQRx20tPDO"
      },
      "execution_count": null,
      "outputs": []
    },
    {
      "cell_type": "code",
      "source": [
        "numerofinal=int(input(\"Digite o ultimo numero a imprimir: \"))\n",
        "x=1\n",
        "while x<= numerofinal:\n",
        "  print(x)\n",
        "  x=x+1"
      ],
      "metadata": {
        "id": "u_jF3ffetPA6"
      },
      "execution_count": null,
      "outputs": []
    },
    {
      "cell_type": "code",
      "source": [
        "i=1\n",
        "while i<=5:\n",
        "  print(i*'*')\n",
        "  i+=1"
      ],
      "metadata": {
        "id": "Ec6sxMoftO5F"
      },
      "execution_count": null,
      "outputs": []
    },
    {
      "cell_type": "code",
      "source": [
        "\n",
        "for letter in 'Python':     # First Example\n",
        "   if letter == 'h':\n",
        "    break\n",
        "   print ('Current Letter :', letter)\n",
        "\n",
        "   #devemos estudar mais depois como utilizar o break ele pode ser interessante mais tarde"
      ],
      "metadata": {
        "id": "e9yF3AO6tO13"
      },
      "execution_count": null,
      "outputs": []
    },
    {
      "cell_type": "markdown",
      "source": [
        "\\#armazenando inputs do usuario em uma lista,usando Done para finalizar ou sair"
      ],
      "metadata": {
        "id": "OcxUKZlarJcw"
      }
    },
    {
      "cell_type": "code",
      "source": [
        "# Create the variable for user input\n",
        "user_input = ''\n",
        "# Create the list to store the values\n",
        "inputs = []\n",
        "\n",
        "# The while loop\n",
        "while user_input.lower() != 'done':\n",
        "    # Check if there's a value in user_input\n",
        "    if user_input:\n",
        "        # Store the value in the list\n",
        "        inputs.append(user_input)\n",
        "    # Prompt for a new value\n",
        "    user_input = input('Enter a new value, or done when done')"
      ],
      "metadata": {
        "id": "3aTg8RD6rGYq"
      },
      "execution_count": null,
      "outputs": []
    },
    {
      "cell_type": "markdown",
      "source": [
        "##a repetição sendo utilizada para acumular valores"
      ],
      "metadata": {
        "id": "z9BB7NH5tefI"
      }
    },
    {
      "cell_type": "code",
      "source": [
        "#soma de 10 numeros\n",
        "n=1\n",
        "soma=0\n",
        "while n<= 10:\n",
        "  x = int(input(\"Digite o %dº número: \" % n))\n",
        "  soma = soma+x\n",
        "  n=n+1\n",
        "  print(\"Soma: %d\"%soma)\n",
        "media=soma/10\n",
        "print(\"media:\",media)"
      ],
      "metadata": {
        "id": "GaF2VwSjtOz8"
      },
      "execution_count": null,
      "outputs": []
    },
    {
      "cell_type": "markdown",
      "source": [
        "#quebra de um loop usando break em um while\n"
      ],
      "metadata": {
        "id": "-4iP1RTVtj4g"
      }
    },
    {
      "cell_type": "code",
      "source": [
        "soma = 0\n",
        "n = 1\n",
        "\n",
        "while True:\n",
        "    x = int(input(\"Digite o %dº número (ou 0 para interromper): \" % n))\n",
        "    if x == 0:\n",
        "        print(\"Interrupção do loop solicitada.\")\n",
        "        break\n",
        "    soma += x\n",
        "    n += 1\n",
        "\n",
        "print(\"A soma é:\", soma)\n",
        "print(\"Quantidade de numeros digitados foi \"+str(n)+\" ,lembrando que o numero 0 nao faz faz parte da operação da media\")\n",
        "media =soma/(n-1)\n",
        "print(\"media ariticetica\",media)"
      ],
      "metadata": {
        "id": "VJqHrznjtOw2",
        "colab": {
          "base_uri": "https://localhost:8080/"
        },
        "outputId": "077e0651-8df6-47c7-8300-6e10de523f16"
      },
      "execution_count": null,
      "outputs": [
        {
          "output_type": "stream",
          "name": "stdout",
          "text": [
            "Digite o 1º número (ou 0 para interromper): 5\n",
            "Digite o 2º número (ou 0 para interromper): 4\n",
            "Digite o 3º número (ou 0 para interromper): 0\n",
            "Interrupção do loop solicitada.\n",
            "A soma é: 9\n",
            "Quantidade de numeros digitados3lembrando que o numero 0 nao faz faz parte da operação da media\n",
            "media ariticetica 4.5\n"
          ]
        }
      ]
    },
    {
      "cell_type": "markdown",
      "source": [
        "utilização do for para percorrer uma lista"
      ],
      "metadata": {
        "id": "6WLdUbDqFBF4"
      }
    },
    {
      "cell_type": "code",
      "source": [
        "#condicional,lista,percorrer\n",
        "fruits=[\"banana\",\"uva\",\"maça\",\"morango\",\"pera\"]\n",
        "for fruit in fruits:\n",
        "  if fruit == \"melão\":\n",
        "    print(\"estamos com melão\")\n",
        "    break\n",
        "  else:\n",
        "    print(\"estamos com\",fruit)\n",
        ""
      ],
      "metadata": {
        "colab": {
          "base_uri": "https://localhost:8080/"
        },
        "id": "Sgv5P0ftUB2z",
        "outputId": "84dc7bbf-48d5-43e0-bd84-dc737efb6e93"
      },
      "execution_count": 3,
      "outputs": [
        {
          "output_type": "stream",
          "name": "stdout",
          "text": [
            "estamos com banana\n",
            "estamos com uva\n",
            "estamos com maça\n",
            "estamos com morango\n"
          ]
        }
      ]
    },
    {
      "cell_type": "code",
      "source": [
        "caldas=[\"caramelo\",\"chocolate\",\"menta\",\"morango\"]\n",
        "for calda in caldas:\n",
        "  print(\"o sabor da calda é \"+calda )"
      ],
      "metadata": {
        "colab": {
          "base_uri": "https://localhost:8080/"
        },
        "id": "krw-BkpiUMkI",
        "outputId": "dc40214b-101c-45e4-e98e-ee6a3f68e6f3"
      },
      "execution_count": 5,
      "outputs": [
        {
          "output_type": "stream",
          "name": "stdout",
          "text": [
            "o sabor da calda é caramelo\n",
            "o sabor da calda é chocolate\n",
            "o sabor da calda é menta\n",
            "o sabor da calda é morango\n"
          ]
        }
      ]
    },
    {
      "cell_type": "code",
      "source": [
        "#dado um valor informado\n",
        "#devolvemos uma string com os numero 1 ate o valor informado\n",
        "if __name__ == '__main__':\n",
        "    n = int(input())\n",
        "    string=''\n",
        "    for i in range(1,n,1):\n",
        "        string =str(i)+string\n",
        "print(string[::-1])"
      ],
      "metadata": {
        "id": "0hx8nGKRtOuK"
      },
      "execution_count": null,
      "outputs": []
    },
    {
      "cell_type": "code",
      "source": [
        "#se n maior que zero e menor ou igual a 20\n",
        "#iremos fazer esse valor n vezes ele mesmo\n",
        "#ate chegar (n-1)*(n-1)\n",
        "if __name__ == '__main__':\n",
        "    n = int(input())\n",
        "    if(n>=1 and n<=20):\n",
        "      for x in range(n):\n",
        "       if(x<n):\n",
        "            print(x*x)"
      ],
      "metadata": {
        "id": "Bive6UrXFFi4"
      },
      "execution_count": null,
      "outputs": []
    },
    {
      "cell_type": "code",
      "source": [
        "#aqui temos uma lista feita por numeros inteiros\n",
        "#que o usuario vai visualizar numero apos numero um abaixo do outro ate chegar ao final\n",
        "#quando chegar ao final ele deve visualizar a palavra 'end'\n",
        "lista_int=[5,8,3,4]\n",
        "for i in lista_int:\n",
        "  print(i)\n",
        "print(\"end\")"
      ],
      "metadata": {
        "id": "zdhHI29UFJUk"
      },
      "execution_count": null,
      "outputs": []
    },
    {
      "cell_type": "code",
      "source": [
        "lista_int.index(8)\n",
        "#retorna a posiçao do numero caso ele seja encontrado"
      ],
      "metadata": {
        "id": "hUFU-joFjEct"
      },
      "execution_count": null,
      "outputs": []
    },
    {
      "cell_type": "code",
      "source": [
        "lista_int[-1]\n",
        "lista_int[-2]"
      ],
      "metadata": {
        "id": "v24eV5vdjGe0"
      },
      "execution_count": null,
      "outputs": []
    },
    {
      "cell_type": "code",
      "source": [
        "lista_int.pop()#tira o ultimo elemento da lista\n",
        "print(lista_int)"
      ],
      "metadata": {
        "id": "oGt6Xwg0koqg"
      },
      "execution_count": null,
      "outputs": []
    },
    {
      "cell_type": "code",
      "source": [
        "#um iterável é um objeto que pode ser percorrido para devolver os seus elementos um de cada vez\n",
        "#, como listas, tuplas, strings, dicionários e conjuntos\n",
        "lista_iterable  = [1, 2, 3]\n",
        "for i in lista_iterable:\n",
        "    print(i)"
      ],
      "metadata": {
        "id": "teJjwXIzyeQS"
      },
      "execution_count": null,
      "outputs": []
    },
    {
      "cell_type": "markdown",
      "source": [
        "#repetição e listas utilizando condicional e in"
      ],
      "metadata": {
        "id": "DjK8twpxlG4b"
      }
    },
    {
      "cell_type": "code",
      "source": [
        "#pontuações não podem ser maiores do que o valor maximo que é 100\n",
        "#listamos posteriormente quais foram todas as pontuações\n",
        "scores = [34, 67, 99, 105]\n",
        "for s in scores:\n",
        " if s > 100:\n",
        "   print(str(s)+\" is invalid score \")\n",
        " else:\n",
        "   print(str(s)+\" is valid score\")\n",
        "\n",
        "print(scores)"
      ],
      "metadata": {
        "id": "TTfqqEltkyVr",
        "colab": {
          "base_uri": "https://localhost:8080/"
        },
        "outputId": "138bc553-0c28-40a4-8b45-088d0acac456"
      },
      "execution_count": 10,
      "outputs": [
        {
          "output_type": "stream",
          "name": "stdout",
          "text": [
            "34 is valid score\n",
            "67 is valid score\n",
            "99 is valid score\n",
            "105 is invalid score \n",
            "[34, 67, 99, 105]\n"
          ]
        }
      ]
    },
    {
      "cell_type": "code",
      "source": [
        "#aqui temos uma lista de numeros\n",
        "#e queremos apenas os numeros pares\n",
        "x = [1, 2, 3,4,5,6,7,8,9,10]\n",
        "\n",
        "#solution :\n",
        "y = [ i for i in x if i % 2 == 0]\n",
        "\n",
        "print(\"esses numeros são pares\"+str(y))"
      ],
      "metadata": {
        "id": "5rdSOzTXlGFU",
        "colab": {
          "base_uri": "https://localhost:8080/"
        },
        "outputId": "f7f5a5c5-3957-4737-f92a-cb859f5cd5dd"
      },
      "execution_count": null,
      "outputs": [
        {
          "output_type": "stream",
          "name": "stdout",
          "text": [
            "esse numero é par[2, 4, 6, 8, 10]\n"
          ]
        }
      ]
    },
    {
      "cell_type": "code",
      "source": [
        "x = [5, 2, 3,4,1,7]\n",
        "y = [variable-1 for variable in x]\n",
        "print(y)\n",
        "#variable e nosso elemento em cada index\n",
        "#logo nossas variaveis sao 1 2 3\n",
        "#se fosse varible +1 la no vetor y\n",
        "#print(y) seria 2,3,4\n"
      ],
      "metadata": {
        "id": "GDOKjrxClX1G",
        "colab": {
          "base_uri": "https://localhost:8080/"
        },
        "outputId": "653ef12c-ec90-40cf-ed39-d240d0db5322"
      },
      "execution_count": null,
      "outputs": [
        {
          "output_type": "stream",
          "name": "stdout",
          "text": [
            "[4, 1, 2, 3, 0, 6]\n"
          ]
        }
      ]
    },
    {
      "cell_type": "markdown",
      "source": [
        "#utilização do range para  contar"
      ],
      "metadata": {
        "id": "VvwB_6L1lhwR"
      }
    },
    {
      "cell_type": "code",
      "source": [
        "for var in range(5):\n",
        " print (var)"
      ],
      "metadata": {
        "id": "rq_tbQulllgg"
      },
      "execution_count": null,
      "outputs": []
    },
    {
      "cell_type": "code",
      "source": [
        "for var in range(2,11):\n",
        " print(var)"
      ],
      "metadata": {
        "id": "2AyziX12loAO"
      },
      "execution_count": null,
      "outputs": []
    },
    {
      "cell_type": "code",
      "source": [
        "for var in range (0,30,5):\n",
        "   print(var)"
      ],
      "metadata": {
        "id": "J64QE70Clqf8"
      },
      "execution_count": null,
      "outputs": []
    },
    {
      "cell_type": "markdown",
      "source": [
        "#problema de 3 notas por semestre,qual a media do aluno"
      ],
      "metadata": {
        "id": "izVUNf3clxGP"
      }
    },
    {
      "cell_type": "code",
      "source": [
        "soma=0\n",
        "for var in range(1,4):\n",
        "  nota=float(input(\"informe a sua nota do semestre\"+str(var)+\"?\"))\n",
        "  soma=soma+nota\n",
        "result = soma/var\n",
        "\n",
        "print(soma)\n",
        "print(\"a sua media é\",result)"
      ],
      "metadata": {
        "id": "oGZ23lUDlxy1"
      },
      "execution_count": null,
      "outputs": []
    },
    {
      "cell_type": "markdown",
      "source": [
        "#condicionais"
      ],
      "metadata": {
        "id": "FSV6Na-tfqvJ"
      }
    },
    {
      "cell_type": "markdown",
      "source": [
        "##ida ao parque"
      ],
      "metadata": {
        "id": "GtX4T-WpplYp"
      }
    },
    {
      "cell_type": "code",
      "source": [
        "idade=int(input(\"informe sua idade\"))\n",
        "altura=float(input(\"informe sua altura\"))\n",
        "foto=input(\"voce tirar quer tirar uma foto?\")\n",
        "if idade<18:\n",
        "  print(\"voce não idade suficiente\")\n",
        "elif altura<1.70 and idade>18 :\n",
        "  print(\"voce não tem altura suficiente para entrar no brinquedo\")\n",
        "else:\n",
        "  print(\"voce tem altura e idade suficiente para entrar no brinquedo\")\n",
        "  print(\"o ingresso custara 10 reais\")"
      ],
      "metadata": {
        "colab": {
          "base_uri": "https://localhost:8080/"
        },
        "id": "A45Iij3Wfsd7",
        "outputId": "c9a4443a-9a03-4223-bab7-e66d074fb498"
      },
      "execution_count": null,
      "outputs": [
        {
          "output_type": "stream",
          "name": "stdout",
          "text": [
            "informe sua idade30\n",
            "informe sua altura1.50\n",
            "voce não tem altura suficiente para entrar no brinquedo\n"
          ]
        }
      ]
    },
    {
      "cell_type": "markdown",
      "source": [
        "#numero par ou impar inteiro"
      ],
      "metadata": {
        "id": "y0_0eIfypTjE"
      }
    },
    {
      "cell_type": "code",
      "source": [
        "#even if %=0\n",
        "number=int(input(\"informe um numero inteiro:\"))\n",
        "if number %2 ==0:\n",
        "  print(f\"{number} is a even number\")\n",
        "else:\n",
        "  print(f\"{number} is a odd number\")"
      ],
      "metadata": {
        "colab": {
          "base_uri": "https://localhost:8080/"
        },
        "id": "MV9M7y5jhH5Q",
        "outputId": "9c8ab169-855e-4902-c4c0-92bd539a97d9"
      },
      "execution_count": null,
      "outputs": [
        {
          "output_type": "stream",
          "name": "stdout",
          "text": [
            "informe um numero inteiro:5\n",
            "5is a odd number\n"
          ]
        }
      ]
    },
    {
      "cell_type": "markdown",
      "source": [
        "#BMI ou IMC"
      ],
      "metadata": {
        "id": "8l_HaobSpXXR"
      }
    },
    {
      "cell_type": "code",
      "source": [
        "weight = 85\n",
        "height = 1.85\n",
        "\n",
        "bmi = weight / (height ** 2)\n",
        "\n",
        "# 🚨 Do not modify the values above\n",
        "# Write your code below 👇\n",
        "\n",
        "if bmi <18.5:\n",
        "    print(\"underweight\")\n",
        "elif bmi >=18.5 and bmi <25:\n",
        "     print(\"normal weight\")\n",
        "else:\n",
        "    print(\"overweight\")"
      ],
      "metadata": {
        "id": "k_JXF-fbkC6O"
      },
      "execution_count": null,
      "outputs": []
    },
    {
      "cell_type": "markdown",
      "source": [
        "#venda de pizza,utilizando def,condicional"
      ],
      "metadata": {
        "id": "bF7j4uN3pCqc"
      }
    },
    {
      "cell_type": "code",
      "source": [
        "#pizza order\n",
        "print(\"Welcome to Mario's pizza Deliveries!\")\n",
        "\n",
        "size = input(\"What size pizza do you want? S, M, or L \")\n",
        "add_pepperoni = input(\"Do you want pepperoni? Y or N \")\n",
        "extra_cheese = input(\"Do you want extra cheese? Y or N \")\n",
        "with_onion = input(\"Do you want extra onion? Y or N \")\n",
        "with_mushrooms = input(\"Do you want extra mushrooms? Y or N \")\n",
        "cans_of_soda = input(\"Do you want a can of soda? Y or N \")\n",
        "\n",
        "Qtd_cans_of_soda = 0\n",
        "if cans_of_soda == 'Y':\n",
        "    Qtd_cans_of_soda = int(input(\"How many cans of soda do you want? \"))\n",
        "\n",
        "\n",
        "def pizza_size(size):\n",
        "    bill = 0\n",
        "    if size == 'S':\n",
        "        bill = 15\n",
        "    elif size == 'M':\n",
        "        bill = 20\n",
        "    elif size == 'L':\n",
        "        bill = 25\n",
        "    return bill\n",
        "\n",
        "\n",
        "bill = pizza_size(size)\n",
        "value_soda = 5.50 * Qtd_cans_of_soda\n",
        "bill = bill + value_soda\n",
        "\n",
        "\n",
        "def extra_items(add_pepperoni, extra_cheese, with_onion, with_mushrooms, bill):\n",
        "    if add_pepperoni == 'Y':\n",
        "        bill = bill + 2\n",
        "    if extra_cheese == 'Y':\n",
        "        bill = bill + 4\n",
        "    if with_onion == 'Y':\n",
        "        bill = bill + 2\n",
        "    if with_mushrooms == 'Y':\n",
        "        bill = bill + 2\n",
        "    return bill\n",
        "\n",
        "\n",
        "new_bill = extra_items(add_pepperoni, extra_cheese, with_onion, with_mushrooms, bill)\n",
        "\n",
        "print(f\"Your final bill is: ${new_bill:.2f}\")\n",
        "\n"
      ],
      "metadata": {
        "id": "-vXYFRimi2jl"
      },
      "execution_count": null,
      "outputs": []
    },
    {
      "cell_type": "markdown",
      "source": [
        "#condições criam um conto"
      ],
      "metadata": {
        "id": "uYwgQBhEpLXh"
      }
    },
    {
      "cell_type": "code",
      "source": [
        "print(\"🌊 Um conto de fadas submerso: A aventura da sereia Carmem 🌊\\n\")\n",
        "\n",
        "print(\"Em sua jornada pelos mares, a sereia Carmem procura um artefato mágico perdido há séculos.\")\n",
        "print(\"Depois de explorar cavernas e naufrágios misteriosos, ela encontra um livro antigo.\")\n",
        "print(\"📖 O livro diz: 'Aquele que deseja o artefato deverá provar sua coragem em três caminhos.'\")\n",
        "print(\"1 - A caverna da Escuridão\")\n",
        "print(\"2 - O recife dos Corais Encantados\")\n",
        "print(\"3 - A Fenda do Abismo\")\n",
        "\n",
        "escolha1 = input(\"Qual caminho Carmem escolhe? (1, 2 ou 3): \")\n",
        "\n",
        "if escolha1 == \"1\":\n",
        "    print(\"\\n🌑 Carmem entra na Caverna da Escuridão...\")\n",
        "    print(\"As paredes brilham com runas antigas e ecos assustadores preenchem o ar.\")\n",
        "    escolha2 = input(\"Ela deve acender uma tocha mágica? (S/N): \")\n",
        "    if escolha2.upper() == \"S\":\n",
        "        print(\"🔥 A luz acorda um monstro marinho adormecido!\")\n",
        "        escolha3 = input(\"Ela luta ou foge? (L/F): \")\n",
        "        if escolha3.upper() == \"L\":\n",
        "            print(\"⚔️ Com coragem, Carmem derrota o monstro e encontra uma chave dourada!\")\n",
        "        else:\n",
        "            print(\"🏃‍♀️ Ela foge e escapa por pouco, mas sai sem nada...\")\n",
        "    else:\n",
        "        print(\"👻 No escuro, ela encontra um cardume de peixes brilhantes que mostram uma passagem secreta.\")\n",
        "        print(\"✨ No fim do túnel, Carmem descobre um fragmento do artefato mágico!\")\n",
        "\n",
        "elif escolha1 == \"2\":\n",
        "    print(\"\\n🌸 Carmem nada até o recife dos Corais Encantados.\")\n",
        "    print(\"As cores a hipnotizam e uma voz misteriosa sussurra no fundo do mar...\")\n",
        "    escolha2 = input(\"Ela deve seguir a voz? (S/N): \")\n",
        "    if escolha2.upper() == \"S\":\n",
        "        print(\"🎶 A voz pertence a uma sereia anciã que entrega a Carmem uma pérola mágica.\")\n",
        "        escolha3 = input(\"Carmem deve usar a pérola para abrir um portal? (S/N): \")\n",
        "        if escolha3.upper() == \"S\":\n",
        "            print(\"🌌 O portal se abre e revela o salão do artefato perdido! Vitória!\")\n",
        "        else:\n",
        "            print(\"🌀 A pérola se apaga e desaparece. Carmem perdeu sua chance...\")\n",
        "    else:\n",
        "        print(\"⚠️ Ao ignorar a voz, os corais tentam prendê-la!\")\n",
        "        print(\"Carmem consegue escapar, mas fica ferida e retorna sem o artefato.\")\n",
        "\n",
        "elif escolha1 == \"3\":\n",
        "    print(\"\\n⚫ Carmem mergulha na Fenda do Abismo.\")\n",
        "    print(\"As águas são geladas, e a escuridão parece não ter fim...\")\n",
        "    escolha2 = input(\"Ela deve continuar descendo? (S/N): \")\n",
        "    if escolha2.upper() == \"S\":\n",
        "        print(\"💎 No fundo, ela encontra um fragmento do artefato mágico!\")\n",
        "        escolha3 = input(\"Ela tenta levar o fragmento sozinha ou chama ajuda? (S/H): \")\n",
        "        if escolha3.upper() == \"S\":\n",
        "            print(\"🏋️ Carmem consegue trazer o fragmento, mas está exausta.\")\n",
        "            print(\"⚠️ Sem forças, ela desmaia na volta e nunca é vista novamente...\")\n",
        "        else:\n",
        "            print(\"🧜‍♀️ Com a ajuda de outras sereias, Carmem recupera o artefato e retorna como heroína!\")\n",
        "    else:\n",
        "        print(\"🏊‍♀️ Carmem retorna à superfície em segurança, mas sem nada.\")\n",
        "\n",
        "else:\n",
        "    print(\"\\n❌ Escolha inválida! Carmem se perdeu nos mares e sua jornada terminou.\")\n",
        "#https://ascii.co.uk/art"
      ],
      "metadata": {
        "id": "zxQDegxPar6G"
      },
      "execution_count": null,
      "outputs": []
    },
    {
      "cell_type": "markdown",
      "source": [
        "#referencia"
      ],
      "metadata": {
        "id": "4MkkHzI_pfAF"
      }
    },
    {
      "cell_type": "code",
      "source": [
        "https://learn.microsoft.com/pt-br/training/modules/python-loops/2-while-loops"
      ],
      "metadata": {
        "id": "Bx2XrcpcphJl"
      },
      "execution_count": null,
      "outputs": []
    }
  ]
}