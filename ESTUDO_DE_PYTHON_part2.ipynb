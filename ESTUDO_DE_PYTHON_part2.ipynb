{
 "cells": [
  {
   "cell_type": "markdown",
   "id": "ab6dfb56",
   "metadata": {},
   "source": [
    "\n",
    "#Operador logico\n",
    "\n",
    "o operador OR espera que pelo menos uma das condiçoes seja verdadeira\n",
    "\n",
    "o operador AND espera que as duas das condiçoes sejam verdadeiras\n",
    "\n",
    "o operador NOT inverte o valor/resultado"
   ]
  },
  {
   "cell_type": "code",
   "execution_count": null,
   "id": "994c10a3",
   "metadata": {
    "id": "mBneNRRcBwkW"
   },
   "outputs": [],
   "source": [
    "# AND\n",
    "var1=4\n",
    "var2=3\n",
    "var3=6\n",
    "soma=var1+var3 #10   10>7 10>9\n",
    "soma2=var1+var2#7    7<10 7<9\n",
    "soma3=var2+var3#9    9>7 9<10\n",
    "print(soma>soma2 and soma>soma3) #ambas afirmaçoes sao verdadeiras\n",
    "print(soma<soma2 and soma>soma3) #ambas afirmaçoes nao sao verdadeiras ,a primeira condiçao é falsa"
   ]
  },
  {
   "cell_type": "code",
   "execution_count": null,
   "id": "62e0fd86",
   "metadata": {
    "id": "3_aU58E_3omI"
   },
   "outputs": [],
   "source": [
    "#OR\n",
    "\n",
    "print(soma>soma2 or soma>soma3)\n",
    " #ambas afirmaçoes sao verdadeiras,o or retorna  TRUE que pelo menos 1 seja verdadeira\n",
    "print(soma<soma2 or soma>soma3) \n",
    "#ambas afirmaçoes nao sao verdadeiras,mas o or retorna true com uma condiçao verdadeira"
   ]
  },
  {
   "cell_type": "code",
   "execution_count": null,
   "id": "165acffd",
   "metadata": {},
   "outputs": [],
   "source": [
    "#atividade\n",
    "#Faça um programa que receba duas notas digitadas pelo usuário.\n",
    "# Se a nota for maior ou igual a seis, escreva aprovado, senão escreva reprovado.\n",
    "QG_1=int(input(\"Informe a primeira atividade avaliativa do aluno/a :\"))\n",
    "QG_2=int(input(\"Informe a segunda atividade avaliativa do aluno/a :\"))\n",
    "if((QG_1>10 or QG_1<0) or (QG_2>10 or QG_2<0)):\n",
    "  print(\"valor inadequado\")\n",
    "else:\n",
    "  media= (QG_1+QG_2)/2\n",
    "  if(media>=6):\n",
    "    print(\"aluno aprovado \")\n",
    "  else:\n",
    "    print(\"aluno reprovador\")"
   ]
  },
  {
   "cell_type": "markdown",
   "id": "46b869ae",
   "metadata": {
    "id": "a2C_bGxe5k01"
   },
   "source": [
    "#Condicional\n",
    "\n",
    "## A linguagem de programação Python não possui 'case' ou 'swich' como outras linguagem \n",
    "##pode ser utilizar if-elfi-else ou um dicionario para ter um resultado semelhante.\n",
    "\n",
    "######TENHA CUIDADO COM A INDENTAÇAO"
   ]
  },
  {
   "cell_type": "code",
   "execution_count": null,
   "id": "97e0bb11",
   "metadata": {
    "id": "zL3e4iFZzpU4"
   },
   "outputs": [],
   "source": [
    "#if e elif\n",
    "cinco=5\n",
    "if cinco<10:\n",
    "  print('o valor é inferior a 10 ')\n",
    "elif cinco>20:\n",
    "  print('o valor é superior a 20 ');\n",
    "  #normalmente temos o\n",
    "  #if condiçao :\n",
    "  ####um tab ou 4 espaços entao  linha/ou bloco q acontece se cumprir a condiçao\n",
    "  ####a tecla TAB fica mais a esquerda do teclado proxima do \" ' e do Q (normalmente)"
   ]
  },
  {
   "cell_type": "code",
   "execution_count": null,
   "id": "9d8f1978",
   "metadata": {
    "id": "2VFbOM2H1NXu"
   },
   "outputs": [],
   "source": [
    "temperatura=25\n",
    "if temperatura>35:\n",
    "    print(\"é um dia escandalte\")\n",
    "elif temperatura>=30:\n",
    "  print(\"é um dia comum\")\n",
    "elif temperatura>20:\n",
    "  print(\"é um dia ameno\")\n",
    "elif temperatura>10:\n",
    "  print(\"é um dia congelante\")\n",
    "else:\n",
    "  print(\"é um dia severo\")\n",
    "##aqui temos o fim de um bloco\n",
    "print('done')"
   ]
  },
  {
   "cell_type": "code",
   "execution_count": null,
   "id": "878f8837",
   "metadata": {
    "id": "F5gQwOrnqS0B"
   },
   "outputs": [],
   "source": [
    "#vamos para outro exemplo que vamos ver como a indentaçao é importante\n",
    "var1=4\n",
    "var3=6\n",
    "##precisa executar alguns celulas acima pra poder ter o valor ve var1 e var3\n",
    "if var3>var1:                                                                   #linha 1\n",
    "  if var3>0:                                                                    #linha 2 aqui temos um tab em relaçao ao 1 if\n",
    "    print(\"a variavel var3 é positiva e ela é maior do que a variavel var1\")    #liha  3 aqui temos 2 tabs em relaçao ao 1 if\n",
    "  else:                                                                         #linha 4 aqui temos 2 tabs, esta alinhado com relaçao ao segundo if\n",
    "    print(\"a variavel var3 nao é positiva e nao é maior do que a variavel var1\")#linha 5 aqui temos 2 tabs\n",
    "else:                                                                           #linha 6\n",
    "  print(\"a variavel var 3 é menor que a variavel var1\")                         #linha 7 aqui temos um tab e esta alinhado ao primeiro if"
   ]
  },
  {
   "cell_type": "code",
   "execution_count": null,
   "id": "a974bbbd",
   "metadata": {
    "colab": {
     "base_uri": "https://localhost:8080/"
    },
    "id": "TsKUAvTG6HOW",
    "outputId": "b341c47d-1250-4113-b01f-d444bebc398d"
   },
   "outputs": [
    {
     "name": "stdout",
     "output_type": "stream",
     "text": [
      "24\n",
      "Not Weird\n"
     ]
    }
   ],
   "source": [
    "import math\n",
    "import os\n",
    "import random\n",
    "import re\n",
    "import sys\n",
    "\n",
    "if __name__ == '__main__':\n",
    "    n = int(input().strip())\n",
    "if(n>1or n<=100):\n",
    "    if(n%2==0):\n",
    "\n",
    "        if(n>20):\n",
    "            print(\"Not Weird\")\n",
    "        elif(n<=2 or n<=5):\n",
    "            print(\"Not Weird\")\n",
    "        else:\n",
    "            print(\"Weird\")\n",
    "    else:\n",
    "        print(\"Weird\")\n",
    "\n"
   ]
  },
  {
   "cell_type": "code",
   "execution_count": null,
   "id": "7b0b7924",
   "metadata": {
    "colab": {
     "base_uri": "https://localhost:8080/"
    },
    "id": "wxi8abxN7iWL",
    "outputId": "389967a2-6c65-46f6-8a87-b3094c8fc533"
   },
   "outputs": [
    {
     "name": "stdout",
     "output_type": "stream",
     "text": [
      "informe a sua açao\n",
      " ex :comendo,dormindo,correndo,falando\n",
      " ex2 :viajando,caminhando,lendo,rindo,escutando musica\n",
      "escutando\n",
      "voce esta sendo feliz\n"
     ]
    }
   ],
   "source": [
    "#insira uma frase e assim podemos avaliar como voce esta agindo\n",
    "if __name__ == '__main__':\n",
    "    action= str(input(\"informe a sua açao\\n ex :comendo,dormindo,correndo,falando\\n ex2 :viajando,caminhando,lendo,rindo,escutando musica\\n\"))\n",
    "action.lower()\n",
    "if (action==\"viajando\"or  (\"dormindo\" in action)):\n",
    "  print(\"descansando~\")\n",
    "elif((\"caminhando\" in action)or (\"correndo\" in action)):\n",
    "    print(\"mexendo o corpo\")\n",
    "\n",
    "elif((\"lendo\" in action)or action==\"rindo\"or (\"escutando\" in action)):\n",
    "    print(\"voce esta sendo feliz\")\n",
    "else:\n",
    "  print(\"voce esta \"+action+\",\\nvivendo a vida como pode\")\n"
   ]
  },
  {
   "cell_type": "code",
   "execution_count": null,
   "id": "771df51b",
   "metadata": {
    "id": "AqEeVDB0vYp6"
   },
   "outputs": [],
   "source": [
    "#CONVENSAO DE VALORES NO FORMATO DE  PESO\n",
    "Weight=input('informe o peso : ')\n",
    "unit=input('utilizar grams (K)g ou pounds (L)bs:')\n",
    "if unit.upper()==\"L\":\n",
    "  form=int(Weight)*0.45\n",
    "  print(\"o valor em Kg é\"+str(form))\n",
    "elif unit.upper()==\"K\":\n",
    "  form=int(Weight)/0.45\n",
    "  print(\"o valor em Lbs/pounds é :\"+str(form))\n",
    "else:\n",
    "  print(\"esta errada o tipo da medida escolhida\")"
   ]
  },
  {
   "cell_type": "code",
   "execution_count": null,
   "id": "e20a4db1",
   "metadata": {
    "id": "GNYuZNF2msB3"
   },
   "outputs": [],
   "source": [
    "#https://learn.microsoft.com/pt-br/office/troubleshoot/excel/determine-a-leap-year\n",
    "def é_bissexto(year):\n",
    "    leap = False\n",
    "    if(year%4==0):\n",
    "        leap=True\n",
    "        if(year%100==0):\n",
    "            if(year%400==0):\n",
    "                leap=True\n",
    "            else:\n",
    "                leap=False\n",
    "    return leap\n",
    "\n",
    "year = int(input())\n",
    "print(is_leap(year))\n",
    "#esse o ano é bissexto"
   ]
  },
  {
   "cell_type": "markdown",
   "id": "536ce651",
   "metadata": {
    "id": "fa-Pf1uN6UWo"
   },
   "source": [
    "#Repetições em Python\n",
    "\n",
    "----\n",
    "##For loops give you more control than\n",
    "##while loops. You can loop through anything\n",
    "##that is iterable. e.g. a range, a list, a dictionary\n",
    "##or tuple."
   ]
  },
  {
   "cell_type": "code",
   "execution_count": null,
   "id": "3ce9834a",
   "metadata": {
    "id": "_QDxZ8gkzpOR"
   },
   "outputs": [],
   "source": [
    "i=1\n",
    "while i<=5:\n",
    "  print(i)\n",
    "  i=i+1\n",
    "print('crescente')"
   ]
  },
  {
   "cell_type": "code",
   "execution_count": null,
   "id": "7720fcbb",
   "metadata": {
    "id": "YbEqRhXHzpRx"
   },
   "outputs": [],
   "source": [
    "#repeated\n",
    "n=5\n",
    "while n>0:\n",
    "  print(n)\n",
    "  n=n-1\n",
    "print('decrescente')"
   ]
  },
  {
   "cell_type": "code",
   "execution_count": 1,
   "id": "25056a18",
   "metadata": {
    "colab": {
     "base_uri": "https://localhost:8080/"
    },
    "id": "60LatfIi0eRC",
    "outputId": "a169f3e3-0561-4326-d007-b61cd54c5157"
   },
   "outputs": [
    {
     "name": "stdout",
     "output_type": "stream",
     "text": [
      "1\n",
      "2\n",
      "3\n",
      "4\n",
      "5\n"
     ]
    }
   ],
   "source": [
    "numerofinal=int(input(\"Digite o ultimo numero a imprimir: \"))\n",
    "x=1\n",
    "while x<= numerofinal:\n",
    "  print(x)\n",
    "  x=x+1"
   ]
  },
  {
   "cell_type": "code",
   "execution_count": null,
   "id": "c6268552",
   "metadata": {
    "id": "2iZ4mC_RzpLN"
   },
   "outputs": [],
   "source": [
    "i=1\n",
    "while i<=5:\n",
    "  print(i*'*')\n",
    "  i+=1\n"
   ]
  },
  {
   "cell_type": "code",
   "execution_count": null,
   "id": "3dce1188",
   "metadata": {
    "colab": {
     "base_uri": "https://localhost:8080/"
    },
    "id": "iDaHjL3fUKTm",
    "outputId": "f00577b2-8529-4e88-cfe9-6eb503660806"
   },
   "outputs": [
    {
     "name": "stdout",
     "output_type": "stream",
     "text": [
      "Current Letter : P\n",
      "Current Letter : y\n",
      "Current Letter : t\n"
     ]
    }
   ],
   "source": [
    "\n",
    "for letter in 'Python':     # First Example\n",
    "   if letter == 'h':\n",
    "    break\n",
    "   print ('Current Letter :', letter)\n",
    "\n",
    "   #devemos estudar mais depois como utilizar o break ele pode ser interessante mais tarde\n"
   ]
  },
  {
   "cell_type": "markdown",
   "id": "4c97814e",
   "metadata": {
    "id": "m6QbZz6W6aZo"
   },
   "source": [
    "##acumuladores\n"
   ]
  },
  {
   "cell_type": "code",
   "execution_count": null,
   "id": "6ab576d4",
   "metadata": {
    "colab": {
     "base_uri": "https://localhost:8080/"
    },
    "id": "98U6VcdT6fmN",
    "outputId": "24efecf4-5794-4b2b-9953-2163c07f8090"
   },
   "outputs": [
    {
     "name": "stdout",
     "output_type": "stream",
     "text": [
      "Digite o 1º número: 3\n",
      "Soma: 3\n",
      "Digite o 2º número: 2\n",
      "Soma: 5\n",
      "Digite o 3º número: 1\n",
      "Soma: 6\n",
      "Digite o 4º número: 4\n",
      "Soma: 10\n",
      "Digite o 5º número: 5\n",
      "Soma: 15\n",
      "Digite o 6º número: 4\n",
      "Soma: 19\n",
      "Digite o 7º número: 3\n",
      "Soma: 22\n",
      "Digite o 8º número: 2\n",
      "Soma: 24\n",
      "Digite o 9º número: 1\n",
      "Soma: 25\n",
      "Digite o 10º número: 1\n",
      "Soma: 26\n",
      "media: 2.6\n"
     ]
    }
   ],
   "source": [
    "#spma de 10 numeros\n",
    "n=1\n",
    "soma=0\n",
    "while n<= 10:\n",
    "  x = int(input(\"Digite o %dº número: \" % n))\n",
    "  soma = soma+x\n",
    "  n=n+1\n",
    "  print(\"Soma: %d\"%soma)\n",
    "media=soma/10\n",
    "print(\"media:\",media)"
   ]
  },
  {
   "cell_type": "markdown",
   "id": "3b309e0a",
   "metadata": {
    "id": "kidSuDnz88dm"
   },
   "source": [
    "##interropendo um looping"
   ]
  },
  {
   "cell_type": "code",
   "execution_count": null,
   "id": "2c800443",
   "metadata": {
    "colab": {
     "base_uri": "https://localhost:8080/",
     "height": 356
    },
    "id": "Jyeqtj9884EV",
    "outputId": "03780809-56ba-4f33-89e0-f0cada40e6ae"
   },
   "outputs": [
    {
     "ename": "KeyboardInterrupt",
     "evalue": "Interrupted by user",
     "output_type": "error",
     "traceback": [
      "\u001b[0;31m---------------------------------------------------------------------------\u001b[0m",
      "\u001b[0;31mKeyboardInterrupt\u001b[0m                         Traceback (most recent call last)",
      "\u001b[0;32m<ipython-input-13-67fbdb33e190>\u001b[0m in \u001b[0;36m<cell line: 4>\u001b[0;34m()\u001b[0m\n\u001b[1;32m      3\u001b[0m \u001b[0;34m\u001b[0m\u001b[0m\n\u001b[1;32m      4\u001b[0m \u001b[0;32mwhile\u001b[0m \u001b[0;32mTrue\u001b[0m\u001b[0;34m:\u001b[0m\u001b[0;34m\u001b[0m\u001b[0;34m\u001b[0m\u001b[0m\n\u001b[0;32m----> 5\u001b[0;31m     \u001b[0mx\u001b[0m \u001b[0;34m=\u001b[0m \u001b[0mint\u001b[0m\u001b[0;34m(\u001b[0m\u001b[0minput\u001b[0m\u001b[0;34m(\u001b[0m\u001b[0;34m\"Digite o %dº número (ou 0 para interromper): \"\u001b[0m \u001b[0;34m%\u001b[0m \u001b[0mn\u001b[0m\u001b[0;34m)\u001b[0m\u001b[0;34m)\u001b[0m\u001b[0;34m\u001b[0m\u001b[0;34m\u001b[0m\u001b[0m\n\u001b[0m\u001b[1;32m      6\u001b[0m     \u001b[0;32mif\u001b[0m \u001b[0mx\u001b[0m \u001b[0;34m==\u001b[0m \u001b[0;36m0\u001b[0m\u001b[0;34m:\u001b[0m\u001b[0;34m\u001b[0m\u001b[0;34m\u001b[0m\u001b[0m\n\u001b[1;32m      7\u001b[0m         \u001b[0mprint\u001b[0m\u001b[0;34m(\u001b[0m\u001b[0;34m\"Interrupção do loop solicitada.\"\u001b[0m\u001b[0;34m)\u001b[0m\u001b[0;34m\u001b[0m\u001b[0;34m\u001b[0m\u001b[0m\n",
      "\u001b[0;32m/usr/local/lib/python3.10/dist-packages/ipykernel/kernelbase.py\u001b[0m in \u001b[0;36mraw_input\u001b[0;34m(self, prompt)\u001b[0m\n\u001b[1;32m    849\u001b[0m                 \u001b[0;34m\"raw_input was called, but this frontend does not support input requests.\"\u001b[0m\u001b[0;34m\u001b[0m\u001b[0;34m\u001b[0m\u001b[0m\n\u001b[1;32m    850\u001b[0m             )\n\u001b[0;32m--> 851\u001b[0;31m         return self._input_request(str(prompt),\n\u001b[0m\u001b[1;32m    852\u001b[0m             \u001b[0mself\u001b[0m\u001b[0;34m.\u001b[0m\u001b[0m_parent_ident\u001b[0m\u001b[0;34m,\u001b[0m\u001b[0;34m\u001b[0m\u001b[0;34m\u001b[0m\u001b[0m\n\u001b[1;32m    853\u001b[0m             \u001b[0mself\u001b[0m\u001b[0;34m.\u001b[0m\u001b[0m_parent_header\u001b[0m\u001b[0;34m,\u001b[0m\u001b[0;34m\u001b[0m\u001b[0;34m\u001b[0m\u001b[0m\n",
      "\u001b[0;32m/usr/local/lib/python3.10/dist-packages/ipykernel/kernelbase.py\u001b[0m in \u001b[0;36m_input_request\u001b[0;34m(self, prompt, ident, parent, password)\u001b[0m\n\u001b[1;32m    893\u001b[0m             \u001b[0;32mexcept\u001b[0m \u001b[0mKeyboardInterrupt\u001b[0m\u001b[0;34m:\u001b[0m\u001b[0;34m\u001b[0m\u001b[0;34m\u001b[0m\u001b[0m\n\u001b[1;32m    894\u001b[0m                 \u001b[0;31m# re-raise KeyboardInterrupt, to truncate traceback\u001b[0m\u001b[0;34m\u001b[0m\u001b[0;34m\u001b[0m\u001b[0m\n\u001b[0;32m--> 895\u001b[0;31m                 \u001b[0;32mraise\u001b[0m \u001b[0mKeyboardInterrupt\u001b[0m\u001b[0;34m(\u001b[0m\u001b[0;34m\"Interrupted by user\"\u001b[0m\u001b[0;34m)\u001b[0m \u001b[0;32mfrom\u001b[0m \u001b[0;32mNone\u001b[0m\u001b[0;34m\u001b[0m\u001b[0;34m\u001b[0m\u001b[0m\n\u001b[0m\u001b[1;32m    896\u001b[0m             \u001b[0;32mexcept\u001b[0m \u001b[0mException\u001b[0m \u001b[0;32mas\u001b[0m \u001b[0me\u001b[0m\u001b[0;34m:\u001b[0m\u001b[0;34m\u001b[0m\u001b[0;34m\u001b[0m\u001b[0m\n\u001b[1;32m    897\u001b[0m                 \u001b[0mself\u001b[0m\u001b[0;34m.\u001b[0m\u001b[0mlog\u001b[0m\u001b[0;34m.\u001b[0m\u001b[0mwarning\u001b[0m\u001b[0;34m(\u001b[0m\u001b[0;34m\"Invalid Message:\"\u001b[0m\u001b[0;34m,\u001b[0m \u001b[0mexc_info\u001b[0m\u001b[0;34m=\u001b[0m\u001b[0;32mTrue\u001b[0m\u001b[0;34m)\u001b[0m\u001b[0;34m\u001b[0m\u001b[0;34m\u001b[0m\u001b[0m\n",
      "\u001b[0;31mKeyboardInterrupt\u001b[0m: Interrupted by user"
     ]
    }
   ],
   "source": [
    "soma = 0\n",
    "n = 1\n",
    "\n",
    "while True:\n",
    "    x = int(input(\"Digite o %dº número (ou 0 para interromper): \" % n))\n",
    "    if x == 0:\n",
    "        print(\"Interrupção do loop solicitada.\")\n",
    "        break\n",
    "    soma += x\n",
    "    n += 1\n",
    "\n",
    "print(\"A soma é:\", soma)\n",
    "print(\"Quantidade de numeros digitados\",n)\n",
    "media =soma/(n-1)\n",
    "print(\"media ariticetica\",media)"
   ]
  },
  {
   "cell_type": "markdown",
   "id": "e32f6568",
   "metadata": {
    "id": "glrT3AdzHMbX"
   },
   "source": [
    "###For e lista"
   ]
  },
  {
   "cell_type": "code",
   "execution_count": null,
   "id": "40533c03",
   "metadata": {
    "colab": {
     "base_uri": "https://localhost:8080/"
    },
    "id": "Yjd6aM5JhsRZ",
    "outputId": "db9826b8-d6e4-45ba-af91-169b076f4a61"
   },
   "outputs": [
    {
     "name": "stdout",
     "output_type": "stream",
     "text": [
      "5\n",
      "1234\n"
     ]
    }
   ],
   "source": [
    "#dado um valor informado\n",
    "#devolvemos uma string com os numero 1 ate o valor informado\n",
    "if __name__ == '__main__':\n",
    "    n = int(input())\n",
    "    string=''\n",
    "    for i in range(1,n,1):\n",
    "        string =str(i)+string\n",
    "print(string[::-1])"
   ]
  },
  {
   "cell_type": "code",
   "execution_count": null,
   "id": "03734d4e",
   "metadata": {
    "colab": {
     "base_uri": "https://localhost:8080/"
    },
    "id": "o8Se0765E93n",
    "outputId": "6ea9b4ae-1f7d-48dc-e347-bf499f5e4606"
   },
   "outputs": [
    {
     "name": "stdout",
     "output_type": "stream",
     "text": [
      "5\n",
      "0\n",
      "1\n",
      "4\n",
      "9\n",
      "16\n"
     ]
    }
   ],
   "source": [
    "#se n maior que zero e menor ou igual a 20\n",
    "#iremos fazer esse valor n vezes ele mesmo\n",
    "#ate chegar (n-1)*(n-1)\n",
    "if __name__ == '__main__':\n",
    "    n = int(input())\n",
    "    if(n>=1 and n<=20):\n",
    "      for x in range(n):\n",
    "       if(x<n):\n",
    "            print(x*x)"
   ]
  },
  {
   "cell_type": "code",
   "execution_count": null,
   "id": "d304a461",
   "metadata": {
    "colab": {
     "base_uri": "https://localhost:8080/"
    },
    "id": "Fbp-cNyCzpEg",
    "outputId": "3d20fb5f-7ae6-4476-ebe2-ab302af2f309"
   },
   "outputs": [
    {
     "name": "stdout",
     "output_type": "stream",
     "text": [
      "5\n",
      "8\n",
      "3\n",
      "4\n",
      "end\n"
     ]
    }
   ],
   "source": [
    "#aqui temos uma lista feita por numeros inteiros\n",
    "#que o usuario vai visualizar numero apos numero um abaixo do outro ate chegar ao final\n",
    "#quando chegar ao final ele deve visualizar a palavra 'end'\n",
    "lista_int=[5,8,3,4]\n",
    "for i in lista_int:\n",
    "  print(i)\n",
    "print(\"end\")"
   ]
  },
  {
   "cell_type": "code",
   "execution_count": null,
   "id": "bb5c1e05",
   "metadata": {
    "colab": {
     "base_uri": "https://localhost:8080/"
    },
    "id": "xTLEyjpjbFjZ",
    "outputId": "560801fd-9dd8-46eb-97c4-6e6f3004a1bf"
   },
   "outputs": [
    {
     "data": {
      "text/plain": [
       "1"
      ]
     },
     "execution_count": 16,
     "metadata": {},
     "output_type": "execute_result"
    }
   ],
   "source": [
    "lista_int.index(8)\n",
    "#retorna a posiçao do numero caso ele seja encontrado"
   ]
  },
  {
   "cell_type": "code",
   "execution_count": null,
   "id": "e913c491",
   "metadata": {
    "colab": {
     "base_uri": "https://localhost:8080/",
     "height": 159
    },
    "id": "L5ZX1y94bvGd",
    "outputId": "0fd35d13-0d7b-4cfe-802f-c1f0f2658a93"
   },
   "outputs": [
    {
     "ename": "NameError",
     "evalue": "name 'lista_int' is not defined",
     "output_type": "error",
     "traceback": [
      "\u001b[0;31m---------------------------------------------------------------------------\u001b[0m",
      "\u001b[0;31mNameError\u001b[0m                                 Traceback (most recent call last)",
      "\u001b[0;32m<ipython-input-9-cbf7998ae9f8>\u001b[0m in \u001b[0;36m<cell line: 1>\u001b[0;34m()\u001b[0m\n\u001b[0;32m----> 1\u001b[0;31m \u001b[0mlista_int\u001b[0m\u001b[0;34m[\u001b[0m\u001b[0;34m-\u001b[0m\u001b[0;36m1\u001b[0m\u001b[0;34m]\u001b[0m\u001b[0;34m\u001b[0m\u001b[0;34m\u001b[0m\u001b[0m\n\u001b[0m\u001b[1;32m      2\u001b[0m \u001b[0mlista_int\u001b[0m\u001b[0;34m[\u001b[0m\u001b[0;34m-\u001b[0m\u001b[0;36m2\u001b[0m\u001b[0;34m]\u001b[0m\u001b[0;34m\u001b[0m\u001b[0;34m\u001b[0m\u001b[0m\n",
      "\u001b[0;31mNameError\u001b[0m: name 'lista_int' is not defined"
     ]
    }
   ],
   "source": [
    "lista_int[-1]\n",
    "lista_int[-2]"
   ]
  },
  {
   "cell_type": "code",
   "execution_count": null,
   "id": "19accd57",
   "metadata": {
    "colab": {
     "base_uri": "https://localhost:8080/"
    },
    "id": "SWQSxl-QjKRn",
    "outputId": "23d6890a-d176-4b37-885c-7e694bb3c500"
   },
   "outputs": [
    {
     "name": "stdout",
     "output_type": "stream",
     "text": [
      "0\n",
      "1\n",
      "2\n",
      "3\n",
      "4\n"
     ]
    }
   ],
   "source": [
    "#lembrar de ter cuidado quando utilizar o range com lista\n",
    "for x in range(5):\n",
    "  print(x)\n",
    "  #podemos assim saber em que valor estamos /percorrendo\n",
    "  #de 0 ate 4"
   ]
  },
  {
   "cell_type": "code",
   "execution_count": null,
   "id": "d09cbbb2",
   "metadata": {
    "colab": {
     "base_uri": "https://localhost:8080/"
    },
    "id": "dBk-87CQjlZc",
    "outputId": "74b821c8-0d56-496f-e7a1-28719f91fa59"
   },
   "outputs": [
    {
     "name": "stdout",
     "output_type": "stream",
     "text": [
      "5\n",
      "6\n",
      "7\n",
      "8\n",
      "9\n"
     ]
    }
   ],
   "source": [
    "for x in range(5,10):\n",
    "  print(x)\n",
    "  #podemos assim saber em que valor estamos /percorrendo\n",
    "  #agora iniciamos do 5 e vamos ate o 9"
   ]
  },
  {
   "cell_type": "code",
   "execution_count": null,
   "id": "84f92c56",
   "metadata": {
    "id": "9f4xjCAbVueD"
   },
   "outputs": [],
   "source": [
    "for i in range(5,20,2):\n",
    "#de 5 ate 19 de 2 em 2\n",
    " print(i)\n",
    " #pula de 2 em 2"
   ]
  },
  {
   "cell_type": "code",
   "execution_count": null,
   "id": "b4678e4e",
   "metadata": {
    "id": "OwqOkMyQ_EZB"
   },
   "outputs": [],
   "source": [
    "#coordenadas\n",
    "for x in range(4):  #outer loop 0 ate 3\n",
    "  for y in range(3):  ##inner loop\n",
    "    print(f'{x},{y}')\n",
    "    #(x,y) plano cartesiano\n",
    "    #https://youtu.be/_uQrJ0TkZlc?t=6610"
   ]
  },
  {
   "cell_type": "code",
   "execution_count": null,
   "id": "16be9f22",
   "metadata": {
    "id": "OiZPxtwzaPKI"
   },
   "outputs": [],
   "source": [
    "#coordenadas\n",
    "#https://youtu.be/_uQrJ0TkZlc?t=6549\n",
    "#https://youtu.be/kqtD5dpn9C8?t=2714"
   ]
  },
  {
   "cell_type": "code",
   "execution_count": null,
   "id": "e00ecab0",
   "metadata": {
    "id": "_o7QrYMca4wp"
   },
   "outputs": [],
   "source": [
    "lista_int.pop()#tira o ultimo elemento da lista\n",
    "print(lista_int)"
   ]
  },
  {
   "cell_type": "code",
   "execution_count": null,
   "id": "26137b36",
   "metadata": {
    "colab": {
     "base_uri": "https://localhost:8080/"
    },
    "id": "BDDnKi_3GdcG",
    "outputId": "bb9c4f6c-778c-4f32-bfb3-00d0016709b8"
   },
   "outputs": [
    {
     "name": "stdout",
     "output_type": "stream",
     "text": [
      "34\n"
     ]
    }
   ],
   "source": [
    "scores = [34, 67, 99, 105]\n",
    "for s in scores:\n",
    " if s > 100:\n",
    "   print(\"Invalid\")\n",
    " break\n",
    "print(s)"
   ]
  },
  {
   "cell_type": "code",
   "execution_count": null,
   "id": "c498597a",
   "metadata": {
    "colab": {
     "base_uri": "https://localhost:8080/"
    },
    "id": "V3urVffsJ3p6",
    "outputId": "f3deff02-6a53-4716-9434-d2f4061b61c3"
   },
   "outputs": [
    {
     "name": "stdout",
     "output_type": "stream",
     "text": [
      "[2, 4, 6, 8, 10]\n"
     ]
    }
   ],
   "source": [
    "#aqui temos uma lista de numeros\n",
    "#e queremos apenas os numeros pares\n",
    "x = [1, 2, 3,4,5,6,7,8,9,10]\n",
    "\n",
    "#solution :\n",
    "y = [ i for i in x if i % 2 == 0]\n",
    "\n",
    "print(y)"
   ]
  },
  {
   "cell_type": "code",
   "execution_count": null,
   "id": "89480c13",
   "metadata": {
    "colab": {
     "base_uri": "https://localhost:8080/"
    },
    "id": "4HiPBCcxMwaP",
    "outputId": "d2faf2e3-f1ab-4170-d86a-bc307a9031c7"
   },
   "outputs": [
    {
     "name": "stdout",
     "output_type": "stream",
     "text": [
      "2\n",
      "4\n",
      "6\n",
      "8\n",
      "10\n"
     ]
    }
   ],
   "source": [
    "#Aqui temos outra possivel soluçao para termos o retorno do valores pares\n",
    "for i in x:\n",
    "  if(i%2==0):\n",
    "    print(i)"
   ]
  },
  {
   "cell_type": "code",
   "execution_count": null,
   "id": "4dee5d32",
   "metadata": {
    "colab": {
     "base_uri": "https://localhost:8080/"
    },
    "id": "Xoc6oDQGJ7TM",
    "outputId": "46647136-dbce-4db1-b446-a98c8223016b"
   },
   "outputs": [
    {
     "name": "stdout",
     "output_type": "stream",
     "text": [
      "[0, 1, 2]\n"
     ]
    }
   ],
   "source": [
    "x = [1, 2, 3]\n",
    "y = [variable-1 for variable in x]\n",
    "print(y)\n",
    "#variable e nosso elemento em cada index\n",
    "#logo nossas variaveis sao 1 2 3\n",
    "#se fosse varible +1 la no vetor y\n",
    "#print(y) seria 2,3,4"
   ]
  },
  {
   "cell_type": "code",
   "execution_count": null,
   "id": "91593b84",
   "metadata": {
    "colab": {
     "base_uri": "https://localhost:8080/"
    },
    "id": "H_vUxtuJUFD1",
    "outputId": "e2cb3f6b-5627-49e6-b019-f2c6df14c751"
   },
   "outputs": [
    {
     "name": "stdout",
     "output_type": "stream",
     "text": [
      "0\n",
      "1\n",
      "2\n",
      "3\n",
      "4\n"
     ]
    }
   ],
   "source": [
    "for var in range(5):\n",
    " print (var)"
   ]
  },
  {
   "cell_type": "code",
   "execution_count": null,
   "id": "bf1f4f37",
   "metadata": {
    "colab": {
     "base_uri": "https://localhost:8080/"
    },
    "id": "gvV3S0zWU7WV",
    "outputId": "ba11cd49-dd38-4992-abe4-8bf4187c1fef"
   },
   "outputs": [
    {
     "name": "stdout",
     "output_type": "stream",
     "text": [
      "2\n",
      "3\n",
      "4\n",
      "5\n",
      "6\n",
      "7\n",
      "8\n",
      "9\n",
      "10\n"
     ]
    }
   ],
   "source": [
    "for var in range(2,11):\n",
    " print(var)"
   ]
  },
  {
   "cell_type": "code",
   "execution_count": null,
   "id": "ed6e1f6e",
   "metadata": {
    "colab": {
     "base_uri": "https://localhost:8080/"
    },
    "id": "EIyZ9J7JVGoI",
    "outputId": "8144df33-cfcd-4651-8d3a-a3df73d20ca5"
   },
   "outputs": [
    {
     "name": "stdout",
     "output_type": "stream",
     "text": [
      "0\n",
      "5\n",
      "10\n",
      "15\n",
      "20\n",
      "25\n"
     ]
    }
   ],
   "source": [
    "for var in range (0,30,5):\n",
    "   print(var)"
   ]
  },
  {
   "cell_type": "code",
   "execution_count": null,
   "id": "c110cba0",
   "metadata": {
    "colab": {
     "base_uri": "https://localhost:8080/"
    },
    "id": "yhyxMGs0aiPv",
    "outputId": "42129596-f79e-41ca-bc5f-f8abf97233df"
   },
   "outputs": [
    {
     "name": "stdout",
     "output_type": "stream",
     "text": [
      "informe a sua nota 1?6\n",
      "informe a sua nota 2?8\n",
      "informe a sua nota 3?5\n",
      "19.0\n",
      "6.333333333333333\n"
     ]
    }
   ],
   "source": [
    "soma=0\n",
    "for var in range(1,4):\n",
    "  nota=float(input(\"informe a sua nota \"+str(var)+\"?\"))\n",
    "  soma=soma+nota\n",
    "result = soma/var\n",
    "\n",
    "print(soma)\n",
    "print(result)"
   ]
  },
  {
   "cell_type": "markdown",
   "id": "e4871244",
   "metadata": {
    "id": "YliaUGjGHm4s"
   },
   "source": [
    "#Listas\n"
   ]
  },
  {
   "cell_type": "code",
   "execution_count": null,
   "id": "10f6a69a",
   "metadata": {
    "id": "6XguC_srxZ5L"
   },
   "outputs": [],
   "source": [
    "#uma lista pode ter diversos tipos de dados\n",
    "#podendo ser float,boolean,string\n",
    "#podemos criar uma lista de listas"
   ]
  },
  {
   "cell_type": "code",
   "execution_count": null,
   "id": "5636170d",
   "metadata": {
    "colab": {
     "base_uri": "https://localhost:8080/"
    },
    "id": "AQZZ7yfCwmUa",
    "outputId": "05389cb7-cb6f-4496-9fab-3f8aeb78cd0d"
   },
   "outputs": [
    {
     "name": "stdout",
     "output_type": "stream",
     "text": [
      "['luis', 'pedro', 'lucas', 'fernando']\n"
     ]
    }
   ],
   "source": [
    "nome='luis'\n",
    "nome1='pedro'\n",
    "nome2='lucas'\n",
    "nomes=[nome,nome1,nome2]\n",
    "nomes.append(\"fernando\")\n",
    "print(nomes)"
   ]
  },
  {
   "cell_type": "code",
   "execution_count": null,
   "id": "787e6831",
   "metadata": {
    "colab": {
     "base_uri": "https://localhost:8080/"
    },
    "id": "WqUgKP4uxOR3",
    "outputId": "cb1f3e2f-a860-48c3-c0c8-7274a1dab246"
   },
   "outputs": [
    {
     "name": "stdout",
     "output_type": "stream",
     "text": [
      "['luis', 'pedro']\n"
     ]
    }
   ],
   "source": [
    "#index do elemento\n",
    "nomes.pop(2)\n",
    "print(nomes)"
   ]
  },
  {
   "cell_type": "code",
   "execution_count": null,
   "id": "680ad943",
   "metadata": {
    "colab": {
     "base_uri": "https://localhost:8080/"
    },
    "id": "8Wqbq_Ay5soF",
    "outputId": "57cc355b-a87a-45fa-d38a-7ff5dc511049"
   },
   "outputs": [
    {
     "name": "stdout",
     "output_type": "stream",
     "text": [
      "['lucas', 2, 4, 9, 2, 'pedrita']\n"
     ]
    }
   ],
   "source": [
    "#o remove so retira o elemento q ele encontrar igual\n",
    "#ele retira o primeiro elemento q ele encontrar igual\n",
    "lista=['lucas',2,4,6,9,2]\n",
    "lista.append(\"pedrita\")\n",
    "lista.remove(6)\n",
    "print(lista)"
   ]
  },
  {
   "cell_type": "code",
   "execution_count": null,
   "id": "7e84da1b",
   "metadata": {
    "colab": {
     "base_uri": "https://localhost:8080/"
    },
    "id": "QSWJg23p7EjL",
    "outputId": "f45c6bf3-a37c-4cf6-fe02-6fa9ba3cb764"
   },
   "outputs": [
    {
     "data": {
      "text/plain": [
       "2"
      ]
     },
     "execution_count": 40,
     "metadata": {},
     "output_type": "execute_result"
    }
   ],
   "source": [
    "lista.index(4)"
   ]
  },
  {
   "cell_type": "code",
   "execution_count": null,
   "id": "ed2fcb98",
   "metadata": {
    "colab": {
     "base_uri": "https://localhost:8080/"
    },
    "id": "ShgWW7CB6cS-",
    "outputId": "5e6cb56c-e7ef-4b54-a5f4-8ca2f3e01ead"
   },
   "outputs": [
    {
     "data": {
      "text/plain": [
       "2"
      ]
     },
     "execution_count": 34,
     "metadata": {},
     "output_type": "execute_result"
    }
   ],
   "source": [
    "#count retona a quantidade q aquele elemtno se repete\n",
    "lista.count(2)"
   ]
  },
  {
   "cell_type": "code",
   "execution_count": null,
   "id": "bcb5014e",
   "metadata": {
    "colab": {
     "base_uri": "https://localhost:8080/"
    },
    "id": "sAtPfrvL6t9F",
    "outputId": "9171f07f-4fdf-4ef4-ddd7-ee9ff2c492a1"
   },
   "outputs": [
    {
     "name": "stdout",
     "output_type": "stream",
     "text": [
      "[0, 1, 2, 3, 4, 5, 6, 7]\n",
      "28\n"
     ]
    }
   ],
   "source": [
    "num=[1,2,7,3,4,0,5,6]\n",
    "num.sort()\n",
    "#o sort so é possivel com elementos do mesmo tipo\n",
    "print(num)"
   ]
  },
  {
   "cell_type": "code",
   "execution_count": null,
   "id": "68d814f3",
   "metadata": {
    "id": "XROilixm7ib7"
   },
   "outputs": [],
   "source": [
    "#soma de todos os valores da lista\n",
    "print(sum(num))"
   ]
  },
  {
   "cell_type": "code",
   "execution_count": null,
   "id": "51b163a2",
   "metadata": {
    "colab": {
     "base_uri": "https://localhost:8080/"
    },
    "id": "Jyysbev6IpuY",
    "outputId": "f0914f64-fe03-47b4-bd1d-8a6304e275b6"
   },
   "outputs": [
    {
     "name": "stdout",
     "output_type": "stream",
     "text": [
      "xxxxx\n",
      "xx\n",
      "xxxxx\n",
      "xx\n",
      "xx\n",
      "xxxxx\n"
     ]
    }
   ],
   "source": [
    "numeros=[5,2,5,2,2,5]\n",
    "index=0\n",
    "while index < len(numeros):\n",
    " letter = numeros[index]\n",
    " print (letter*'x')\n",
    " index = index + 1"
   ]
  },
  {
   "cell_type": "code",
   "execution_count": null,
   "id": "ff49c0e3",
   "metadata": {
    "colab": {
     "base_uri": "https://localhost:8080/"
    },
    "id": "y1kek6cFfhR6",
    "outputId": "d88bb09d-264a-4547-c3fb-c3b7e15aa286"
   },
   "outputs": [
    {
     "name": "stdout",
     "output_type": "stream",
     "text": [
      "['vila', 'pizzaria', 'padaria', 'casa', 'trabalho', 'praia', 'estudo', 'cidade', 'fazenda']\n",
      "['casa', 'cidade', 'estudo', 'fazenda', 'padaria', 'pizzaria', 'praia', 'trabalho', 'vila']\n",
      "['vila']\n"
     ]
    }
   ],
   "source": [
    "list_string=[\"vila\",\"pizzaria\",\"padaria\",\"casa\",\"trabalho\",\"praia\",\"estudo\",\"cidade\",\"fazenda\"]\n",
    "print(list_string)\n",
    "\n",
    "list_string.sort()\n",
    "print(list_string)\n",
    "\n",
    "del list_string[:-1]#List Slicing\n",
    "print(list_string)"
   ]
  },
  {
   "cell_type": "code",
   "execution_count": null,
   "id": "f9380c78",
   "metadata": {
    "colab": {
     "base_uri": "https://localhost:8080/"
    },
    "id": "96dyzSL6f0SN",
    "outputId": "b63bb4d2-7fad-4c52-fc0f-c759a0d8a9b8"
   },
   "outputs": [
    {
     "name": "stdout",
     "output_type": "stream",
     "text": [
      "['casa', 1, 1.9, 'lua']\n"
     ]
    }
   ],
   "source": [
    "coisa_list=[\"casa\",1,1.9,'lua']\n",
    "print(coisa_list)"
   ]
  },
  {
   "cell_type": "code",
   "execution_count": null,
   "id": "3788f6d7",
   "metadata": {
    "id": "TYmb4P52iuMY"
   },
   "outputs": [],
   "source": [
    "coisa_list.insert(3, \"mar\")#aqui passamos o index e o elemento\n",
    "print(coisa_list)"
   ]
  },
  {
   "cell_type": "code",
   "execution_count": null,
   "id": "6f5c0a32",
   "metadata": {
    "id": "_wiZgxypDWpU"
   },
   "outputs": [],
   "source": [
    "coisa_list.append(\"vida\")\n",
    "print(coisa_list)"
   ]
  },
  {
   "cell_type": "code",
   "execution_count": null,
   "id": "3b62a74b",
   "metadata": {
    "id": "KXJOK5bUsWlF"
   },
   "outputs": [],
   "source": [
    "lista=[5,8,9,11,40,22,21,33,10,1,0,2,90,10,2,190]\n",
    "lista.reverse()\n",
    "\n",
    "print(lista)\n",
    "\n",
    "lista=sorted(lista)\n",
    "print(lista)\n",
    "\n",
    "lista.sort(reverse=True)\n",
    "print(lista)\n",
    "\n",
    "lista.pop()#Removes and returns last object or obj from list\n"
   ]
  },
  {
   "cell_type": "code",
   "execution_count": null,
   "id": "3dd05b9d",
   "metadata": {
    "id": "CDwfqjwlDkgO"
   },
   "outputs": [],
   "source": [
    "set(lista)#os valores aqui nao existem sendo repetidos;/sao unicos"
   ]
  },
  {
   "cell_type": "code",
   "execution_count": null,
   "id": "ab1db224",
   "metadata": {
    "id": "NCdZA4sZ17LQ"
   },
   "outputs": [],
   "source": [
    "#escreva um programa que ordene uma lista numérica com três elementos.\n",
    "lista=[6,2,1]\n",
    "lista=sorted(lista)\n",
    "print(lista)"
   ]
  },
  {
   "cell_type": "code",
   "execution_count": null,
   "id": "99c4aaf7",
   "metadata": {
    "colab": {
     "base_uri": "https://localhost:8080/"
    },
    "id": "mXJBRhKKSz__",
    "outputId": "1f287ee9-0bfa-423b-d510-7f4273301031"
   },
   "outputs": [
    {
     "name": "stdout",
     "output_type": "stream",
     "text": [
      "[5, [20, 40, ['Destino']], 90, 22, 1010]\n",
      "[20, 40, ['Destino']]\n",
      "['Destino']\n"
     ]
    }
   ],
   "source": [
    "#como coletar algo desejado dentro de uma lista\n",
    "lst = [1,2,[3,4],[5,[20,40,['Destino']],90,122,1010],2,4,7]\n",
    "\n",
    "segunda_lista=lst[3]\n",
    "\n",
    "print(segunda_lista)\n",
    "terceira_lista=segunda_lista[1]\n",
    "\n",
    "print(terceira_lista)\n",
    "palavra_desejada=terceira_lista[2]\n",
    "\n",
    "print(palavra_desejada)"
   ]
  },
  {
   "cell_type": "code",
   "execution_count": null,
   "id": "2a610066",
   "metadata": {
    "colab": {
     "base_uri": "https://localhost:8080/"
    },
    "id": "x_GSPOgpd9VY",
    "outputId": "5fd008c9-790f-4b55-cafe-bb1e17b8286d"
   },
   "outputs": [
    {
     "name": "stdout",
     "output_type": "stream",
     "text": [
      "[['açucar', 'fermento']]\n"
     ]
    }
   ],
   "source": [
    "#aqui como a lista dentro da lista bolo\n",
    "bolo = ['farinha de trigo', 'ovo', 'leite', 'manteiga']\n",
    "bolo.append(['açucar', 'fermento'])##melhor pra desempenho por adicionar sempre ao final da lista\n",
    "print(bolo[4:])"
   ]
  },
  {
   "cell_type": "code",
   "execution_count": null,
   "id": "f5527b6a",
   "metadata": {
    "colab": {
     "base_uri": "https://localhost:8080/"
    },
    "id": "XSSKIIHxdkL5",
    "outputId": "28422e3e-b87a-4217-b519-269dc6be60f2"
   },
   "outputs": [
    {
     "name": "stdout",
     "output_type": "stream",
     "text": [
      "['farinha de trigo', 'ovo', 'leite', 'manteiga', 'açucar', 'fermento']\n"
     ]
    }
   ],
   "source": [
    "##aqui como elemento da lista\n",
    "bolo = ['farinha de trigo', 'ovo', 'leite', 'manteiga']\n",
    "bolo.extend(['açucar', 'fermento'])\n",
    "print(bolo)"
   ]
  },
  {
   "cell_type": "code",
   "execution_count": null,
   "id": "fade49fa",
   "metadata": {
    "colab": {
     "base_uri": "https://localhost:8080/"
    },
    "id": "I-4yn9KKDJo1",
    "outputId": "e7867793-9038-4c86-e0b0-35e42c18a7cd"
   },
   "outputs": [
    {
     "name": "stdout",
     "output_type": "stream",
     "text": [
      "esta e a minha lista normal[2, 4, 6, 8, 1]\n",
      "esta é minha lista[6, 20, 42, 72, 2]\n"
     ]
    }
   ],
   "source": [
    "#list comprehension\n",
    "#uma outa forma de fazer uma operaçao sobre de uma forma mais abstrata\n",
    "\n",
    "num_normal=[2,4,6,8,1]\n",
    "num_multi=[i*(i+1) for i  in  num_normal]\n",
    "print(\"esta e a minha lista normal\"+str(num_normal))\n",
    "\n",
    "#[2*(2+1) , 4*(4+1) , 6*(6+1) ,8*(8+1) + 1*(1+1)]\n",
    "\n",
    "print(\"esta é minha lista\"+str(num_multi))"
   ]
  },
  {
   "cell_type": "markdown",
   "id": "1c327dfc",
   "metadata": {
    "id": "qsV6B2OLe220"
   },
   "source": [
    "##lista e string"
   ]
  },
  {
   "cell_type": "code",
   "execution_count": null,
   "id": "690bae3a",
   "metadata": {
    "colab": {
     "base_uri": "https://localhost:8080/"
    },
    "id": "zGABOpxve15l",
    "outputId": "598b6ef4-5d06-4d17-d4f5-afc7161d4d78"
   },
   "outputs": [
    {
     "name": "stdout",
     "output_type": "stream",
     "text": [
      "['S', 'o', ' ', 'm', 'u', 'c', 'h', ' ', 'd', 'r', 'a', 'm', 'a', ' ', '.']\n",
      "So much drama .\n"
     ]
    }
   ],
   "source": [
    "# Converte uma string em uma lista.\n",
    "s = list(\"So much drama .\")\n",
    "print(s)\n",
    "\n",
    "# Converte uma lista em uma string.\n",
    "l = [ \"S\",\"o\",\" \",\"m\",\"u\",\"c\",\"h\",\" \", \"d\",\"r\",\"a\",\"m\",\"a\",\" \",\".\"]\n",
    "print(''.join(l))"
   ]
  },
  {
   "cell_type": "code",
   "execution_count": null,
   "id": "d3880194",
   "metadata": {
    "colab": {
     "base_uri": "https://localhost:8080/"
    },
    "id": "cZaWQnDDvL2W",
    "outputId": "18539e72-9f0e-49e2-fdf6-6c76ea4d9424"
   },
   "outputs": [
    {
     "name": "stdout",
     "output_type": "stream",
     "text": [
      "4\n",
      "123\n"
     ]
    }
   ],
   "source": [
    "#aqui temos uma funçao na qual recebemos um valor qualquer e printamos do valor 1 ate o valor qualquer\n",
    "if __name__ == '__main__':\n",
    "    n = int(input())\n",
    "    lista=[]\n",
    "    for x in range(n):\n",
    "        lista.append(str(x))\n",
    "        cao= ''.join(lista)\n",
    "    print(cao[1::])\n",
    "\n"
   ]
  },
  {
   "cell_type": "markdown",
   "id": "d8b4bd28",
   "metadata": {
    "id": "590vNnavPVcr"
   },
   "source": [
    "enumerate"
   ]
  },
  {
   "cell_type": "code",
   "execution_count": null,
   "id": "e1b6de58",
   "metadata": {
    "id": "gLiQ-iiqPUgI"
   },
   "outputs": [],
   "source": [
    "#a funçao enumerate serve para coloca a lista na ordem crescente\n",
    "list_string=[\"vila\",\"pizzaria\",\"padaria\",\"casa\",\"trabalho\",\"praia\",\"estudo\",\"cidade\",\"fazenda\"]\n",
    "\n",
    "for i, word in enumerate(list_string):\n",
    "    print(i, word)"
   ]
  },
  {
   "cell_type": "code",
   "execution_count": null,
   "id": "e2c7e888",
   "metadata": {
    "colab": {
     "base_uri": "https://localhost:8080/"
    },
    "id": "ciSPItRFnSmr",
    "outputId": "8b26b0e8-2ba3-40ef-8a05-2665291d926e"
   },
   "outputs": [
    {
     "name": "stdout",
     "output_type": "stream",
     "text": [
      "{'nest_key': ['dentro da nest key', ['o fundo']]}\n"
     ]
    }
   ],
   "source": [
    "complicado = {'k1':[{'nest_key':['dentro da nest key',['o fundo']]}]}\n",
    "#pegue o fundo\n",
    "\n",
    "print(complicado[\"k1\"][0])"
   ]
  },
  {
   "cell_type": "markdown",
   "id": "424a5a27",
   "metadata": {
    "id": "s0b6x1-XRSa9"
   },
   "source": [
    "#FIFO FALTA"
   ]
  },
  {
   "cell_type": "markdown",
   "id": "cee5698f",
   "metadata": {
    "id": "lV2q8JsHkwhk"
   },
   "source": [
    "\n",
    "\n",
    "#Dictionaries in Python\n",
    "\n",
    "\n",
    "---\n",
    "\n",
    "#####desordenado,cam not be sorted\n",
    "#####Dictionaries objects retrieved by key name\n",
    "#####sao mutaveis\n",
    "#####Dictionaries retain order and are a sequence - é uma afirmaçao falsa (incorreta)"
   ]
  },
  {
   "cell_type": "code",
   "execution_count": null,
   "id": "2ad6745f",
   "metadata": {
    "id": "5NlAOOkoVlQi"
   },
   "outputs": [],
   "source": [
    "#del dictionarie ;        # delete entire dictionary\n",
    "#dict.clear();     # remove all entries in dict\n",
    "#Keys must be immutable. Which means you can use strings, numbers or tuples as dictionary keys but something like ['key'] is not allowed. Following is a simple example"
   ]
  },
  {
   "cell_type": "code",
   "execution_count": null,
   "id": "c5430dd2",
   "metadata": {
    "id": "yjFyasJBepOp"
   },
   "outputs": [],
   "source": [
    "my_dict={\"comida\" : \"pizza\",\"bebida\" : \"cha mate\"}\n",
    "my_dict #pode ser usado para print"
   ]
  },
  {
   "cell_type": "code",
   "execution_count": null,
   "id": "294e07ef",
   "metadata": {
    "id": "7K0o88Pui_39"
   },
   "outputs": [],
   "source": [
    "print(my_dict[\"comida\"])"
   ]
  },
  {
   "cell_type": "code",
   "execution_count": null,
   "id": "b758ee58",
   "metadata": {
    "colab": {
     "base_uri": "https://localhost:8080/"
    },
    "id": "tGTWll8cnFGj",
    "outputId": "9693d02e-b2c8-4eaf-fbff-006e50d291d2"
   },
   "outputs": [
    {
     "name": "stdout",
     "output_type": "stream",
     "text": [
      "Dicionário vazio:  {}\n",
      "Exemplo de dicionário:  {'BRA': 'Brasil', 'EUA': 'Estados Unidos', 'FRA': 'França'}\n",
      "Tipo de um dicionário:  <class 'dict'>\n",
      "Exemplo de dicionário:  Brasil\n"
     ]
    }
   ],
   "source": [
    "dicionario_vazio = {}\n",
    "print(\"Dicionário vazio: \", dicionario_vazio)\n",
    "\n",
    "paises = {'BRA': 'Brasil', 'EUA': 'Estados Unidos', 'FRA': 'França'}\n",
    "print(\"Exemplo de dicionário: \", paises)\n",
    "\n",
    "print(\"Tipo de um dicionário: \", type(paises))\n",
    "\n",
    "print(\"Exemplo de dicionário: \", paises[\"BRA\"])\n",
    "\n"
   ]
  },
  {
   "cell_type": "code",
   "execution_count": null,
   "id": "7c1b8f0e",
   "metadata": {
    "colab": {
     "base_uri": "https://localhost:8080/"
    },
    "id": "RIWUKd36psyH",
    "outputId": "01776bd4-16d4-47d2-b98d-b249cbad8f8f"
   },
   "outputs": [
    {
     "name": "stdout",
     "output_type": "stream",
     "text": [
      "este é meu dicionario{'k1': [1, 2, 3, 4], 'k2': ['casa', 'praia', 'rua']}\n",
      "ele possuem 2 itens que sao : este primeiro item[1, 2, 3, 4]\n",
      "este sedundo item do dicionario['casa', 'praia', 'rua']\n",
      "CASA\n"
     ]
    }
   ],
   "source": [
    "#utilizaçao de formatting with string and concatenation\n",
    "dictionarie={\"k1\":[1,2,3,4],\"k2\":[\"casa\",\"praia\",\"rua\"]}\n",
    "\n",
    "other_list=dictionarie[\"k1\"]\n",
    "\n",
    "espaço_list=dictionarie[\"k2\"]\n",
    "\n",
    "print(\"este é meu dicionario{d}\".format(d=dictionarie)+'\\n'+\"ele possuem 2 itens que sao : este primeiro item{um}\".format(um=other_list)\n",
    "\n",
    "+'\\n'+ \"este sedundo item do dicionario{dois}\".format(dois=espaço_list))\n",
    "\n",
    "lista_lugar=dictionarie[\"k2\"][0].upper()\n",
    "print(lista_lugar)"
   ]
  },
  {
   "cell_type": "code",
   "execution_count": null,
   "id": "ed14c42f",
   "metadata": {
    "id": "MQOEHnVKoRF9"
   },
   "outputs": [],
   "source": [
    "del dictionarie['k2']; # remove entry with key 'k2'"
   ]
  },
  {
   "cell_type": "code",
   "execution_count": null,
   "id": "11fa481b",
   "metadata": {},
   "outputs": [],
   "source": [
    "d={\"v1\":100,\"v2\":200}\n",
    "d"
   ]
  },
  {
   "cell_type": "code",
   "execution_count": null,
   "id": "1e59d216",
   "metadata": {},
   "outputs": [],
   "source": [
    "d[\"v3\"]=300\n",
    "d"
   ]
  },
  {
   "cell_type": "code",
   "execution_count": null,
   "id": "cc0195f6",
   "metadata": {},
   "outputs": [],
   "source": [
    "d[\"v4\"]={\"inside key \":200}"
   ]
  },
  {
   "cell_type": "code",
   "execution_count": null,
   "id": "10514d05",
   "metadata": {},
   "outputs": [],
   "source": [
    "i=0\n",
    "for i  in d.values():\n",
    "  print(i)"
   ]
  }
 ],
 "metadata": {
  "kernelspec": {
   "display_name": "Python 3",
   "language": "python",
   "name": "python3"
  },
  "language_info": {
   "codemirror_mode": {
    "name": "ipython",
    "version": 3
   },
   "file_extension": ".py",
   "mimetype": "text/x-python",
   "name": "python",
   "nbconvert_exporter": "python",
   "pygments_lexer": "ipython3",
   "version": "3.12.0"
  }
 },
 "nbformat": 4,
 "nbformat_minor": 5
}
