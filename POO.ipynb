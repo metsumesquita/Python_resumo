{
  "nbformat": 4,
  "nbformat_minor": 0,
  "metadata": {
    "colab": {
      "provenance": [],
      "include_colab_link": true
    },
    "kernelspec": {
      "name": "python3",
      "display_name": "Python 3"
    },
    "language_info": {
      "name": "python"
    }
  },
  "cells": [
    {
      "cell_type": "markdown",
      "metadata": {
        "id": "view-in-github",
        "colab_type": "text"
      },
      "source": [
        "<a href=\"https://colab.research.google.com/github/metsumesquita/Python_resumo/blob/main/POO.ipynb\" target=\"_parent\"><img src=\"https://colab.research.google.com/assets/colab-badge.svg\" alt=\"Open In Colab\"/></a>"
      ]
    },
    {
      "cell_type": "markdown",
      "source": [
        "#classes e objetos em python\n",
        "#####Quando definimos nossas proprias classes , podemos criar nossos proprios metodos e atributos\n",
        "#####tudo no python é uma classe entao, string e list sao classes e possuem seus proprios metodos e atributos pre-definidos"
      ],
      "metadata": {
        "id": "Tl1ueua2sS9Z"
      }
    },
    {
      "cell_type": "code",
      "source": [
        "class Televisao:\n",
        "  #construtor\n",
        "    def __init__(self):\n",
        "      #self.algo é um atributo do objeto\n",
        "\n",
        "        self.ligada = False\n",
        "        self.canal = 2\n",
        "        self.volume = 50\n",
        "    def mudar_canal_para_baixo(self):\n",
        "      self.canal-=1\n",
        "\n",
        "    def mudar_canal_para_cima(self):\n",
        "     self.canal+=1\n",
        "\n",
        "    def aumentar_volume(self):\n",
        "      self.volume+=1\n",
        "\n",
        "    def baixar_volume(self):\n",
        "      self.volume-=1\n",
        "\n",
        "\n"
      ],
      "metadata": {
        "id": "gV-EqO_UoGUU"
      },
      "execution_count": null,
      "outputs": []
    },
    {
      "cell_type": "code",
      "source": [
        "tv_quarto= Televisao"
      ],
      "metadata": {
        "id": "aBsP6qhRpBGm"
      },
      "execution_count": null,
      "outputs": []
    },
    {
      "cell_type": "code",
      "source": [
        "tv_quarto.ligada= True\n",
        "tv_quarto.canal=15"
      ],
      "metadata": {
        "id": "Qy1EqPVHpE_D"
      },
      "execution_count": null,
      "outputs": []
    },
    {
      "cell_type": "code",
      "source": [
        "tv_quarto.ligada"
      ],
      "metadata": {
        "colab": {
          "base_uri": "https://localhost:8080/"
        },
        "id": "DRwMicUhsQEv",
        "outputId": "edf360e9-3b9c-49ca-b2f8-66773cf6bf82"
      },
      "execution_count": null,
      "outputs": [
        {
          "output_type": "execute_result",
          "data": {
            "text/plain": [
              "True"
            ]
          },
          "metadata": {},
          "execution_count": 17
        }
      ]
    },
    {
      "cell_type": "markdown",
      "source": [
        "##### tv_quarto e tv_sala sao objetos independetes (pense como se estivesse dentro de uma casa , temos a tv da sala ,a tv do quarto de casal , a tv do seu quarto e temos a tv do quarto da bagunça)"
      ],
      "metadata": {
        "id": "E3pwYQ7ftohf"
      }
    },
    {
      "cell_type": "code",
      "source": [
        "\n",
        "tv_sala = Televisao()\n"
      ],
      "metadata": {
        "id": "RcREA20Rsska"
      },
      "execution_count": null,
      "outputs": []
    },
    {
      "cell_type": "code",
      "source": [
        "tv_sala.ligada=True\n",
        "tv_sala.canal=4\n",
        "tv_sala.volume=25\n",
        "\n",
        "#aqui chamamos o metodo\n",
        "tv_sala.aumentar_volume()\n"
      ],
      "metadata": {
        "id": "RaV2X-g-z5gx"
      },
      "execution_count": null,
      "outputs": []
    },
    {
      "cell_type": "code",
      "source": [
        "tv_sala.volume"
      ],
      "metadata": {
        "colab": {
          "base_uri": "https://localhost:8080/"
        },
        "id": "lQdCsthm0YfD",
        "outputId": "859938f5-319a-49e6-cbeb-31fc677479fe"
      },
      "execution_count": null,
      "outputs": [
        {
          "output_type": "execute_result",
          "data": {
            "text/plain": [
              "26"
            ]
          },
          "metadata": {},
          "execution_count": 22
        }
      ]
    },
    {
      "cell_type": "code",
      "source": [
        "class Arcondicionado:\n",
        "    def __init__(self, min_temp, max_temp):\n",
        "        self.tmin = min_temp\n",
        "        self.tmax = max_temp\n",
        "        self.temp=22\n",
        "        self.ligado=True\n",
        "    def esfriar(self):\n",
        "        if(self.temp-1>=self.tmin):\n",
        "          self.temp-=1\n",
        "    def aquecer(self):\n",
        "        if(self.temp+1<=self.tmax):\n",
        "          self.temp+=1"
      ],
      "metadata": {
        "id": "NasBPNep04T0"
      },
      "execution_count": null,
      "outputs": []
    },
    {
      "cell_type": "code",
      "source": [
        "ar_quarto= Arcondicionado(16,30)\n",
        "ar_quarto.temp=18"
      ],
      "metadata": {
        "id": "6NoO8jnO2HM3"
      },
      "execution_count": null,
      "outputs": []
    },
    {
      "cell_type": "code",
      "source": [
        "ar_quarto.aquecer()"
      ],
      "metadata": {
        "id": "oUxVqiwF2qUP"
      },
      "execution_count": null,
      "outputs": []
    },
    {
      "cell_type": "code",
      "source": [
        "ar_quarto.temp"
      ],
      "metadata": {
        "colab": {
          "base_uri": "https://localhost:8080/"
        },
        "id": "9-QLKZjb2vS7",
        "outputId": "7340b4f0-55c5-4fe1-c67f-735c98414250"
      },
      "execution_count": null,
      "outputs": [
        {
          "output_type": "execute_result",
          "data": {
            "text/plain": [
              "21"
            ]
          },
          "metadata": {},
          "execution_count": 44
        }
      ]
    },
    {
      "cell_type": "code",
      "source": [
        "class Carro:\n",
        "    def __init__(self, speed_max, speed, n_door, n_seats, carr_type, color, fuel_type, perc_fuel, tempr):\n",
        "        self.maxima_vel = speed_max\n",
        "        self.n_portas = n_door\n",
        "        self.n_lugares = n_seats\n",
        "        self.tipo = carr_type\n",
        "        self.cor = color\n",
        "        self.tipo_combustivel = fuel_type\n",
        "        self.tmax = 30\n",
        "        self.tmin = 15\n",
        "        self.ligado = True\n",
        "        self.perc_fuel_max = 100\n",
        "        self.perc_fuel_min = 0\n",
        "        self.perc_fuel = perc_fuel\n",
        "        self.velocidade = speed\n",
        "        self.movimento = False\n",
        "        self.on_AIR = False\n",
        "        self.temp = tempr\n",
        "\n",
        "    def carregando(self):\n",
        "        if self.perc_fuel >= self.perc_fuel_min and self.perc_fuel < self.perc_fuel_max:\n",
        "            self.perc_fuel += 1\n",
        "    def ajustar_temperatura(self, delta):\n",
        "        if self.ligado:\n",
        "            nova_temp = self.temp + delta\n",
        "            if self.tmin <= nova_temp <= self.tmax:\n",
        "                self.temp = nova_temp\n",
        "\n",
        "    def esfriar(self):\n",
        "        self.ajustar_temperatura(-1)\n",
        "\n",
        "    def aquecer(self):\n",
        "        self.ajustar_temperatura(1)\n",
        "\n",
        "\n",
        "    def acelerar(self):\n",
        "      if  self.ligado == True and self.velocidade < self.maxima_vel:\n",
        "       self.velocidade+=1\n",
        "\n",
        "    def frear(self):\n",
        "     if self.ligado and self.velocidade > 0:\n",
        "         self.velocidade -= 1\n",
        "\n",
        "    def move(self):\n",
        "      if self.ligado == False :\n",
        "          self.movimento= False\n",
        "      if self.ligado == True and self.velocidade > 0:\n",
        "          self.movimento= True\n",
        "\n",
        "    def __str__(self):\n",
        "       return (f\"Carro(tipo: {self.tipo}, cor: {self.cor}, velocidade: {self.velocidade}, \"\n",
        "                 f\"combustível: {self.perc_fuel}%)\")"
      ],
      "metadata": {
        "id": "uyK6I75MImdF"
      },
      "execution_count": null,
      "outputs": []
    },
    {
      "cell_type": "code",
      "source": [
        "# Inicializando um objeto da classe Carro\n",
        "meu_carro = Carro(\n",
        "    speed_max=200,\n",
        "    speed=0,\n",
        "    n_door=4,\n",
        "    n_seats=5,\n",
        "    carr_type=\"Sedan\",\n",
        "    color=\"Azul\",\n",
        "    fuel_type=\"Gasolina\",\n",
        "    perc_fuel=50,\n",
        "    tempr=20\n",
        ")\n",
        "\n",
        "# Exibindo o estado inicial do carro\n",
        "print(meu_carro)\n",
        "\n",
        "# Acelerando o carro\n",
        "meu_carro.acelerar()\n",
        "print(f\"Velocidade após acelerar: {meu_carro.velocidade} km/h\")\n",
        "\n",
        "# Freando o carro\n",
        "meu_carro.frear()\n",
        "print(f\"Velocidade após frear: {meu_carro.velocidade} km/h\")\n",
        "\n",
        "# Carregando o combustível\n",
        "meu_carro.carregando()\n",
        "print(f\"Percentual de combustível após carregar: {meu_carro.perc_fuel}%\")\n",
        "\n",
        "# Aquecendo o carro\n",
        "meu_carro.aquecer()\n",
        "print(f\"Temperatura após aquecer: {meu_carro.temp}°C\")\n",
        "\n",
        "# Esfriando o carro\n",
        "meu_carro.esfriar()\n",
        "print(f\"Temperatura após esfriar: {meu_carro.temp}°C\")\n",
        "\n",
        "\n",
        "meu_carro.move()\n",
        "print(f\"O carro está em movimento? {meu_carro.movimento}\")\n"
      ],
      "metadata": {
        "colab": {
          "base_uri": "https://localhost:8080/"
        },
        "id": "f-tOaObcA3WZ",
        "outputId": "ce1e564d-5de7-48af-a516-dc2b03634952"
      },
      "execution_count": null,
      "outputs": [
        {
          "output_type": "stream",
          "name": "stdout",
          "text": [
            "Carro(tipo: Sedan, cor: Azul, velocidade: 0, combustível: 50%)\n",
            "Velocidade após acelerar: 1 km/h\n",
            "Velocidade após frear: 0 km/h\n",
            "Percentual de combustível após carregar: 51%\n",
            "Temperatura após aquecer: 21°C\n",
            "Temperatura após esfriar: 20°C\n"
          ]
        }
      ]
    },
    {
      "cell_type": "markdown",
      "source": [
        "#operaçao da fração"
      ],
      "metadata": {
        "id": "gCMHStoR5jhA"
      }
    },
    {
      "cell_type": "code",
      "source": [
        "class Fraction:\n",
        "  def __init__(self,cima,baixo):\n",
        "    self.num = cima\n",
        "    self.den = baixo\n",
        "  def __str__(self):\n",
        "    return str(self.num)+\"/\"+str(self.den)\n",
        "  def __add__(self,other):\n",
        "     novonum = self.num*other.den + self.den*other.num\n",
        "     novoden = self.den * other.den\n",
        "     return Fraction(novonum,novoden)"
      ],
      "metadata": {
        "id": "dz7r759k4fUr"
      },
      "execution_count": null,
      "outputs": []
    },
    {
      "cell_type": "code",
      "source": [
        "myfraction = Fraction(3,5)"
      ],
      "metadata": {
        "id": "eMUCxev947vp"
      },
      "execution_count": null,
      "outputs": []
    },
    {
      "cell_type": "code",
      "source": [
        "print(\"Eu comi\", myfraction, \"da pizza\")"
      ],
      "metadata": {
        "colab": {
          "base_uri": "https://localhost:8080/"
        },
        "id": "jhmQnU-K5g_Q",
        "outputId": "596f7284-c53f-474c-93f2-96b3929367ca"
      },
      "execution_count": null,
      "outputs": [
        {
          "output_type": "stream",
          "name": "stdout",
          "text": [
            "Eu comi 3/5 da pizza\n"
          ]
        }
      ]
    },
    {
      "cell_type": "markdown",
      "source": [
        "#SISTEMA BANCARIO - O BANCO\n",
        "\n"
      ],
      "metadata": {
        "id": "oK6iu9K1ce3d"
      }
    },
    {
      "cell_type": "code",
      "source": [
        "#clientes.py\n",
        "class Cliente:\n",
        "  def __init__(self,nome,cpf,telefone):\n",
        "    self.nome = nome\n",
        "    self.cpf = cpf\n",
        "    self.telefone = telefone\n"
      ],
      "metadata": {
        "id": "kmlk1_sNcLET"
      },
      "execution_count": null,
      "outputs": []
    },
    {
      "cell_type": "code",
      "source": [
        "client_clara=Cliente(\"maria clara\",\"64722524084\",\"997954981\")\n",
        "client_luiza=Cliente(\"ana luiza\",\"64722524084\",\"9979312390\")"
      ],
      "metadata": {
        "id": "JMmuhcE9wkOb"
      },
      "execution_count": null,
      "outputs": []
    },
    {
      "cell_type": "code",
      "source": [
        "#this is the test class\n",
        "#from clientes import Cliente\n",
        "\n",
        "client_clara=Cliente(\"maria clara\",\"64722524084\",\"997954981\")\n",
        "client_luiza=Cliente(\"ana luiza\",\"64722524084\",\"9979312390\")"
      ],
      "metadata": {
        "id": "Q5dr1V7iwkL9"
      },
      "execution_count": null,
      "outputs": []
    },
    {
      "cell_type": "code",
      "source": [
        "#contas.py\n",
        "\n",
        "class Conta:\n",
        "  def __init__(self,clientes,numero,saldo=0):\n",
        "\n",
        "\n",
        "    def resumo(self)\n",
        "\n",
        "       return (f\"Cliente(nome: {self.tip=}, cor: {self.cor}, velocidade: {self.velocidade}, \"\n",
        "                 f\"combustível: {self.perc_fuel}%)\")"
      ],
      "metadata": {
        "id": "mPdGdn-H-Ey8"
      },
      "execution_count": null,
      "outputs": []
    },
    {
      "cell_type": "markdown",
      "source": [
        "#jogo de pedra papel e tesoura\n",
        "######. Em um país dividido entre pessoas normais e seres amaldiçoados, Shiva é uma menininha que foi acolhida por uma estranha criatura meio animal e meio humana. Sensei, como é chamado, não pode ser tocado e vive fora da cidade. Afastado do convívio com os demais e ciente dos perigos e maldições que os rodeiam, Sensei alerta Shiva para que ela não saia sozinha. Porém, quando a menininha decide reencontrar sua tia desaparecida, regras são quebradas ― e a vida que eles conheciam é colocada em risco."
      ],
      "metadata": {
        "id": "KJ5v89obNfMM"
      }
    },
    {
      "cell_type": "code",
      "source": [
        "# Links úteis sobre Programação Orientada a Objetos (POO) em Python:\n",
        "# 1. Tutorial sobre como construir um sistema bancário online:\n",
        "#    https://www.freecodecamp.org/news/how-to-build-an-online-banking-system-python-oop-tutorial/\n",
        "# 2. Introdução à POO em Python:\n",
        "#    https://panda.ime.usp.br/panda/static/pythonds_pt/01-Introducao/13-poo.html\n",
        "# 3. Paradigma orientado a objetos em Python:\n",
        "#    https://medium.com/@guilhermerdcarvalho/paradigma-orientado-ao-objeto-poo-em-python-a107d35bee3f\n",
        "# 4. Programação orientada a objetos no Real Python:\n",
        "#    https://realpython.com/python3-object-oriented-programming/\n",
        "# 5. Introdução à POO em Python:\n",
        "#    https://dev.to/vincod/introduction-to-object-oriented-programming-oop-in-python-4o4d\n",
        "# 6. Como usar POO em Python:\n",
        "#    https://www.freecodecamp.org/news/how-to-use-oop-in-python/\n",
        "# 7. Conceitos de OOP em Python:\n",
        "#    https://www.geeksforgeeks.org/python-oops-concepts/\n",
        "# 8. Módulo de treinamento sobre POO em Python da Microsoft:\n",
        "#    https://learn.microsoft.com/pt-br/training/modules/python-object-oriented-programming/\n",
        "\n",
        "\n",
        "# video 108 da https://www.udemy.com/course/100-days-of-code/learn/lecture/19911792#overview\n"
      ],
      "metadata": {
        "id": "Bhnyeyf5DqLz"
      },
      "execution_count": null,
      "outputs": []
    }
  ]
}