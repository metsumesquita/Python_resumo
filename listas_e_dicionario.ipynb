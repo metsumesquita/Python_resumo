{
  "nbformat": 4,
  "nbformat_minor": 0,
  "metadata": {
    "colab": {
      "provenance": [],
      "toc_visible": true,
      "include_colab_link": true
    },
    "kernelspec": {
      "name": "python3",
      "display_name": "Python 3"
    },
    "language_info": {
      "name": "python"
    }
  },
  "cells": [
    {
      "cell_type": "markdown",
      "metadata": {
        "id": "view-in-github",
        "colab_type": "text"
      },
      "source": [
        "<a href=\"https://colab.research.google.com/github/metsumesquita/Python_resumo/blob/main/listas_e_dicionario.ipynb\" target=\"_parent\"><img src=\"https://colab.research.google.com/assets/colab-badge.svg\" alt=\"Open In Colab\"/></a>"
      ]
    },
    {
      "cell_type": "markdown",
      "source": [
        "#o que São Listas\n",
        "\n",
        "---\n",
        "######uma lista pode de diferentes estruturas ou tipos como float,string,int,boolean e ate mesmo uma lista de listas\n"
      ],
      "metadata": {
        "id": "8lViDQCG0bWg"
      }
    },
    {
      "cell_type": "code",
      "source": [
        "planets = [\"Mercury\", \"Venus\", \"Earth\", \"Mars\", \"Jupiter\", \"Saturn\", \"Uranus\", \"Neptune\"]\n",
        "print(\"The first planet is\", planets[0])\n",
        "print(\"The second planet is\", planets[1])\n",
        "print(\"The third planet is\", planets[2])"
      ],
      "metadata": {
        "id": "e98BExepiyoU"
      },
      "execution_count": null,
      "outputs": []
    },
    {
      "cell_type": "code",
      "execution_count": null,
      "metadata": {
        "id": "3o6qfNmp0UTV"
      },
      "outputs": [],
      "source": [
        "nome='luis'\n",
        "nome1='pedro'\n",
        "nome2='lucas'\n",
        "nomes=[nome,nome1,nome2]\n",
        "nomes.append(\"fernando\")\n",
        "print(nomes)"
      ]
    },
    {
      "cell_type": "code",
      "source": [
        "#index do elemento\n",
        "nomes.pop(2)\n",
        "print(nomes)"
      ],
      "metadata": {
        "id": "DD7iRosW06fQ"
      },
      "execution_count": null,
      "outputs": []
    },
    {
      "cell_type": "code",
      "source": [
        "#o remove so retira o elemento q ele encontrar igual\n",
        "#ele retira o primeiro elemento q ele encontrar igual\n",
        "lista=['lucas',2,4,6,9,2]\n",
        "lista.append(\"pedrita\")\n",
        "\n",
        "#remove um parametro ou elemento que precisa estar dentro da lista\n",
        "lista.remove(6)\n",
        "print(lista)"
      ],
      "metadata": {
        "colab": {
          "base_uri": "https://localhost:8080/"
        },
        "id": "YhWxiR2O_hu0",
        "outputId": "1c459503-bb21-4feb-d9ad-d6c3625be14b"
      },
      "execution_count": null,
      "outputs": [
        {
          "output_type": "stream",
          "name": "stdout",
          "text": [
            "['lucas', 2, 4, 9, 2, 'pedrita']\n"
          ]
        }
      ]
    },
    {
      "cell_type": "code",
      "source": [
        "lista.index(4)"
      ],
      "metadata": {
        "id": "ho9NNjZs_loW"
      },
      "execution_count": null,
      "outputs": []
    },
    {
      "cell_type": "code",
      "source": [
        "#count retona a quantidade q aquele elemtno se repete\n",
        "lista.count(2)"
      ],
      "metadata": {
        "id": "u1sljzOd_ogT"
      },
      "execution_count": null,
      "outputs": []
    },
    {
      "cell_type": "markdown",
      "source": [
        "#sort\n",
        "\n",
        "####modifica a lista atual, so é possivel com elemento do mesmo tipo ,tem o objetivo de ordena a lista"
      ],
      "metadata": {
        "id": "fkdaTXMNnKYQ"
      }
    },
    {
      "cell_type": "code",
      "source": [
        "num=[1,2,7,3,4,0,5,6]\n",
        "num.sort()\n",
        "#o sort so é possivel com elementos do mesmo tipo\n",
        "print(num)"
      ],
      "metadata": {
        "id": "9LojhdKL_vYC"
      },
      "execution_count": null,
      "outputs": []
    },
    {
      "cell_type": "code",
      "source": [
        "#soma de todos os valores da lista\n",
        "print(sum(num))"
      ],
      "metadata": {
        "id": "Or0UBNE5_xQB"
      },
      "execution_count": null,
      "outputs": []
    },
    {
      "cell_type": "code",
      "source": [
        "#lista original\n",
        "list_string=[\"vila\",\"pizzaria\",\"padaria\",\"casa\",\"trabalho\",\"praia\",\"estudo\",\"cidade\",\"fazenda\"]\n",
        "print(list_string)\n",
        "\n",
        "#ordenada em ordem alfabetica\n",
        "list_string.sort()\n",
        "print(list_string)\n",
        "\n",
        "#o termo Slicing quer dizer fatiamento, como se voce estivesse dividindo ou fatiando a lista em pedaços menores\n",
        "del list_string[:-1]\n",
        "print(list_string)"
      ],
      "metadata": {
        "colab": {
          "base_uri": "https://localhost:8080/"
        },
        "id": "MNkA39H9_4XO",
        "outputId": "36ce3d64-b975-45e4-ee92-74ee37b85a65"
      },
      "execution_count": null,
      "outputs": [
        {
          "output_type": "stream",
          "name": "stdout",
          "text": [
            "['vila', 'pizzaria', 'padaria', 'casa', 'trabalho', 'praia', 'estudo', 'cidade', 'fazenda']\n",
            "['casa', 'cidade', 'estudo', 'fazenda', 'padaria', 'pizzaria', 'praia', 'trabalho', 'vila']\n",
            "['vila']\n"
          ]
        }
      ]
    },
    {
      "cell_type": "code",
      "source": [
        "aleatoria_list=[\"casa\",1,1.9,'lua']\n",
        "print(aleatoria_list)\n"
      ],
      "metadata": {
        "colab": {
          "base_uri": "https://localhost:8080/"
        },
        "id": "-uxZ8UAhESc7",
        "outputId": "727d1ac7-8271-421a-d829-e8b8c540db06"
      },
      "execution_count": null,
      "outputs": [
        {
          "output_type": "stream",
          "name": "stdout",
          "text": [
            "['casa', 1, 1.9, 'lua']\n"
          ]
        }
      ]
    },
    {
      "cell_type": "code",
      "source": [
        "#o insert permite que voce determine o index no qual o parametro que esta sendo passando fique guardado\n",
        "aleatoria_list.insert(3, \"mar\")\n",
        "print(aleatoria_list)"
      ],
      "metadata": {
        "colab": {
          "base_uri": "https://localhost:8080/"
        },
        "id": "sPCmgUjEEbIl",
        "outputId": "aa15765d-4e44-44ef-d5c1-998f16df2fa7"
      },
      "execution_count": null,
      "outputs": [
        {
          "output_type": "stream",
          "name": "stdout",
          "text": [
            "['casa', 1, 1.9, 'mar', 'lua']\n"
          ]
        }
      ]
    },
    {
      "cell_type": "code",
      "source": [
        "#enquanto o append coloca o parametro no proximo index disponivel que depois do index do  ultimo elemento da lista\n",
        "aleatoria_list.append(\"vida\")\n",
        "print(aleatoria_list)"
      ],
      "metadata": {
        "colab": {
          "base_uri": "https://localhost:8080/"
        },
        "id": "SyJ56BbhEtAL",
        "outputId": "d06922a0-f602-46e5-e538-748772434d0d"
      },
      "execution_count": null,
      "outputs": [
        {
          "output_type": "stream",
          "name": "stdout",
          "text": [
            "['casa', 1, 1.9, 'mar', 'lua', 'vida']\n"
          ]
        }
      ]
    },
    {
      "cell_type": "code",
      "source": [
        "planets = [\"Mercury\", \"Venus\", \"Earth\", \"Mars\", \"Jupiter\", \"Saturn\", \"Uranus\", \"Neptune\"]\n",
        "number_of_planets = len(planets)\n",
        "print(\"There are\", number_of_planets, \"planets in the solar system.\")"
      ],
      "metadata": {
        "id": "afwzjZRAjMUP"
      },
      "execution_count": null,
      "outputs": []
    },
    {
      "cell_type": "code",
      "source": [
        "lista=[5,8,9,11,40,22,21,33,10,1,0,2,90,10,2,190]\n",
        "#observe que a lista esta sendo diretamente modificada\n",
        "lista.reverse()\n",
        "\n",
        "print(lista)\n",
        "\n",
        "lista=sorted(lista)\n",
        "print(lista)\n",
        "\n",
        "lista.sort(reverse=True)\n",
        "print(lista)\n",
        "\n",
        "#remove o ultimo elemento da lista\n",
        "lista.pop()\n"
      ],
      "metadata": {
        "colab": {
          "base_uri": "https://localhost:8080/"
        },
        "id": "yDXYrhtIFh1F",
        "outputId": "273b7c39-d01f-422b-c4fc-3a106676393f"
      },
      "execution_count": null,
      "outputs": [
        {
          "output_type": "stream",
          "name": "stdout",
          "text": [
            "[190, 2, 10, 90, 2, 0, 1, 10, 33, 21, 22, 40, 11, 9, 8, 5]\n",
            "[0, 1, 2, 2, 5, 8, 9, 10, 10, 11, 21, 22, 33, 40, 90, 190]\n",
            "[190, 90, 40, 33, 22, 21, 11, 10, 10, 9, 8, 5, 2, 2, 1, 0]\n"
          ]
        },
        {
          "output_type": "execute_result",
          "data": {
            "text/plain": [
              "0"
            ]
          },
          "metadata": {},
          "execution_count": 7
        }
      ]
    },
    {
      "cell_type": "code",
      "source": [
        "#com esta outra funçao,é retornado apenas os valores que sejam unicos ou seja que não foram repetidos\n",
        "set(lista)"
      ],
      "metadata": {
        "colab": {
          "base_uri": "https://localhost:8080/"
        },
        "id": "WuCeMmWUGyyD",
        "outputId": "e8541bcc-e711-46a1-c99a-9657961a42fe"
      },
      "execution_count": null,
      "outputs": [
        {
          "output_type": "execute_result",
          "data": {
            "text/plain": [
              "{1, 2, 5, 8, 9, 10, 11, 21, 22, 33, 40, 90, 190}"
            ]
          },
          "metadata": {},
          "execution_count": 8
        }
      ]
    },
    {
      "cell_type": "code",
      "source": [
        "#como coletar algo desejado dentro de uma lista\n",
        "lst = [1,2,[3,4],[5,[20,40,['Destino']],90,122,1010],2,4,7]\n",
        "\n",
        "segunda_lista=lst[3]\n",
        "\n",
        "print(segunda_lista)\n",
        "terceira_lista=segunda_lista[1]\n",
        "\n",
        "print(terceira_lista)\n",
        "palavra_desejada=terceira_lista[2]\n",
        "\n",
        "print(palavra_desejada)\n"
      ],
      "metadata": {
        "id": "DtZDDCBMLNx2"
      },
      "execution_count": null,
      "outputs": []
    },
    {
      "cell_type": "markdown",
      "source": [
        "#usando append e extends,enumarate"
      ],
      "metadata": {
        "id": "kFpSGDdWl2OW"
      }
    },
    {
      "cell_type": "code",
      "source": [
        "#um exemplo da uma lista , onde os elementos listados fazem parte de uma receita de bolo\n",
        "bolo = ['farinha de trigo', 'ovo', 'leite', 'manteiga']\n",
        "#melhor pra desempenho por adicionar sempre ao final da lista\n",
        "bolo.append(['açucar', 'fermento'])\n",
        "\n",
        "#aqui é um exemplo de uma lista dentro de uma lista\n",
        "print(bolo)\n",
        "\n",
        "#aqui é visivel o 4 elemento da lista que é outra lista\n",
        "print(bolo[4:])"
      ],
      "metadata": {
        "colab": {
          "base_uri": "https://localhost:8080/"
        },
        "id": "tlAs4VCGLNiL",
        "outputId": "c5b8ee38-6efe-4933-c1a8-c3fbdfa9b9ef"
      },
      "execution_count": null,
      "outputs": [
        {
          "output_type": "stream",
          "name": "stdout",
          "text": [
            "['farinha de trigo', 'ovo', 'leite', 'manteiga', ['açucar', 'fermento']]\n",
            "[['açucar', 'fermento']]\n"
          ]
        }
      ]
    },
    {
      "cell_type": "code",
      "source": [
        "bolo = ['farinha de trigo', 'ovo', 'leite', 'manteiga']\n",
        "#a função extend adiciona no final da lista os elementos\n",
        "bolo.extend(['açucar', 'fermento'])\n",
        "print(bolo)"
      ],
      "metadata": {
        "colab": {
          "base_uri": "https://localhost:8080/"
        },
        "id": "Yiyv0KvJLrWz",
        "outputId": "d7472f2c-99cc-4b24-ea2e-74ea8d163fec"
      },
      "execution_count": null,
      "outputs": [
        {
          "output_type": "stream",
          "name": "stdout",
          "text": [
            "['farinha de trigo', 'ovo', 'leite', 'manteiga', 'açucar', 'fermento']\n"
          ]
        }
      ]
    },
    {
      "cell_type": "code",
      "source": [
        "#a funçao enumerate serve para coloca a lista na ordem crescente\n",
        "list_string=[\"vila\",\"pizzaria\",\"padaria\",\"casa\",\"trabalho\",\"praia\",\"estudo\",\"cidade\",\"fazenda\"]\n",
        "\n",
        "for i, word in enumerate(list_string):\n",
        "    print(i, word)"
      ],
      "metadata": {
        "id": "x0Rh9wU2ZdWm"
      },
      "execution_count": null,
      "outputs": []
    },
    {
      "cell_type": "code",
      "source": [
        "complicado = {'k1':[{'nest_key':['dentro da nest key',['o fundo']]}]}\n",
        "#pegue o fundo\n",
        "\n",
        "print(complicado[\"k1\"][0])"
      ],
      "metadata": {
        "id": "ssbg4XRXZieQ"
      },
      "execution_count": null,
      "outputs": []
    },
    {
      "cell_type": "code",
      "source": [
        "numeros=[5,2,5,2,2,5]\n",
        "index=0\n",
        "while index < len(numeros):\n",
        " letter = numeros[index]\n",
        " print (letter*'x')\n",
        " index = index + 1"
      ],
      "metadata": {
        "id": "UE71TLH-_0bG"
      },
      "execution_count": null,
      "outputs": []
    },
    {
      "cell_type": "markdown",
      "source": [
        "#utilização do range em uma lista"
      ],
      "metadata": {
        "id": "Ny1QP_yXjkHu"
      }
    },
    {
      "cell_type": "code",
      "source": [
        "#lembrar de ter cuidado quando utilizar o range com lista\n",
        "for x in range(5):\n",
        "  print(x)\n",
        "  #podemos assim saber em que valor estamos /percorrendo\n",
        "  #de 0 ate 4"
      ],
      "metadata": {
        "id": "5DeY7JODjk0T"
      },
      "execution_count": null,
      "outputs": []
    },
    {
      "cell_type": "code",
      "source": [
        "for x in range(5,10):\n",
        "  print(x)\n",
        "  #podemos assim saber em que valor estamos /percorrendo\n",
        "  #agora iniciamos do 5 e vamos ate o 9"
      ],
      "metadata": {
        "id": "IneOGapxjrqr"
      },
      "execution_count": null,
      "outputs": []
    },
    {
      "cell_type": "code",
      "source": [
        "for i in range(5,20,2):\n",
        "#de 5 ate 19 de 2 em 2\n",
        " print(i)\n",
        " #pula de 2 em 2"
      ],
      "metadata": {
        "id": "8Het83Gajuu2",
        "colab": {
          "base_uri": "https://localhost:8080/"
        },
        "outputId": "06d28439-c6f5-4fc6-dd29-f0c76027f700"
      },
      "execution_count": null,
      "outputs": [
        {
          "output_type": "stream",
          "name": "stdout",
          "text": [
            "5\n",
            "7\n",
            "9\n",
            "11\n",
            "13\n",
            "15\n",
            "17\n",
            "19\n"
          ]
        }
      ]
    },
    {
      "cell_type": "markdown",
      "source": [
        "#utlizando range para ter coordenadas\n",
        "\n",
        "[coordenadas](https://youtu.be/_uQrJ0TkZlc?t=6549)\n",
        "\n",
        "[coordenadas](https://youtu.be/kqtD5dpn9C8?t=2714)"
      ],
      "metadata": {
        "id": "766KCvKTkEo6"
      }
    },
    {
      "cell_type": "code",
      "source": [
        "#coordenadas\n",
        "for x in range(4):  #outer loop 0 ate 3\n",
        "  for y in range(3):  ##inner loop\n",
        "    print(f'{x},{y}')\n",
        "    #(x,y) plano cartesiano\n",
        "    #https://youtu.be/_uQrJ0TkZlc?t=6610"
      ],
      "metadata": {
        "id": "nfab7-S5kD7U"
      },
      "execution_count": null,
      "outputs": []
    },
    {
      "cell_type": "markdown",
      "source": [
        "#unido listas ou concatenando listas"
      ],
      "metadata": {
        "id": "Fq2Drdqvm8p7"
      }
    },
    {
      "cell_type": "code",
      "source": [
        "amalthea_group = [\"Metis\", \"Adrastea\", \"Amalthea\", \"Thebe\"]\n",
        "galilean_moons = [\"Io\", \"Europa\", \"Ganymede\", \"Callisto\"]\n",
        "\n",
        "regular_satellite_moons = amalthea_group + galilean_moons\n",
        "print(\"The regular satellite moons of Jupiter are\", regular_satellite_moons)"
      ],
      "metadata": {
        "id": "z2QeKByHnA8O"
      },
      "execution_count": null,
      "outputs": []
    },
    {
      "cell_type": "markdown",
      "source": [
        "#listas e index , procurando o item desejado na lista"
      ],
      "metadata": {
        "id": "0L1M5jH1oV0b"
      }
    },
    {
      "cell_type": "code",
      "source": [
        "planets = [\"Mercury\", \"Venus\", \"Earth\", \"Mars\", \"Jupiter\", \"Saturn\", \"Uranus\", \"Neptune\"]"
      ],
      "metadata": {
        "id": "T1TSbNEmoc0W"
      },
      "execution_count": null,
      "outputs": []
    },
    {
      "cell_type": "code",
      "source": [
        "planet_input=input(\"informe o nome do planeta em ingles com a primeira letra em maiusculo :\")"
      ],
      "metadata": {
        "colab": {
          "base_uri": "https://localhost:8080/"
        },
        "id": "gbSjtq-eoaTo",
        "outputId": "bfc9c9e9-8f04-44b2-c681-e5ee7f24fe37"
      },
      "execution_count": null,
      "outputs": [
        {
          "name": "stdout",
          "output_type": "stream",
          "text": [
            "informe o nome do planeta em ingles com a primeira letra em maiusculo :Earth\n"
          ]
        }
      ]
    },
    {
      "cell_type": "code",
      "source": [
        "planets_in=planets.index(planet_input)\n",
        "print(\"posição na lista\",planets_in)"
      ],
      "metadata": {
        "id": "2rbiExvQoWlw"
      },
      "execution_count": null,
      "outputs": []
    },
    {
      "cell_type": "code",
      "source": [
        "#os planetas anteriores ao planeta que procuramos\n",
        "print(planets[0:planets_in])"
      ],
      "metadata": {
        "colab": {
          "base_uri": "https://localhost:8080/"
        },
        "id": "GrnHb-J-qpV5",
        "outputId": "7c1e4bae-e779-4d72-c6ee-7aae07f490ce"
      },
      "execution_count": null,
      "outputs": [
        {
          "output_type": "stream",
          "name": "stdout",
          "text": [
            "['Mercury', 'Venus']\n"
          ]
        }
      ]
    },
    {
      "cell_type": "code",
      "source": [
        "#os posteriores ao que procuramos\n",
        "print(planets[planets_in + 1:])"
      ],
      "metadata": {
        "id": "MdTaH1wgrZvK"
      },
      "execution_count": null,
      "outputs": []
    },
    {
      "cell_type": "code",
      "source": [
        "#considerado o que queremos e os posteriores\n",
        "print(planets[planets_in:-1])"
      ],
      "metadata": {
        "id": "DdrVfxlHrfB0"
      },
      "execution_count": null,
      "outputs": []
    },
    {
      "cell_type": "markdown",
      "source": [
        "procurando apenas os numeros pares em uma lista utilizando repetição,condicional e in"
      ],
      "metadata": {
        "id": "7SulGuoij8Zn"
      }
    },
    {
      "cell_type": "code",
      "source": [
        "x = [1, 2, 3,4,5,6,7,8,9,10]\n",
        "\n",
        "#solution :\n",
        "y = [ i for i in x if i % 2 == 0]\n",
        "\n",
        "print(y)"
      ],
      "metadata": {
        "id": "2imnSc8uj8Fg"
      },
      "execution_count": null,
      "outputs": []
    },
    {
      "cell_type": "code",
      "source": [
        "#Aqui temos outra possivel soluçao para termos o retorno do valores pares\n",
        "for i in x:\n",
        "  if(i%2==0):\n",
        "    print(i)"
      ],
      "metadata": {
        "id": "4kk52hNQlPRw"
      },
      "execution_count": null,
      "outputs": []
    },
    {
      "cell_type": "markdown",
      "source": [
        "#lista de string"
      ],
      "metadata": {
        "id": "Vn4ti0jCXj26"
      }
    },
    {
      "cell_type": "code",
      "source": [
        "#condicional,lista,percorrer\n",
        "fruits=[\"banana\",\"uva\",\"maça\",\"morango\",\"pera\"]\n",
        "for fruit in fruits:\n",
        "  if fruit == \"melão\":\n",
        "    print(\"estamos com melão\")\n",
        "    break\n",
        "  else:\n",
        "    print(\"estamos com\",fruit)\n"
      ],
      "metadata": {
        "id": "Lw96DuEhXkao"
      },
      "execution_count": null,
      "outputs": []
    },
    {
      "cell_type": "code",
      "source": [
        "caldas=[\"caramelo\",\"chocolate\",\"menta\",\"morango\"]\n",
        "for calda in caldas:\n",
        "  print(\"o sabor da calda é \"+calda )"
      ],
      "metadata": {
        "id": "kpbHDX7ZXk2t"
      },
      "execution_count": null,
      "outputs": []
    },
    {
      "cell_type": "markdown",
      "source": [
        "#lista de numeros inteiros"
      ],
      "metadata": {
        "id": "hNPuv6Ssowhu"
      }
    },
    {
      "cell_type": "code",
      "source": [
        "lista_int=[5,8,3,4]\n",
        "for i in lista_int:\n",
        "  print(i)\n",
        "print(\"end\")"
      ],
      "metadata": {
        "id": "Z6d39vDaopVd"
      },
      "execution_count": null,
      "outputs": []
    },
    {
      "cell_type": "code",
      "source": [
        "if __name__ == '__main__':\n",
        "    n = int(input())\n",
        "    lista = []\n",
        "\n",
        "    if 1 <= n <= 20:\n",
        "        for x in range(n):\n",
        "            lista.append(x)\n",
        "\n",
        "        for i in lista:\n",
        "            print(i * i)\n",
        "    else:\n",
        "        print(\"Please enter a number between 1 and 20.\")\n"
      ],
      "metadata": {
        "id": "nqQlx8qHP_DE"
      },
      "execution_count": null,
      "outputs": []
    },
    {
      "cell_type": "markdown",
      "source": [
        "#[list comprehension](https://www.w3schools.com/Python/python_lists_comprehension.asp)"
      ],
      "metadata": {
        "id": "c_5qKTtMYP4H"
      }
    },
    {
      "cell_type": "code",
      "source": [
        "#list comprehension\n",
        "#uma outa forma de fazer uma operaçao sobre de uma forma mais abstrata\n",
        "\n",
        "num_normal=[2,4,6,8,1]\n",
        "num_multi=[i*(i+1) for i  in  num_normal]\n",
        "print(\"esta e a minha lista normal\"+str(num_normal))\n",
        "\n",
        "#[2*(2+1) , 4*(4+1) , 6*(6+1) ,8*(8+1) + 1*(1+1)]\n",
        "\n",
        "print(\"esta é minha lista\"+str(num_multi))"
      ],
      "metadata": {
        "id": "zZQT5QHSLrlj"
      },
      "execution_count": null,
      "outputs": []
    },
    {
      "cell_type": "markdown",
      "source": [
        "#listas e strings"
      ],
      "metadata": {
        "id": "yoDIEJXZZNgz"
      }
    },
    {
      "cell_type": "code",
      "source": [
        "def conta_vogais(texto):\n",
        "    # Conjunto de vogais (minúsculas e maiúsculas não importam, pois usaremos lower())\n",
        "    vogais = {\"a\", \"e\", \"i\", \"o\", \"u\"}\n",
        "\n",
        "    # Transformar em minúsculas\n",
        "    texto = texto.lower()\n",
        "\n",
        "    contador = 0\n",
        "    for elemento in texto:\n",
        "        if elemento in vogais:\n",
        "            contador += 1\n",
        "\n",
        "    return contador\n",
        "\n",
        "\n",
        "# Solicitamos ao usuário que insira uma string\n",
        "texto = input(\"Digite uma frase: \")\n",
        "\n",
        "# Chamamos a função conta_vogais e exibimos o resultado\n",
        "resultado = conta_vogais(texto)\n",
        "print(f\"O número de vogais na string '{texto}' é: {resultado}\")"
      ],
      "metadata": {
        "id": "jwd9-cc_yHFQ"
      },
      "execution_count": null,
      "outputs": []
    },
    {
      "cell_type": "code",
      "source": [
        "#aqui temos uma funçao na qual recebemos um valor qualquer e printamos do valor 1 ate o valor qualquer\n",
        "if __name__ == '__main__':\n",
        "    n = int(input())\n",
        "    lista=[]\n",
        "    for x in range(n):\n",
        "        lista.append(str(x))\n",
        "        cao= ''.join(lista)\n",
        "    print(cao[1::])"
      ],
      "metadata": {
        "id": "8K_lAfAyXrnj"
      },
      "execution_count": null,
      "outputs": []
    },
    {
      "cell_type": "code",
      "source": [
        "# Converte uma string em uma lista.\n",
        "s = list(\"So much drama .\")\n",
        "print(s)\n",
        "\n",
        "# Converte uma lista em uma string.\n",
        "l = [ \"S\",\"o\",\" \",\"m\",\"u\",\"c\",\"h\",\" \", \"d\",\"r\",\"a\",\"m\",\"a\",\" \",\".\"]\n",
        "print(''.join(l))"
      ],
      "metadata": {
        "id": "yWe9yyvkLrKX"
      },
      "execution_count": null,
      "outputs": []
    },
    {
      "cell_type": "code",
      "source": [
        "##de string para lista utilizaçao de funçao\n",
        "def Convert(string):\n",
        "    li = list(string.split(\" \"))\n",
        "    return li\n",
        "\n",
        "\n",
        "# Driver code\n",
        "str1 = \"Guerra nas estrelas\"\n",
        "print(Convert(str1))"
      ],
      "metadata": {
        "id": "dJBR-DdRsDit"
      },
      "execution_count": null,
      "outputs": []
    },
    {
      "cell_type": "markdown",
      "source": [
        "#armazenando inputs do usuario em uma lista,usando Done para finalizar ou sair"
      ],
      "metadata": {
        "id": "U0p7GVmGoNSJ"
      }
    },
    {
      "cell_type": "code",
      "source": [
        "# Create the variable for user input\n",
        "user_input = ''\n",
        "# Create the list to store the values\n",
        "inputs = []\n",
        "\n",
        "# The while loop\n",
        "while user_input.lower() != 'done':\n",
        "    # Check if there's a value in user_input\n",
        "    if user_input:\n",
        "        # Store the value in the list\n",
        "        inputs.append(user_input)\n",
        "    # Prompt for a new value\n",
        "    user_input = input('Enter a new value, or done when done')"
      ],
      "metadata": {
        "id": "kftJKLEUoNwq"
      },
      "execution_count": null,
      "outputs": []
    },
    {
      "cell_type": "markdown",
      "source": [
        "#função ZIP\n",
        "\n",
        "---\n",
        "\n",
        "A função zip em Python é uma função integrada (built-in) que permite combinar duas ou mais sequências (listas, tuplas, etc.) em um objeto zip. A partir desse objeto zip, é possível criar iteráveis de tuplas contendo elementos correspondentes de cada sequência original.\n",
        "\n"
      ],
      "metadata": {
        "id": "YVgkCJ_Im12I"
      }
    },
    {
      "cell_type": "code",
      "source": [
        "L1 = [4, 3, 7, 9]\n",
        "L2 = [5, 6, 2, 1]"
      ],
      "metadata": {
        "id": "stG8SZ9zmt8I"
      },
      "execution_count": null,
      "outputs": []
    },
    {
      "cell_type": "code",
      "source": [
        "s=zip(L1, L2)"
      ],
      "metadata": {
        "id": "Jl7zRjtEmt56"
      },
      "execution_count": null,
      "outputs": []
    },
    {
      "cell_type": "code",
      "source": [
        "type(s)"
      ],
      "metadata": {
        "colab": {
          "base_uri": "https://localhost:8080/"
        },
        "id": "Ca7lxNQ9ZxN3",
        "outputId": "28968cf3-575b-4ce1-aea7-d1e7965107e3"
      },
      "execution_count": null,
      "outputs": [
        {
          "output_type": "execute_result",
          "data": {
            "text/plain": [
              "zip"
            ]
          },
          "metadata": {},
          "execution_count": 5
        }
      ]
    },
    {
      "cell_type": "code",
      "source": [
        "print(s)"
      ],
      "metadata": {
        "colab": {
          "base_uri": "https://localhost:8080/"
        },
        "id": "NyNa3_umZ0Av",
        "outputId": "c313e505-d3c3-48c0-f549-77a5f6a8a1d9"
      },
      "execution_count": null,
      "outputs": [
        {
          "output_type": "stream",
          "name": "stdout",
          "text": [
            "<zip object at 0x7b24d6e28180>\n"
          ]
        }
      ]
    },
    {
      "cell_type": "code",
      "source": [
        "nomes = ['Lucas','felipe']\n",
        "idades = [23,30]"
      ],
      "metadata": {
        "id": "xekns8Dmmtuh"
      },
      "execution_count": null,
      "outputs": []
    },
    {
      "cell_type": "code",
      "source": [
        "combinado = zip(nomes, idades)"
      ],
      "metadata": {
        "id": "ODrGv_3co4qO"
      },
      "execution_count": null,
      "outputs": []
    },
    {
      "cell_type": "code",
      "source": [
        "for nome, idade in combinado:\n",
        "    print(nome, idade)"
      ],
      "metadata": {
        "colab": {
          "base_uri": "https://localhost:8080/"
        },
        "id": "grCLHoqkaAM0",
        "outputId": "fac1f524-3393-4584-91a6-91e2633eb868"
      },
      "execution_count": null,
      "outputs": [
        {
          "output_type": "stream",
          "name": "stdout",
          "text": [
            "Lucas 23\n",
            "felipe 30\n"
          ]
        }
      ]
    },
    {
      "cell_type": "markdown",
      "source": [
        "#zip e enumarate"
      ],
      "metadata": {
        "id": "nYyZ6idCkD-c"
      }
    },
    {
      "cell_type": "code",
      "source": [
        "nomes = ['Carlisle','Alice','Esme', 'Bella','Jasper','Edward','Emmett','Rosalie']\n",
        "idades = [23,17,26,19,18,17,20,18]"
      ],
      "metadata": {
        "id": "oIV9ztOPkCuK"
      },
      "execution_count": null,
      "outputs": []
    },
    {
      "cell_type": "code",
      "source": [
        "for i, (nome, idade) in enumerate(zip(nomes, idades)):\n",
        "    print(f'Índice {i}: {nome} tinha {idade} anos.Quando foi transformado em vampiro')"
      ],
      "metadata": {
        "colab": {
          "base_uri": "https://localhost:8080/"
        },
        "id": "E5hJGfkNlWWb",
        "outputId": "b85a5eaf-a3f6-41f9-9e5f-bee7dd2c3daa"
      },
      "execution_count": null,
      "outputs": [
        {
          "output_type": "stream",
          "name": "stdout",
          "text": [
            "Índice 0: Carlisle tinha 23 anos.quando foi transformado em vampiro\n",
            "Índice 1: Alice tinha 17 anos.quando foi transformado em vampiro\n",
            "Índice 2: Esme tinha 26 anos.quando foi transformado em vampiro\n",
            "Índice 3: Bella tinha 19 anos.quando foi transformado em vampiro\n",
            "Índice 4: Jasper tinha 18 anos.quando foi transformado em vampiro\n",
            "Índice 5: Edward tinha 17 anos.quando foi transformado em vampiro\n",
            "Índice 6: Emmett tinha 20 anos.quando foi transformado em vampiro\n",
            "Índice 7: Rosalie tinha 18 anos.quando foi transformado em vampiro\n"
          ]
        }
      ]
    },
    {
      "cell_type": "markdown",
      "source": [
        "#dicionario"
      ],
      "metadata": {
        "id": "eZDvjeDhlb-C"
      }
    },
    {
      "cell_type": "code",
      "source": [
        "my_dict={\"comida\" : \"pizza\",\"bebida\" : \"cha mate\"}\n",
        "my_dict #pode ser usado para print"
      ],
      "metadata": {
        "id": "LnKc_DKHldIk"
      },
      "execution_count": null,
      "outputs": []
    },
    {
      "cell_type": "code",
      "source": [
        "print(my_dict[\"comida\"])"
      ],
      "metadata": {
        "id": "sQwiXv2WleC3"
      },
      "execution_count": null,
      "outputs": []
    },
    {
      "cell_type": "code",
      "source": [
        "dicionario_vazio = {}\n",
        "print(\"Dicionário vazio: \", dicionario_vazio)\n",
        "\n",
        "paises = {'BRA': 'Brasil', 'EUA': 'Estados Unidos', 'FRA': 'França'}\n",
        "print(\"Exemplo de dicionário: \", paises)\n",
        "\n",
        "print(\"Tipo de um dicionário: \", type(paises))\n",
        "\n",
        "print(\"Exemplo de dicionário: \", paises[\"BRA\"])"
      ],
      "metadata": {
        "id": "uDtDq-Bpld_x"
      },
      "execution_count": null,
      "outputs": []
    },
    {
      "cell_type": "code",
      "source": [
        "statuses = { \"Alice\": \"online\", \"Bob\": \"offline\", \"Eve\": \"online\", }\n",
        "def online_count(statuses):\n",
        "    count = 0\n",
        "    for status in statuses.values():\n",
        "        if status == \"online\":\n",
        "            count += 1\n",
        "    return count\n",
        "print(f'a quantidade de usuarios online é igual a :{online_count(statuses)}')"
      ],
      "metadata": {
        "colab": {
          "base_uri": "https://localhost:8080/"
        },
        "id": "TSSIG17-qMuJ",
        "outputId": "066a0b2b-eaf4-48ec-a3d5-f7cbf6384af8"
      },
      "execution_count": null,
      "outputs": [
        {
          "output_type": "stream",
          "name": "stdout",
          "text": [
            "a quantidade de usuarios online é igual a2\n"
          ]
        }
      ]
    },
    {
      "cell_type": "code",
      "source": [
        "#utilizaçao de formatting with string and concatenation\n",
        "dictionarie={\"k1\":[1,2,3,4],\"k2\":[\"casa\",\"praia\",\"rua\"]}\n",
        "\n",
        "other_list=dictionarie[\"k1\"]\n",
        "\n",
        "espaço_list=dictionarie[\"k2\"]\n",
        "\n",
        "print(\"este é meu dicionario{d}\".format(d=dictionarie)+'\\n'+\"ele possuem 2 itens que sao : este primeiro item{um}\".format(um=other_list)\n",
        "\n",
        "+'\\n'+ \"este sedundo item do dicionario{dois}\".format(dois=espaço_list))\n",
        "\n",
        "lista_lugar=dictionarie[\"k2\"][0].upper()\n",
        "print(lista_lugar)"
      ],
      "metadata": {
        "id": "RhzHM9iDld93",
        "colab": {
          "base_uri": "https://localhost:8080/"
        },
        "outputId": "8e70b7bb-9ec1-4572-adb2-bb4b7999ec15"
      },
      "execution_count": null,
      "outputs": [
        {
          "output_type": "stream",
          "name": "stdout",
          "text": [
            "este é meu dicionario{'k1': [1, 2, 3, 4], 'k2': ['casa', 'praia', 'rua']}\n",
            "ele possuem 2 itens que sao : este primeiro item[1, 2, 3, 4]\n",
            "este sedundo item do dicionario['casa', 'praia', 'rua']\n",
            "CASA\n"
          ]
        }
      ]
    },
    {
      "cell_type": "code",
      "source": [
        "del dictionarie['k2']; # remove entry with key 'k2'"
      ],
      "metadata": {
        "id": "VQhgCIRcld3I"
      },
      "execution_count": null,
      "outputs": []
    },
    {
      "cell_type": "code",
      "source": [
        "d={\"v1\":100,\"v2\":200}\n",
        "d"
      ],
      "metadata": {
        "id": "gY50iZMUln2r"
      },
      "execution_count": null,
      "outputs": []
    },
    {
      "cell_type": "code",
      "source": [
        "d[\"v3\"]=300\n",
        "d"
      ],
      "metadata": {
        "id": "vwZgEXcGlpxH"
      },
      "execution_count": null,
      "outputs": []
    },
    {
      "cell_type": "code",
      "source": [
        "d[\"v4\"]={\"inside key \":200}"
      ],
      "metadata": {
        "id": "bOOyuLy0lszF"
      },
      "execution_count": null,
      "outputs": []
    },
    {
      "cell_type": "code",
      "source": [
        "i=0\n",
        "for i  in d.values():\n",
        "  print(i)"
      ],
      "metadata": {
        "id": "4sUn9_gZlunr"
      },
      "execution_count": null,
      "outputs": []
    },
    {
      "cell_type": "code",
      "source": [
        "planets={\"nome\" : ['terra','jupiter','urano','netuno','plutao','marte','saturno'],\n",
        "         \"luas\" : [1, 95,27,14,5,2,124],\n",
        "         \"aneis\":[False,True,True,True,False,False,True]\n",
        "         }\n"
      ],
      "metadata": {
        "id": "YF-NIEh6cHEo"
      },
      "execution_count": null,
      "outputs": []
    },
    {
      "cell_type": "code",
      "source": [
        "print(planets.get('nome'))"
      ],
      "metadata": {
        "colab": {
          "base_uri": "https://localhost:8080/"
        },
        "id": "lC8zus2UemXy",
        "outputId": "7cfa6612-37a5-4f1c-dd79-054cc0d4c68a"
      },
      "execution_count": null,
      "outputs": [
        {
          "output_type": "stream",
          "name": "stdout",
          "text": [
            "['terra', 'jupiter', 'urano', 'netuno', 'plutao', 'marte', 'saturno']\n"
          ]
        }
      ]
    },
    {
      "cell_type": "code",
      "source": [
        "print(planets.get('luas'))"
      ],
      "metadata": {
        "colab": {
          "base_uri": "https://localhost:8080/"
        },
        "id": "KN8IcLDQerzt",
        "outputId": "95306709-01b1-4129-9093-71804fb000a4"
      },
      "execution_count": null,
      "outputs": [
        {
          "output_type": "stream",
          "name": "stdout",
          "text": [
            "[1, 95, 27, 14, 5, 2, 124]\n"
          ]
        }
      ]
    },
    {
      "cell_type": "markdown",
      "source": [
        "##atualizando o nome da coluna* dos dicionarios"
      ],
      "metadata": {
        "id": "7SW0WKetgOr8"
      }
    },
    {
      "cell_type": "code",
      "source": [
        "planets.update({'nome': 'nome-dos-planetas'})"
      ],
      "metadata": {
        "id": "yBM4B0Duf8kz"
      },
      "execution_count": null,
      "outputs": []
    },
    {
      "cell_type": "code",
      "source": [
        "planets['luas'] = 'luas_qtd'\n"
      ],
      "metadata": {
        "id": "F_J7k9zUgHxB"
      },
      "execution_count": null,
      "outputs": []
    },
    {
      "cell_type": "markdown",
      "source": [
        "#programaçao dinamica com python"
      ],
      "metadata": {
        "id": "MJh_WNSap2CE"
      }
    },
    {
      "cell_type": "code",
      "source": [
        "rainfall = {\n",
        "    'october': 3.5,\n",
        "    'november': 4.2,\n",
        "    'december': 2.1\n",
        "}"
      ],
      "metadata": {
        "id": "REfllgZPp3rD"
      },
      "execution_count": null,
      "outputs": []
    },
    {
      "cell_type": "code",
      "source": [
        "for key in rainfall.keys():\n",
        "    print(f'{key}: {rainfall[key]}cm')"
      ],
      "metadata": {
        "id": "hP839h1ip_O2"
      },
      "execution_count": null,
      "outputs": []
    },
    {
      "cell_type": "markdown",
      "source": [
        "##Determinar se uma chave existe em um dicionário"
      ],
      "metadata": {
        "id": "d8H-vrXcl-kg"
      }
    },
    {
      "cell_type": "code",
      "source": [
        "if 'december' in rainfall:\n",
        "    rainfall['december'] = rainfall['december'] + 1\n",
        "else:\n",
        "    rainfall['december'] = 1\n",
        "\n",
        "# Because december exists, the value will be 3.1"
      ],
      "metadata": {
        "id": "SVLw6dBQrRLc"
      },
      "execution_count": null,
      "outputs": []
    },
    {
      "cell_type": "markdown",
      "source": [
        "###Recuperar todos os valores"
      ],
      "metadata": {
        "id": "i4ltXcZBmB9G"
      }
    },
    {
      "cell_type": "code",
      "source": [
        "#Recuperar todos os valores\n",
        "total_rainfall = 0\n",
        "for value in rainfall.values():\n",
        "    total_rainfall = total_rainfall + value\n",
        "\n",
        "print(f'There was {total_rainfall}cm in the last quarter.')"
      ],
      "metadata": {
        "id": "r7bZfyS27QOn"
      },
      "execution_count": null,
      "outputs": []
    },
    {
      "cell_type": "markdown",
      "source": [
        "#dicionario + zip"
      ],
      "metadata": {
        "id": "NMPivQ7NbLdM"
      }
    },
    {
      "cell_type": "code",
      "source": [
        "animais = ['lontra', 'joaninha', 'gato', 'atum', 'borboleta', 'pirarucu', 'capivara']\n",
        "tipo_animal = ['mamífero', 'inseto', 'mamífero', 'peixe', 'inseto', 'peixe', 'mamífero']\n",
        "\n",
        "dicionario = dict(zip(animais, tipo_animal))\n",
        "print(dicionario)"
      ],
      "metadata": {
        "id": "WiYAjioibMNK"
      },
      "execution_count": null,
      "outputs": []
    },
    {
      "cell_type": "markdown",
      "source": [
        "#mudando tipos em um dataset"
      ],
      "metadata": {
        "id": "VBIHoCevuLgg"
      }
    },
    {
      "cell_type": "code",
      "source": [
        "#utilizando dicionario\n",
        "# Definindo os tipos de dados desejados\n",
        "dtype_mapping = {\n",
        "\n",
        "    'Territorio': str, 'Categoria': str, 'Elenco': str,\n",
        "    'Diretor': str, 'Inserção_mes': str, 'Inserção_ano': int\n",
        "}\n",
        "\n",
        "# Aplicando os tipos ao DataFrame\n",
        "df = df.astype(dtype_mapping)"
      ],
      "metadata": {
        "id": "C-AxB4EAuUok"
      },
      "execution_count": null,
      "outputs": []
    },
    {
      "cell_type": "markdown",
      "source": [],
      "metadata": {
        "id": "UGIVu7DlgnoM"
      }
    },
    {
      "cell_type": "code",
      "source": [
        "aluno={\n",
        "    'nome':'Fernando',\n",
        "    'idade':'12',\n",
        "    'altura':'1,60',\n",
        "    'peso':'45kg',\n",
        "    'sexo':'masculino',\n",
        "    'serie':'6',\n",
        "    'turma':'A'\n",
        "\n",
        "\n",
        "}"
      ],
      "metadata": {
        "id": "DioNlCRygoID"
      },
      "execution_count": null,
      "outputs": []
    },
    {
      "cell_type": "code",
      "source": [
        "alunos={\n",
        "\n",
        "    \"nome\" : ['Luiza','Camila','Desdemona','Carmem'],\n",
        "    \"idade\" : ['12','13','11','8'],\n",
        "    \"series\"=['6','7','5','3'],\n",
        "    \"sexos\"=['feminino','feminino','feminino','feminino']\n",
        "}"
      ],
      "metadata": {
        "id": "779iWfPmhiXn"
      },
      "execution_count": null,
      "outputs": []
    },
    {
      "cell_type": "markdown",
      "source": [
        "#referencias"
      ],
      "metadata": {
        "id": "rIdK83OmmqiF"
      }
    },
    {
      "cell_type": "code",
      "source": [
        "https://hub.asimov.academy/tutorial/a-funcao-zip-em-python-um-guia-completo/\n",
        "https://www.bosontreinamentos.com.br/programacao-em-python/como-usar-a-funcao-zip-em-python/\n",
        "https://www.geeksforgeeks.org/queue-in-python/\n",
        "https://www.otaviomiranda.com.br/2020/filas-em-python-com-deque-queue/\n",
        "https://learn.microsoft.com/pt-br/training/modules/python-dictionaries/1-introduction\n",
        "https://www.geeksforgeeks.org/python-implementing-dynamic-programming-using-dictionary/"
      ],
      "metadata": {
        "id": "Gmrhy7Vamlqn"
      },
      "execution_count": null,
      "outputs": []
    }
  ]
}