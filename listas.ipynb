{
  "nbformat": 4,
  "nbformat_minor": 0,
  "metadata": {
    "colab": {
      "provenance": [],
      "include_colab_link": true
    },
    "kernelspec": {
      "name": "python3",
      "display_name": "Python 3"
    },
    "language_info": {
      "name": "python"
    }
  },
  "cells": [
    {
      "cell_type": "markdown",
      "metadata": {
        "id": "view-in-github",
        "colab_type": "text"
      },
      "source": [
        "<a href=\"https://colab.research.google.com/github/metsumesquita/Python_resumo/blob/main/listas.ipynb\" target=\"_parent\"><img src=\"https://colab.research.google.com/assets/colab-badge.svg\" alt=\"Open In Colab\"/></a>"
      ]
    },
    {
      "cell_type": "markdown",
      "source": [
        "#o que São Listas\n",
        "\n",
        "---\n",
        "######uma lista pode de diferentes estruturas ou tipos como float,string,int,boolean e ate mesmo uma lista de listas\n"
      ],
      "metadata": {
        "id": "8lViDQCG0bWg"
      }
    },
    {
      "cell_type": "code",
      "execution_count": null,
      "metadata": {
        "id": "3o6qfNmp0UTV"
      },
      "outputs": [],
      "source": [
        "nome='luis'\n",
        "nome1='pedro'\n",
        "nome2='lucas'\n",
        "nomes=[nome,nome1,nome2]\n",
        "nomes.append(\"fernando\")\n",
        "print(nomes)"
      ]
    },
    {
      "cell_type": "code",
      "source": [
        "#index do elemento\n",
        "nomes.pop(2)\n",
        "print(nomes)"
      ],
      "metadata": {
        "id": "DD7iRosW06fQ"
      },
      "execution_count": null,
      "outputs": []
    },
    {
      "cell_type": "code",
      "source": [
        "#o remove so retira o elemento q ele encontrar igual\n",
        "#ele retira o primeiro elemento q ele encontrar igual\n",
        "lista=['lucas',2,4,6,9,2]\n",
        "lista.append(\"pedrita\")\n",
        "\n",
        "#remove um parametro ou elemento que precisa estar dentro da lista\n",
        "lista.remove(6)\n",
        "print(lista)"
      ],
      "metadata": {
        "colab": {
          "base_uri": "https://localhost:8080/"
        },
        "id": "YhWxiR2O_hu0",
        "outputId": "1c459503-bb21-4feb-d9ad-d6c3625be14b"
      },
      "execution_count": null,
      "outputs": [
        {
          "output_type": "stream",
          "name": "stdout",
          "text": [
            "['lucas', 2, 4, 9, 2, 'pedrita']\n"
          ]
        }
      ]
    },
    {
      "cell_type": "code",
      "source": [
        "lista.index(4)"
      ],
      "metadata": {
        "id": "ho9NNjZs_loW"
      },
      "execution_count": null,
      "outputs": []
    },
    {
      "cell_type": "code",
      "source": [
        "#count retona a quantidade q aquele elemtno se repete\n",
        "lista.count(2)"
      ],
      "metadata": {
        "id": "u1sljzOd_ogT"
      },
      "execution_count": null,
      "outputs": []
    },
    {
      "cell_type": "code",
      "source": [
        "num=[1,2,7,3,4,0,5,6]\n",
        "num.sort()\n",
        "#o sort so é possivel com elementos do mesmo tipo\n",
        "print(num)"
      ],
      "metadata": {
        "id": "9LojhdKL_vYC"
      },
      "execution_count": null,
      "outputs": []
    },
    {
      "cell_type": "code",
      "source": [
        "#soma de todos os valores da lista\n",
        "print(sum(num))"
      ],
      "metadata": {
        "id": "Or0UBNE5_xQB"
      },
      "execution_count": null,
      "outputs": []
    },
    {
      "cell_type": "code",
      "source": [
        "#lista original\n",
        "list_string=[\"vila\",\"pizzaria\",\"padaria\",\"casa\",\"trabalho\",\"praia\",\"estudo\",\"cidade\",\"fazenda\"]\n",
        "print(list_string)\n",
        "\n",
        "#ordenada em ordem alfabetica\n",
        "list_string.sort()\n",
        "print(list_string)\n",
        "\n",
        "#o termo Slicing quer dizer fatiamento, como se voce estivesse dividindo ou fatiando a lista em pedaços menores\n",
        "del list_string[:-1]\n",
        "print(list_string)"
      ],
      "metadata": {
        "colab": {
          "base_uri": "https://localhost:8080/"
        },
        "id": "MNkA39H9_4XO",
        "outputId": "36ce3d64-b975-45e4-ee92-74ee37b85a65"
      },
      "execution_count": null,
      "outputs": [
        {
          "output_type": "stream",
          "name": "stdout",
          "text": [
            "['vila', 'pizzaria', 'padaria', 'casa', 'trabalho', 'praia', 'estudo', 'cidade', 'fazenda']\n",
            "['casa', 'cidade', 'estudo', 'fazenda', 'padaria', 'pizzaria', 'praia', 'trabalho', 'vila']\n",
            "['vila']\n"
          ]
        }
      ]
    },
    {
      "cell_type": "code",
      "source": [
        "aleatoria_list=[\"casa\",1,1.9,'lua']\n",
        "print(aleatoria_list)\n"
      ],
      "metadata": {
        "colab": {
          "base_uri": "https://localhost:8080/"
        },
        "id": "-uxZ8UAhESc7",
        "outputId": "727d1ac7-8271-421a-d829-e8b8c540db06"
      },
      "execution_count": null,
      "outputs": [
        {
          "output_type": "stream",
          "name": "stdout",
          "text": [
            "['casa', 1, 1.9, 'lua']\n"
          ]
        }
      ]
    },
    {
      "cell_type": "code",
      "source": [
        "#o insert permite que voce determine o index no qual o parametro que esta sendo passando fique guardado\n",
        "aleatoria_list.insert(3, \"mar\")\n",
        "print(aleatoria_list)"
      ],
      "metadata": {
        "colab": {
          "base_uri": "https://localhost:8080/"
        },
        "id": "sPCmgUjEEbIl",
        "outputId": "aa15765d-4e44-44ef-d5c1-998f16df2fa7"
      },
      "execution_count": null,
      "outputs": [
        {
          "output_type": "stream",
          "name": "stdout",
          "text": [
            "['casa', 1, 1.9, 'mar', 'lua']\n"
          ]
        }
      ]
    },
    {
      "cell_type": "code",
      "source": [
        "#enquanto o append coloca o parametro no proximo index disponivel que depois do index do  ultimo elemento da lista\n",
        "aleatoria_list.append(\"vida\")\n",
        "print(aleatoria_list)"
      ],
      "metadata": {
        "colab": {
          "base_uri": "https://localhost:8080/"
        },
        "id": "SyJ56BbhEtAL",
        "outputId": "d06922a0-f602-46e5-e538-748772434d0d"
      },
      "execution_count": null,
      "outputs": [
        {
          "output_type": "stream",
          "name": "stdout",
          "text": [
            "['casa', 1, 1.9, 'mar', 'lua', 'vida']\n"
          ]
        }
      ]
    },
    {
      "cell_type": "code",
      "source": [
        "lista=[5,8,9,11,40,22,21,33,10,1,0,2,90,10,2,190]\n",
        "#observe que a lista esta sendo diretamente modificada\n",
        "lista.reverse()\n",
        "\n",
        "print(lista)\n",
        "\n",
        "lista=sorted(lista)\n",
        "print(lista)\n",
        "\n",
        "lista.sort(reverse=True)\n",
        "print(lista)\n",
        "\n",
        "#remove o ultimo elemento da lista\n",
        "lista.pop()\n"
      ],
      "metadata": {
        "colab": {
          "base_uri": "https://localhost:8080/"
        },
        "id": "yDXYrhtIFh1F",
        "outputId": "273b7c39-d01f-422b-c4fc-3a106676393f"
      },
      "execution_count": null,
      "outputs": [
        {
          "output_type": "stream",
          "name": "stdout",
          "text": [
            "[190, 2, 10, 90, 2, 0, 1, 10, 33, 21, 22, 40, 11, 9, 8, 5]\n",
            "[0, 1, 2, 2, 5, 8, 9, 10, 10, 11, 21, 22, 33, 40, 90, 190]\n",
            "[190, 90, 40, 33, 22, 21, 11, 10, 10, 9, 8, 5, 2, 2, 1, 0]\n"
          ]
        },
        {
          "output_type": "execute_result",
          "data": {
            "text/plain": [
              "0"
            ]
          },
          "metadata": {},
          "execution_count": 7
        }
      ]
    },
    {
      "cell_type": "code",
      "source": [
        "#com esta outra funçao,é retornado apenas os valores que sejam unicos ou seja que não foram repetidos\n",
        "set(lista)"
      ],
      "metadata": {
        "colab": {
          "base_uri": "https://localhost:8080/"
        },
        "id": "WuCeMmWUGyyD",
        "outputId": "e8541bcc-e711-46a1-c99a-9657961a42fe"
      },
      "execution_count": null,
      "outputs": [
        {
          "output_type": "execute_result",
          "data": {
            "text/plain": [
              "{1, 2, 5, 8, 9, 10, 11, 21, 22, 33, 40, 90, 190}"
            ]
          },
          "metadata": {},
          "execution_count": 8
        }
      ]
    },
    {
      "cell_type": "code",
      "source": [
        "#como coletar algo desejado dentro de uma lista\n",
        "lst = [1,2,[3,4],[5,[20,40,['Destino']],90,122,1010],2,4,7]\n",
        "\n",
        "segunda_lista=lst[3]\n",
        "\n",
        "print(segunda_lista)\n",
        "terceira_lista=segunda_lista[1]\n",
        "\n",
        "print(terceira_lista)\n",
        "palavra_desejada=terceira_lista[2]\n",
        "\n",
        "print(palavra_desejada)\n"
      ],
      "metadata": {
        "id": "DtZDDCBMLNx2"
      },
      "execution_count": null,
      "outputs": []
    },
    {
      "cell_type": "code",
      "source": [
        "#um exemplo da uma lista , onde os elementos listados fazem parte de uma receita de bolo\n",
        "bolo = ['farinha de trigo', 'ovo', 'leite', 'manteiga']\n",
        "#melhor pra desempenho por adicionar sempre ao final da lista\n",
        "bolo.append(['açucar', 'fermento'])\n",
        "\n",
        "#aqui é um exemplo de uma lista dentro de uma lista\n",
        "print(bolo)\n",
        "\n",
        "#aqui é visivel o 4 elemento da lista que é outra lista\n",
        "print(bolo[4:])"
      ],
      "metadata": {
        "colab": {
          "base_uri": "https://localhost:8080/"
        },
        "id": "tlAs4VCGLNiL",
        "outputId": "c5b8ee38-6efe-4933-c1a8-c3fbdfa9b9ef"
      },
      "execution_count": null,
      "outputs": [
        {
          "output_type": "stream",
          "name": "stdout",
          "text": [
            "['farinha de trigo', 'ovo', 'leite', 'manteiga', ['açucar', 'fermento']]\n",
            "[['açucar', 'fermento']]\n"
          ]
        }
      ]
    },
    {
      "cell_type": "code",
      "source": [
        "bolo = ['farinha de trigo', 'ovo', 'leite', 'manteiga']\n",
        "#a função extend adiciona no final da lista os elementos\n",
        "bolo.extend(['açucar', 'fermento'])\n",
        "print(bolo)"
      ],
      "metadata": {
        "colab": {
          "base_uri": "https://localhost:8080/"
        },
        "id": "Yiyv0KvJLrWz",
        "outputId": "d7472f2c-99cc-4b24-ea2e-74ea8d163fec"
      },
      "execution_count": null,
      "outputs": [
        {
          "output_type": "stream",
          "name": "stdout",
          "text": [
            "['farinha de trigo', 'ovo', 'leite', 'manteiga', 'açucar', 'fermento']\n"
          ]
        }
      ]
    },
    {
      "cell_type": "code",
      "source": [
        "#a funçao enumerate serve para coloca a lista na ordem crescente\n",
        "list_string=[\"vila\",\"pizzaria\",\"padaria\",\"casa\",\"trabalho\",\"praia\",\"estudo\",\"cidade\",\"fazenda\"]\n",
        "\n",
        "for i, word in enumerate(list_string):\n",
        "    print(i, word)"
      ],
      "metadata": {
        "id": "x0Rh9wU2ZdWm"
      },
      "execution_count": null,
      "outputs": []
    },
    {
      "cell_type": "code",
      "source": [
        "complicado = {'k1':[{'nest_key':['dentro da nest key',['o fundo']]}]}\n",
        "#pegue o fundo\n",
        "\n",
        "print(complicado[\"k1\"][0])"
      ],
      "metadata": {
        "id": "ssbg4XRXZieQ"
      },
      "execution_count": null,
      "outputs": []
    },
    {
      "cell_type": "code",
      "source": [
        "numeros=[5,2,5,2,2,5]\n",
        "index=0\n",
        "while index < len(numeros):\n",
        " letter = numeros[index]\n",
        " print (letter*'x')\n",
        " index = index + 1"
      ],
      "metadata": {
        "id": "UE71TLH-_0bG"
      },
      "execution_count": null,
      "outputs": []
    },
    {
      "cell_type": "markdown",
      "source": [
        "#[list comprehension](https://www.w3schools.com/Python/python_lists_comprehension.asp)"
      ],
      "metadata": {
        "id": "c_5qKTtMYP4H"
      }
    },
    {
      "cell_type": "code",
      "source": [
        "#list comprehension\n",
        "#uma outa forma de fazer uma operaçao sobre de uma forma mais abstrata\n",
        "\n",
        "num_normal=[2,4,6,8,1]\n",
        "num_multi=[i*(i+1) for i  in  num_normal]\n",
        "print(\"esta e a minha lista normal\"+str(num_normal))\n",
        "\n",
        "#[2*(2+1) , 4*(4+1) , 6*(6+1) ,8*(8+1) + 1*(1+1)]\n",
        "\n",
        "print(\"esta é minha lista\"+str(num_multi))"
      ],
      "metadata": {
        "id": "zZQT5QHSLrlj"
      },
      "execution_count": null,
      "outputs": []
    },
    {
      "cell_type": "markdown",
      "source": [
        "#listas e strings"
      ],
      "metadata": {
        "id": "yoDIEJXZZNgz"
      }
    },
    {
      "cell_type": "code",
      "source": [
        "#aqui temos uma funçao na qual recebemos um valor qualquer e printamos do valor 1 ate o valor qualquer\n",
        "if __name__ == '__main__':\n",
        "    n = int(input())\n",
        "    lista=[]\n",
        "    for x in range(n):\n",
        "        lista.append(str(x))\n",
        "        cao= ''.join(lista)\n",
        "    print(cao[1::])"
      ],
      "metadata": {
        "id": "8K_lAfAyXrnj"
      },
      "execution_count": null,
      "outputs": []
    },
    {
      "cell_type": "code",
      "source": [
        "# Converte uma string em uma lista.\n",
        "s = list(\"So much drama .\")\n",
        "print(s)\n",
        "\n",
        "# Converte uma lista em uma string.\n",
        "l = [ \"S\",\"o\",\" \",\"m\",\"u\",\"c\",\"h\",\" \", \"d\",\"r\",\"a\",\"m\",\"a\",\" \",\".\"]\n",
        "print(''.join(l))"
      ],
      "metadata": {
        "id": "yWe9yyvkLrKX"
      },
      "execution_count": null,
      "outputs": []
    }
  ]
}