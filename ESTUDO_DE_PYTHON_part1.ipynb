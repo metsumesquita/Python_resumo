{
 "cells": [
  {
   "cell_type": "markdown",
   "id": "bb8ef35c",
   "metadata": {
    "id": "view-in-github"
   },
   "source": [
    "<a href=\"https://colab.research.google.com/github/metsumesquita/Python_resumo/blob/main/ESTUDO_DE_PYTHON.ipynb\" target=\"_parent\"><img src=\"https://colab.research.google.com/assets/colab-badge.svg\" alt=\"Open In Colab\"/></a>"
   ]
  },
  {
   "cell_type": "code",
   "execution_count": null,
   "id": "fe77bac4",
   "metadata": {
    "id": "ve1aWRTjmIH_"
   },
   "outputs": [],
   "source": [
    "#objetos e estruturas de dados basicas\n",
    "#python é uma linguagem orientada a objetos\n"
   ]
  },
  {
   "cell_type": "markdown",
   "id": "86227111",
   "metadata": {
    "id": "2IKB0cjDu3aE"
   },
   "source": [
    "#Importaçao"
   ]
  },
  {
   "cell_type": "code",
   "execution_count": 3,
   "id": "62cf3afa",
   "metadata": {
    "id": "fnjTKFkCu0nx"
   },
   "outputs": [],
   "source": [
    "from collections import namedtuple #importaçao"
   ]
  },
  {
   "cell_type": "code",
   "execution_count": 4,
   "id": "85cc8d53",
   "metadata": {
    "id": "llWCVCCyS2DW"
   },
   "outputs": [],
   "source": [
    "import numpy as np"
   ]
  },
  {
   "cell_type": "markdown",
   "id": "430ae49b",
   "metadata": {
    "id": "gEJ_y9ljGqIu"
   },
   "source": [
    "#Variaveis e atribuiçao"
   ]
  },
  {
   "cell_type": "code",
   "execution_count": null,
   "id": "c913ed05",
   "metadata": {
    "id": "QuLVkl2polDo"
   },
   "outputs": [],
   "source": [
    "#as variaveis é apenas um nome dado a uma locaçao de memoria\n",
    "#o string nao sao mutaveis\n",
    "#toda a operaçao feita sobre a variavel afeta a locaçao de memoria"
   ]
  },
  {
   "cell_type": "code",
   "execution_count": null,
   "id": "2e8a9444",
   "metadata": {
    "colab": {
     "base_uri": "https://localhost:8080/"
    },
    "id": "S3znG9jp3Fvf",
    "outputId": "ce39e12e-d031-48b8-8f18-714d6a66ff0b"
   },
   "outputs": [
    {
     "name": "stdout",
     "output_type": "stream",
     "text": [
      "Hello \tWorld\n"
     ]
    }
   ],
   "source": [
    "print(\"Hello \\tWorld\")"
   ]
  },
  {
   "cell_type": "code",
   "execution_count": null,
   "id": "bcb37e9f",
   "metadata": {
    "colab": {
     "base_uri": "https://localhost:8080/"
    },
    "id": "Er1xjey2-1CS",
    "outputId": "cd2640d8-70ba-4504-dbb2-5b9b45015b95"
   },
   "outputs": [
    {
     "name": "stdout",
     "output_type": "stream",
     "text": [
      "She said: \"Hi\"\n"
     ]
    }
   ],
   "source": [
    "#essa é a maneira que da pra fazer personagem : \"frase\"\n",
    "fala = \"She said: \\\"Hi\\\"\"\n",
    "print(fala)"
   ]
  },
  {
   "cell_type": "code",
   "execution_count": null,
   "id": "5c045de1",
   "metadata": {
    "colab": {
     "base_uri": "https://localhost:8080/"
    },
    "id": "4hwLJr2Z2NzG",
    "outputId": "f26bf1ba-391a-41d6-a26b-7610968039ea"
   },
   "outputs": [
    {
     "name": "stdout",
     "output_type": "stream",
     "text": [
      "O nome dela é : ?  Thais\n"
     ]
    }
   ],
   "source": [
    "#devemos nomear as variaveis da seguinte forma\n",
    "my_name = 'Thais' # esse = é uma ATRIBUIÇAO\n",
    "print('O nome dela é  ? :  '+my_name)\n",
    "#nao é permitido usar numeros no começo das variaveis\n",
    "#nao é permitido utilizar o espaço dentro de uma variavel"
   ]
  },
  {
   "cell_type": "code",
   "execution_count": null,
   "id": "75aeb6b2",
   "metadata": {
    "colab": {
     "base_uri": "https://localhost:8080/"
    },
    "id": "eRQjowhJ2FsJ",
    "outputId": "8c5cc8a9-b085-47fb-b229-e7ea0cf1592a"
   },
   "outputs": [
    {
     "name": "stdout",
     "output_type": "stream",
     "text": [
      "Gato de gravata\n",
      "Urso de gravata\n"
     ]
    }
   ],
   "source": [
    "#alterando\n",
    "phrase=\"Gato de gravata\"\n",
    "print(phrase)\n",
    "#frase original\n",
    "print(phrase.replace(\"Gato\",\"Urso\"))\n",
    "#frase que sofreu  substituiçao"
   ]
  },
  {
   "cell_type": "code",
   "execution_count": null,
   "id": "d89a05b9",
   "metadata": {
    "colab": {
     "base_uri": "https://localhost:8080/"
    },
    "id": "8L4ed7m5Cawi",
    "outputId": "90db484d-95e5-4f2a-b483-a148428fa670"
   },
   "outputs": [
    {
     "name": "stdout",
     "output_type": "stream",
     "text": [
      "Gato De Gravata\n"
     ]
    }
   ],
   "source": [
    "print(phrase.title())\n",
    "#deixa em maiusculo a primeira letra de cada palavra"
   ]
  },
  {
   "cell_type": "code",
   "execution_count": null,
   "id": "3cca9dee",
   "metadata": {
    "colab": {
     "base_uri": "https://localhost:8080/"
    },
    "id": "YjXiNtns6OPo",
    "outputId": "89026006-32ec-4464-95fe-9290971d7440"
   },
   "outputs": [
    {
     "name": "stdout",
     "output_type": "stream",
     "text": [
      "False\n"
     ]
    }
   ],
   "source": [
    "print(phrase.startswith(\"Urso\"))"
   ]
  },
  {
   "cell_type": "code",
   "execution_count": null,
   "id": "3110edaa",
   "metadata": {
    "colab": {
     "base_uri": "https://localhost:8080/"
    },
    "id": "935FpLTg7XJw",
    "outputId": "30fa82a9-2426-48e7-f24f-b7aa0f17bcef"
   },
   "outputs": [
    {
     "name": "stdout",
     "output_type": "stream",
     "text": [
      "True\n"
     ]
    }
   ],
   "source": [
    "print(phrase.startswith(\"Gato\"))"
   ]
  },
  {
   "cell_type": "code",
   "execution_count": null,
   "id": "8f228dc2",
   "metadata": {
    "colab": {
     "base_uri": "https://localhost:8080/"
    },
    "id": "fCyzdj2X7fVM",
    "outputId": "17c8b165-d332-4d28-8679-2aedbe886c95"
   },
   "outputs": [
    {
     "name": "stdout",
     "output_type": "stream",
     "text": [
      "True\n"
     ]
    }
   ],
   "source": [
    "print(phrase.endswith(\"gravata\"))"
   ]
  },
  {
   "cell_type": "markdown",
   "id": "ad7a58fb",
   "metadata": {
    "id": "vOgSqQ6O1z29"
   },
   "source": [
    "#Leitura de Dados do Teclado/Entrada"
   ]
  },
  {
   "cell_type": "code",
   "execution_count": null,
   "id": "55435656",
   "metadata": {
    "id": "sZX8mq2tmnui"
   },
   "outputs": [],
   "source": [
    "import pandas as pd\n",
    "if __name__ == '__main__':\n",
    "    a = int(input(\"informe valor\"))\n",
    "    b = int(input(\"informe valor\"))\n",
    "    print((int(a)+int(b)))\n",
    "    print((int(a)-int(b) ))\n",
    "    print((int(a)*int(b)))"
   ]
  },
  {
   "cell_type": "code",
   "execution_count": null,
   "id": "b7cf38f8",
   "metadata": {
    "colab": {
     "base_uri": "https://localhost:8080/",
     "height": 380
    },
    "id": "8UGOkZiDjR7g",
    "outputId": "98b473ce-b5d7-46bd-c03e-26c3e847476e"
   },
   "outputs": [
    {
     "ename": "KeyboardInterrupt",
     "evalue": "ignored",
     "output_type": "error",
     "traceback": [
      "\u001b[0;31m---------------------------------------------------------------------------\u001b[0m",
      "\u001b[0;31mKeyboardInterrupt\u001b[0m                         Traceback (most recent call last)",
      "\u001b[0;32m<ipython-input-13-2118551f056a>\u001b[0m in \u001b[0;36m<module>\u001b[0;34m\u001b[0m\n\u001b[1;32m      1\u001b[0m \u001b[0;31m#aqui notamos que essas duas variaveis ,sao consideradas strings\u001b[0m\u001b[0;34m\u001b[0m\u001b[0;34m\u001b[0m\u001b[0;34m\u001b[0m\u001b[0m\n\u001b[0;32m----> 2\u001b[0;31m \u001b[0mnum1\u001b[0m\u001b[0;34m=\u001b[0m\u001b[0minput\u001b[0m\u001b[0;34m(\u001b[0m\u001b[0;34m'Informe o valor da variavel 1 : '\u001b[0m\u001b[0;34m)\u001b[0m\u001b[0;34m\u001b[0m\u001b[0;34m\u001b[0m\u001b[0m\n\u001b[0m\u001b[1;32m      3\u001b[0m \u001b[0mnum2\u001b[0m\u001b[0;34m=\u001b[0m\u001b[0minput\u001b[0m\u001b[0;34m(\u001b[0m\u001b[0;34m'Informe o valor da variavel 2 : '\u001b[0m\u001b[0;34m)\u001b[0m\u001b[0;34m\u001b[0m\u001b[0;34m\u001b[0m\u001b[0m\n\u001b[1;32m      4\u001b[0m \u001b[0mprint\u001b[0m\u001b[0;34m(\u001b[0m\u001b[0;34m'Resposta : '\u001b[0m\u001b[0;34m+\u001b[0m\u001b[0mnum1\u001b[0m\u001b[0;34m+\u001b[0m\u001b[0mnum2\u001b[0m\u001b[0;34m)\u001b[0m\u001b[0;34m\u001b[0m\u001b[0;34m\u001b[0m\u001b[0m\n\u001b[1;32m      5\u001b[0m \u001b[0;31m##num1 e num2 sao strings\u001b[0m\u001b[0;34m\u001b[0m\u001b[0;34m\u001b[0m\u001b[0;34m\u001b[0m\u001b[0m\n",
      "\u001b[0;32m/usr/local/lib/python3.7/dist-packages/ipykernel/kernelbase.py\u001b[0m in \u001b[0;36mraw_input\u001b[0;34m(self, prompt)\u001b[0m\n\u001b[1;32m    861\u001b[0m             \u001b[0mself\u001b[0m\u001b[0;34m.\u001b[0m\u001b[0m_parent_ident\u001b[0m\u001b[0;34m,\u001b[0m\u001b[0;34m\u001b[0m\u001b[0;34m\u001b[0m\u001b[0m\n\u001b[1;32m    862\u001b[0m             \u001b[0mself\u001b[0m\u001b[0;34m.\u001b[0m\u001b[0m_parent_header\u001b[0m\u001b[0;34m,\u001b[0m\u001b[0;34m\u001b[0m\u001b[0;34m\u001b[0m\u001b[0m\n\u001b[0;32m--> 863\u001b[0;31m             \u001b[0mpassword\u001b[0m\u001b[0;34m=\u001b[0m\u001b[0;32mFalse\u001b[0m\u001b[0;34m,\u001b[0m\u001b[0;34m\u001b[0m\u001b[0;34m\u001b[0m\u001b[0m\n\u001b[0m\u001b[1;32m    864\u001b[0m         )\n\u001b[1;32m    865\u001b[0m \u001b[0;34m\u001b[0m\u001b[0m\n",
      "\u001b[0;32m/usr/local/lib/python3.7/dist-packages/ipykernel/kernelbase.py\u001b[0m in \u001b[0;36m_input_request\u001b[0;34m(self, prompt, ident, parent, password)\u001b[0m\n\u001b[1;32m    902\u001b[0m             \u001b[0;32mexcept\u001b[0m \u001b[0mKeyboardInterrupt\u001b[0m\u001b[0;34m:\u001b[0m\u001b[0;34m\u001b[0m\u001b[0;34m\u001b[0m\u001b[0m\n\u001b[1;32m    903\u001b[0m                 \u001b[0;31m# re-raise KeyboardInterrupt, to truncate traceback\u001b[0m\u001b[0;34m\u001b[0m\u001b[0;34m\u001b[0m\u001b[0;34m\u001b[0m\u001b[0m\n\u001b[0;32m--> 904\u001b[0;31m                 \u001b[0;32mraise\u001b[0m \u001b[0mKeyboardInterrupt\u001b[0m\u001b[0;34m(\u001b[0m\u001b[0;34m\"Interrupted by user\"\u001b[0m\u001b[0;34m)\u001b[0m \u001b[0;32mfrom\u001b[0m \u001b[0;32mNone\u001b[0m\u001b[0;34m\u001b[0m\u001b[0;34m\u001b[0m\u001b[0m\n\u001b[0m\u001b[1;32m    905\u001b[0m             \u001b[0;32mexcept\u001b[0m \u001b[0mException\u001b[0m \u001b[0;32mas\u001b[0m \u001b[0me\u001b[0m\u001b[0;34m:\u001b[0m\u001b[0;34m\u001b[0m\u001b[0;34m\u001b[0m\u001b[0m\n\u001b[1;32m    906\u001b[0m                 \u001b[0mself\u001b[0m\u001b[0;34m.\u001b[0m\u001b[0mlog\u001b[0m\u001b[0;34m.\u001b[0m\u001b[0mwarning\u001b[0m\u001b[0;34m(\u001b[0m\u001b[0;34m\"Invalid Message:\"\u001b[0m\u001b[0;34m,\u001b[0m \u001b[0mexc_info\u001b[0m\u001b[0;34m=\u001b[0m\u001b[0;32mTrue\u001b[0m\u001b[0;34m)\u001b[0m\u001b[0;34m\u001b[0m\u001b[0;34m\u001b[0m\u001b[0m\n",
      "\u001b[0;31mKeyboardInterrupt\u001b[0m: Interrupted by user"
     ]
    }
   ],
   "source": [
    "#aqui notamos que essas duas variaveis ,sao consideradas strings\n",
    "num1=input('Informe o valor da variavel 1 : ')\n",
    "num2=input('Informe o valor da variavel 2 : ')\n",
    "print('Resposta : '+num1+num2)\n",
    "##num1 e num2 sao strings\n",
    "#mas nao era isso q esperavamos ou queriamos\n",
    "soma=int(num1)+int(num2)\n",
    "#soma precisa ser do tipo string para poder ser utilizado com o print dessa forma abaixo\n",
    "print('Resultado desejado: '+str(soma) )"
   ]
  },
  {
   "cell_type": "code",
   "execution_count": null,
   "id": "412cac3c",
   "metadata": {
    "id": "98XZdEe9lwmp"
   },
   "outputs": [],
   "source": [
    "#string\n",
    "meu_texto = input(\"Digite um texto : \")\n",
    "# Recebendo números\n",
    "numero_inteiro = int(input(\"Digite um numero inteiro qualquer : \"))\n",
    "numero_decimal = float(input(\"Digite um numero decimal qualquer : \"))"
   ]
  },
  {
   "cell_type": "markdown",
   "id": "3154c1d1",
   "metadata": {
    "id": "DVYX6t8A7AIx"
   },
   "source": [
    "#trabalhando com strings"
   ]
  },
  {
   "cell_type": "code",
   "execution_count": null,
   "id": "9af64d51",
   "metadata": {
    "id": "OhKYGDLc3BSN"
   },
   "outputs": [],
   "source": [
    "nome=input(\"Informe o seu nome : \")\n",
    "idade=int(input(\"Informe a sua idade : \"))\n",
    "print(\"Seu nome é : \"+nome+\"e  sua idade é  : \"+ str(idade) )\n",
    "\n",
    "#tambem podemos fazer algo como utilizar o upper para torna tudo maiusculo\n",
    "\n",
    "#utilizamos find pra encontrar a posiçao que aquela letra/char se encontra\n",
    "\n",
    "#abaixo vamos fazer um exercicio"
   ]
  },
  {
   "cell_type": "code",
   "execution_count": null,
   "id": "74602ded",
   "metadata": {
    "id": "ioXqdyLmvdjN"
   },
   "outputs": [],
   "source": [
    "#Faça um programa que receba a idade do usuário e diga se ele é maior ou menor de idade.\n",
    "if(idade>=18):\n",
    "  print(nome+ \"é maior de idade \")\n",
    "else:\n",
    "  print(nome+\" é menor de idade\")"
   ]
  },
  {
   "cell_type": "code",
   "execution_count": null,
   "id": "bfa532b7",
   "metadata": {
    "id": "fpfQUF-Q6I_4"
   },
   "outputs": [],
   "source": [
    "type(nome)"
   ]
  },
  {
   "cell_type": "code",
   "execution_count": null,
   "id": "24962193",
   "metadata": {
    "id": "dXr1KlaT7y8f"
   },
   "outputs": [],
   "source": [
    "#alfa numerico\n",
    "'54A12B'.isalnum()"
   ]
  },
  {
   "cell_type": "code",
   "execution_count": null,
   "id": "2635ecc8",
   "metadata": {
    "colab": {
     "base_uri": "https://localhost:8080/"
    },
    "id": "SXzt2gpLAdrr",
    "outputId": "f3ab7e90-0fb0-4d50-fa0c-4bf8ba5306b0"
   },
   "outputs": [
    {
     "name": "stdout",
     "output_type": "stream",
     "text": [
      "1940 A casa do penhasco\n"
     ]
    }
   ],
   "source": [
    "print(1940,\"A casa do penhasco\")"
   ]
  },
  {
   "cell_type": "markdown",
   "id": "08221711",
   "metadata": {
    "id": "Yd86iEW0xZ0W"
   },
   "source": [
    "##Concatenando String"
   ]
  },
  {
   "cell_type": "code",
   "execution_count": null,
   "id": "1545ab85",
   "metadata": {
    "colab": {
     "base_uri": "https://localhost:8080/"
    },
    "id": "k91Tczk5yLQK",
    "outputId": "f154ddde-8a33-4189-a930-da6097347b6b"
   },
   "outputs": [
    {
     "name": "stdout",
     "output_type": "stream",
     "text": [
      "Pam\n"
     ]
    }
   ],
   "source": [
    "name='sam'\n",
    "last_letters=name[1::]\n",
    "new_name='P'+last_letters\n",
    "print(new_name)"
   ]
  },
  {
   "cell_type": "code",
   "execution_count": null,
   "id": "c249bc7a",
   "metadata": {
    "colab": {
     "base_uri": "https://localhost:8080/"
    },
    "id": "Sohdbq_g3OMz",
    "outputId": "3bacb867-0231-4abd-d882-6e76022e3e0b"
   },
   "outputs": [
    {
     "name": "stdout",
     "output_type": "stream",
     "text": [
      "Ola todos,nos da light academyEstamos convidando todos os novatos para o evento de sabado a noite\n",
      "as 18 horas\n",
      "Ola todos,nos da light academy\n",
      "Estamos convidando todos os novatos para o evento de sabado a noite\n"
     ]
    }
   ],
   "source": [
    "a=\"Ola todos,nos da light academy\"\n",
    "b=\"Estamos convidando todos os novatos para o evento de sabado a noite\"\n",
    "c=a + b +\"\\n\" #quebra de linha\n",
    "print(c+\"as 18 horas\")\n",
    "d=a+\"\\n\"+b #quebra de linha\n",
    "print(d)\n",
    "#com quebra de linha"
   ]
  },
  {
   "cell_type": "code",
   "execution_count": null,
   "id": "f9a5d05c",
   "metadata": {
    "id": "7zXtrU8w7HTU"
   },
   "outputs": [],
   "source": [
    "#index\n",
    "frase=\"Os gatos persa sao a raça mais popular entre as outras raças de gato\"\n",
    "\n",
    "print(frase[0])\n",
    "print(frase[1])#espaço\n",
    "print(frase[2])\n",
    "print(frase[3])\n",
    "print(frase[4])\n",
    "print(frase[5])\n",
    "print(frase[6])\n",
    "print(frase[7])"
   ]
  },
  {
   "cell_type": "code",
   "execution_count": null,
   "id": "f703a80e",
   "metadata": {
    "id": "IrwS9rxf948p"
   },
   "outputs": [],
   "source": [
    "print(str(frase.upper()))#maiusculo\n",
    "print(str(frase.lower()))#minusculo"
   ]
  },
  {
   "cell_type": "code",
   "execution_count": null,
   "id": "17fbb29d",
   "metadata": {
    "id": "DlzHpe7y9f_P"
   },
   "outputs": [],
   "source": [
    "print(frase[0:])\n",
    "#retorna do inicio ate o final da frase\n",
    "\n",
    "print(frase.find('g'))\n",
    "#retorna a posiçao que é encontrado\n",
    "#caso nao seja encontrado retorna -1\n",
    "\n",
    "print(\"gatos\" in frase)\n",
    "#aqui rerificamos se esse \"algo\" esta sendo usando na frase"
   ]
  },
  {
   "cell_type": "code",
   "execution_count": null,
   "id": "a6fd096f",
   "metadata": {
    "colab": {
     "base_uri": "https://localhost:8080/"
    },
    "id": "ycpzu4TIwfvT",
    "outputId": "a8f35b85-c6c6-4849-b0a1-9136550b6ec8"
   },
   "outputs": [
    {
     "name": "stdout",
     "output_type": "stream",
     "text": [
      "ink\n"
     ]
    }
   ],
   "source": [
    "print('tinker'[1:4])"
   ]
  },
  {
   "cell_type": "code",
   "execution_count": null,
   "id": "b3d83337",
   "metadata": {
    "colab": {
     "base_uri": "https://localhost:8080/",
     "height": 35
    },
    "id": "UoMU8lAg63PZ",
    "outputId": "d12c87e9-6e5d-46d2-8f44-244025ab858a"
   },
   "outputs": [
    {
     "data": {
      "application/vnd.google.colaboratory.intrinsic+json": {
       "type": "string"
      },
      "text/plain": [
       "'abcdefghiklmno'"
      ]
     },
     "execution_count": 22,
     "metadata": {},
     "output_type": "execute_result"
    }
   ],
   "source": [
    "my_frase='abcdefghiklmno'\n",
    "my_frase[::]\n"
   ]
  },
  {
   "cell_type": "code",
   "execution_count": null,
   "id": "f42718f3",
   "metadata": {
    "colab": {
     "base_uri": "https://localhost:8080/",
     "height": 35
    },
    "id": "392aomqd7KtI",
    "outputId": "e1ef6245-2dd1-4fed-aeed-0018c358ffcb"
   },
   "outputs": [
    {
     "data": {
      "application/vnd.google.colaboratory.intrinsic+json": {
       "type": "string"
      },
      "text/plain": [
       "'o'"
      ]
     },
     "execution_count": 23,
     "metadata": {},
     "output_type": "execute_result"
    }
   ],
   "source": [
    "my_frase[::2]#pula 2 em 2\n",
    "my_frase[::-1]#inverte\n",
    "'Hello World'[7]"
   ]
  },
  {
   "cell_type": "markdown",
   "id": "10124712",
   "metadata": {
    "id": "BaX6D664Ow_j"
   },
   "source": [
    "#Entrada de dados e Concatenando Strings"
   ]
  },
  {
   "cell_type": "code",
   "execution_count": null,
   "id": "b26607c9",
   "metadata": {
    "id": "yUvWtHSvOv_m"
   },
   "outputs": [],
   "source": [
    "fruit=input(\"nome da fruta :\")\n",
    "index = 0\n",
    "while index < len(fruit):\n",
    " letter = fruit[index]\n",
    " print (letter)\n",
    " index = index + 1"
   ]
  },
  {
   "cell_type": "code",
   "execution_count": null,
   "id": "33b9d6ea",
   "metadata": {
    "id": "R1s0L-wuO0Tv"
   },
   "outputs": [],
   "source": [
    "#alem disso podemos saber o tamanho desse string,qtd de letras\n",
    "print(len(fruit)) #banana=6\n",
    "#vem a ser util qunado desejamos limitar o numero de letras para ser utilizado pelo usuario\n",
    "#por ex em um formulario 50 letras pra um nome pode ser um absurdo"
   ]
  },
  {
   "cell_type": "code",
   "execution_count": null,
   "id": "2cd604d8",
   "metadata": {
    "colab": {
     "base_uri": "https://localhost:8080/"
    },
    "id": "rpFXVPfA0A4Z",
    "outputId": "4f21da2f-1e94-44f0-8b2d-f2274106ef97"
   },
   "outputs": [
    {
     "data": {
      "text/plain": [
       "2"
      ]
     },
     "execution_count": 1,
     "metadata": {},
     "output_type": "execute_result"
    }
   ],
   "source": [
    "comida=\"banana\"\n",
    "comida.find(\"na\")\n",
    "#a posiçao que ele encontra o inicio do que esta sendo prourado"
   ]
  },
  {
   "cell_type": "markdown",
   "id": "f575961e",
   "metadata": {
    "id": "eYUBF1hfGtlj"
   },
   "source": [
    "os comentarios podem ser feitos utilizando # no caso de uma unica linha e\n",
    "\"\"\"\n",
    "algo\n",
    "\"\"\""
   ]
  },
  {
   "cell_type": "code",
   "execution_count": null,
   "id": "6cd5b8db",
   "metadata": {
    "id": "13zvFHDrLp5I"
   },
   "outputs": [],
   "source": [
    "first_nm=input(\"o primeiro nome : \")\n",
    "last_nm=input(\"o sobrenome:\")\n",
    "msg= f'{first_nm}[ {last_nm} ]is a coder'\n",
    "print(msg)"
   ]
  },
  {
   "cell_type": "code",
   "execution_count": null,
   "id": "440349e5",
   "metadata": {
    "id": "4KXLQhDEl7QR"
   },
   "outputs": [],
   "source": [
    "insert=\"inserido aqui\"\n",
    "print(f'vamos colocar algo aqui {insert}')"
   ]
  },
  {
   "cell_type": "markdown",
   "id": "5314f721",
   "metadata": {
    "id": "EmXSBFn2zucK"
   },
   "source": [
    "###Print Formatting with Strings"
   ]
  },
  {
   "cell_type": "code",
   "execution_count": null,
   "id": "9ccdd458",
   "metadata": {
    "id": "5lUVxZm9KEIV"
   },
   "outputs": [],
   "source": [
    "print('vamos colocar algo aqui {}'.format(\"INSERIDO AQUI\"))"
   ]
  },
  {
   "cell_type": "code",
   "execution_count": null,
   "id": "174afdd8",
   "metadata": {
    "id": "k_8rcidmM_4W"
   },
   "outputs": [],
   "source": [
    "print(\"o {0} {2} {1}\".format('gato','correu','preto'))"
   ]
  },
  {
   "cell_type": "code",
   "execution_count": null,
   "id": "f935da6b",
   "metadata": {
    "id": "spz7OKYlNfI2"
   },
   "outputs": [],
   "source": [
    "print(\"o {g} {p} {c}\".format(g='gato',c='correu',p='preto'))"
   ]
  },
  {
   "cell_type": "code",
   "execution_count": null,
   "id": "c35306f4",
   "metadata": {
    "id": "KN6a6XTT3Hky"
   },
   "outputs": [],
   "source": [
    "print('Python rules{}'.format('!'))"
   ]
  },
  {
   "cell_type": "code",
   "execution_count": null,
   "id": "978050e8",
   "metadata": {
    "id": "yHEktsdh4Rdv"
   },
   "outputs": [],
   "source": [
    "planet = \"Earth\"\n",
    "diameter = 12742\n",
    "print(\"The diameter of {0}is {1} kilometer\".format(planet,diameter))"
   ]
  },
  {
   "cell_type": "markdown",
   "id": "48ab064f",
   "metadata": {
    "id": "7-O31H1_OaA-"
   },
   "source": [
    "#como transforma um string em uma lista"
   ]
  },
  {
   "cell_type": "code",
   "execution_count": null,
   "id": "267ad0cd",
   "metadata": {
    "colab": {
     "base_uri": "https://localhost:8080/"
    },
    "id": "MVr4lxEPOrHJ",
    "outputId": "c8247b5e-7e60-47ff-f7a4-b2f4c260ce6e"
   },
   "outputs": [
    {
     "name": "stdout",
     "output_type": "stream",
     "text": [
      "['Geeks', 'for', 'Geeks']\n"
     ]
    }
   ],
   "source": [
    "#utilizaçao de funçao\n",
    "def Convert(string):\n",
    "    li = list(string.split(\" \"))\n",
    "    return li\n",
    "\n",
    "\n",
    "# Driver code\n",
    "str1 = \"Geeks for Geeks\"\n",
    "print(Convert(str1))"
   ]
  },
  {
   "cell_type": "markdown",
   "id": "09f7b68a",
   "metadata": {
    "id": "O6aDnTOhFzIW"
   },
   "source": [
    "#Operaçoes Matematicas em Python\n"
   ]
  },
  {
   "cell_type": "markdown",
   "id": "c2c76fe8",
   "metadata": {
    "id": "ifPTal_WJMfA"
   },
   "source": [
    "as regras que usamos na matematica,continuam aqui,\n",
    "entao as operaçoes contendo o parentese forçam ser feitos primeiro,a exponenciaçao vem antes da multiplicaçao e da divissao que vem antes da soma e da divisao\n",
    "outra coisa este tipo de operaçao é\n",
    "'2'-'1' 'eggs'/'easy' 'third'*'a charm'\n",
    "nao é permitido por serem strings"
   ]
  },
  {
   "cell_type": "code",
   "execution_count": null,
   "id": "c81d0b89",
   "metadata": {
    "colab": {
     "base_uri": "https://localhost:8080/"
    },
    "id": "t-M0KxqgF06n",
    "outputId": "26fe4b83-d7e3-4f0b-eb10-1cc146a99a90"
   },
   "outputs": [
    {
     "name": "stdout",
     "output_type": "stream",
     "text": [
      "8\n",
      "6\n"
     ]
    }
   ],
   "source": [
    "#exponenciaçao\n",
    "a=2**3\n",
    "#multiplicaçao\n",
    "b=2*3\n",
    "print(a)\n",
    "print(b)"
   ]
  },
  {
   "cell_type": "code",
   "execution_count": null,
   "id": "73b6434d",
   "metadata": {
    "colab": {
     "base_uri": "https://localhost:8080/"
    },
    "id": "3eZaMHoa_Iyg",
    "outputId": "95e30734-be0c-431d-e5e8-a72367f5eeab"
   },
   "outputs": [
    {
     "name": "stdout",
     "output_type": "stream",
     "text": [
      "21.5\n",
      "5\n"
     ]
    }
   ],
   "source": [
    "#esta divisao resulta  em um valor do tipo float\n",
    "c=43/2\n",
    "#esta divisao inteira(QUOCIENTE) que resulta em um valor do tipo  integer\n",
    "e=15//3\n",
    "print(c)\n",
    "print(e)"
   ]
  },
  {
   "cell_type": "code",
   "execution_count": null,
   "id": "58018dcd",
   "metadata": {
    "colab": {
     "base_uri": "https://localhost:8080/"
    },
    "id": "Uz3xsPX-ximN",
    "outputId": "2c9edd49-7979-4509-95a6-511af1e37d11"
   },
   "outputs": [
    {
     "name": "stdout",
     "output_type": "stream",
     "text": [
      "0\n"
     ]
    }
   ],
   "source": [
    "#modulo de um valor utilizado para receber o resto de uma operaçao matematica (RESTO)\n",
    "d=30%2\n",
    "print(d)"
   ]
  },
  {
   "cell_type": "code",
   "execution_count": null,
   "id": "2edc21ef",
   "metadata": {
    "colab": {
     "base_uri": "https://localhost:8080/"
    },
    "id": "mCMvWN8OQo6E",
    "outputId": "30c7a31b-eea7-40bd-8a62-cab6f21e163f"
   },
   "outputs": [
    {
     "data": {
      "text/plain": [
       "20"
      ]
     },
     "execution_count": 26,
     "metadata": {},
     "output_type": "execute_result"
    }
   ],
   "source": [
    "#valor absoluto em python\n",
    "abs(80-100)"
   ]
  },
  {
   "cell_type": "code",
   "execution_count": null,
   "id": "2cf6bcb1",
   "metadata": {
    "colab": {
     "base_uri": "https://localhost:8080/"
    },
    "id": "JTPeegcNhTio",
    "outputId": "359b046e-15c2-436d-d8b6-f4857927396a"
   },
   "outputs": [
    {
     "name": "stdout",
     "output_type": "stream",
     "text": [
      "4.0\n"
     ]
    }
   ],
   "source": [
    "import math\n",
    "#raiz\n",
    "print(math.sqrt(16))"
   ]
  },
  {
   "cell_type": "code",
   "execution_count": null,
   "id": "0b9b09dc",
   "metadata": {
    "id": "NRKb3cvG2_2s"
   },
   "outputs": [],
   "source": [
    "#Escreva um programa que resolva uma equação de segundo grau.\n",
    "#nao sabemos o valor de x nem de delta\n",
    "A=int(input(\"Digite um numero inteiro  Para varial   A: \"))\n",
    "B=int(input(\"Digite um numero inteiro  Para variavel B: \"))\n",
    "C=int(input(\"Digite um numero inteiro  Para variavel C: \"))\n",
    "delta=(B*B) - (4*A*C)\n",
    "print(delta)\n",
    "x1=-(B-delta)/(2*A)\n",
    "x2=-(B+delta)/(2*A)\n",
    "print(\"o valor de   x1 é \"+str(x1)+\" o valor de x2 é \"+str(x2))"
   ]
  },
  {
   "cell_type": "code",
   "execution_count": null,
   "id": "052135f7",
   "metadata": {
    "colab": {
     "base_uri": "https://localhost:8080/",
     "height": 135
    },
    "id": "biyTsRl6zsrG",
    "outputId": "26e89539-1af0-46f3-b1ba-10741e7c6e4a"
   },
   "outputs": [
    {
     "ename": "SyntaxError",
     "evalue": "ignored",
     "output_type": "error",
     "traceback": [
      "\u001b[0;36m  File \u001b[0;32m\"<ipython-input-1-10a3ca66d5d6>\"\u001b[0;36m, line \u001b[0;32m1\u001b[0m\n\u001b[0;31m    0=0.0\u001b[0m\n\u001b[0m         ^\u001b[0m\n\u001b[0;31mSyntaxError\u001b[0m\u001b[0;31m:\u001b[0m can't assign to literal\n"
     ]
    }
   ],
   "source": [
    "0=0.0\n",
    "#encontrar o erro isso é uma atribuiçao"
   ]
  },
  {
   "cell_type": "code",
   "execution_count": null,
   "id": "578c8c5a",
   "metadata": {
    "colab": {
     "base_uri": "https://localhost:8080/"
    },
    "id": "rjtVw5rizoet",
    "outputId": "a0f77826-9ce4-45fe-842e-a028fb517236"
   },
   "outputs": [
    {
     "data": {
      "text/plain": [
       "True"
      ]
     },
     "execution_count": 2,
     "metadata": {},
     "output_type": "execute_result"
    }
   ],
   "source": [
    "0 == 0.0"
   ]
  },
  {
   "cell_type": "code",
   "execution_count": null,
   "id": "0d1f1e95",
   "metadata": {
    "id": "SAczWdV3uy0P"
   },
   "outputs": [],
   "source": [
    "#nesse problemas queremos saber quantos litros de agua vao ser carregadados por cada pessoa se\n",
    "#o caminhao com agua tem 320.5 litros de agua se temos 60 pessoas\n",
    "agua=320.5\n",
    "pessoas=60\n",
    "print(\"cada pessoa vai carregar a quantidade de \"+str(agua/pessoas)+\"de litros de agua\")\n"
   ]
  },
  {
   "cell_type": "code",
   "execution_count": null,
   "id": "dabd12f1",
   "metadata": {
    "colab": {
     "base_uri": "https://localhost:8080/"
    },
    "id": "7a0SvCqQ0Jvj",
    "outputId": "74d1774a-e8fe-456a-e93c-03a938651c0f"
   },
   "outputs": [
    {
     "name": "stdout",
     "output_type": "stream",
     "text": [
      "9\n"
     ]
    }
   ],
   "source": [
    "#Temos tambem o pow,max,min,abs entre outros\n",
    "#potencia\n",
    "elevar=pow(3,2)# 3^2 = 9\n",
    "print(elevar)"
   ]
  },
  {
   "cell_type": "markdown",
   "id": "db73dd40",
   "metadata": {
    "id": "QyuPhr8rAaS-"
   },
   "source": []
  },
  {
   "cell_type": "code",
   "execution_count": null,
   "id": "2f41ef25",
   "metadata": {
    "colab": {
     "base_uri": "https://localhost:8080/"
    },
    "id": "ZH_nMhZyQniM",
    "outputId": "9423fb0b-b8a2-4a65-95fd-b92563caff76"
   },
   "outputs": [
    {
     "data": {
      "text/plain": [
       "2401"
      ]
     },
     "execution_count": 3,
     "metadata": {},
     "output_type": "execute_result"
    }
   ],
   "source": [
    "pow(7,4)"
   ]
  },
  {
   "cell_type": "code",
   "execution_count": null,
   "id": "00dd0371",
   "metadata": {
    "id": "nczSi1Lq1WZU"
   },
   "outputs": [],
   "source": [
    "#maximo e minimo entre valores\n",
    "maior_entre=max(4,6)#o maior entre os valores 4< 6 =6\n",
    "menor_entre=min(2,7)#o menor entre os dois valores 2<7 =2\n",
    "print(maior_entre)\n",
    "print(menor_entre)"
   ]
  },
  {
   "cell_type": "code",
   "execution_count": null,
   "id": "dcdd89c4",
   "metadata": {
    "id": "Xp7lp-HD1cmW"
   },
   "outputs": [],
   "source": [
    "#arrendodamento  pra baixo ou pra cima\n",
    "arrendodado_cima=round(3.7)\n",
    "arredondado_baixo=round(3.2)\n",
    "print(arrendodado_cima)\n",
    "print(arredondado_baixo)"
   ]
  },
  {
   "cell_type": "code",
   "execution_count": null,
   "id": "990253d2",
   "metadata": {
    "id": "K7NQbyz7JhLC"
   },
   "outputs": [],
   "source": [
    "import decimal\n",
    "d=decimal.Decimal(\"39.54484700000000\")\n",
    "round(d,2)"
   ]
  },
  {
   "cell_type": "code",
   "execution_count": null,
   "id": "4d47da4d",
   "metadata": {
    "id": "5Nh9A8x3-8xq"
   },
   "outputs": [],
   "source": [
    "#vamos ver um pouco mais sobre operaçoes abaixo\n",
    "\n",
    "x=3#atribuiçao\n",
    "y= x + 3\n",
    "print(\"o valor de y é:\"+str(y))#3+3=6\n",
    "\n",
    "y+= 3\n",
    "print(\"o valor de y + 3 é igual a :\"+str(y))#6+3=9\n",
    "\n",
    "y-= 4\n",
    "print(\"o valor de y - 4 é igual a :\"+str(y))#9-4=5\n",
    "\n",
    "y*=2\n",
    "print(\"o valor de y vezes 2 é igual a :\"+str(y))#5*2=10\n"
   ]
  },
  {
   "cell_type": "code",
   "execution_count": null,
   "id": "20ad2924",
   "metadata": {
    "colab": {
     "base_uri": "https://localhost:8080/"
    },
    "id": "4LLYJLFELiDc",
    "outputId": "f4596eed-b851-46f6-c226-b696497a2db9"
   },
   "outputs": [
    {
     "name": "stdout",
     "output_type": "stream",
     "text": [
      "Digite um numero inteiro : 5\n",
      "Digite outro numero inteiro: 2\n",
      "Soma: {} /n Subtraçao: {} /ndivisao: {}/n multiplicaçao: 7;\n"
     ]
    }
   ],
   "source": [
    "#alem disso podemos print dessa outra forma as seguintes operaçoes\n",
    "\n",
    "\n",
    "value_1=int(input(\"Digite um numero inteiro : \"))\n",
    "value_2=int(input(\"Digite outro numero inteiro: \"))\n",
    "somar= value_1 + value_2\n",
    "\n",
    "subtrair = value_1 - value_2\n",
    "\n",
    "dividir=value_1/value_2\n",
    "multiplicar=value_1*value_2\n",
    "\n",
    "resto=value_1%value_2\n",
    "print('Soma: {}  Subtraçao: {}  divisao: {}  multiplicaçao: {};'.format(somar,subtrair,dividir,multiplicar))\n"
   ]
  },
  {
   "cell_type": "code",
   "execution_count": null,
   "id": "487ca953",
   "metadata": {
    "colab": {
     "base_uri": "https://localhost:8080/"
    },
    "id": "AyBoilALh45h",
    "outputId": "22ca366d-e45a-4034-b56a-3bd4c83a634f"
   },
   "outputs": [
    {
     "name": "stdout",
     "output_type": "stream",
     "text": [
      "o resultado é 0.1287\n"
     ]
    }
   ],
   "source": [
    "result=100/777\n",
    "print(\"o resultado é {r:1.4f}\".format(r=result))"
   ]
  },
  {
   "cell_type": "markdown",
   "id": "0df3e33c",
   "metadata": {
    "id": "TRd1K0-F6n47"
   },
   "source": [
    "##Conversão de valores  numericos"
   ]
  },
  {
   "cell_type": "code",
   "execution_count": null,
   "id": "d0d152f8",
   "metadata": {
    "colab": {
     "base_uri": "https://localhost:8080/"
    },
    "id": "h_REiOkI6y8a",
    "outputId": "3f54020c-268c-4d59-c274-70b108f599d8"
   },
   "outputs": [
    {
     "data": {
      "text/plain": [
       "9.0"
      ]
     },
     "execution_count": 2,
     "metadata": {},
     "output_type": "execute_result"
    }
   ],
   "source": [
    "float(9)"
   ]
  },
  {
   "cell_type": "code",
   "execution_count": null,
   "id": "f889974d",
   "metadata": {
    "colab": {
     "base_uri": "https://localhost:8080/"
    },
    "id": "wyci6w1l6ysN",
    "outputId": "e96d3506-f1a8-48bc-8cc5-e411fc8eefd1"
   },
   "outputs": [
    {
     "data": {
      "text/plain": [
       "6"
      ]
     },
     "execution_count": 3,
     "metadata": {},
     "output_type": "execute_result"
    }
   ],
   "source": [
    "int(6.0)"
   ]
  },
  {
   "cell_type": "code",
   "execution_count": null,
   "id": "2bf17d0c",
   "metadata": {
    "colab": {
     "base_uri": "https://localhost:8080/"
    },
    "id": "zMooPScF64EC",
    "outputId": "e38110f4-4d74-45b7-ed5a-728d3a8562f6"
   },
   "outputs": [
    {
     "data": {
      "text/plain": [
       "6"
      ]
     },
     "execution_count": 4,
     "metadata": {},
     "output_type": "execute_result"
    }
   ],
   "source": [
    "int(6.5)"
   ]
  },
  {
   "cell_type": "markdown",
   "id": "84079a44",
   "metadata": {
    "id": "8Ldr6G3sCIZ2"
   },
   "source": [
    "#Operador relacional\n",
    "\n",
    "\n",
    "---\n",
    "\n",
    "\n",
    "##Operador relacional\n",
    "##== se iquais\n",
    "##!= se diferentes\n",
    "##<  menor,> maior ,<=  menor iqual,>= maior iqual"
   ]
  },
  {
   "cell_type": "code",
   "execution_count": null,
   "id": "5c48074b",
   "metadata": {
    "colab": {
     "base_uri": "https://localhost:8080/"
    },
    "id": "GJWJQqFewzJ1",
    "outputId": "079b654e-8c1c-4530-de3f-45053ee73c3f"
   },
   "outputs": [
    {
     "name": "stdout",
     "output_type": "stream",
     "text": [
      "Informe a primeira atividade avaliativa do aluno/a :-1\n",
      "Informe a segunda atividade avaliativa do aluno/a :1\n",
      "valor inadequado\n"
     ]
    }
   ],
   "source": [
    "#atividade\n",
    "#Faça um programa que receba duas notas digitadas pelo usuário.\n",
    "# Se a nota for maior ou igual a seis, escreva aprovado, senão escreva reprovado.\n",
    "QG_1=int(input(\"Informe a primeira atividade avaliativa do aluno/a :\"))\n",
    "QG_2=int(input(\"Informe a segunda atividade avaliativa do aluno/a :\"))\n",
    "if((QG_1>10 or QG_1<0) or (QG_2>10 or QG_2<0)):\n",
    "  print(\"valor inadequado\")\n",
    "else:\n",
    "  media= (QG_1+QG_2)/2\n",
    "  if(media>=6):\n",
    "    print(\"aluno aprovado \")\n",
    "  else:\n",
    "    print(\"aluno reprovador\")"
   ]
  }
 ],
 "metadata": {
  "language_info": {
   "name": "python"
  }
 },
 "nbformat": 4,
 "nbformat_minor": 5
}
