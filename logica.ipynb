{
  "nbformat": 4,
  "nbformat_minor": 0,
  "metadata": {
    "colab": {
      "provenance": [],
      "authorship_tag": "ABX9TyPxQVCxifyBz+wInZR96TN4",
      "include_colab_link": true
    },
    "kernelspec": {
      "name": "python3",
      "display_name": "Python 3"
    },
    "language_info": {
      "name": "python"
    }
  },
  "cells": [
    {
      "cell_type": "markdown",
      "metadata": {
        "id": "view-in-github",
        "colab_type": "text"
      },
      "source": [
        "<a href=\"https://colab.research.google.com/github/metsumesquita/Python_resumo/blob/main/logica.ipynb\" target=\"_parent\"><img src=\"https://colab.research.google.com/assets/colab-badge.svg\" alt=\"Open In Colab\"/></a>"
      ]
    },
    {
      "cell_type": "code",
      "source": [
        "def fatorial(n):\n",
        "    if n == 0:\n",
        "        return 1\n",
        "    else:\n",
        "        return n * fatorial(n - 1)\n",
        "\n",
        "# Teste\n",
        "print(f\"Fatorial de 5: {fatorial(5)}\")"
      ],
      "metadata": {
        "id": "6Rt6gbX7955I"
      },
      "execution_count": null,
      "outputs": []
    },
    {
      "cell_type": "code",
      "source": [
        "lista = [5, 10, 20, 15, 30]\n",
        "\n",
        "\n",
        "def maior_diferenca(lista):\n",
        "    maior = 0\n",
        "    menor = 0\n",
        "    lista.sort()\n",
        "    maior = lista[len(lista)-1]\n",
        "    menor = lista[0]\n",
        "    return maior-menor\n",
        "\n",
        "print(f'o valor da diferença ente o maior e o menor numero da lista é {maior_diferenca(lista)}')"
      ],
      "metadata": {
        "colab": {
          "base_uri": "https://localhost:8080/"
        },
        "id": "ceVEYxG3FonF",
        "outputId": "148dd306-b58f-4edb-96c5-e96c9033dbf0"
      },
      "execution_count": null,
      "outputs": [
        {
          "output_type": "stream",
          "name": "stdout",
          "text": [
            "o valor da diferença ente o maior e o menor numero da lsita é 25\n"
          ]
        }
      ]
    },
    {
      "cell_type": "code",
      "source": [
        "import math\n",
        "#criar um triangulo,conhecendo inicialmente 2 lados , encontrando o valor do lado da hipotenusa,posteriomente verificando se é possivel criar um triangulo , levando em conta a regra de criar um triangulo\n",
        "#posteriomente verificar se é um triangulo equilatero,isoceles ou escaleno\n",
        "def calcular_lado_3(lado_1,lado_2):\n",
        " return math.sqrt(((lado_1**2)+(lado_2**2)))\n",
        "\n",
        "\n",
        "def regra_triangulo(lado_1,lado_2,lado_3):\n",
        " return (\n",
        "        lado_1 + lado_2 > lado_3 and\n",
        "        lado_1 + lado_3 > lado_2 and\n",
        "        lado_2 + lado_3 > lado_1\n",
        "    )\n",
        "\n",
        "def tipo_triangulo(lado_1,lado_2,lado_3):\n",
        "    if lado_1 == lado_2 == lado_3:\n",
        "        return 'equilátero'\n",
        "    elif lado_1 == lado_2 or lado_2 == lado_3 or lado_1 == lado_3:\n",
        "        return 'isósceles'\n",
        "    else:\n",
        "        return 'escaleno'\n",
        "\n",
        "\n",
        "lado_p=int(input(\"informe o valor do primeiro lado do triangulo: \"))\n",
        "lado_s=int(input(\"informe o valor do segundo lado do triangulo: \"))\n",
        "\n",
        "lado_t=calcular_lado_3(lado_p,lado_s)\n",
        "print(f'o valor do terceiro lado do triangulo é : {lado_t}')\n",
        "print(f\"É possível formar um triângulo? {regra_triangulo(lado_s,lado_p,lado_t)}\")\n",
        "print(f\"O tipo do triângulo é: {tipo_triangulo(lado_p, lado_s, lado_t)}\")"
      ],
      "metadata": {
        "colab": {
          "base_uri": "https://localhost:8080/"
        },
        "id": "t07XuzB2IVWT",
        "outputId": "9fea6f56-16b3-4669-cc05-77be12948b0a"
      },
      "execution_count": null,
      "outputs": [
        {
          "output_type": "stream",
          "name": "stdout",
          "text": [
            "informe o valor do primeiro lado do triangulo: 3\n",
            "informe o valor do segundo lado do triangulo: 4\n",
            "o valor do terceiro lado do triangulo é : 5.0\n",
            "É possível formar um triângulo? True\n",
            "O tipo do triângulo é: escaleno\n"
          ]
        }
      ]
    },
    {
      "cell_type": "code",
      "source": [
        "#valor total da conta\n",
        "#diferentes porccentages de tip para o trabalhador\n",
        "#se a conta sera divida entre pessoas\n",
        "#se sim , quantas pessoas\n",
        "#devolver o novo valor para ser cobrado ao cliente/usuario\n",
        "\n",
        "\n",
        "def tip_calculator(total_bill,porcentagem_tip):\n",
        "  tip = total_bill * (porcentagem_tip/100)\n",
        "  new_total_bill = total_bill + tip\n",
        "  return new_total_bill\n",
        "\n",
        "def pay_per_person(new_total_bill,people):\n",
        "  return new_total_bill/people\n",
        "\n",
        "\n",
        "#main\n",
        "\n",
        "total_bill=float(input(\"what was the total bill? $\"))\n",
        "porcentagem_tip=int(input(\"what percentage tip would you like to give? 5, 10, 12 or 15? \"))\n",
        "people=int(input(\"how many people to split the bill? \"))\n",
        "total_payment_new=tip_calculator(total_bill,porcentagem_tip)\n",
        "payment_per_person = pay_per_person(total_payment_new,people)\n",
        "\n",
        "print(f'the total bill was ${total_bill:.2f}. After adding the tip, the total bill is updated to ${total_payment_new:.2f}.')\n",
        "print(f'Each person should pay ${payment_per_person:.2f}.')"
      ],
      "metadata": {
        "id": "Tc_6Rhut8Vcm"
      },
      "execution_count": null,
      "outputs": []
    },
    {
      "cell_type": "code",
      "source": [
        "#aqui temos uma lista de numeros\n",
        "#e queremos apenas os numeros pares\n",
        "x = [1, 2, 3,4,5,6,7,8,9,10]\n",
        "\n",
        "#solution :\n",
        "y = [ i for i in x if i % 2 == 0]\n",
        "\n",
        "print(\"esses numeros são pares\"+str(y))"
      ],
      "metadata": {
        "id": "IRFHJZBt8ftz"
      },
      "execution_count": null,
      "outputs": []
    },
    {
      "cell_type": "code",
      "source": [
        "if __name__ == '__main__':\n",
        "    n = int(input().strip())\n",
        "\n",
        "    if n % 2 == 1:\n",
        "        print(\"Weird\")\n",
        "    elif n in range(2, 6):\n",
        "        print(\"Not Weird\")\n",
        "    elif n in range(6, 21):\n",
        "        print(\"Weird\")\n",
        "    else:\n",
        "        print(\"Not Weird\")\n"
      ],
      "metadata": {
        "id": "FekYWK9-GOFE"
      },
      "execution_count": null,
      "outputs": []
    },
    {
      "cell_type": "code",
      "source": [
        "import math\n",
        "# mean\n",
        "beans_values = [10, 8, 12, 15, 17, 6, 9]\n",
        "\n",
        "mean = sum(beans_values) / len(beans_values)\n",
        "\n",
        "soma = 0\n",
        "\n",
        "for valor_atual in beans_values:\n",
        "    diferença = valor_atual - mean\n",
        "    soma += diferença ** 2\n",
        "\n",
        "desvio_padrao = math.sqrt(soma / len(beans_values))\n",
        "\n",
        "print(\"A média é {r:.2f}\".format(r=mean))\n",
        "print(\"O desvio padrão populacional é {r:.2f}\".format(r=desvio_padrao))\n"
      ],
      "metadata": {
        "id": "SYmnFYwSnUp2"
      },
      "execution_count": null,
      "outputs": []
    },
    {
      "cell_type": "code",
      "source": [
        "a = 16\n",
        "b = 25\n",
        "c = 27\n",
        "if a > b:\n",
        "    if b > c:\n",
        "        print (\"a is greater than b and b is greater than c\")\n",
        "    else:\n",
        "        print (\"a is greater than b and less than c\")\n",
        "elif a == b:\n",
        "    print (\"a is equal to b\")\n",
        "else:\n",
        "    print (\"a is less than b\")"
      ],
      "metadata": {
        "id": "8zruETuX8nyb"
      },
      "execution_count": null,
      "outputs": []
    },
    {
      "cell_type": "code",
      "source": [
        "def conta_vogais(texto):\n",
        "    # Conjunto de vogais (minúsculas e maiúsculas não importam, pois usaremos lower())\n",
        "    vogais = {\"a\", \"e\", \"i\", \"o\", \"u\"}\n",
        "\n",
        "    # Transformar em minúsculas\n",
        "    texto = texto.lower()\n",
        "\n",
        "    contador = 0\n",
        "    for elemento in texto:\n",
        "        if elemento in vogais:\n",
        "            contador += 1\n",
        "\n",
        "    return contador\n",
        "\n",
        "\n",
        "# Solicitamos ao usuário que insira uma string\n",
        "texto = input(\"Digite uma frase: \")\n",
        "\n",
        "# Chamamos a função conta_vogais e exibimos o resultado\n",
        "resultado = conta_vogais(texto)\n",
        "print(f\"O número de vogais na string '{texto}' é: {resultado}\")"
      ],
      "metadata": {
        "id": "DDHRuJPmIZlf"
      },
      "execution_count": null,
      "outputs": []
    },
    {
      "cell_type": "code",
      "source": [
        "Weight=input('informe o peso : ')\n",
        "unit=input('utilizar grams (K)g ou pounds (L)bs:')\n",
        "if unit.upper()==\"L\":\n",
        "  form=int(Weight)*0.45\n",
        "  print(\"o valor em Kg é\"+str(form))\n",
        "elif unit.upper()==\"K\":\n",
        "  form=int(Weight)/0.45\n",
        "  print(\"o valor em Lbs/pounds é :\"+str(form))\n",
        "else:\n",
        "  print(\"esta errada o tipo da medida escolhida\")"
      ],
      "metadata": {
        "id": "NAXm-nDs8taL"
      },
      "execution_count": null,
      "outputs": []
    },
    {
      "cell_type": "code",
      "source": [
        "The included code stub will read an integer, , from STDIN.\n",
        "\n",
        "Without using any string methods, try to print the following:\n",
        "\n",
        "\n",
        "Note that \"\" represents the consecutive values in between.\n",
        "\n",
        "Example\n",
        "\n",
        "Print the string .\n",
        "\n",
        "Input Format\n",
        "\n",
        "The first line contains an integer .\n",
        "\n",
        "Constraints\n",
        "\n",
        "\n",
        "Output Format\n",
        "\n",
        "Print the list of integers from  through  as a string, without spaces.\n",
        "\n",
        "Sample Input 0\n",
        "def este(n):\n",
        "    if n < 1:\n",
        "        return []\n",
        "    return [n] + este(n - 1)\n",
        "\n",
        "if __name__ == '__main__':\n",
        "    n = int(input())\n",
        "    if 1 <= n <= 150:\n",
        "        lista = este(n)\n",
        "        lista_sorted = sorted(lista)\n",
        "        string_list = [str(x) for x in lista_sorted]\n",
        "        result_string = \"\".join(string_list)\n",
        "        print(result_string)\n",
        "    else:\n",
        "        print(\"Please enter a number between 1 and 150.\")\n"
      ],
      "metadata": {
        "id": "JmKAKbIbha0j"
      },
      "execution_count": null,
      "outputs": []
    },
    {
      "cell_type": "code",
      "source": [
        "#pizza order\n",
        "print(\"Welcome to Mario's pizza Deliveries!\")\n",
        "\n",
        "size = input(\"What size pizza do you want? S, M, or L \")\n",
        "add_pepperoni = input(\"Do you want pepperoni? Y or N \")\n",
        "extra_cheese = input(\"Do you want extra cheese? Y or N \")\n",
        "with_onion = input(\"Do you want extra onion? Y or N \")\n",
        "with_mushrooms = input(\"Do you want extra mushrooms? Y or N \")\n",
        "cans_of_soda = input(\"Do you want a can of soda? Y or N \")\n",
        "\n",
        "Qtd_cans_of_soda = 0\n",
        "if cans_of_soda == 'Y':\n",
        "    Qtd_cans_of_soda = int(input(\"How many cans of soda do you want? \"))\n",
        "\n",
        "\n",
        "def pizza_size(size):\n",
        "    bill = 0\n",
        "    if size == 'S':\n",
        "        bill = 15\n",
        "    elif size == 'M':\n",
        "        bill = 20\n",
        "    elif size == 'L':\n",
        "        bill = 25\n",
        "    return bill\n",
        "\n",
        "\n",
        "bill = pizza_size(size)\n",
        "value_soda = 5.50 * Qtd_cans_of_soda\n",
        "bill = bill + value_soda\n",
        "\n",
        "\n",
        "def extra_items(add_pepperoni, extra_cheese, with_onion, with_mushrooms, bill):\n",
        "    if add_pepperoni == 'Y':\n",
        "        bill = bill + 2\n",
        "    if extra_cheese == 'Y':\n",
        "        bill = bill + 4\n",
        "    if with_onion == 'Y':\n",
        "        bill = bill + 2\n",
        "    if with_mushrooms == 'Y':\n",
        "        bill = bill + 2\n",
        "    return bill\n",
        "\n",
        "\n",
        "new_bill = extra_items(add_pepperoni, extra_cheese, with_onion, with_mushrooms, bill)\n",
        "\n",
        "print(f\"Your final bill is: ${new_bill:.2f}\")\n",
        "\n"
      ],
      "metadata": {
        "id": "-vXYFRimi2jl"
      },
      "execution_count": null,
      "outputs": []
    },
    {
      "cell_type": "code",
      "source": [
        "#Faça um programa que receba duas notas digitadas pelo usuário.\n",
        "# Se a nota for maior ou igual a seis, escreva aprovado, senão escreva reprovado.\n",
        "QG_1=int(input(\"Informe a primeira atividade avaliativa do aluno/a\"))\n",
        "QG_2=int(input(\"Informe a segunda atividade avaliativa do aluno/a\"))\n",
        "if((QG_1>10 or QG_1<0) or (QG_2>10 or QG_2<0)):\n",
        "  print(\"valor inadequado\")\n",
        "else:\n",
        "  media= (QG_1+QG_2)/2\n",
        "  if(media>=6):\n",
        "    print(\"aluno aprovado \")\n",
        "  else:\n",
        "    print(\"aluno reprovador\")"
      ],
      "metadata": {
        "id": "NYSnlumC8xNA"
      },
      "execution_count": null,
      "outputs": []
    },
    {
      "cell_type": "code",
      "source": [
        "def decrecente(n):\n",
        "    if n < 0:\n",
        "        return []\n",
        "    return [n] + decrecente(n - 1)\n",
        "\n",
        "if __name__ == '__main__':\n",
        "    n = int(input(\"Digite um número: \"))\n",
        "    lista = decrecente(n)\n",
        "    print(sorted(lista))  # Output: [0, 1, 2, ..., n]\n",
        "\n"
      ],
      "metadata": {
        "colab": {
          "base_uri": "https://localhost:8080/"
        },
        "id": "ajcnPdOLZVWz",
        "outputId": "52617057-dc20-4f9f-cd0a-3c436ccf77ca"
      },
      "execution_count": null,
      "outputs": [
        {
          "output_type": "stream",
          "name": "stdout",
          "text": [
            "5\n",
            "[0, 1, 2, 3, 4, 5]\n"
          ]
        }
      ]
    },
    {
      "cell_type": "code",
      "source": [
        "if __name__ == '__main__':\n",
        "    n = int(input())\n",
        "    lista = []\n",
        "\n",
        "    if 1 <= n <= 20:\n",
        "        for x in range(n):\n",
        "            lista.append(x)\n",
        "\n",
        "        for i in lista:\n",
        "            print(i * i)\n",
        "    else:\n",
        "        print(\"Please enter a number between 1 and 20.\")"
      ],
      "metadata": {
        "id": "m8i-GhPoQHWl"
      },
      "execution_count": null,
      "outputs": []
    },
    {
      "cell_type": "code",
      "source": [
        "def verificador_ano_bissexto():\n",
        "    ano = int(input(\"Digite um ano: \"))\n",
        "\n",
        "    if (ano % 4 == 0 and ano % 100 != 0) or (ano % 400 == 0):\n",
        "        print(\"SIM\")\n",
        "        #leap\n",
        "    else:\n",
        "        print(\"NÃO\")\n",
        "\n",
        "verificador_ano_bissexto()\n"
      ],
      "metadata": {
        "id": "OyjADJSH80a4"
      },
      "execution_count": null,
      "outputs": []
    },
    {
      "cell_type": "code",
      "source": [
        "def soma(*args):\n",
        "    resultado = 0\n",
        "    for numero  in args:\n",
        "        resultado += numero\n",
        "    return resultado\n",
        "\n",
        "\n",
        "def main():\n",
        "    print(soma(4,7,11))\n",
        "\n",
        "    print(soma(8,4,1))\n",
        "\n",
        "    print(soma(4,2))\n",
        "\n",
        "    print(soma(2,2,5))\n",
        "print(main())"
      ],
      "metadata": {
        "id": "UNEWN_jP9MzO"
      },
      "execution_count": null,
      "outputs": []
    }
  ]
}