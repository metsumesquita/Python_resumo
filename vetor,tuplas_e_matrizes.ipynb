{
  "nbformat": 4,
  "nbformat_minor": 0,
  "metadata": {
    "colab": {
      "provenance": [],
      "include_colab_link": true
    },
    "kernelspec": {
      "name": "python3",
      "display_name": "Python 3"
    },
    "language_info": {
      "name": "python"
    }
  },
  "cells": [
    {
      "cell_type": "markdown",
      "metadata": {
        "id": "view-in-github",
        "colab_type": "text"
      },
      "source": [
        "<a href=\"https://colab.research.google.com/github/metsumesquita/Python_resumo/blob/main/vetor%2Ctuplas_e_matrizes.ipynb\" target=\"_parent\"><img src=\"https://colab.research.google.com/assets/colab-badge.svg\" alt=\"Open In Colab\"/></a>"
      ]
    },
    {
      "cell_type": "markdown",
      "source": [
        "#Vetores\n",
        "[*array*](https://numpy.org/doc/stable/user/basics.creation.html)\n",
        "\n",
        "[index](https://thispointer.com/find-the-index-of-a-value-in-numpy-array/)\n",
        "\n",
        "o array é mutavel e seus items sao do mesmo tipo de dado sempre"
      ],
      "metadata": {
        "id": "PIiuNeNifMxA"
      }
    },
    {
      "cell_type": "code",
      "source": [
        "a = np.array([2, 3, 4, 5, 6,10,15, 45, 67, 34])"
      ],
      "metadata": {
        "id": "L5DrKxnSfLcc"
      },
      "execution_count": null,
      "outputs": []
    },
    {
      "cell_type": "code",
      "execution_count": null,
      "metadata": {
        "id": "y-KtUFaAdeTj"
      },
      "outputs": [],
      "source": [
        "a.size"
      ]
    },
    {
      "cell_type": "code",
      "source": [
        "result = np.where(a == 15)\n",
        "print('retorno do array e posiçao : ', result)\n",
        "print(\"retornando a possiçao onde o elemento de valor 15 é encontrato \", result[0], sep='\\n')"
      ],
      "metadata": {
        "id": "4nTFHlzshc8w"
      },
      "execution_count": null,
      "outputs": []
    },
    {
      "cell_type": "code",
      "source": [
        "#cria um vetor que cresce regularmente /\n",
        "np.arange(10)"
      ],
      "metadata": {
        "id": "FcxlOreThqGl"
      },
      "execution_count": null,
      "outputs": []
    },
    {
      "cell_type": "code",
      "source": [
        "#numpy.linspace criará arrays com um número especificado de elementos\n",
        "#e espaçado igualmente entre os valores inicial e final especificados.\n",
        "np.linspace(0., 8., 6)"
      ],
      "metadata": {
        "id": "6rJuXjYlhn24"
      },
      "execution_count": null,
      "outputs": []
    },
    {
      "cell_type": "code",
      "source": [
        "#array de duas dimensoes\n",
        "a2D = np.array([[1, 2], [3, 4]])"
      ],
      "metadata": {
        "id": "KmaajfG-hgh8"
      },
      "execution_count": null,
      "outputs": []
    },
    {
      "cell_type": "code",
      "source": [
        "#esse exemplo é uma matriz identidade\n",
        "#onde quando i=j sera igual a 1(linha coluna)\n",
        "np.eye(4, 4)"
      ],
      "metadata": {
        "id": "LpkjDwYmhg-h"
      },
      "execution_count": null,
      "outputs": []
    },
    {
      "cell_type": "code",
      "source": [
        "a = np.array([10,11,12,13,14,15,16,17,18,,19,20])\n",
        "print(arr)"
      ],
      "metadata": {
        "id": "Ya6jP9-5iPF5"
      },
      "execution_count": null,
      "outputs": []
    },
    {
      "cell_type": "code",
      "source": [
        "\n",
        "import numpy as np\n",
        "\n",
        "# create numpy array elements\n",
        "a = np.array([2, 3, 4, 5, 6, 45, 67, 34])\n",
        "\n",
        "# display element index where value = 45\n",
        "\n",
        "index_of_element = -1\n",
        "for i in range(a.size):\n",
        "    if a[i] == 45:\n",
        "        index_of_element = i\n",
        "        break\n",
        "\n",
        "if index_of_element != -1:\n",
        "    print(\"element index  : \", index_of_element)\n",
        "else:\n",
        "    print(\"The element not present\")"
      ],
      "metadata": {
        "id": "HmPVd-ZziWeT"
      },
      "execution_count": null,
      "outputs": []
    },
    {
      "cell_type": "code",
      "source": [
        "#podemos tranforma uma lista em um array\n",
        "list_number=[3,5,4,2,1,5,6,7,3]\n",
        "\n",
        "#aqui é feito um cast\n",
        "array_1d=np.array(list_number)\n",
        "type(arr)"
      ],
      "metadata": {
        "id": "0M1I8CcyIG5I"
      },
      "execution_count": null,
      "outputs": []
    },
    {
      "cell_type": "code",
      "source": [
        "def valores_faltantes(nums):\n",
        "    nums = sorted(set(nums))  # remove duplicatas e ordena\n",
        "    faltando = []\n",
        "    for i in range(nums[0], nums[-1]):\n",
        "        if i not in nums:\n",
        "            faltando.append(i)\n",
        "    return faltando\n",
        "lista = [10, 11, 13, 14, 16, 20]\n",
        "print(valores_faltantes(lista))"
      ],
      "metadata": {
        "colab": {
          "base_uri": "https://localhost:8080/"
        },
        "id": "DNRtlUW9qcSd",
        "outputId": "1bd544f7-df72-40c1-99fd-3cb73f326c44"
      },
      "execution_count": null,
      "outputs": [
        {
          "output_type": "stream",
          "name": "stdout",
          "text": [
            "[12, 15, 17, 18, 19]\n"
          ]
        }
      ]
    },
    {
      "cell_type": "markdown",
      "source": [
        "#Tuples ou tuplas\n",
        "\n",
        "\n",
        "---\n",
        "######Imutáveis: Uma vez criadas, as tuplas não podem ser alteradas. Isso significa que você não pode adicionar, remover ou modificar elementos dentro de uma tupla.\n",
        "######Tipos de Dados: Podem armazenar diferentes tipos de dados na mesma coleção (por exemplo, uma tupla pode conter um número, uma string e uma lista).\n",
        "#####Métodos: As tuplas têm menos métodos disponíveis em comparação com listas. Por exemplo, não têm métodos como append ou remove porque não podem ser modificadas.\n",
        "#####Troca de Valores: Um exemplo clássico de uso de tuplas é a troca de valores entre variáveis. Isso é feito de maneira elegante e simples com tuplas, assim: a, b = b, a."
      ],
      "metadata": {
        "id": "GgRwoD5Ymcp4"
      }
    },
    {
      "cell_type": "code",
      "source": [
        "a = [1, 4, 3]\n",
        "b = [3, 2, 2]\n",
        "\n",
        "def store_original_ids():\n",
        "    a = [1, 4, 3]\n",
        "    b = [3, 2, 2]\n",
        "\n",
        "store_original_ids()\n",
        "#aqui tempos um SWAP\n",
        "temp =b\n",
        "b=a\n",
        "a=temp\n",
        "#que tambem poderia ser resolvido assim\n",
        "\n",
        "##a, b = a, b\n",
        "\n",
        "def check():\n",
        "     if a==[3, 2, 2] and b ==[1, 4, 3] :\n",
        "            print('certo')\n",
        "\n",
        "check()"
      ],
      "metadata": {
        "id": "guIj7bIOilZa"
      },
      "execution_count": null,
      "outputs": []
    },
    {
      "cell_type": "code",
      "source": [
        "Estados = namedtuple('Estados', ['sigla', 'nome'])\n",
        "estado_pe = Estados('PE', 'Recife')\n",
        "estado_pe"
      ],
      "metadata": {
        "id": "PQ_Zz9aPmeYP"
      },
      "execution_count": null,
      "outputs": []
    },
    {
      "cell_type": "code",
      "source": [
        "Estados(sigla='PE', nome='recife')\n",
        "print(estado_pe.sigla)\n",
        "print(estado_pe.nome)"
      ],
      "metadata": {
        "id": "lQyrbjM9C2nT"
      },
      "execution_count": null,
      "outputs": []
    },
    {
      "cell_type": "code",
      "source": [
        "#devemos  usar uma 3 variavel para fazer o wap funcionar corretamente\n",
        "#caso contrario um dos valores das variaveis sera perdido\n",
        "#observe abaixo:\n",
        "coordenada_xy = (10, 20)\n",
        "x, y = coordenada_xy\n",
        "temp=x   # 10\n",
        "x=y      # 20\n",
        "y=temp   # 10\n",
        "#portanto usamos a variavel temp para armazena o valor de x antes dele ser modificado/substituido por um novo valor\n",
        "print(\"valor de variavel  x : \"+str(x)+   \"\\n\"\n",
        "     +\"valor de variavel  y : \"+ str(y) + \"\\n\"\n",
        "    + \"valor de variavel temp : \"+ str(temp))\n",
        "#para usar esses valores que conhecemos precisamos colocar eles como se fossem string"
      ],
      "metadata": {
        "id": "WWsCrDSJC6-z"
      },
      "execution_count": null,
      "outputs": []
    },
    {
      "cell_type": "code",
      "source": [
        "# Swap com tuplas.\n",
        "print(\"x e y antes do swap: \", x, y)\n",
        "\n",
        "x, y = y, x\n",
        "\n",
        "print(\"x e y depois do swap: \", x, y)"
      ],
      "metadata": {
        "id": "xDaPw8V8DSG2"
      },
      "execution_count": null,
      "outputs": []
    },
    {
      "cell_type": "code",
      "source": [
        "tupla_nomes = ('Giordano', 'Paulo', 'Lucas', 'João', 'Felipe')\n",
        "#se o elemento esta na tupla\n",
        "print('Giordano' in tupla_nomes)\n",
        "\n",
        "print('Paulo' in tupla_nomes)\n",
        "\n",
        "print (tupla_nomes.count('Lucas')) #< possui unica vez o nome lucas\n",
        "\n",
        "print(tupla_nomes.index(\"João\"))# retorna a posiçao na tupla"
      ],
      "metadata": {
        "id": "etmRDQYTDWZr"
      },
      "execution_count": null,
      "outputs": []
    },
    {
      "cell_type": "code",
      "source": [
        "# tupla com apenas um elemento\n",
        "#nao precisa usar sempre ()\n",
        "tupla_elemento = 10,\n",
        "tupla_elemento"
      ],
      "metadata": {
        "id": "QnxGHQt0DZQd"
      },
      "execution_count": null,
      "outputs": []
    },
    {
      "cell_type": "code",
      "source": [
        "nick=(\"n\",\"i\",\"n\",\"a\")\n",
        "\n",
        "nick.index(\"n\")#retorna a vez q aparece primeiro"
      ],
      "metadata": {
        "id": "90LV1af6Dmk-"
      },
      "execution_count": null,
      "outputs": []
    },
    {
      "cell_type": "code",
      "source": [
        "name_1=(\"m\",\"a\",\"r\",\"i\",\"a\",\"n\",\"a\")\n",
        "\n",
        "print(name_1.index(\"n\"))#retorna a vez q aparece primeiro\n",
        "\n",
        "print(name_1.index(\"a\"))"
      ],
      "metadata": {
        "id": "tTKTaT-IDpFb"
      },
      "execution_count": null,
      "outputs": []
    },
    {
      "cell_type": "markdown",
      "source": [
        "#matrizes"
      ],
      "metadata": {
        "id": "n-j4tL5tDwKF"
      }
    },
    {
      "cell_type": "code",
      "source": [
        "import numpy as np\n",
        "\n",
        "# uma matriz de 3 d\n",
        "matrix = np.array([[1, 2],\n",
        "                   [1, 2],\n",
        "                   [1, 2]])\n",
        "print(matrix)"
      ],
      "metadata": {
        "id": "-h2C8OBX6MAN",
        "colab": {
          "base_uri": "https://localhost:8080/"
        },
        "outputId": "a7de0551-0c44-4312-818c-d2d8fa7dc037"
      },
      "execution_count": null,
      "outputs": [
        {
          "output_type": "stream",
          "name": "stdout",
          "text": [
            "[[1 2]\n",
            " [1 2]\n",
            " [1 2]]\n"
          ]
        }
      ]
    },
    {
      "cell_type": "code",
      "source": [
        "import numpy as np\n",
        "#aqui uma matrix de 3d\n",
        "matrix=[[11,12,13],[21,22,23],[31,32,33]]\n",
        "array_3D=np.array(matrix)\n",
        "print(array_3D)"
      ],
      "metadata": {
        "colab": {
          "base_uri": "https://localhost:8080/"
        },
        "id": "aVMz2ADpIkcl",
        "outputId": "e8bed4ab-882a-4072-fd25-1d54a1128098"
      },
      "execution_count": null,
      "outputs": [
        {
          "output_type": "stream",
          "name": "stdout",
          "text": [
            "[[11 12 13]\n",
            " [21 22 23]\n",
            " [31 32 33]]\n"
          ]
        }
      ]
    },
    {
      "cell_type": "code",
      "source": [
        "a3D = np.array([[[1, 2], [3, 4]], [[5, 6], [7, 8]]])\n",
        "print(a3D)"
      ],
      "metadata": {
        "colab": {
          "base_uri": "https://localhost:8080/"
        },
        "id": "isEJik-LJGv3",
        "outputId": "c9f5ea2b-c28b-45d6-8cb2-e1dba8a8b5da"
      },
      "execution_count": null,
      "outputs": [
        {
          "output_type": "stream",
          "name": "stdout",
          "text": [
            "[[[1 2]\n",
            "  [3 4]]\n",
            "\n",
            " [[5 6]\n",
            "  [7 8]]]\n"
          ]
        }
      ]
    },
    {
      "cell_type": "code",
      "source": [
        "a3D = np.array([[[1, 2], [3, 4]], [[5, 6], [7, 8]]])\n",
        "print(a3D[0])"
      ],
      "metadata": {
        "colab": {
          "base_uri": "https://localhost:8080/"
        },
        "id": "VmZylpbfJJ8v",
        "outputId": "48df2c56-f30a-4021-deae-49df4f99120e"
      },
      "execution_count": null,
      "outputs": [
        {
          "output_type": "stream",
          "name": "stdout",
          "text": [
            "[[1 2]\n",
            " [3 4]]\n"
          ]
        }
      ]
    },
    {
      "cell_type": "code",
      "source": [
        "print(a3D[1])"
      ],
      "metadata": {
        "colab": {
          "base_uri": "https://localhost:8080/"
        },
        "id": "CJPyrXMfJZm9",
        "outputId": "ea582bfb-68d9-4d75-eac9-351397e318fc"
      },
      "execution_count": null,
      "outputs": [
        {
          "output_type": "stream",
          "name": "stdout",
          "text": [
            "[[5 6]\n",
            " [7 8]]\n"
          ]
        }
      ]
    },
    {
      "cell_type": "code",
      "source": [
        "#retorma o numero de dimensoes de um array\n",
        "print(a3D.ndim)"
      ],
      "metadata": {
        "colab": {
          "base_uri": "https://localhost:8080/"
        },
        "id": "B_0589i1Jfcn",
        "outputId": "cd8bb911-7b03-402a-d72d-77feae4b25bc"
      },
      "execution_count": null,
      "outputs": [
        {
          "output_type": "stream",
          "name": "stdout",
          "text": [
            "3\n"
          ]
        }
      ]
    }
  ]
}