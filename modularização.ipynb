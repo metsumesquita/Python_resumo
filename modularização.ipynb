{
  "nbformat": 4,
  "nbformat_minor": 0,
  "metadata": {
    "colab": {
      "provenance": [],
      "authorship_tag": "ABX9TyOpMZ7CzFWnHK0nss9YnXyr",
      "include_colab_link": true
    },
    "kernelspec": {
      "name": "python3",
      "display_name": "Python 3"
    },
    "language_info": {
      "name": "python"
    }
  },
  "cells": [
    {
      "cell_type": "markdown",
      "metadata": {
        "id": "view-in-github",
        "colab_type": "text"
      },
      "source": [
        "<a href=\"https://colab.research.google.com/github/metsumesquita/Python_resumo/blob/main/modulariza%C3%A7%C3%A3o.ipynb\" target=\"_parent\"><img src=\"https://colab.research.google.com/assets/colab-badge.svg\" alt=\"Open In Colab\"/></a>"
      ]
    },
    {
      "cell_type": "markdown",
      "metadata": {
        "id": "2B-4GIGmhFai"
      },
      "source": [
        "# Modularizaçao ou Def //functions\n",
        "####A function is a block of organized, reusable code that is used to perform a single, related action. Functions provide better modularity for your application and a high degree of code reusing."
      ]
    },
    {
      "cell_type": "code",
      "execution_count": null,
      "metadata": {
        "id": "bf3MxE4aWaSQ"
      },
      "outputs": [],
      "source": [
        "#funçoes sao definidas sao palavra reservada def\n",
        "#Functions are considered as the building blocks of any programming language."
      ]
    },
    {
      "cell_type": "code",
      "execution_count": null,
      "metadata": {
        "colab": {
          "base_uri": "https://localhost:8080/"
        },
        "id": "RJtlGoUiwgRj",
        "outputId": "42a2cbd6-0c0c-4123-aaf1-14c2fe71e645"
      },
      "outputs": [
        {
          "name": "stdout",
          "output_type": "stream",
          "text": [
            "informe o seu nome6\n",
            "hii6\n"
          ]
        }
      ],
      "source": [
        "def hi(x):\n",
        "  print(\"Ola\"+str(x)+\"seja bem vindo\")\n",
        "hi(input(\"informe o seu nome\"))"
      ]
    },
    {
      "cell_type": "code",
      "execution_count": null,
      "metadata": {
        "colab": {
          "base_uri": "https://localhost:8080/"
        },
        "id": "wGe7yThHBOXa",
        "outputId": "90db07e4-6953-4543-be8b-6afd44579987"
      },
      "outputs": [
        {
          "name": "stdout",
          "output_type": "stream",
          "text": [
            "8\n"
          ]
        }
      ],
      "source": [
        "def soma(x,y):\n",
        "  return x+y;\n",
        "\n",
        "print(soma(2,6))\n",
        "#aqui temos uma funçao com input"
      ]
    },
    {
      "cell_type": "code",
      "execution_count": null,
      "metadata": {
        "id": "UDXJaXPQpbdp"
      },
      "outputs": [],
      "source": [
        "# Outro exemplo de função que retorna um valor.\n",
        "def eleva_ao_quadrado(n):\n",
        "    return n ** 2\n",
        "\n",
        "print(\"O número {} elevado ao quatrado é {}\".format(10, eleva_ao_quadrado(10)))\n",
        "#aqui temos um output"
      ]
    },
    {
      "cell_type": "code",
      "execution_count": null,
      "metadata": {
        "colab": {
          "base_uri": "https://localhost:8080/"
        },
        "id": "j93oQv45l2MU",
        "outputId": "d3227cf7-351f-4adb-b929-26b1d40d4ff9"
      },
      "outputs": [
        {
          "name": "stdout",
          "output_type": "stream",
          "text": [
            "20 4 12\n"
          ]
        }
      ],
      "source": [
        "def foo(a, b=4, c=6):\n",
        "    print(a, b, c)\n",
        "\n",
        "foo(20, c=12)\n",
        "#aqui temos uma funçao com input"
      ]
    },
    {
      "cell_type": "code",
      "execution_count": null,
      "metadata": {
        "colab": {
          "base_uri": "https://localhost:8080/"
        },
        "id": "4u--Bz5CsLjG",
        "outputId": "5ddf4777-7c8c-4c51-9c42-d27b0f86805c"
      },
      "outputs": [
        {
          "name": "stdout",
          "output_type": "stream",
          "text": [
            "22\n",
            "13\n",
            "6\n",
            "9\n",
            "None\n"
          ]
        }
      ],
      "source": [
        "def soma(*args):\n",
        "    resultado = 0\n",
        "    for numero  in args:\n",
        "        resultado += numero\n",
        "    return resultado\n",
        "\n",
        "\n",
        "def main():\n",
        "    print(soma(4,7,11))\n",
        "\n",
        "    print(soma(8,4,1))\n",
        "\n",
        "    print(soma(4,2))\n",
        "\n",
        "    print(soma(2,2,5))\n",
        "print(main())"
      ]
    },
    {
      "cell_type": "code",
      "source": [
        "def soma(x,y):\n",
        "  return x+y;\n",
        "\n",
        "def subtração(x,y):\n",
        "  return x-y;\n",
        "\n",
        "def multiplicação(x,y):\n",
        "  return x*y;\n",
        "\n",
        "def divisão(x,y):\n",
        "  return x/y;\n",
        "\n",
        "\n",
        "def operação_binaria(função,valor_1,valor_2)\n",
        " return função(valor_1,valor_2)\n",
        "\n",
        "resultado_soma=operação_binaria(soma,6,2)\n",
        "\n",
        "resultado_subtração=operação_binaria(subtração,8,5)\n",
        "\n",
        "resultado_multiplicação=operação_binaria(multiplicação,5,3)\n",
        "\n",
        "resultado_divisão=operação_binaria(divisão,10,5)\n",
        "\n",
        "print('resultado da soma de 6 e 2'resultado_soma)\n",
        "print('resultado da subtração de 8 e 5'resultado_subtração)\n",
        "print('resultado da multiplicação de 5 por 3'resultado_multiplicação)\n",
        "print('resultado da divisão de 10 por 5'resultado_divisão)"
      ],
      "metadata": {
        "id": "hCF2f49Rz_GD"
      },
      "execution_count": null,
      "outputs": []
    },
    {
      "cell_type": "code",
      "execution_count": null,
      "metadata": {
        "colab": {
          "base_uri": "https://localhost:8080/"
        },
        "id": "kD7-RB7LsO2q",
        "outputId": "4683cff0-5279-4ce6-b0b6-460f0308864c"
      },
      "outputs": [
        {
          "name": "stdout",
          "output_type": "stream",
          "text": [
            "ja passamos por trabalho\n",
            "ja passamos por praia\n",
            "ja passamos por estudo\n",
            "ja passamos por cidade\n",
            "ja passamos por fazenda\n",
            "None\n"
          ]
        }
      ],
      "source": [
        "def visitar(*lugares):\n",
        "  for canto in lugares:\n",
        "    print(f\"ja passamos por {canto}\")\n",
        "\n",
        "def main():\n",
        "  visitar(\"trabalho\",\"praia\",\"estudo\",\"cidade\",\"fazenda\")\n",
        "\n",
        "print(main())"
      ]
    },
    {
      "cell_type": "code",
      "execution_count": null,
      "metadata": {
        "colab": {
          "base_uri": "https://localhost:8080/",
          "height": 235
        },
        "id": "A7WU0rmDVXGc",
        "outputId": "378482b3-0382-443e-c077-d294ec963ee9"
      },
      "outputs": [
        {
          "ename": "NameError",
          "evalue": "ignored",
          "output_type": "error",
          "traceback": [
            "\u001b[0;31m---------------------------------------------------------------------------\u001b[0m",
            "\u001b[0;31mNameError\u001b[0m                                 Traceback (most recent call last)",
            "\u001b[0;32m<ipython-input-20-1af7329437ff>\u001b[0m in \u001b[0;36m<module>\u001b[0;34m\u001b[0m\n\u001b[1;32m      5\u001b[0m \u001b[0ma_function\u001b[0m\u001b[0;34m(\u001b[0m\u001b[0;36m10\u001b[0m\u001b[0;34m)\u001b[0m\u001b[0;34m\u001b[0m\u001b[0;34m\u001b[0m\u001b[0m\n\u001b[1;32m      6\u001b[0m \u001b[0;34m\u001b[0m\u001b[0m\n\u001b[0;32m----> 7\u001b[0;31m \u001b[0mprint\u001b[0m\u001b[0;34m(\u001b[0m\u001b[0ma_variable\u001b[0m\u001b[0;34m)\u001b[0m\u001b[0;34m\u001b[0m\u001b[0;34m\u001b[0m\u001b[0m\n\u001b[0m\u001b[1;32m      8\u001b[0m \u001b[0;31m#era pra dar um erro\u001b[0m\u001b[0;34m\u001b[0m\u001b[0;34m\u001b[0m\u001b[0;34m\u001b[0m\u001b[0m\n\u001b[1;32m      9\u001b[0m \u001b[0;31m#Variables created inside a function are\u001b[0m\u001b[0;34m\u001b[0m\u001b[0;34m\u001b[0m\u001b[0;34m\u001b[0m\u001b[0m\n",
            "\u001b[0;31mNameError\u001b[0m: name 'a_variable' is not defined"
          ]
        }
      ],
      "source": [
        "def a_function(a_parameter):\n",
        "    a_variable = 15\n",
        "    return a_parameter\n",
        "\n",
        "a_function(10)\n",
        "\n",
        "print(a_variable)\n",
        "#aqui da um erro ja que temos um comando fora do nossa funçao\n",
        "#deveriamos ter criado ela dentro no bloco da nossa funçao\n",
        "#aqui temos um output"
      ]
    },
    {
      "cell_type": "code",
      "execution_count": null,
      "metadata": {
        "colab": {
          "base_uri": "https://localhost:8080/"
        },
        "id": "Tn14Z24OHpvF",
        "outputId": "3e4ead8a-6a26-40cb-f1da-dc06ffa4483e"
      },
      "outputs": [
        {
          "name": "stdout",
          "output_type": "stream",
          "text": [
            "bruce\n",
            "bruce\n"
          ]
        }
      ],
      "source": [
        "def print_twice():\n",
        "  print(\"bruce\")\n",
        "  print(\"bruce\")\n",
        "print_twice()"
      ]
    },
    {
      "cell_type": "code",
      "execution_count": null,
      "metadata": {
        "id": "-WJ8x6yEpbeX"
      },
      "outputs": [],
      "source": [
        "# Function definition is here\n",
        "def printme( str ):\n",
        "   \"This prints a passed string into this function\"\n",
        "   print (str)\n",
        "   return;\n",
        "\n",
        "# Now you can call printme function\n",
        "printme(\"fazendo a chamada  dessa funçao\")\n",
        "printme(\"chamando novamente a mesa funçao tambem podemos mandar outras coisas\")\n",
        "#aqui estamos chamando a mesma funçao duas vezes mas estamos passando diferentes parametros"
      ]
    },
    {
      "cell_type": "code",
      "execution_count": null,
      "metadata": {
        "colab": {
          "base_uri": "https://localhost:8080/"
        },
        "id": "v94Id9zg49Rl",
        "outputId": "dbc42068-ebcd-41d6-e668-9eb561267fbc"
      },
      "outputs": [
        {
          "name": "stdout",
          "output_type": "stream",
          "text": [
            "I'm a lumberjack, and I'm okay.\n",
            "I sleep all night and I work all day.\n",
            "I'm a lumberjack, and I'm okay.\n",
            "I sleep all night and I work all day.\n"
          ]
        }
      ],
      "source": [
        "def print_lyrics():\n",
        "\n",
        "   print(\"I'm a lumberjack, and I'm okay.\")\n",
        "   print('I sleep all night and I work all day.')\n",
        "\n",
        "def repeat_lyrics():\n",
        "  print_lyrics()\n",
        "  print_lyrics()\n",
        "repeat_lyrics()"
      ]
    },
    {
      "cell_type": "code",
      "execution_count": null,
      "metadata": {
        "colab": {
          "base_uri": "https://localhost:8080/"
        },
        "id": "NqRJXb1hRhkV",
        "outputId": "30eae530-fa1c-473e-da86-a6e8e52521a3"
      },
      "outputs": [
        {
          "name": "stdout",
          "output_type": "stream",
          "text": [
            "1\n",
            "2\n",
            "3\n",
            "6\n",
            "7\n",
            "12\n",
            "13\n",
            "20\n",
            "21\n",
            "30\n"
          ]
        }
      ],
      "source": [
        "def fuc ():\n",
        "  result=0\n",
        "  for k in range(0, 10):\n",
        "    if(( k % 2 ) == 1 ):\n",
        "       result = result + k\n",
        "       print(result)\n",
        "    else:\n",
        "      result=result+1\n",
        "      print(result)\n",
        "\n",
        "fuc()"
      ]
    },
    {
      "cell_type": "code",
      "execution_count": null,
      "metadata": {
        "colab": {
          "base_uri": "https://localhost:8080/"
        },
        "id": "rXZp3wg9YVZL",
        "outputId": "d31fbfc5-5b20-4a96-f102-f221c4bb79b3"
      },
      "outputs": [
        {
          "name": "stdout",
          "output_type": "stream",
          "text": [
            "email 1 : gmail.com, email 2 : outlook.com ,email 3 : hotmail.com\n"
          ]
        }
      ],
      "source": [
        "\n",
        "#modificamos o parametro que quebra do nosso string\n",
        "def get_mail(string):\n",
        "    li = list(string.split(\"@\"))\n",
        "    #pegamos a 2 parte da saber o tipo da fonte de email\n",
        "    return li[1]\n",
        "   #retornamos o tipo\n",
        "\n",
        "# Driver code\n",
        "mail = \"fefeNandez@gmail.com\"\n",
        "\n",
        "mail1= \"dodo12@outlook.com\"\n",
        "mail2= \"meialua24@hotmail.com\"\n",
        "print(\"email 1 : \"+get_mail(mail)+\", email 2 : \"+get_mail(mail1)+\" ,email 3 : \"+get_mail(mail2))\n",
        "\n"
      ]
    },
    {
      "cell_type": "code",
      "execution_count": null,
      "metadata": {
        "id": "Kj2CB7vxXYnM"
      },
      "outputs": [],
      "source": [
        "# Definição do dicionário de produtos e listas de itens\n",
        "produtos = {\n",
        "    \"Bebidas\": [\"coca\", \"cha mate\", \"agua\", \"chocolate quente\"],\n",
        "    \"Comida\": [\"bolo\", \"file com fritas\", \"chocolate\"],\n",
        "    \"Custo_Bebidas\": [5.0, 2.4, 0.5, 2],\n",
        "    \"Custo_Comida\": [10, 20, 5.3]\n",
        "}\n",
        "\n",
        "bebidas_list = produtos[\"Bebidas\"]\n",
        "alimentos_list = produtos[\"Comida\"]\n",
        "\n",
        "custoC_list = produtos[\"Custo_Comida\"]\n",
        "custoB_list = produtos[\"Custo_Bebidas\"]\n",
        "\n",
        "# Função para exibir os produtos disponíveis\n",
        "def exibir_produtos():\n",
        "    print(\"Produtos disponíveis:\")\n",
        "    print(\"Lista de Bebidas:\")\n",
        "    for i, bebida in enumerate(bebidas_list):\n",
        "        print(f\"{i + 1}. {bebida} - R${produtos['Custo_Bebidas'][i]:.2f}\")\n",
        "    print(\"Lista de Comida:\")\n",
        "    for i, comida in enumerate(alimentos_list):\n",
        "        print(f\"{i + 1}. {comida} - R${produtos['Custo_Comida'][i]:.2f}\")\n",
        "\n",
        "# Função para obter a posição do item na lista de bebidas\n",
        "def itemPosiçãoB(item):\n",
        "    achou = False\n",
        "    i = 0\n",
        "    while i < len(bebidas_list):\n",
        "        if bebidas_list[i] == item:\n",
        "            achou = True\n",
        "            break\n",
        "        i += 1\n",
        "    if achou:\n",
        "        return i\n",
        "    else:\n",
        "        return -1\n",
        "\n",
        "# Função para obter a posição do item na lista de alimentos\n",
        "def itemPosiçãoC(item):\n",
        "    achou = False\n",
        "    i = 0\n",
        "    while i < len(alimentos_list):\n",
        "        if alimentos_list[i] == item:\n",
        "            achou = True\n",
        "            break\n",
        "        i += 1\n",
        "    if achou:\n",
        "        return i\n",
        "    else:\n",
        "        return -1\n",
        "\n",
        "# Função para calcular o preço da bebida com base na quantidade\n",
        "def calcular_preço_bebida(posição):\n",
        "    qtd = int(input(\"Informe a quantidade do item que você deseja: \"))\n",
        "    valor = custoB_list[posição] * qtd\n",
        "    return valor\n",
        "\n",
        "# Função para calcular o preço da comida com base na quantidade\n",
        "def calcular_preço_comida(posição):\n",
        "    qtd = int(input(\"Informe a quantidade do item que você deseja: \"))\n",
        "    valor = custoC_list[posição] * qtd\n",
        "    return valor\n",
        "\n",
        "# Saudação inicial\n",
        "print(\"Seja bem-vindo à loja\")\n",
        "exibir_produtos()\n",
        "\n",
        "# Obtenção da opção do usuário\n",
        "opçãolista = int(input(\"Selecione 1 para selecionar algum item da lista de bebidas disponíveis\\nSelecione 2 para selecionar algum item da lista de alimentos disponíveis\\nSelecione 0 para sair do menu: \"))\n",
        "\n",
        "if opçãolista == 1:\n",
        "    escolhido = input(\"Informe por escrito qual o nome do item selecionado: \")\n",
        "    posição = itemPosiçãoB(escolhido)\n",
        "    if posição != -1:\n",
        "        totalB = calcular_preço_bebida(posição)\n",
        "        print(f\"O valor total para {escolhido} é: R${totalB:.2f}\")\n",
        "    else:\n",
        "        print(\"Item não encontrado na lista de bebidas.\")\n",
        "\n",
        "elif opçãolista == 2:\n",
        "    escolhido = input(\"Informe por escrito qual o nome do item selecionado: \")\n",
        "    posição = itemPosiçãoC(escolhido)\n",
        "    if posição != -1:\n",
        "        totalC = calcular_preço_comida(posição)\n",
        "        print(f\"O valor total para {escolhido} é: R${totalC:.2f}\")\n",
        "    else:\n",
        "        print(\"Item não encontrado na lista de alimentos.\")\n",
        "\n",
        "elif opçãolista == 0:\n",
        "    print(\"Obrigado por visitar nossa loja. Até logo!\")\n",
        "\n",
        "else:\n",
        "    print(\"Opção inválida. Por favor, selecione uma opção válida.\")\n"
      ]
    },
    {
      "cell_type": "markdown",
      "source": [
        "#MAP"
      ],
      "metadata": {
        "id": "T7h31m-O6JUR"
      }
    },
    {
      "cell_type": "code",
      "source": [
        "#pode ser utilizado para voce aplicar uma funçao que voce criou\n",
        "#a valores que voce tem interesse que sofram a açao da funçao e entao retorne algo\n",
        "#FUNÇAO MAP\n",
        "def soma(x):\n",
        "    return x+x\n",
        "value=[3,6,9,12]\n",
        "value_more=Map(soma,value)\n",
        "#map to list\n",
        "value_more=list(value_more)"
      ],
      "metadata": {
        "id": "Pc1HedDO6I7_"
      },
      "execution_count": null,
      "outputs": []
    },
    {
      "cell_type": "code",
      "source": [
        "#https://www.cod3r.com.br/courses/take/python-3-curso-rapido/lessons/12690099-um-pouco-sobre-programacao-funcional"
      ],
      "metadata": {
        "id": "mXG-x3BazJAS"
      },
      "execution_count": null,
      "outputs": []
    },
    {
      "cell_type": "code",
      "source": [
        "from functools import reduce\n",
        "notas =[5.5,4.2,3.8,9.2,9.1,7.3]\n",
        "for i , nota in enumarate[notas]\n",
        "print(i,nota)"
      ],
      "metadata": {
        "id": "5f0QrJklC2Zn"
      },
      "execution_count": null,
      "outputs": []
    }
  ]
}