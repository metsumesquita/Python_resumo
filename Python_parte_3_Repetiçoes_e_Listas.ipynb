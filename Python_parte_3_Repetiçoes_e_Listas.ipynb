{
  "nbformat": 4,
  "nbformat_minor": 0,
  "metadata": {
    "colab": {
      "provenance": [],
      "toc_visible": true,
      "authorship_tag": "ABX9TyMPqrs+1Td8fSA3ou5gkHJw",
      "include_colab_link": true
    },
    "kernelspec": {
      "name": "python3",
      "display_name": "Python 3"
    },
    "language_info": {
      "name": "python"
    }
  },
  "cells": [
    {
      "cell_type": "markdown",
      "metadata": {
        "id": "view-in-github",
        "colab_type": "text"
      },
      "source": [
        "<a href=\"https://colab.research.google.com/github/metsumesquita/Python_resumo/blob/main/Python_parte_3_Repeti%C3%A7oes_e_Listas.ipynb\" target=\"_parent\"><img src=\"https://colab.research.google.com/assets/colab-badge.svg\" alt=\"Open In Colab\"/></a>"
      ]
    },
    {
      "cell_type": "markdown",
      "source": [
        "##Estruturas de repetiçao"
      ],
      "metadata": {
        "id": "n-eabHU1BCGl"
      }
    },
    {
      "cell_type": "code",
      "source": [
        "#sao mais amplas no sentido de passar por estruturas diferentes\n",
        "i=1\n",
        "while i<=5:\n",
        "  print(i)\n",
        "  i=i+1  \n",
        "print('crescente')"
      ],
      "metadata": {
        "id": "vihX8OkpCuLM"
      },
      "execution_count": null,
      "outputs": []
    },
    {
      "cell_type": "code",
      "source": [
        "#repeated \n",
        "n=5\n",
        "while n>0:\n",
        "  print(n)\n",
        "  n=n-1  \n",
        "print('decrescente')"
      ],
      "metadata": {
        "id": "Aiq4ZPaHCxWB"
      },
      "execution_count": null,
      "outputs": []
    },
    {
      "cell_type": "code",
      "source": [
        "i=1\n",
        "while i<=5:\n",
        "  print(i*'*')\n",
        "  i+=1"
      ],
      "metadata": {
        "id": "3-Fa2JdcCz6I"
      },
      "execution_count": null,
      "outputs": []
    },
    {
      "cell_type": "code",
      "source": [
        "\n",
        "for letter in 'Python':     # First Example\n",
        "   if letter == 'h':\n",
        "    break\n",
        "   print ('Current Letter :', letter)"
      ],
      "metadata": {
        "id": "Lkw61NuLDCRp"
      },
      "execution_count": null,
      "outputs": []
    },
    {
      "cell_type": "markdown",
      "source": [
        "#For e Listas"
      ],
      "metadata": {
        "id": "zkaOdS27DItJ"
      }
    },
    {
      "cell_type": "code",
      "source": [
        "#Listas e for\n",
        "lista_int=[5,8,3,4]     #apenas int\n",
        "for i in lista_int:\n",
        "  print(i)\n",
        "  i=i+1\n",
        "print(\"end\")"
      ],
      "metadata": {
        "id": "wVe43yKIDzyY"
      },
      "execution_count": null,
      "outputs": []
    },
    {
      "cell_type": "code",
      "source": [
        "lista_int[-1]\n",
        "lista_int[-2]"
      ],
      "metadata": {
        "id": "pzX9KMxOEU41"
      },
      "execution_count": null,
      "outputs": []
    },
    {
      "cell_type": "code",
      "source": [
        "lista_int.pop()#tira o ultimo elemento da lista\n",
        "print(lista_int)"
      ],
      "metadata": {
        "id": "gM6ZwQV6EN19"
      },
      "execution_count": null,
      "outputs": []
    },
    {
      "cell_type": "code",
      "source": [
        "lista_int.index(8)\n",
        "#retorna a posiçao do numero caso ele seja encontrado"
      ],
      "metadata": {
        "id": "qp9dZNyNEhJG"
      },
      "execution_count": null,
      "outputs": []
    },
    {
      "cell_type": "code",
      "source": [
        "for x in range(5):\n",
        "  print(x)\n",
        "  #podemos assim saber em que valor estamos /percorrendo\n",
        "  #de 0 ate 4"
      ],
      "metadata": {
        "id": "K3QWS05MD2U5"
      },
      "execution_count": null,
      "outputs": []
    },
    {
      "cell_type": "code",
      "source": [
        "for x in range(5,10):\n",
        "  print(x)\n",
        "  #podemos assim saber em que valor estamos /percorrendo\n",
        "  #agora iniciamos do 5 e vamos ate o 9"
      ],
      "metadata": {
        "id": "4rQkGLrED4aL"
      },
      "execution_count": null,
      "outputs": []
    },
    {
      "cell_type": "code",
      "source": [
        "for i in range(5,20,2):\n",
        "#de 5 ate 19 de 2 em 2\n",
        " print(i)\n",
        " #pula de 2 eme 2"
      ],
      "metadata": {
        "id": "BOelih7aD7bN"
      },
      "execution_count": null,
      "outputs": []
    },
    {
      "cell_type": "code",
      "source": [
        "#coordenadas  \n",
        "for x in range(4):  #outer loop 0 ate 3\n",
        "  for y in range(3):  ##inner loop\n",
        "    print(f'{x},{y}')\n",
        "    #(x,y) plano cartesiano"
      ],
      "metadata": {
        "id": "3nzQH__cD99W"
      },
      "execution_count": null,
      "outputs": []
    },
    {
      "cell_type": "markdown",
      "source": [
        "#Lista"
      ],
      "metadata": {
        "id": "PSyS9lRKEovt"
      }
    },
    {
      "cell_type": "code",
      "source": [
        "list_string=[\"vila\",\"pizzaria\",\"padaria\",\"casa\",\"trabalho\",\"praia\",\"estudo\",\"cidade\",\"fazenda\"]\n",
        "print(list_string)\n",
        "\n",
        "list_string.sort()\n",
        "print(list_string)\n",
        "\n",
        "del list_string[4:]#List Slicing\n",
        "print(list_string)"
      ],
      "metadata": {
        "id": "y1kek6cFfhR6"
      },
      "execution_count": null,
      "outputs": []
    },
    {
      "cell_type": "code",
      "source": [
        "coisa_list=[\"casa\",1,1.9,'lua']\n",
        "print(coisa_list)"
      ],
      "metadata": {
        "id": "96dyzSL6f0SN",
        "colab": {
          "base_uri": "https://localhost:8080/"
        },
        "outputId": "c6516d2f-cbd5-42de-8217-b37209f3f215"
      },
      "execution_count": null,
      "outputs": [
        {
          "output_type": "stream",
          "name": "stdout",
          "text": [
            "['casa', 1, 1.9, 'lua']\n"
          ]
        }
      ]
    },
    {
      "cell_type": "code",
      "source": [
        "coisa_list.insert(3, \"mar\")#aqui passamos o index e o elemento\n",
        "print(coisa_list)"
      ],
      "metadata": {
        "colab": {
          "base_uri": "https://localhost:8080/"
        },
        "id": "LFmXQuU3FBht",
        "outputId": "4006bb1e-5d36-4a18-f1b8-0ac46e4faa6e"
      },
      "execution_count": null,
      "outputs": [
        {
          "output_type": "stream",
          "name": "stdout",
          "text": [
            "['casa', 1, 1.9, 'mar', 'lua']\n"
          ]
        }
      ]
    },
    {
      "cell_type": "code",
      "source": [
        "coisa_list.append(\"vida\")\n",
        "print(coisa_list)"
      ],
      "metadata": {
        "id": "pW6E0Lf4FSWJ"
      },
      "execution_count": null,
      "outputs": []
    },
    {
      "cell_type": "code",
      "source": [
        "#lista original\n",
        "\n",
        "lista=[5,8,9,11,40,22,21,33,10,1,0,2,90,10,2,190]\n",
        "print(\"lista original \\t: \"+str(lista))\n",
        "\n",
        "#lista reversa\n",
        "\n",
        "lista.reverse()\n",
        "print(\"lista reversa \\t: \"+str(lista))\n",
        "\n",
        "#\n",
        "lista=sorted(lista)\n",
        "print(\"lista na ordem crescente   : \" + str(lista))\n",
        "\n",
        "lista.sort(reverse=True)\n",
        "print(\"lista na ordem decrescente : \"+str(lista))\n",
        "\n",
        "lista.pop()"
      ],
      "metadata": {
        "colab": {
          "base_uri": "https://localhost:8080/"
        },
        "id": "N7ty3ZfQFSTp",
        "outputId": "573939d3-b881-40a2-943d-561b9f776708"
      },
      "execution_count": null,
      "outputs": [
        {
          "output_type": "stream",
          "name": "stdout",
          "text": [
            "lista original \t: [5, 8, 9, 11, 40, 22, 21, 33, 10, 1, 0, 2, 90, 10, 2, 190]\n",
            "lista reversa \t: [190, 2, 10, 90, 2, 0, 1, 10, 33, 21, 22, 40, 11, 9, 8, 5]\n",
            "lista na ordem crescente   : [0, 1, 2, 2, 5, 8, 9, 10, 10, 11, 21, 22, 33, 40, 90, 190]\n",
            "lista na ordem decrescente : [190, 90, 40, 33, 22, 21, 11, 10, 10, 9, 8, 5, 2, 2, 1, 0]\n"
          ]
        },
        {
          "output_type": "execute_result",
          "data": {
            "text/plain": [
              "0"
            ]
          },
          "metadata": {},
          "execution_count": 15
        }
      ]
    },
    {
      "cell_type": "code",
      "source": [
        "#os valores aqui nao existem sendo repetidos;/sao unicos\n",
        "set(lista) "
      ],
      "metadata": {
        "id": "1tX9MKS9FSLi"
      },
      "execution_count": null,
      "outputs": []
    },
    {
      "cell_type": "code",
      "source": [
        "#escreva um programa que ordene uma lista numérica com três elementos.   \n",
        "lista=[6,2,1]\n",
        "lista=sorted(lista)\n",
        "print(lista)"
      ],
      "metadata": {
        "id": "YOxfxMiFFZkL"
      },
      "execution_count": null,
      "outputs": []
    },
    {
      "cell_type": "code",
      "source": [
        "lis=[5,2,5,2,2,5]\n",
        "index=0\n",
        "while index < len(lis):\n",
        " letter = lis[index]\n",
        " print (letter*'x')\n",
        " index = index + 1"
      ],
      "metadata": {
        "colab": {
          "base_uri": "https://localhost:8080/"
        },
        "id": "2aKIL8v4HIEW",
        "outputId": "273d3e1a-8ddb-46a0-b25c-67b474e3338c"
      },
      "execution_count": null,
      "outputs": [
        {
          "output_type": "stream",
          "name": "stdout",
          "text": [
            "xxxxx\n",
            "xx\n",
            "xxxxx\n",
            "xx\n",
            "xx\n",
            "xxxxx\n"
          ]
        }
      ]
    },
    {
      "cell_type": "code",
      "source": [
        "#aqui como a lista dentro da lista bolo\n",
        "bolo = ['farinha de trigo', 'ovo', 'leite', 'manteiga']\n",
        "bolo.append(['açucar', 'fermento'])##melhor pra desempenho por adicionar sempre ao final da lista\n",
        "print(bolo)"
      ],
      "metadata": {
        "id": "J4UG14qtHICq"
      },
      "execution_count": null,
      "outputs": []
    },
    {
      "cell_type": "code",
      "source": [
        "###aqui como elemento da lista\n",
        "bolo = ['farinha de trigo', 'ovo', 'leite', 'manteiga']\n",
        "bolo.extend(['açucar', 'fermento'])\n",
        "print(bolo)"
      ],
      "metadata": {
        "id": "AOI9siINHk0r"
      },
      "execution_count": null,
      "outputs": []
    },
    {
      "cell_type": "markdown",
      "source": [
        "##conversao de list pra string"
      ],
      "metadata": {
        "id": "bMCKh-RWHxv1"
      }
    },
    {
      "cell_type": "code",
      "source": [
        "# Converte uma string em uma lista.\n",
        "s = list(\"So much drama .\")\n",
        "print(s)"
      ],
      "metadata": {
        "id": "Titl9EudH2S2"
      },
      "execution_count": null,
      "outputs": []
    },
    {
      "cell_type": "code",
      "source": [
        "# Converte uma lista em uma string.\n",
        "l = [ \"S\",\"o\",\" \",\"m\",\"u\",\"c\",\"h\",\" \", \"d\",\"r\",\"a\",\"m\",\"a\",\" \",\".\"]\n",
        "print(''.join(l))"
      ],
      "metadata": {
        "id": "F2DoyZ7PH5OT"
      },
      "execution_count": null,
      "outputs": []
    },
    {
      "cell_type": "markdown",
      "source": [],
      "metadata": {
        "id": "bvpZTMwoq3-U"
      }
    },
    {
      "cell_type": "code",
      "source": [],
      "metadata": {
        "id": "YfKvzLRtq3LE"
      },
      "execution_count": null,
      "outputs": []
    },
    {
      "cell_type": "markdown",
      "source": [
        "#Referencia\n",
        " "
      ],
      "metadata": {
        "id": "CbDudL1JEFdZ"
      }
    },
    {
      "cell_type": "code",
      "source": [
        " # https://youtu.be/_uQrJ0TkZlc?t=6610\n",
        " # https://youtu.be/kqtD5dpn9C8?t=2714"
      ],
      "metadata": {
        "id": "ulNOHrrDEKdM"
      },
      "execution_count": null,
      "outputs": []
    }
  ]
}