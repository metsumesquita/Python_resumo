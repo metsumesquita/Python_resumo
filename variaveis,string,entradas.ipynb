{
  "nbformat": 4,
  "nbformat_minor": 0,
  "metadata": {
    "colab": {
      "provenance": [],
      "toc_visible": true,
      "include_colab_link": true
    },
    "kernelspec": {
      "name": "python3",
      "display_name": "Python 3"
    },
    "language_info": {
      "name": "python"
    }
  },
  "cells": [
    {
      "cell_type": "markdown",
      "metadata": {
        "id": "view-in-github",
        "colab_type": "text"
      },
      "source": [
        "<a href=\"https://colab.research.google.com/github/metsumesquita/Python_resumo/blob/main/variaveis%2Cstring%2Centradas.ipynb\" target=\"_parent\"><img src=\"https://colab.research.google.com/assets/colab-badge.svg\" alt=\"Open In Colab\"/></a>"
      ]
    },
    {
      "cell_type": "markdown",
      "source": [
        "#Importaçoes"
      ],
      "metadata": {
        "id": "k60C4i-pz6U7"
      }
    },
    {
      "cell_type": "code",
      "source": [
        "from scipy import signal\n",
        "import numpy as np\n",
        "import matplotlib.pyplot as plt"
      ],
      "metadata": {
        "id": "U70P8bI4z4pn"
      },
      "execution_count": null,
      "outputs": []
    },
    {
      "cell_type": "code",
      "source": [
        "from collections import namedtuple"
      ],
      "metadata": {
        "id": "Uhko4EXtz8Wb"
      },
      "execution_count": null,
      "outputs": []
    },
    {
      "cell_type": "markdown",
      "source": [
        "#Variaveis e atribuiçao\n",
        "####São utilizadas para armazenar valores em memória, desta maneira podemos guardar uma informação ou recuperar ela ao ler esse dado que foi gravado.\n",
        "\n",
        "#####Temos alguns tipos que são padrões como :Tuple, String ,List Dictionary e Numbers.\n",
        "\n",
        "##### Ao nomear as variáveis devemos seguir alguns regras como:\n",
        "* Obrigatoriamente é sempre iniciada por letras minúsculas.\n",
        "\n",
        "* Não é permitido utilizar números no inicio da variável.\n",
        "* Não é permitido utilizar o espaço no meio da variável.\n",
        "\n",
        "* Não é permitido utilizar as palavras reservadas da linguagem para nomear variáveis.\n",
        "\n"
      ],
      "metadata": {
        "id": "jMwOSsv9r8yK"
      }
    },
    {
      "cell_type": "code",
      "source": [
        "##No Python, as cadeias de caracteres são imutáveis. Ou seja, eles não podem mudar.\n",
        "#Essa propriedade do tipo cadeia de caracteres pode ser bastante surpreendente, pois o Python não acusa erro quando você altera uma cadeia de caracteres.\n",
        "#Aspas simples, duplas e triplas."
      ],
      "metadata": {
        "id": "L-mU8VsoIyh0"
      },
      "execution_count": null,
      "outputs": []
    },
    {
      "cell_type": "code",
      "source": [
        "print(\"Hello World\")"
      ],
      "metadata": {
        "colab": {
          "base_uri": "https://localhost:8080/"
        },
        "id": "Yr9zg1UKu4Y5",
        "outputId": "92ccc12f-2ec2-46b3-cfc1-53bff7fd761f"
      },
      "execution_count": null,
      "outputs": [
        {
          "output_type": "stream",
          "name": "stdout",
          "text": [
            "Hello World\n"
          ]
        }
      ]
    },
    {
      "cell_type": "code",
      "source": [
        "print('The \"near side\" is the part of the Moon that faces the Earth.')"
      ],
      "metadata": {
        "id": "eeGYBf2SJckw"
      },
      "execution_count": null,
      "outputs": []
    },
    {
      "cell_type": "code",
      "source": [
        "speak = \"Ela falou : \\\"Bom dia\\\"\"\n",
        "print(speak)"
      ],
      "metadata": {
        "colab": {
          "base_uri": "https://localhost:8080/"
        },
        "id": "iPXEJyu3u4Sf",
        "outputId": "cd4feea4-62e9-4715-a142-5481d0e15e75"
      },
      "execution_count": null,
      "outputs": [
        {
          "output_type": "stream",
          "name": "stdout",
          "text": [
            "she said : \"Hi\"\n"
          ]
        }
      ]
    },
    {
      "cell_type": "code",
      "source": [
        "type(speak)"
      ],
      "metadata": {
        "colab": {
          "base_uri": "https://localhost:8080/"
        },
        "id": "dqh_-JSLGes7",
        "outputId": "bae55bf7-ad12-466c-dea9-e6672642f639"
      },
      "execution_count": null,
      "outputs": [
        {
          "output_type": "execute_result",
          "data": {
            "text/plain": [
              "str"
            ]
          },
          "metadata": {},
          "execution_count": 18
        }
      ]
    },
    {
      "cell_type": "code",
      "source": [
        "#initialize of a variable\n",
        "persona_name = \"lilly\""
      ],
      "metadata": {
        "id": "tfY8xO3LIU_p"
      },
      "execution_count": null,
      "outputs": []
    },
    {
      "cell_type": "code",
      "source": [
        "#a funçao replace é utilizada para alterar\n",
        "#contudo nao modifica a frase original\n",
        "frase=\"I like the night. Without the dark, we’d never see the stars\"\n",
        "print(\"phrase original:\\t\"+frase)\n",
        "print(\"new and alter phrase:\\t\"+frase.replace(\"stars\",\"the constellations\"))\n",
        "# the value attributed to the variable doesn't change"
      ],
      "metadata": {
        "colab": {
          "base_uri": "https://localhost:8080/"
        },
        "id": "RL37O7Sru4Ki",
        "outputId": "e8215ef5-90e6-4321-f354-011f20a2e1b5"
      },
      "execution_count": null,
      "outputs": [
        {
          "output_type": "stream",
          "name": "stdout",
          "text": [
            "phrase original:\tI like the night. Without the dark, we’d never see the stars\n",
            "new and alter phrase:\tI like the night. Without the dark, we’d never see the the constellations\n"
          ]
        }
      ]
    },
    {
      "cell_type": "code",
      "source": [
        "#alterando\n",
        "phrase=\"Gato de gravata\"\n",
        "print(phrase)\n",
        "#frase original\n",
        "print(phrase.replace(\"Gato\",\"Urso\"))\n",
        "#frase que sofreu  substituiçao"
      ],
      "metadata": {
        "id": "vaYkw_w89wJ1"
      },
      "execution_count": null,
      "outputs": []
    },
    {
      "cell_type": "code",
      "source": [
        "##aqui temos varios exemplos utilizando as funções starwith and endswith\n",
        "print(frase.startswith(\"dark\"))"
      ],
      "metadata": {
        "colab": {
          "base_uri": "https://localhost:8080/"
        },
        "id": "BK4J4_bwymHb",
        "outputId": "1246b84e-a3ba-4900-e0e7-29904b65cb7f"
      },
      "execution_count": null,
      "outputs": [
        {
          "output_type": "stream",
          "name": "stdout",
          "text": [
            "False\n"
          ]
        }
      ]
    },
    {
      "cell_type": "code",
      "source": [
        "print(frase.startswith(\"I\"))"
      ],
      "metadata": {
        "colab": {
          "base_uri": "https://localhost:8080/"
        },
        "id": "AZpxlL1hyqhH",
        "outputId": "6a8e211d-a3e8-473a-a073-2a166f568765"
      },
      "execution_count": null,
      "outputs": [
        {
          "output_type": "stream",
          "name": "stdout",
          "text": [
            "True\n"
          ]
        }
      ]
    },
    {
      "cell_type": "code",
      "source": [
        "print(frase.endswith(\"stars\"))"
      ],
      "metadata": {
        "colab": {
          "base_uri": "https://localhost:8080/"
        },
        "id": "hUOE1SSIytCN",
        "outputId": "f98f90e5-b856-4dee-bed4-1c94fa461465"
      },
      "execution_count": null,
      "outputs": [
        {
          "output_type": "stream",
          "name": "stdout",
          "text": [
            "True\n"
          ]
        }
      ]
    },
    {
      "cell_type": "code",
      "source": [
        "print(\"-60\".startswith('-'))"
      ],
      "metadata": {
        "id": "O9K8jenBQiww"
      },
      "execution_count": null,
      "outputs": []
    },
    {
      "cell_type": "code",
      "source": [
        "if \"30 C\".endswith(\"C\"):\n",
        "  print(\"This temperature is in Celsius\")"
      ],
      "metadata": {
        "colab": {
          "base_uri": "https://localhost:8080/"
        },
        "id": "XNtDavEFQc6q",
        "outputId": "5dd695b2-025e-4a94-bb81-eda037aa22ec"
      },
      "execution_count": 13,
      "outputs": [
        {
          "output_type": "stream",
          "name": "stdout",
          "text": [
            "This temperature is in Celsius\n"
          ]
        }
      ]
    },
    {
      "cell_type": "code",
      "source": [
        "print(\"temperatures and facts about the moon\".title())"
      ],
      "metadata": {
        "id": "dpA1NFHpM-JM"
      },
      "execution_count": null,
      "outputs": []
    },
    {
      "cell_type": "code",
      "source": [
        "phrase_book=\"My life was an unending, unchanging midnight.\\nIt must, by necessity\"+\"always be midnight for me.\\n So how was it possible that the sun was rising now, in the middle of my midnight? \"\n",
        "#phrase_book=book+book_p1\n",
        "print(phrase_book.title())"
      ],
      "metadata": {
        "colab": {
          "base_uri": "https://localhost:8080/"
        },
        "id": "jDAfzml8xEYM",
        "outputId": "96decfd8-e564-459e-b882-7045bacb4dbf"
      },
      "execution_count": null,
      "outputs": [
        {
          "output_type": "stream",
          "name": "stdout",
          "text": [
            "My Life Was An Unending, Unchanging Midnight.\n",
            "It Must, By Necessityalways Be Midnight For Me.\n",
            " So How Was It Possible That The Sun Was Rising Now, In The Middle Of My Midnight? \n"
          ]
        }
      ]
    },
    {
      "cell_type": "code",
      "source": [
        "print(1940,\"A casa do penhasco\")"
      ],
      "metadata": {
        "colab": {
          "base_uri": "https://localhost:8080/"
        },
        "id": "584Mow0USQYn",
        "outputId": "fc3c205a-3621-4232-ad2b-3e5efb9b360a"
      },
      "execution_count": null,
      "outputs": [
        {
          "output_type": "stream",
          "name": "stdout",
          "text": [
            "1940 A casa do penhasco\n"
          ]
        }
      ]
    },
    {
      "cell_type": "code",
      "source": [
        "food=\"banana\"\n",
        "food.find(\"na\")\n",
        "#return the index which found n"
      ],
      "metadata": {
        "id": "7BAYTEX7mN_h"
      },
      "execution_count": null,
      "outputs": []
    },
    {
      "cell_type": "markdown",
      "source": [
        "#Leitura de Dados do Teclado/Entrada e Trabalhando com String\n",
        "######[entrada e saida](https://algoritmosempython.com.br/cursos/programacao-python/entrada-saida/)"
      ],
      "metadata": {
        "id": "CGHkoUU7sNzK"
      }
    },
    {
      "cell_type": "code",
      "source": [
        "num1=input('git a value for variable 1 : ')\n",
        "num2=input('git a value for variable 2 : ')\n",
        "print('result: '+num1+num2)\n",
        "#transformando o tipo de dados\n",
        "#tudo recebido pelo input é considerado do tipo str que é um string\n",
        "soma=int(num1)+int(num2)\n",
        "print('what we want as a result: '+str(soma) )"
      ],
      "metadata": {
        "id": "xPjljkCUs9Fc"
      },
      "execution_count": null,
      "outputs": []
    },
    {
      "cell_type": "code",
      "source": [
        "nome=input(\"Informe o seu nome : \")\n",
        "idade=int(input(\"Informe a sua idade : \"))\n",
        "print(\"Seu nome é : \"+nome+\"e  sua idade é  : \"+ str(idade) )"
      ],
      "metadata": {
        "id": "wYvlHfgq9KZa"
      },
      "execution_count": null,
      "outputs": []
    },
    {
      "cell_type": "code",
      "source": [
        "#Faça um programa que receba a idade do usuário e diga se ele é maior ou menor de idade.\n",
        "if(idade>=18):\n",
        "  print(nome+ \"é maior de idade \")\n",
        "else:\n",
        "  print(nome+\" é menor de idade\")"
      ],
      "metadata": {
        "id": "8Bjq-F0-GcRl"
      },
      "execution_count": null,
      "outputs": []
    },
    {
      "cell_type": "code",
      "source": [
        "#a seguir temos exemplos de atribuiçao de diferentes types de dados"
      ],
      "metadata": {
        "id": "TGCSZ2vTH43h"
      },
      "execution_count": null,
      "outputs": []
    },
    {
      "cell_type": "code",
      "source": [
        "#string\n",
        "meu_texto = input(\"Digite um texto : \")"
      ],
      "metadata": {
        "id": "XbfGvGBwH3Gy"
      },
      "execution_count": null,
      "outputs": []
    },
    {
      "cell_type": "code",
      "source": [
        "#imputando uma variavel do tipo int\n",
        "numero_inteiro = int(input(\"Digite um numero inteiro qualquer : \"))\n",
        "\n",
        "#imputando uma variavel do tipo float\n",
        "numero_decimal = float(input(\"Digite um numero decimal qualquer : \"))"
      ],
      "metadata": {
        "id": "X76QnWqc6EKB"
      },
      "execution_count": null,
      "outputs": []
    },
    {
      "cell_type": "code",
      "source": [
        "#alfa numerico\n",
        "'54A12B'.isalnum()"
      ],
      "metadata": {
        "id": "rOjppYeMRt9b"
      },
      "execution_count": null,
      "outputs": []
    },
    {
      "cell_type": "markdown",
      "source": [
        "#concatenando strings, utilização de metodos como find , in , upper and lower case, count"
      ],
      "metadata": {
        "id": "-l1mLiqDSZmz"
      }
    },
    {
      "cell_type": "code",
      "source": [
        "numero = 3.14159\n",
        "print(f\"O valor arredondado é {round(numero, 2)}\")"
      ],
      "metadata": {
        "id": "KV6rzmNPan-9"
      },
      "execution_count": null,
      "outputs": []
    },
    {
      "cell_type": "code",
      "source": [
        "a='thais'\n",
        "b='silva'\n",
        "print(\"o nome era\",a,\"o sobrenome era\",b)"
      ],
      "metadata": {
        "colab": {
          "base_uri": "https://localhost:8080/"
        },
        "id": "27JCU4n6iGHv",
        "outputId": "6c1929fb-d543-45cc-d46d-85c14bcd2b89"
      },
      "execution_count": null,
      "outputs": [
        {
          "output_type": "stream",
          "name": "stdout",
          "text": [
            "o nome era thais o sobrenome era silva\n"
          ]
        }
      ]
    },
    {
      "cell_type": "code",
      "source": [
        "fact = \"The Moon has no atmosphere.\"\n",
        "fact_two =fact + \"\\nNo sound can be heard on the Moon.\"\n",
        "print(fact_two)"
      ],
      "metadata": {
        "colab": {
          "base_uri": "https://localhost:8080/"
        },
        "id": "xE6tH2rmIjR4",
        "outputId": "15c7eaf3-7824-44f0-d377-96588840a4b6"
      },
      "execution_count": 6,
      "outputs": [
        {
          "output_type": "stream",
          "name": "stdout",
          "text": [
            "The Moon has no atmosphere.\n",
            "No sound can be heard on the Moon.\n"
          ]
        }
      ]
    },
    {
      "cell_type": "code",
      "source": [
        "a=\"Ola todos,nos da light academy\"\n",
        "b=\"Estamos convidando todos os novatos para o evento de sabado a noite\"\n",
        "c=a + b +\"\\n\" #quebra de linha\n",
        "print(c+\"as 18 horas\")\n",
        "d=a+\"\"+b+\"\\n\" #quebra de linha\n",
        "print(d)\n",
        "#com quebra de linha\n",
        "print(d.strip())\n",
        "#sem quebra de linha"
      ],
      "metadata": {
        "id": "CTK_Oj12Sdrq"
      },
      "execution_count": null,
      "outputs": []
    },
    {
      "cell_type": "code",
      "source": [
        "c=a+'\\n'+b #quebra de linha\n",
        "print(c)"
      ],
      "metadata": {
        "id": "a0amRNDLSdki"
      },
      "execution_count": null,
      "outputs": []
    },
    {
      "cell_type": "code",
      "source": [
        "#ver as coisas de Index\n",
        "frase=\"Os gatos persa sao a raça mais popular entre as outras raças de gato\"\n",
        "\n",
        "print(frase[0])\n",
        "print(frase[1])#espaço\n",
        "print(frase[2])\n",
        "print(frase[3])\n",
        "print(frase[4])\n",
        "print(frase[5])\n",
        "print(frase[6])\n",
        "print(frase[7])"
      ],
      "metadata": {
        "id": "KldCShpbivbR"
      },
      "execution_count": null,
      "outputs": []
    },
    {
      "cell_type": "code",
      "source": [
        "print(str(frase.upper()))#maiusculo\n",
        "print(str(frase.lower()))#minusculo"
      ],
      "metadata": {
        "id": "pRiqEQhBi01R"
      },
      "execution_count": null,
      "outputs": []
    },
    {
      "cell_type": "code",
      "source": [
        "\n",
        "frase=\"Os gatos persa sao a raça mais popular entre as outras raças de gato\"\n",
        "\n",
        "print(frase[0:])\n",
        "#retorna do inicio ate o final da frase\n",
        "\n",
        "print(frase.find('g'))\n",
        "#o find retorna a posiçao que é encontrado simbolo no caso no g\n",
        "#caso nao seja encontrado retorna -1\n",
        "\n",
        "print(\"gatos\" in frase)\n",
        "#aqui especificamos se esse \"algo\" esta sendo usando na frase"
      ],
      "metadata": {
        "id": "Qj2btmeWjlTV"
      },
      "execution_count": null,
      "outputs": []
    },
    {
      "cell_type": "code",
      "source": [
        "print(\"Moon\" in \"This text will describe facts about the Moon\")"
      ],
      "metadata": {
        "id": "-wHVc8g-NRLm"
      },
      "execution_count": null,
      "outputs": []
    },
    {
      "cell_type": "code",
      "source": [
        "temperatures = \"\"\"Saturn has a daytime temperature of -170 degrees Celsius, while Mars has -28 Celsius.\"\"\"\n",
        "print(temperatures.find(\"Moon\"))"
      ],
      "metadata": {
        "id": "jQVKQXtENj0l"
      },
      "execution_count": null,
      "outputs": []
    },
    {
      "cell_type": "code",
      "source": [
        "frase_2=\"os gatos laranjas femeas são extremamente raros, ja os gatos tricores machos são extremamente raros, os gatos siameses possuem uma caracteristica de mudança de pelagem de acordo com a temperatura do ambiente,alem disso os gatos diameses puros são normalmente vesgos, ja os gatos razados são considerados os mais comuns a possuirem lares, e tambem são considerados mais amigaveis\"\n",
        "\n",
        "print(frase_2.count(\"gatos\"))\n",
        "print(frase_2.count(\"raros\"))\n",
        "print(frase_2.count(\"são\"))\n",
        "print(frase_2.count(\"mais\"))"
      ],
      "metadata": {
        "colab": {
          "base_uri": "https://localhost:8080/"
        },
        "id": "rWd6G5VMOHJp",
        "outputId": "ccb68ec8-214d-4fa3-ea52-463cc214bc57"
      },
      "execution_count": 11,
      "outputs": [
        {
          "output_type": "stream",
          "name": "stdout",
          "text": [
            "5\n",
            "2\n",
            "5\n",
            "2\n"
          ]
        }
      ]
    },
    {
      "cell_type": "markdown",
      "source": [
        "##manipulaçao de strings"
      ],
      "metadata": {
        "id": "QtRDyfy1njCK"
      }
    },
    {
      "cell_type": "code",
      "source": [
        "name='sam'\n",
        "last_letters=name[1::]\n",
        "new_name='P'+last_letters\n",
        "print(new_name)"
      ],
      "metadata": {
        "id": "sbgsN20kSdNE"
      },
      "execution_count": null,
      "outputs": []
    },
    {
      "cell_type": "code",
      "source": [
        "#aqui conseguimos pegar seguimentos ou pedaços de um str\n",
        "print('tinker'[1:4])\n",
        "#a gente tambem pode chamar isso de fatiar a palavra"
      ],
      "metadata": {
        "id": "oZl72IYfjlRr"
      },
      "execution_count": null,
      "outputs": []
    },
    {
      "cell_type": "code",
      "source": [
        "my_frase='abcdefghiklmno'\n",
        "my_frase[::]"
      ],
      "metadata": {
        "id": "St5GIy6DkPtC"
      },
      "execution_count": null,
      "outputs": []
    },
    {
      "cell_type": "code",
      "source": [
        "my_frase[::2]#pula 2 em 2\n",
        "my_frase[::-1]#inverte\n",
        "'Hello World'[7]"
      ],
      "metadata": {
        "id": "Lmgq7ogcliDn"
      },
      "execution_count": null,
      "outputs": []
    },
    {
      "cell_type": "code",
      "source": [
        "#aqui temos outra forma de fazer a visualizaçao do que foi armazenado pela variavel fruit\n",
        "fruit=input(\"nome da fruta :\")\n",
        "index = 0\n",
        "#we use WHILE for loops\n",
        "while index < len(fruit):\n",
        " letter = fruit[index]\n",
        " print (letter)\n",
        " index = index + 1"
      ],
      "metadata": {
        "colab": {
          "base_uri": "https://localhost:8080/"
        },
        "id": "FoxUfdKInaqT",
        "outputId": "b47b7e63-0c51-4e0f-c0d5-7bb0a7d739f7"
      },
      "execution_count": null,
      "outputs": [
        {
          "output_type": "stream",
          "name": "stdout",
          "text": [
            "nome da fruta :casa\n",
            "c\n",
            "a\n",
            "s\n",
            "a\n"
          ]
        }
      ]
    },
    {
      "cell_type": "code",
      "source": [
        "#alem disso podemos saber o tamanho desse string,quantidade de letras\n",
        "print(len(fruit)) #banana=6\n",
        "#vem a ser util quando desejamos limitar o numero de letras para ser utilizado pelo usuario\n",
        "#por exemplo em um formulario 50 letras pra um nome pode ser um absurdo"
      ],
      "metadata": {
        "id": "IO8mAldVoJSM"
      },
      "execution_count": null,
      "outputs": []
    },
    {
      "cell_type": "markdown",
      "source": [
        "#utilizando o split"
      ],
      "metadata": {
        "id": "7rEB4gowTKoD"
      }
    },
    {
      "cell_type": "code",
      "source": [
        "text=\"Interesting facts about the Moon. The Moon is Earth's only satellite. There are several interesting facts about the Moon and how it affects life here on Earth.On average, the Moon moves 4cm away from the Earth every year. This yearly drift is not significant enough to cause immediate effects on Earth. The highest daylight temperature of theMoon is 127 C.\""
      ],
      "metadata": {
        "id": "Xkx8PdGOTMtc"
      },
      "execution_count": null,
      "outputs": []
    },
    {
      "cell_type": "code",
      "source": [
        "sentences=text.split(\". \")\n",
        "print(sentences)"
      ],
      "metadata": {
        "id": "Taf3a2lBTQFO"
      },
      "execution_count": null,
      "outputs": []
    },
    {
      "cell_type": "code",
      "source": [
        "\n",
        "for sentence in sentences:\n",
        "    if \"temperature\" in sentence:\n",
        "        print(sentence)"
      ],
      "metadata": {
        "id": "pqB2d3sqTWjV"
      },
      "execution_count": null,
      "outputs": []
    },
    {
      "cell_type": "markdown",
      "source": [
        "# Utilizaçao do format"
      ],
      "metadata": {
        "id": "_ajvmkT7oYkw"
      }
    },
    {
      "cell_type": "code",
      "source": [
        "first_nm=input(\"o primeiro nome : \")\n",
        "last_nm=input(\"o sobrenome:\")\n",
        "msg= f'{first_nm}[ {last_nm} ]is a coder'\n",
        "print(msg)"
      ],
      "metadata": {
        "id": "aC76EycyoeHa"
      },
      "execution_count": null,
      "outputs": []
    },
    {
      "cell_type": "code",
      "source": [
        "nome = \"João\"\n",
        "print(\"Olá, {}!\".format(nome))"
      ],
      "metadata": {
        "id": "c1-eq9hdbE3N"
      },
      "execution_count": null,
      "outputs": []
    },
    {
      "cell_type": "code",
      "source": [
        "insert=\"inserido aqui\"\n",
        "print(f'vamos colocar algo aqui {insert}')"
      ],
      "metadata": {
        "id": "EOKujzb8ohg9"
      },
      "execution_count": null,
      "outputs": []
    },
    {
      "cell_type": "code",
      "source": [
        "#tambem tem esse outro formato aqui\n",
        "print('vamos colocar algo aqui {}'.format(\"INSERIDO AQUI\"))"
      ],
      "metadata": {
        "id": "yk5jMkGbolto"
      },
      "execution_count": null,
      "outputs": []
    },
    {
      "cell_type": "code",
      "source": [
        "print(\"o {0} {2} {1}\".format('gato','correu','preto'))"
      ],
      "metadata": {
        "id": "sK8RApfhos7r"
      },
      "execution_count": null,
      "outputs": []
    },
    {
      "cell_type": "code",
      "source": [
        "# que tambem pode ser feito dessa outra forma\n",
        "print(\"o {g} {p} {c}\".format(g='gato',c='correu',p='preto'))\n",
        "#que pode ser util para fazer diversas substituiçoes"
      ],
      "metadata": {
        "id": "8kpOYdcGovyf"
      },
      "execution_count": null,
      "outputs": []
    },
    {
      "cell_type": "code",
      "source": [
        "print(' Regras do Python {} '.format('!'))"
      ],
      "metadata": {
        "id": "RIYrS0jXo7JG"
      },
      "execution_count": null,
      "outputs": []
    },
    {
      "cell_type": "code",
      "source": [
        "planet = \"Earth\"\n",
        "diameter = 12742\n",
        "print(\"The diameter of {0}is {1} kilometer\".format(planet,diameter))"
      ],
      "metadata": {
        "id": "llZ67ey5-Nue"
      },
      "execution_count": null,
      "outputs": []
    },
    {
      "cell_type": "code",
      "source": [
        "mass_percentage = \"1/6\"\n",
        "print(\"\"\"You are lighter on the {moon}, because on the {moon} you would weigh about {mass} of your weight on Earth.\"\"\".format(moon=\"Moon\", mass=mass_percentage))"
      ],
      "metadata": {
        "id": "aMRoAVGNV_Qb"
      },
      "execution_count": null,
      "outputs": []
    },
    {
      "cell_type": "code",
      "source": [
        "vida=\"um animal domestico merece um lar e muito carinho\"\n",
        "print(\"\"\"{0} CINZA, {0} PRETO, {0} AMARELO ,{0} RAZADO {0} BRANCO ,{0} é {amor}\"\"\".format(\"GATO\",amor=vida ))"
      ],
      "metadata": {
        "colab": {
          "base_uri": "https://localhost:8080/"
        },
        "id": "Hx3II0FHWLBF",
        "outputId": "ee5b806f-7c17-49db-876b-5ae71202f43e"
      },
      "execution_count": 16,
      "outputs": [
        {
          "output_type": "stream",
          "name": "stdout",
          "text": [
            "GATO CINZA, GATO PRETO, GATO AMARELO ,GATO RAZADO GATO BRANCO ,GATO é um animal domestico merece um lar e muito carinho\n"
          ]
        }
      ]
    },
    {
      "cell_type": "markdown",
      "source": [
        "# utilizção do %"
      ],
      "metadata": {
        "id": "dEaga1L4UYxM"
      }
    },
    {
      "cell_type": "code",
      "source": [
        "mass_percentage = \"1/6\"\n",
        "print(\"On the Moon, you would weigh about %s of your weight on Earth.\" % mass_percentage)"
      ],
      "metadata": {
        "id": "HiRXaqlpUZrQ"
      },
      "execution_count": null,
      "outputs": []
    },
    {
      "cell_type": "markdown",
      "source": [
        "#de string para lista"
      ],
      "metadata": {
        "id": "bIlJPdUu-Zhf"
      }
    },
    {
      "cell_type": "code",
      "source": [
        "#utilizaçao de funçao\n",
        "def Convert(string):\n",
        "    li = list(string.split(\" \"))\n",
        "    return li\n",
        "\n",
        "\n",
        "# Driver code\n",
        "str1 = \"Guerra nas estrelas\"\n",
        "print(Convert(str1))"
      ],
      "metadata": {
        "colab": {
          "base_uri": "https://localhost:8080/"
        },
        "id": "8t3Tbly8-awQ",
        "outputId": "74df19a4-acc4-4827-f71a-41cf42ac56aa"
      },
      "execution_count": null,
      "outputs": [
        {
          "output_type": "stream",
          "name": "stdout",
          "text": [
            "['Guerra', 'nas', 'estrelas']\n"
          ]
        }
      ]
    },
    {
      "cell_type": "markdown",
      "source": [
        "#referencia"
      ],
      "metadata": {
        "id": "8Bv3xPuF2n96"
      }
    },
    {
      "cell_type": "code",
      "source": [
        "# https://stackabuse.com/getting-user-input-in-python/\n",
        "# https://programmingwithmosh.com/wp-content/uploads/2019/02/Python-Cheat-Sheet.pdf\n",
        "# https://algoritmosempython.com.br/cursos/programacao-python/entrada-saida/\n",
        "# https://stackoverflow.com/questions/4967580/how-to-get-the-size-of-a-string-in-python"
      ],
      "metadata": {
        "id": "yP0YD1GZ2tR_"
      },
      "execution_count": null,
      "outputs": []
    }
  ]
}