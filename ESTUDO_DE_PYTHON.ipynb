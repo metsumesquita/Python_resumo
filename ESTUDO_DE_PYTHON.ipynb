{
  "nbformat": 4,
  "nbformat_minor": 0,
  "metadata": {
    "colab": {
      "provenance": [],
      "include_colab_link": true
    },
    "kernelspec": {
      "name": "python3",
      "display_name": "Python 3"
    },
    "language_info": {
      "name": "python"
    }
  },
  "cells": [
    {
      "cell_type": "markdown",
      "metadata": {
        "id": "view-in-github",
        "colab_type": "text"
      },
      "source": [
        "<a href=\"https://colab.research.google.com/github/metsumesquita/Python_resumo/blob/main/ESTUDO_DE_PYTHON.ipynb\" target=\"_parent\"><img src=\"https://colab.research.google.com/assets/colab-badge.svg\" alt=\"Open In Colab\"/></a>"
      ]
    },
    {
      "cell_type": "code",
      "source": [
        "#objetos e estruturas de dados basicas\n",
        "#python é uma linguagem orientada a objetos\n"
      ],
      "metadata": {
        "id": "ve1aWRTjmIH_"
      },
      "execution_count": null,
      "outputs": []
    },
    {
      "cell_type": "markdown",
      "source": [
        "#Importaçao"
      ],
      "metadata": {
        "id": "2IKB0cjDu3aE"
      }
    },
    {
      "cell_type": "code",
      "source": [
        "from collections import namedtuple #importaçao"
      ],
      "metadata": {
        "id": "fnjTKFkCu0nx"
      },
      "execution_count": null,
      "outputs": []
    },
    {
      "cell_type": "code",
      "source": [
        "from scipy import signal\n",
        "import numpy as np\n",
        "import matplotlib.pyplot as plt"
      ],
      "metadata": {
        "id": "llWCVCCyS2DW"
      },
      "execution_count": null,
      "outputs": []
    },
    {
      "cell_type": "markdown",
      "source": [],
      "metadata": {
        "id": "dDt7N7gkdTFW"
      }
    },
    {
      "cell_type": "markdown",
      "source": [
        "#Variaveis e atribuiçao"
      ],
      "metadata": {
        "id": "gEJ_y9ljGqIu"
      }
    },
    {
      "cell_type": "code",
      "source": [
        "#as variaveis é apenas um nome dado a uma locaçao de memoria\n",
        "#o string nao sao mutaveis\n",
        "#toda a operaçao feita sobre a variavel afeta a locaçao de memoria"
      ],
      "metadata": {
        "id": "QuLVkl2polDo"
      },
      "execution_count": null,
      "outputs": []
    },
    {
      "cell_type": "code",
      "source": [
        "print(\"Hello \\tWorld\")"
      ],
      "metadata": {
        "colab": {
          "base_uri": "https://localhost:8080/"
        },
        "id": "S3znG9jp3Fvf",
        "outputId": "ce39e12e-d031-48b8-8f18-714d6a66ff0b"
      },
      "execution_count": null,
      "outputs": [
        {
          "output_type": "stream",
          "name": "stdout",
          "text": [
            "Hello \tWorld\n"
          ]
        }
      ]
    },
    {
      "cell_type": "code",
      "source": [
        "#essa é a maneira que da pra fazer personagem : \"frase\"\n",
        "fala = \"She said: \\\"Hi\\\"\"\n",
        "print(fala)"
      ],
      "metadata": {
        "colab": {
          "base_uri": "https://localhost:8080/"
        },
        "id": "Er1xjey2-1CS",
        "outputId": "cd2640d8-70ba-4504-dbb2-5b9b45015b95"
      },
      "execution_count": null,
      "outputs": [
        {
          "output_type": "stream",
          "name": "stdout",
          "text": [
            "She said: \"Hi\"\n"
          ]
        }
      ]
    },
    {
      "cell_type": "code",
      "execution_count": null,
      "metadata": {
        "id": "4hwLJr2Z2NzG",
        "colab": {
          "base_uri": "https://localhost:8080/"
        },
        "outputId": "f26bf1ba-391a-41d6-a26b-7610968039ea"
      },
      "outputs": [
        {
          "output_type": "stream",
          "name": "stdout",
          "text": [
            "O nome dela é : ?  Thais\n"
          ]
        }
      ],
      "source": [
        "#devemos nomear as variaveis da seguinte forma\n",
        "my_name = 'Thais' # esse = é uma ATRIBUIÇAO\n",
        "print('O nome dela é  ? :  '+my_name)\n",
        "#nao é permitido usar numeros no começo das variaveis\n",
        "#nao é permitido utilizar o espaço dentro de uma variavel"
      ]
    },
    {
      "cell_type": "code",
      "source": [
        "#alterando\n",
        "phrase=\"Gato de gravata\"\n",
        "print(phrase)\n",
        "#frase original\n",
        "print(phrase.replace(\"Gato\",\"Urso\"))\n",
        "#frase que sofreu  substituiçao"
      ],
      "metadata": {
        "colab": {
          "base_uri": "https://localhost:8080/"
        },
        "id": "eRQjowhJ2FsJ",
        "outputId": "8c5cc8a9-b085-47fb-b229-e7ea0cf1592a"
      },
      "execution_count": null,
      "outputs": [
        {
          "output_type": "stream",
          "name": "stdout",
          "text": [
            "Gato de gravata\n",
            "Urso de gravata\n"
          ]
        }
      ]
    },
    {
      "cell_type": "code",
      "source": [
        "print(phrase.title())\n",
        "#deixa em maiusculo a primeira letra de cada palavra"
      ],
      "metadata": {
        "colab": {
          "base_uri": "https://localhost:8080/"
        },
        "id": "8L4ed7m5Cawi",
        "outputId": "90db484d-95e5-4f2a-b483-a148428fa670"
      },
      "execution_count": null,
      "outputs": [
        {
          "output_type": "stream",
          "name": "stdout",
          "text": [
            "Gato De Gravata\n"
          ]
        }
      ]
    },
    {
      "cell_type": "code",
      "source": [
        "print(phrase.startswith(\"Urso\"))"
      ],
      "metadata": {
        "colab": {
          "base_uri": "https://localhost:8080/"
        },
        "id": "YjXiNtns6OPo",
        "outputId": "89026006-32ec-4464-95fe-9290971d7440"
      },
      "execution_count": null,
      "outputs": [
        {
          "output_type": "stream",
          "name": "stdout",
          "text": [
            "False\n"
          ]
        }
      ]
    },
    {
      "cell_type": "code",
      "source": [
        "print(phrase.startswith(\"Gato\"))"
      ],
      "metadata": {
        "colab": {
          "base_uri": "https://localhost:8080/"
        },
        "id": "935FpLTg7XJw",
        "outputId": "30fa82a9-2426-48e7-f24f-b7aa0f17bcef"
      },
      "execution_count": null,
      "outputs": [
        {
          "output_type": "stream",
          "name": "stdout",
          "text": [
            "True\n"
          ]
        }
      ]
    },
    {
      "cell_type": "code",
      "source": [
        "print(phrase.endswith(\"gravata\"))"
      ],
      "metadata": {
        "colab": {
          "base_uri": "https://localhost:8080/"
        },
        "id": "fCyzdj2X7fVM",
        "outputId": "17c8b165-d332-4d28-8679-2aedbe886c95"
      },
      "execution_count": null,
      "outputs": [
        {
          "output_type": "stream",
          "name": "stdout",
          "text": [
            "True\n"
          ]
        }
      ]
    },
    {
      "cell_type": "markdown",
      "source": [
        "#Leitura de Dados do Teclado/Entrada"
      ],
      "metadata": {
        "id": "vOgSqQ6O1z29"
      }
    },
    {
      "cell_type": "code",
      "source": [
        "import pandas as pd\n",
        "if __name__ == '__main__':\n",
        "    a = int(input(\"informe valor\"))\n",
        "    b = int(input(\"informe valor\"))\n",
        "    print((int(a)+int(b)))\n",
        "    print((int(a)-int(b) ))\n",
        "    print((int(a)*int(b)))"
      ],
      "metadata": {
        "id": "sZX8mq2tmnui"
      },
      "execution_count": null,
      "outputs": []
    },
    {
      "cell_type": "code",
      "source": [
        "#aqui notamos que essas duas variaveis ,sao consideradas strings\n",
        "num1=input('Informe o valor da variavel 1 : ')\n",
        "num2=input('Informe o valor da variavel 2 : ')\n",
        "print('Resposta : '+num1+num2)\n",
        "##num1 e num2 sao strings\n",
        "#mas nao era isso q esperavamos ou queriamos\n",
        "soma=int(num1)+int(num2)\n",
        "#soma precisa ser do tipo string para poder ser utilizado com o print dessa forma abaixo\n",
        "print('Resultado desejado: '+str(soma) )"
      ],
      "metadata": {
        "colab": {
          "base_uri": "https://localhost:8080/",
          "height": 380
        },
        "id": "8UGOkZiDjR7g",
        "outputId": "98b473ce-b5d7-46bd-c03e-26c3e847476e"
      },
      "execution_count": null,
      "outputs": [
        {
          "output_type": "error",
          "ename": "KeyboardInterrupt",
          "evalue": "ignored",
          "traceback": [
            "\u001b[0;31m---------------------------------------------------------------------------\u001b[0m",
            "\u001b[0;31mKeyboardInterrupt\u001b[0m                         Traceback (most recent call last)",
            "\u001b[0;32m<ipython-input-13-2118551f056a>\u001b[0m in \u001b[0;36m<module>\u001b[0;34m\u001b[0m\n\u001b[1;32m      1\u001b[0m \u001b[0;31m#aqui notamos que essas duas variaveis ,sao consideradas strings\u001b[0m\u001b[0;34m\u001b[0m\u001b[0;34m\u001b[0m\u001b[0;34m\u001b[0m\u001b[0m\n\u001b[0;32m----> 2\u001b[0;31m \u001b[0mnum1\u001b[0m\u001b[0;34m=\u001b[0m\u001b[0minput\u001b[0m\u001b[0;34m(\u001b[0m\u001b[0;34m'Informe o valor da variavel 1 : '\u001b[0m\u001b[0;34m)\u001b[0m\u001b[0;34m\u001b[0m\u001b[0;34m\u001b[0m\u001b[0m\n\u001b[0m\u001b[1;32m      3\u001b[0m \u001b[0mnum2\u001b[0m\u001b[0;34m=\u001b[0m\u001b[0minput\u001b[0m\u001b[0;34m(\u001b[0m\u001b[0;34m'Informe o valor da variavel 2 : '\u001b[0m\u001b[0;34m)\u001b[0m\u001b[0;34m\u001b[0m\u001b[0;34m\u001b[0m\u001b[0m\n\u001b[1;32m      4\u001b[0m \u001b[0mprint\u001b[0m\u001b[0;34m(\u001b[0m\u001b[0;34m'Resposta : '\u001b[0m\u001b[0;34m+\u001b[0m\u001b[0mnum1\u001b[0m\u001b[0;34m+\u001b[0m\u001b[0mnum2\u001b[0m\u001b[0;34m)\u001b[0m\u001b[0;34m\u001b[0m\u001b[0;34m\u001b[0m\u001b[0m\n\u001b[1;32m      5\u001b[0m \u001b[0;31m##num1 e num2 sao strings\u001b[0m\u001b[0;34m\u001b[0m\u001b[0;34m\u001b[0m\u001b[0;34m\u001b[0m\u001b[0m\n",
            "\u001b[0;32m/usr/local/lib/python3.7/dist-packages/ipykernel/kernelbase.py\u001b[0m in \u001b[0;36mraw_input\u001b[0;34m(self, prompt)\u001b[0m\n\u001b[1;32m    861\u001b[0m             \u001b[0mself\u001b[0m\u001b[0;34m.\u001b[0m\u001b[0m_parent_ident\u001b[0m\u001b[0;34m,\u001b[0m\u001b[0;34m\u001b[0m\u001b[0;34m\u001b[0m\u001b[0m\n\u001b[1;32m    862\u001b[0m             \u001b[0mself\u001b[0m\u001b[0;34m.\u001b[0m\u001b[0m_parent_header\u001b[0m\u001b[0;34m,\u001b[0m\u001b[0;34m\u001b[0m\u001b[0;34m\u001b[0m\u001b[0m\n\u001b[0;32m--> 863\u001b[0;31m             \u001b[0mpassword\u001b[0m\u001b[0;34m=\u001b[0m\u001b[0;32mFalse\u001b[0m\u001b[0;34m,\u001b[0m\u001b[0;34m\u001b[0m\u001b[0;34m\u001b[0m\u001b[0m\n\u001b[0m\u001b[1;32m    864\u001b[0m         )\n\u001b[1;32m    865\u001b[0m \u001b[0;34m\u001b[0m\u001b[0m\n",
            "\u001b[0;32m/usr/local/lib/python3.7/dist-packages/ipykernel/kernelbase.py\u001b[0m in \u001b[0;36m_input_request\u001b[0;34m(self, prompt, ident, parent, password)\u001b[0m\n\u001b[1;32m    902\u001b[0m             \u001b[0;32mexcept\u001b[0m \u001b[0mKeyboardInterrupt\u001b[0m\u001b[0;34m:\u001b[0m\u001b[0;34m\u001b[0m\u001b[0;34m\u001b[0m\u001b[0m\n\u001b[1;32m    903\u001b[0m                 \u001b[0;31m# re-raise KeyboardInterrupt, to truncate traceback\u001b[0m\u001b[0;34m\u001b[0m\u001b[0;34m\u001b[0m\u001b[0;34m\u001b[0m\u001b[0m\n\u001b[0;32m--> 904\u001b[0;31m                 \u001b[0;32mraise\u001b[0m \u001b[0mKeyboardInterrupt\u001b[0m\u001b[0;34m(\u001b[0m\u001b[0;34m\"Interrupted by user\"\u001b[0m\u001b[0;34m)\u001b[0m \u001b[0;32mfrom\u001b[0m \u001b[0;32mNone\u001b[0m\u001b[0;34m\u001b[0m\u001b[0;34m\u001b[0m\u001b[0m\n\u001b[0m\u001b[1;32m    905\u001b[0m             \u001b[0;32mexcept\u001b[0m \u001b[0mException\u001b[0m \u001b[0;32mas\u001b[0m \u001b[0me\u001b[0m\u001b[0;34m:\u001b[0m\u001b[0;34m\u001b[0m\u001b[0;34m\u001b[0m\u001b[0m\n\u001b[1;32m    906\u001b[0m                 \u001b[0mself\u001b[0m\u001b[0;34m.\u001b[0m\u001b[0mlog\u001b[0m\u001b[0;34m.\u001b[0m\u001b[0mwarning\u001b[0m\u001b[0;34m(\u001b[0m\u001b[0;34m\"Invalid Message:\"\u001b[0m\u001b[0;34m,\u001b[0m \u001b[0mexc_info\u001b[0m\u001b[0;34m=\u001b[0m\u001b[0;32mTrue\u001b[0m\u001b[0;34m)\u001b[0m\u001b[0;34m\u001b[0m\u001b[0;34m\u001b[0m\u001b[0m\n",
            "\u001b[0;31mKeyboardInterrupt\u001b[0m: Interrupted by user"
          ]
        }
      ]
    },
    {
      "cell_type": "code",
      "source": [
        "#string\n",
        "meu_texto = input(\"Digite um texto : \")\n",
        "# Recebendo números\n",
        "numero_inteiro = int(input(\"Digite um numero inteiro qualquer : \"))\n",
        "numero_decimal = float(input(\"Digite um numero decimal qualquer : \"))"
      ],
      "metadata": {
        "id": "98XZdEe9lwmp"
      },
      "execution_count": null,
      "outputs": []
    },
    {
      "cell_type": "markdown",
      "source": [
        "#trabalhando com strings"
      ],
      "metadata": {
        "id": "DVYX6t8A7AIx"
      }
    },
    {
      "cell_type": "code",
      "source": [
        "nome=input(\"Informe o seu nome : \")\n",
        "idade=int(input(\"Informe a sua idade : \"))\n",
        "print(\"Seu nome é : \"+nome+\"e  sua idade é  : \"+ str(idade) )\n",
        "\n",
        "#tambem podemos fazer algo como utilizar o upper para torna tudo maiusculo\n",
        "\n",
        "#utilizamos find pra encontrar a posiçao que aquela letra/char se encontra\n",
        "\n",
        "#abaixo vamos fazer um exercicio"
      ],
      "metadata": {
        "id": "OhKYGDLc3BSN"
      },
      "execution_count": null,
      "outputs": []
    },
    {
      "cell_type": "code",
      "source": [
        "#Faça um programa que receba a idade do usuário e diga se ele é maior ou menor de idade.\n",
        "if(idade>=18):\n",
        "  print(nome+ \"é maior de idade \")\n",
        "else:\n",
        "  print(nome+\" é menor de idade\")"
      ],
      "metadata": {
        "id": "ioXqdyLmvdjN"
      },
      "execution_count": null,
      "outputs": []
    },
    {
      "cell_type": "code",
      "source": [
        "type(nome)"
      ],
      "metadata": {
        "id": "fpfQUF-Q6I_4"
      },
      "execution_count": null,
      "outputs": []
    },
    {
      "cell_type": "code",
      "source": [
        "#alfa numerico\n",
        "'54A12B'.isalnum()"
      ],
      "metadata": {
        "id": "dXr1KlaT7y8f"
      },
      "execution_count": null,
      "outputs": []
    },
    {
      "cell_type": "code",
      "source": [
        "print(1940,\"A casa do penhasco\")"
      ],
      "metadata": {
        "id": "SXzt2gpLAdrr",
        "colab": {
          "base_uri": "https://localhost:8080/"
        },
        "outputId": "f3ab7e90-0fb0-4d50-fa0c-4bf8ba5306b0"
      },
      "execution_count": null,
      "outputs": [
        {
          "output_type": "stream",
          "name": "stdout",
          "text": [
            "1940 A casa do penhasco\n"
          ]
        }
      ]
    },
    {
      "cell_type": "markdown",
      "source": [
        "##Concatenando String"
      ],
      "metadata": {
        "id": "Yd86iEW0xZ0W"
      }
    },
    {
      "cell_type": "code",
      "source": [
        "name='sam'\n",
        "last_letters=name[1::]\n",
        "new_name='P'+last_letters\n",
        "print(new_name)"
      ],
      "metadata": {
        "id": "k91Tczk5yLQK",
        "colab": {
          "base_uri": "https://localhost:8080/"
        },
        "outputId": "f154ddde-8a33-4189-a930-da6097347b6b"
      },
      "execution_count": null,
      "outputs": [
        {
          "output_type": "stream",
          "name": "stdout",
          "text": [
            "Pam\n"
          ]
        }
      ]
    },
    {
      "cell_type": "code",
      "source": [
        "a=\"Ola todos,nos da light academy\"\n",
        "b=\"Estamos convidando todos os novatos para o evento de sabado a noite\"\n",
        "c=a + b +\"\\n\" #quebra de linha\n",
        "print(c+\"as 18 horas\")\n",
        "d=a+\"\\n\"+b #quebra de linha\n",
        "print(d)\n",
        "#com quebra de linha"
      ],
      "metadata": {
        "id": "Sohdbq_g3OMz",
        "outputId": "3bacb867-0231-4abd-d882-6e76022e3e0b",
        "colab": {
          "base_uri": "https://localhost:8080/"
        }
      },
      "execution_count": null,
      "outputs": [
        {
          "output_type": "stream",
          "name": "stdout",
          "text": [
            "Ola todos,nos da light academyEstamos convidando todos os novatos para o evento de sabado a noite\n",
            "as 18 horas\n",
            "Ola todos,nos da light academy\n",
            "Estamos convidando todos os novatos para o evento de sabado a noite\n"
          ]
        }
      ]
    },
    {
      "cell_type": "code",
      "source": [
        "#index\n",
        "frase=\"Os gatos persa sao a raça mais popular entre as outras raças de gato\"\n",
        "\n",
        "print(frase[0])\n",
        "print(frase[1])#espaço\n",
        "print(frase[2])\n",
        "print(frase[3])\n",
        "print(frase[4])\n",
        "print(frase[5])\n",
        "print(frase[6])\n",
        "print(frase[7])"
      ],
      "metadata": {
        "id": "7zXtrU8w7HTU"
      },
      "execution_count": null,
      "outputs": []
    },
    {
      "cell_type": "code",
      "source": [
        "print(str(frase.upper()))#maiusculo\n",
        "print(str(frase.lower()))#minusculo"
      ],
      "metadata": {
        "id": "IrwS9rxf948p"
      },
      "execution_count": null,
      "outputs": []
    },
    {
      "cell_type": "code",
      "source": [
        "print(frase[0:])\n",
        "#retorna do inicio ate o final da frase\n",
        "\n",
        "print(frase.find('g'))\n",
        "#retorna a posiçao que é encontrado\n",
        "#caso nao seja encontrado retorna -1\n",
        "\n",
        "print(\"gatos\" in frase)\n",
        "#aqui rerificamos se esse \"algo\" esta sendo usando na frase"
      ],
      "metadata": {
        "id": "DlzHpe7y9f_P"
      },
      "execution_count": null,
      "outputs": []
    },
    {
      "cell_type": "code",
      "source": [
        "print('tinker'[1:4])"
      ],
      "metadata": {
        "id": "ycpzu4TIwfvT",
        "colab": {
          "base_uri": "https://localhost:8080/"
        },
        "outputId": "a8f35b85-c6c6-4849-b0a1-9136550b6ec8"
      },
      "execution_count": null,
      "outputs": [
        {
          "output_type": "stream",
          "name": "stdout",
          "text": [
            "ink\n"
          ]
        }
      ]
    },
    {
      "cell_type": "code",
      "source": [
        "my_frase='abcdefghiklmno'\n",
        "my_frase[::]\n"
      ],
      "metadata": {
        "id": "UoMU8lAg63PZ",
        "colab": {
          "base_uri": "https://localhost:8080/",
          "height": 35
        },
        "outputId": "d12c87e9-6e5d-46d2-8f44-244025ab858a"
      },
      "execution_count": null,
      "outputs": [
        {
          "output_type": "execute_result",
          "data": {
            "text/plain": [
              "'abcdefghiklmno'"
            ],
            "application/vnd.google.colaboratory.intrinsic+json": {
              "type": "string"
            }
          },
          "metadata": {},
          "execution_count": 22
        }
      ]
    },
    {
      "cell_type": "code",
      "source": [
        "my_frase[::2]#pula 2 em 2\n",
        "my_frase[::-1]#inverte\n",
        "'Hello World'[7]"
      ],
      "metadata": {
        "id": "392aomqd7KtI",
        "colab": {
          "base_uri": "https://localhost:8080/",
          "height": 35
        },
        "outputId": "e1ef6245-2dd1-4fed-aeed-0018c358ffcb"
      },
      "execution_count": null,
      "outputs": [
        {
          "output_type": "execute_result",
          "data": {
            "text/plain": [
              "'o'"
            ],
            "application/vnd.google.colaboratory.intrinsic+json": {
              "type": "string"
            }
          },
          "metadata": {},
          "execution_count": 23
        }
      ]
    },
    {
      "cell_type": "markdown",
      "source": [
        "#Entrada de dados e Concatenando Strings"
      ],
      "metadata": {
        "id": "BaX6D664Ow_j"
      }
    },
    {
      "cell_type": "code",
      "source": [
        "fruit=input(\"nome da fruta :\")\n",
        "index = 0\n",
        "while index < len(fruit):\n",
        " letter = fruit[index]\n",
        " print (letter)\n",
        " index = index + 1"
      ],
      "metadata": {
        "id": "yUvWtHSvOv_m"
      },
      "execution_count": null,
      "outputs": []
    },
    {
      "cell_type": "code",
      "source": [
        "#alem disso podemos saber o tamanho desse string,qtd de letras\n",
        "print(len(fruit)) #banana=6\n",
        "#vem a ser util qunado desejamos limitar o numero de letras para ser utilizado pelo usuario\n",
        "#por ex em um formulario 50 letras pra um nome pode ser um absurdo"
      ],
      "metadata": {
        "id": "R1s0L-wuO0Tv"
      },
      "execution_count": null,
      "outputs": []
    },
    {
      "cell_type": "code",
      "source": [
        "comida=\"banana\"\n",
        "comida.find(\"na\")\n",
        "#a posiçao que ele encontra o inicio do que esta sendo prourado"
      ],
      "metadata": {
        "id": "rpFXVPfA0A4Z",
        "colab": {
          "base_uri": "https://localhost:8080/"
        },
        "outputId": "4f21da2f-1e94-44f0-8b2d-f2274106ef97"
      },
      "execution_count": null,
      "outputs": [
        {
          "output_type": "execute_result",
          "data": {
            "text/plain": [
              "2"
            ]
          },
          "metadata": {},
          "execution_count": 1
        }
      ]
    },
    {
      "cell_type": "markdown",
      "source": [
        "os comentarios podem ser feitos utilizando # no caso de uma unica linha e\n",
        "\"\"\"\n",
        "algo\n",
        "\"\"\""
      ],
      "metadata": {
        "id": "eYUBF1hfGtlj"
      }
    },
    {
      "cell_type": "code",
      "source": [
        "first_nm=input(\"o primeiro nome : \")\n",
        "last_nm=input(\"o sobrenome:\")\n",
        "msg= f'{first_nm}[ {last_nm} ]is a coder'\n",
        "print(msg)"
      ],
      "metadata": {
        "id": "13zvFHDrLp5I"
      },
      "execution_count": null,
      "outputs": []
    },
    {
      "cell_type": "code",
      "source": [
        "insert=\"inserido aqui\"\n",
        "print(f'vamos colocar algo aqui {insert}')"
      ],
      "metadata": {
        "id": "4KXLQhDEl7QR"
      },
      "execution_count": null,
      "outputs": []
    },
    {
      "cell_type": "markdown",
      "source": [
        "###Print Formatting with Strings"
      ],
      "metadata": {
        "id": "EmXSBFn2zucK"
      }
    },
    {
      "cell_type": "code",
      "source": [
        "print('vamos colocar algo aqui {}'.format(\"INSERIDO AQUI\"))"
      ],
      "metadata": {
        "id": "5lUVxZm9KEIV"
      },
      "execution_count": null,
      "outputs": []
    },
    {
      "cell_type": "code",
      "source": [
        "print(\"o {0} {2} {1}\".format('gato','correu','preto'))"
      ],
      "metadata": {
        "id": "k_8rcidmM_4W"
      },
      "execution_count": null,
      "outputs": []
    },
    {
      "cell_type": "code",
      "source": [
        "print(\"o {g} {p} {c}\".format(g='gato',c='correu',p='preto'))"
      ],
      "metadata": {
        "id": "spz7OKYlNfI2"
      },
      "execution_count": null,
      "outputs": []
    },
    {
      "cell_type": "code",
      "source": [
        "print('Python rules{}'.format('!'))"
      ],
      "metadata": {
        "id": "KN6a6XTT3Hky"
      },
      "execution_count": null,
      "outputs": []
    },
    {
      "cell_type": "code",
      "source": [
        "planet = \"Earth\"\n",
        "diameter = 12742\n",
        "print(\"The diameter of {0}is {1} kilometer\".format(planet,diameter))"
      ],
      "metadata": {
        "id": "yHEktsdh4Rdv"
      },
      "execution_count": null,
      "outputs": []
    },
    {
      "cell_type": "markdown",
      "source": [
        "#como transforma um string em uma lista"
      ],
      "metadata": {
        "id": "7-O31H1_OaA-"
      }
    },
    {
      "cell_type": "code",
      "source": [
        "#utilizaçao de funçao\n",
        "def Convert(string):\n",
        "    li = list(string.split(\" \"))\n",
        "    return li\n",
        "\n",
        "\n",
        "# Driver code\n",
        "str1 = \"Geeks for Geeks\"\n",
        "print(Convert(str1))"
      ],
      "metadata": {
        "colab": {
          "base_uri": "https://localhost:8080/"
        },
        "id": "MVr4lxEPOrHJ",
        "outputId": "c8247b5e-7e60-47ff-f7a4-b2f4c260ce6e"
      },
      "execution_count": null,
      "outputs": [
        {
          "output_type": "stream",
          "name": "stdout",
          "text": [
            "['Geeks', 'for', 'Geeks']\n"
          ]
        }
      ]
    },
    {
      "cell_type": "markdown",
      "source": [
        "#Operaçoes Matematicas em Python\n"
      ],
      "metadata": {
        "id": "O6aDnTOhFzIW"
      }
    },
    {
      "cell_type": "markdown",
      "source": [
        "as regras que usamos na matematica,continuam aqui,\n",
        "entao as operaçoes contendo o parentese forçam ser feitos primeiro,a exponenciaçao vem antes da multiplicaçao e da divissao que vem antes da soma e da divisao\n",
        "outra coisa este tipo de operaçao é\n",
        "'2'-'1' 'eggs'/'easy' 'third'*'a charm'\n",
        "nao é permitido por serem strings"
      ],
      "metadata": {
        "id": "ifPTal_WJMfA"
      }
    },
    {
      "cell_type": "code",
      "source": [
        "#exponenciaçao\n",
        "a=2**3\n",
        "#multiplicaçao\n",
        "b=2*3\n",
        "print(a)\n",
        "print(b)"
      ],
      "metadata": {
        "id": "t-M0KxqgF06n",
        "colab": {
          "base_uri": "https://localhost:8080/"
        },
        "outputId": "26fe4b83-d7e3-4f0b-eb10-1cc146a99a90"
      },
      "execution_count": null,
      "outputs": [
        {
          "output_type": "stream",
          "name": "stdout",
          "text": [
            "8\n",
            "6\n"
          ]
        }
      ]
    },
    {
      "cell_type": "code",
      "source": [
        "#esta divisao resulta  em um valor do tipo float\n",
        "c=43/2\n",
        "#esta divisao inteira(QUOCIENTE) que resulta em um valor do tipo  integer\n",
        "e=15//3\n",
        "print(c)\n",
        "print(e)"
      ],
      "metadata": {
        "id": "3eZaMHoa_Iyg",
        "colab": {
          "base_uri": "https://localhost:8080/"
        },
        "outputId": "95e30734-be0c-431d-e5e8-a72367f5eeab"
      },
      "execution_count": null,
      "outputs": [
        {
          "output_type": "stream",
          "name": "stdout",
          "text": [
            "21.5\n",
            "5\n"
          ]
        }
      ]
    },
    {
      "cell_type": "code",
      "source": [
        "#modulo de um valor utilizado para receber o resto de uma operaçao matematica (RESTO)\n",
        "d=30%2\n",
        "print(d)"
      ],
      "metadata": {
        "id": "Uz3xsPX-ximN",
        "colab": {
          "base_uri": "https://localhost:8080/"
        },
        "outputId": "2c9edd49-7979-4509-95a6-511af1e37d11"
      },
      "execution_count": null,
      "outputs": [
        {
          "output_type": "stream",
          "name": "stdout",
          "text": [
            "0\n"
          ]
        }
      ]
    },
    {
      "cell_type": "code",
      "source": [
        "#valor absoluto em python\n",
        "abs(80-100)"
      ],
      "metadata": {
        "id": "mCMvWN8OQo6E",
        "colab": {
          "base_uri": "https://localhost:8080/"
        },
        "outputId": "30c7a31b-eea7-40bd-8a62-cab6f21e163f"
      },
      "execution_count": null,
      "outputs": [
        {
          "output_type": "execute_result",
          "data": {
            "text/plain": [
              "20"
            ]
          },
          "metadata": {},
          "execution_count": 26
        }
      ]
    },
    {
      "cell_type": "code",
      "source": [
        "import math\n",
        "#raiz\n",
        "print(math.sqrt(16))"
      ],
      "metadata": {
        "colab": {
          "base_uri": "https://localhost:8080/"
        },
        "id": "JTPeegcNhTio",
        "outputId": "359b046e-15c2-436d-d8b6-f4857927396a"
      },
      "execution_count": null,
      "outputs": [
        {
          "output_type": "stream",
          "name": "stdout",
          "text": [
            "4.0\n"
          ]
        }
      ]
    },
    {
      "cell_type": "code",
      "source": [
        "#Escreva um programa que resolva uma equação de segundo grau.\n",
        "#nao sabemos o valor de x nem de delta\n",
        "A=int(input(\"Digite um numero inteiro  Para varial   A: \"))\n",
        "B=int(input(\"Digite um numero inteiro  Para variavel B: \"))\n",
        "C=int(input(\"Digite um numero inteiro  Para variavel C: \"))\n",
        "delta=(B*B) - (4*A*C)\n",
        "print(delta)\n",
        "x1=-(B-delta)/(2*A)\n",
        "x2=-(B+delta)/(2*A)\n",
        "print(\"o valor de   x1 é \"+str(x1)+\" o valor de x2 é \"+str(x2))"
      ],
      "metadata": {
        "id": "NRKb3cvG2_2s"
      },
      "execution_count": null,
      "outputs": []
    },
    {
      "cell_type": "code",
      "source": [
        "0=0.0\n",
        "#encontrar o erro isso é uma atribuiçao"
      ],
      "metadata": {
        "id": "biyTsRl6zsrG",
        "colab": {
          "base_uri": "https://localhost:8080/",
          "height": 135
        },
        "outputId": "26e89539-1af0-46f3-b1ba-10741e7c6e4a"
      },
      "execution_count": null,
      "outputs": [
        {
          "output_type": "error",
          "ename": "SyntaxError",
          "evalue": "ignored",
          "traceback": [
            "\u001b[0;36m  File \u001b[0;32m\"<ipython-input-1-10a3ca66d5d6>\"\u001b[0;36m, line \u001b[0;32m1\u001b[0m\n\u001b[0;31m    0=0.0\u001b[0m\n\u001b[0m         ^\u001b[0m\n\u001b[0;31mSyntaxError\u001b[0m\u001b[0;31m:\u001b[0m can't assign to literal\n"
          ]
        }
      ]
    },
    {
      "cell_type": "code",
      "source": [
        "0 == 0.0"
      ],
      "metadata": {
        "id": "rjtVw5rizoet",
        "colab": {
          "base_uri": "https://localhost:8080/"
        },
        "outputId": "a0f77826-9ce4-45fe-842e-a028fb517236"
      },
      "execution_count": null,
      "outputs": [
        {
          "output_type": "execute_result",
          "data": {
            "text/plain": [
              "True"
            ]
          },
          "metadata": {},
          "execution_count": 2
        }
      ]
    },
    {
      "cell_type": "code",
      "source": [
        "#nesse problemas queremos saber quantos litros de agua vao ser carregadados por cada pessoa se\n",
        "#o caminhao com agua tem 320.5 litros de agua se temos 60 pessoas\n",
        "agua=320.5\n",
        "pessoas=60\n",
        "print(\"cada pessoa vai carregar a quantidade de \"+str(agua/pessoas)+\"de litros de agua\")\n"
      ],
      "metadata": {
        "id": "SAczWdV3uy0P"
      },
      "execution_count": null,
      "outputs": []
    },
    {
      "cell_type": "code",
      "source": [
        "#Temos tambem o pow,max,min,abs entre outros\n",
        "#potencia\n",
        "elevar=pow(3,2)# 3^2 = 9\n",
        "print(elevar)"
      ],
      "metadata": {
        "id": "7a0SvCqQ0Jvj",
        "colab": {
          "base_uri": "https://localhost:8080/"
        },
        "outputId": "74d1774a-e8fe-456a-e93c-03a938651c0f"
      },
      "execution_count": null,
      "outputs": [
        {
          "output_type": "stream",
          "name": "stdout",
          "text": [
            "9\n"
          ]
        }
      ]
    },
    {
      "cell_type": "markdown",
      "source": [],
      "metadata": {
        "id": "QyuPhr8rAaS-"
      }
    },
    {
      "cell_type": "code",
      "source": [
        "pow(7,4)"
      ],
      "metadata": {
        "colab": {
          "base_uri": "https://localhost:8080/"
        },
        "id": "ZH_nMhZyQniM",
        "outputId": "9423fb0b-b8a2-4a65-95fd-b92563caff76"
      },
      "execution_count": null,
      "outputs": [
        {
          "output_type": "execute_result",
          "data": {
            "text/plain": [
              "2401"
            ]
          },
          "metadata": {},
          "execution_count": 3
        }
      ]
    },
    {
      "cell_type": "code",
      "source": [
        "#maximo e minimo entre valores\n",
        "maior_entre=max(4,6)#o maior entre os valores 4< 6 =6\n",
        "menor_entre=min(2,7)#o menor entre os dois valores 2<7 =2\n",
        "print(maior_entre)\n",
        "print(menor_entre)"
      ],
      "metadata": {
        "id": "nczSi1Lq1WZU"
      },
      "execution_count": null,
      "outputs": []
    },
    {
      "cell_type": "code",
      "source": [
        "#arrendodamento  pra baixo ou pra cima\n",
        "arrendodado_cima=round(3.7)\n",
        "arredondado_baixo=round(3.2)\n",
        "print(arrendodado_cima)\n",
        "print(arredondado_baixo)"
      ],
      "metadata": {
        "id": "Xp7lp-HD1cmW"
      },
      "execution_count": null,
      "outputs": []
    },
    {
      "cell_type": "code",
      "source": [
        "import decimal\n",
        "d=decimal.Decimal(\"39.54484700000000\")\n",
        "round(d,2)"
      ],
      "metadata": {
        "id": "K7NQbyz7JhLC"
      },
      "execution_count": null,
      "outputs": []
    },
    {
      "cell_type": "code",
      "source": [
        "#vamos ver um pouco mais sobre operaçoes abaixo\n",
        "\n",
        "x=3#atribuiçao\n",
        "y= x + 3\n",
        "print(\"o valor de y é:\"+str(y))#3+3=6\n",
        "\n",
        "y+= 3\n",
        "print(\"o valor de y + 3 é igual a :\"+str(y))#6+3=9\n",
        "\n",
        "y-= 4\n",
        "print(\"o valor de y - 4 é igual a :\"+str(y))#9-4=5\n",
        "\n",
        "y*=2\n",
        "print(\"o valor de y vezes 2 é igual a :\"+str(y))#5*2=10\n"
      ],
      "metadata": {
        "id": "5Nh9A8x3-8xq"
      },
      "execution_count": null,
      "outputs": []
    },
    {
      "cell_type": "code",
      "source": [
        "#alem disso podemos print dessa outra forma as seguintes operaçoes\n",
        "\n",
        "\n",
        "value_1=int(input(\"Digite um numero inteiro : \"))\n",
        "value_2=int(input(\"Digite outro numero inteiro: \"))\n",
        "somar= value_1 + value_2\n",
        "\n",
        "subtrair = value_1 - value_2\n",
        "\n",
        "dividir=value_1/value_2\n",
        "multiplicar=value_1*value_2\n",
        "\n",
        "resto=value_1%value_2\n",
        "print('Soma: {}  Subtraçao: {}  divisao: {}  multiplicaçao: {};'.format(somar,subtrair,dividir,multiplicar))\n"
      ],
      "metadata": {
        "id": "4LLYJLFELiDc",
        "colab": {
          "base_uri": "https://localhost:8080/"
        },
        "outputId": "f4596eed-b851-46f6-c226-b696497a2db9"
      },
      "execution_count": null,
      "outputs": [
        {
          "output_type": "stream",
          "name": "stdout",
          "text": [
            "Digite um numero inteiro : 5\n",
            "Digite outro numero inteiro: 2\n",
            "Soma: {} /n Subtraçao: {} /ndivisao: {}/n multiplicaçao: 7;\n"
          ]
        }
      ]
    },
    {
      "cell_type": "code",
      "source": [
        "result=100/777\n",
        "print(\"o resultado é {r:1.4f}\".format(r=result))"
      ],
      "metadata": {
        "id": "AyBoilALh45h",
        "colab": {
          "base_uri": "https://localhost:8080/"
        },
        "outputId": "22ca366d-e45a-4034-b56a-3bd4c83a634f"
      },
      "execution_count": null,
      "outputs": [
        {
          "output_type": "stream",
          "name": "stdout",
          "text": [
            "o resultado é 0.1287\n"
          ]
        }
      ]
    },
    {
      "cell_type": "markdown",
      "source": [
        "##Conversão de valores  numericos"
      ],
      "metadata": {
        "id": "TRd1K0-F6n47"
      }
    },
    {
      "cell_type": "code",
      "source": [
        "float(9)"
      ],
      "metadata": {
        "colab": {
          "base_uri": "https://localhost:8080/"
        },
        "id": "h_REiOkI6y8a",
        "outputId": "3f54020c-268c-4d59-c274-70b108f599d8"
      },
      "execution_count": null,
      "outputs": [
        {
          "output_type": "execute_result",
          "data": {
            "text/plain": [
              "9.0"
            ]
          },
          "metadata": {},
          "execution_count": 2
        }
      ]
    },
    {
      "cell_type": "code",
      "source": [
        "int(6.0)"
      ],
      "metadata": {
        "colab": {
          "base_uri": "https://localhost:8080/"
        },
        "id": "wyci6w1l6ysN",
        "outputId": "e96d3506-f1a8-48bc-8cc5-e411fc8eefd1"
      },
      "execution_count": null,
      "outputs": [
        {
          "output_type": "execute_result",
          "data": {
            "text/plain": [
              "6"
            ]
          },
          "metadata": {},
          "execution_count": 3
        }
      ]
    },
    {
      "cell_type": "code",
      "source": [
        "int(6.5)"
      ],
      "metadata": {
        "colab": {
          "base_uri": "https://localhost:8080/"
        },
        "id": "zMooPScF64EC",
        "outputId": "e38110f4-4d74-45b7-ed5a-728d3a8562f6"
      },
      "execution_count": null,
      "outputs": [
        {
          "output_type": "execute_result",
          "data": {
            "text/plain": [
              "6"
            ]
          },
          "metadata": {},
          "execution_count": 4
        }
      ]
    },
    {
      "cell_type": "markdown",
      "source": [
        "#Operador logico e relacional\n",
        "\n",
        "\n",
        "---\n",
        "\n",
        "\n",
        "#####Operador relacional\n",
        "######== se iquais\n",
        "######!= se diferentes\n",
        "######<  menor,> maior ,<=  menor iqual,>= maior iqual\n",
        "---\n",
        "Operador logico\n",
        "\n",
        "o operador OR espera que pelo menos uma das condiçoes seja verdadeira\n",
        "\n",
        "o operador AND espera que as duas das condiçoes sejam verdadeiras\n",
        "\n",
        "o operador NOT inverte o valor/resultado\n"
      ],
      "metadata": {
        "id": "8Ldr6G3sCIZ2"
      }
    },
    {
      "cell_type": "code",
      "source": [
        "#atividade\n",
        "#Faça um programa que receba duas notas digitadas pelo usuário.\n",
        "# Se a nota for maior ou igual a seis, escreva aprovado, senão escreva reprovado.\n",
        "QG_1=int(input(\"Informe a primeira atividade avaliativa do aluno/a :\"))\n",
        "QG_2=int(input(\"Informe a segunda atividade avaliativa do aluno/a :\"))\n",
        "if((QG_1>10 or QG_1<0) or (QG_2>10 or QG_2<0)):\n",
        "  print(\"valor inadequado\")\n",
        "else:\n",
        "  media= (QG_1+QG_2)/2\n",
        "  if(media>=6):\n",
        "    print(\"aluno aprovado \")\n",
        "  else:\n",
        "    print(\"aluno reprovador\")"
      ],
      "metadata": {
        "id": "GJWJQqFewzJ1",
        "colab": {
          "base_uri": "https://localhost:8080/"
        },
        "outputId": "079b654e-8c1c-4530-de3f-45053ee73c3f"
      },
      "execution_count": null,
      "outputs": [
        {
          "output_type": "stream",
          "name": "stdout",
          "text": [
            "Informe a primeira atividade avaliativa do aluno/a :-1\n",
            "Informe a segunda atividade avaliativa do aluno/a :1\n",
            "valor inadequado\n"
          ]
        }
      ]
    },
    {
      "cell_type": "code",
      "source": [
        "# AND\n",
        "var1=4\n",
        "var2=3\n",
        "var3=6\n",
        "soma=var1+var3 #10   10>7 10>9\n",
        "soma2=var1+var2#7    7<10 7<9\n",
        "soma3=var2+var3#9    9>7 9<10\n",
        "print(soma>soma2 and soma>soma3) #ambas afirmaçoes sao verdadeiras\n",
        "print(soma<soma2 and soma>soma3) #ambas afirmaçoes nao sao verdadeiras ,a primeira condiçao é falsa"
      ],
      "metadata": {
        "id": "mBneNRRcBwkW"
      },
      "execution_count": null,
      "outputs": []
    },
    {
      "cell_type": "code",
      "source": [
        "#OR\n",
        "\n",
        "print(soma>soma2 or soma>soma3) #ambas afirmaçoes sao verdadeiras,o or retorna  TRUE que pelo menos 1 seja verdadeira\n",
        "print(soma<soma2 or soma>soma3) #ambas afirmaçoes nao sao verdadeiras,mas o or retorna true com uma condiçao verdadeira"
      ],
      "metadata": {
        "id": "3_aU58E_3omI"
      },
      "execution_count": null,
      "outputs": []
    },
    {
      "cell_type": "markdown",
      "source": [
        "#Condicional\n",
        "#####o python tem o if ,elif e o else\n",
        "#####caso note que sera utilizado muitos elif pense em utilizar o CASE ou o switch\n",
        "#####if == se\n",
        "#####elif ou else if == se nao\n",
        "######TENHA CUIDADO COM A INDENTAÇAO"
      ],
      "metadata": {
        "id": "a2C_bGxe5k01"
      }
    },
    {
      "cell_type": "code",
      "source": [
        "#if e elif\n",
        "cinco=5\n",
        "if cinco<10:\n",
        "  print('o valor é inferior a 10 ')\n",
        "elif cinco>20:\n",
        "  print('o valor é superior a 20 ');\n",
        "  #normalmente temos o\n",
        "  #if condiçao :\n",
        "  ####um tab ou 4 espaços entao  linha/ou bloco q acontece se cumprir a condiçao\n",
        "  ####a tecla TAB fica mais a esquerda do teclado proxima do \" ' e do Q (normalmente)"
      ],
      "metadata": {
        "id": "zL3e4iFZzpU4"
      },
      "execution_count": null,
      "outputs": []
    },
    {
      "cell_type": "code",
      "source": [
        "temperatura=25\n",
        "if temperatura>35:\n",
        "    print(\"é um dia escandalte\")\n",
        "elif temperatura>=30:\n",
        "  print(\"é um dia comum\")\n",
        "elif temperatura>20:\n",
        "  print(\"é um dia ameno\")\n",
        "elif temperatura>10:\n",
        "  print(\"é um dia congelante\")\n",
        "else:\n",
        "  print(\"é um dia severo\")\n",
        "##aqui temos o fim de um bloco\n",
        "print('done')"
      ],
      "metadata": {
        "id": "2VFbOM2H1NXu"
      },
      "execution_count": null,
      "outputs": []
    },
    {
      "cell_type": "code",
      "source": [
        "#vamos para outro exemplo que vamos ver como a indentaçao é importante\n",
        "var1=4\n",
        "var3=6\n",
        "##precisa executar alguns celulas acima pra poder ter o valor ve var1 e var3\n",
        "if var3>var1:                                                                   #linha 1\n",
        "  if var3>0:                                                                    #linha 2 aqui temos um tab em relaçao ao 1 if\n",
        "    print(\"a variavel var3 é positiva e ela é maior do que a variavel var1\")    #liha  3 aqui temos 2 tabs em relaçao ao 1 if\n",
        "  else:                                                                         #linha 4 aqui temos 2 tabs, esta alinhado com relaçao ao segundo if\n",
        "    print(\"a variavel var3 nao é positiva e nao é maior do que a variavel var1\")#linha 5 aqui temos 2 tabs\n",
        "else:                                                                           #linha 6\n",
        "  print(\"a variavel var 3 é menor que a variavel var1\")                         #linha 7 aqui temos um tab e esta alinhado ao primeiro if"
      ],
      "metadata": {
        "id": "F5gQwOrnqS0B"
      },
      "execution_count": null,
      "outputs": []
    },
    {
      "cell_type": "code",
      "source": [
        "import math\n",
        "import os\n",
        "import random\n",
        "import re\n",
        "import sys\n",
        "\n",
        "if __name__ == '__main__':\n",
        "    n = int(input().strip())\n",
        "if(n>1or n<=100):\n",
        "    if(n%2==0):\n",
        "\n",
        "        if(n>20):\n",
        "            print(\"Not Weird\")\n",
        "        elif(n<=2 or n<=5):\n",
        "            print(\"Not Weird\")\n",
        "        else:\n",
        "            print(\"Weird\")\n",
        "    else:\n",
        "        print(\"Weird\")\n",
        "\n"
      ],
      "metadata": {
        "colab": {
          "base_uri": "https://localhost:8080/"
        },
        "id": "TsKUAvTG6HOW",
        "outputId": "b341c47d-1250-4113-b01f-d444bebc398d"
      },
      "execution_count": null,
      "outputs": [
        {
          "output_type": "stream",
          "name": "stdout",
          "text": [
            "24\n",
            "Not Weird\n"
          ]
        }
      ]
    },
    {
      "cell_type": "code",
      "source": [
        "#insira uma frase e assim podemos avaliar como voce esta agindo\n",
        "if __name__ == '__main__':\n",
        "    action= str(input(\"informe a sua açao\\n ex :comendo,dormindo,correndo,falando\\n ex2 :viajando,caminhando,lendo,rindo,escutando musica\\n\"))\n",
        "action.lower()\n",
        "if (action==\"viajando\"or  (\"dormindo\" in action)):\n",
        "  print(\"descansando~\")\n",
        "elif((\"caminhando\" in action)or (\"correndo\" in action)):\n",
        "    print(\"mexendo o corpo\")\n",
        "\n",
        "elif((\"lendo\" in action)or action==\"rindo\"or (\"escutando\" in action)):\n",
        "    print(\"voce esta sendo feliz\")\n",
        "else:\n",
        "  print(\"voce esta \"+action+\",\\nvivendo a vida como pode\")\n"
      ],
      "metadata": {
        "colab": {
          "base_uri": "https://localhost:8080/"
        },
        "id": "wxi8abxN7iWL",
        "outputId": "389967a2-6c65-46f6-8a87-b3094c8fc533"
      },
      "execution_count": null,
      "outputs": [
        {
          "output_type": "stream",
          "name": "stdout",
          "text": [
            "informe a sua açao\n",
            " ex :comendo,dormindo,correndo,falando\n",
            " ex2 :viajando,caminhando,lendo,rindo,escutando musica\n",
            "escutando\n",
            "voce esta sendo feliz\n"
          ]
        }
      ]
    },
    {
      "cell_type": "code",
      "source": [
        "#CONVENSAO DE VALORES NO FORMATO DE  PESO\n",
        "Weight=input('informe o peso : ')\n",
        "unit=input('utilizar grams (K)g ou pounds (L)bs:')\n",
        "if unit.upper()==\"L\":\n",
        "  form=int(Weight)*0.45\n",
        "  print(\"o valor em Kg é\"+str(form))\n",
        "elif unit.upper()==\"K\":\n",
        "  form=int(Weight)/0.45\n",
        "  print(\"o valor em Lbs/pounds é :\"+str(form))\n",
        "else:\n",
        "  print(\"esta errada o tipo da medida escolhida\")"
      ],
      "metadata": {
        "id": "AqEeVDB0vYp6"
      },
      "execution_count": null,
      "outputs": []
    },
    {
      "cell_type": "code",
      "source": [
        "#https://learn.microsoft.com/pt-br/office/troubleshoot/excel/determine-a-leap-year\n",
        "def é_bissexto(year):\n",
        "    leap = False\n",
        "    if(year%4==0):\n",
        "        leap=True\n",
        "        if(year%100==0):\n",
        "            if(year%400==0):\n",
        "                leap=True\n",
        "            else:\n",
        "                leap=False\n",
        "    return leap\n",
        "\n",
        "year = int(input())\n",
        "print(is_leap(year))\n",
        "#esse o ano é bissexto"
      ],
      "metadata": {
        "id": "GNYuZNF2msB3"
      },
      "execution_count": null,
      "outputs": []
    },
    {
      "cell_type": "markdown",
      "source": [
        "#loop"
      ],
      "metadata": {
        "id": "fa-Pf1uN6UWo"
      }
    },
    {
      "cell_type": "code",
      "source": [
        "#For loops give you more control than\n",
        "#while loops. You can loop through anything\n",
        "#that is iterable. e.g. a range, a list, a dictionary\n",
        "#or tuple."
      ],
      "metadata": {
        "id": "bHrRC3yS5xQs"
      },
      "execution_count": null,
      "outputs": []
    },
    {
      "cell_type": "code",
      "source": [
        "i=1\n",
        "while i<=5:\n",
        "  print(i)\n",
        "  i=i+1\n",
        "print('crescente')"
      ],
      "metadata": {
        "id": "_QDxZ8gkzpOR"
      },
      "execution_count": null,
      "outputs": []
    },
    {
      "cell_type": "code",
      "source": [
        "#repeated\n",
        "n=5\n",
        "while n>0:\n",
        "  print(n)\n",
        "  n=n-1\n",
        "print('decrescente')"
      ],
      "metadata": {
        "id": "YbEqRhXHzpRx"
      },
      "execution_count": null,
      "outputs": []
    },
    {
      "cell_type": "code",
      "source": [
        "i=1\n",
        "while i<=5:\n",
        "  print(i*'*')\n",
        "  i+=1\n"
      ],
      "metadata": {
        "id": "2iZ4mC_RzpLN"
      },
      "execution_count": null,
      "outputs": []
    },
    {
      "cell_type": "code",
      "source": [
        "\n",
        "for letter in 'Python':     # First Example\n",
        "   if letter == 'h':\n",
        "    break\n",
        "   print ('Current Letter :', letter)\n",
        "\n",
        "   #devemos estudar mais depois como utilizar o break ele pode ser interessante mais tarde\n"
      ],
      "metadata": {
        "id": "iDaHjL3fUKTm",
        "colab": {
          "base_uri": "https://localhost:8080/"
        },
        "outputId": "f00577b2-8529-4e88-cfe9-6eb503660806"
      },
      "execution_count": null,
      "outputs": [
        {
          "output_type": "stream",
          "name": "stdout",
          "text": [
            "Current Letter : P\n",
            "Current Letter : y\n",
            "Current Letter : t\n"
          ]
        }
      ]
    },
    {
      "cell_type": "markdown",
      "source": [
        "###For e lista"
      ],
      "metadata": {
        "id": "glrT3AdzHMbX"
      }
    },
    {
      "cell_type": "code",
      "source": [
        "#dado um valor informado\n",
        "#devolvemos uma string com os numero 1 ate o valor informado\n",
        "if __name__ == '__main__':\n",
        "    n = int(input())\n",
        "    string=''\n",
        "    for i in range(1,n,1):\n",
        "        string =str(i)+string\n",
        "print(string[::-1])"
      ],
      "metadata": {
        "colab": {
          "base_uri": "https://localhost:8080/"
        },
        "id": "Yjd6aM5JhsRZ",
        "outputId": "338d1012-0a62-453f-8de5-124677c32257"
      },
      "execution_count": null,
      "outputs": [
        {
          "output_type": "stream",
          "name": "stdout",
          "text": [
            "5\n",
            "1234\n"
          ]
        }
      ]
    },
    {
      "cell_type": "code",
      "source": [
        "#se n maior que zero e menor ou igual a 20\n",
        "#iremos fazer esse valor n vezes ele mesmo\n",
        "#ate chegar (n-1)*(n-1)\n",
        "if __name__ == '__main__':\n",
        "    n = int(input())\n",
        "    if(n>=1 and n<=20):\n",
        "      for x in range(n):\n",
        "       if(x<n):\n",
        "            print(x*x)"
      ],
      "metadata": {
        "id": "o8Se0765E93n",
        "colab": {
          "base_uri": "https://localhost:8080/"
        },
        "outputId": "6ea9b4ae-1f7d-48dc-e347-bf499f5e4606"
      },
      "execution_count": null,
      "outputs": [
        {
          "output_type": "stream",
          "name": "stdout",
          "text": [
            "5\n",
            "0\n",
            "1\n",
            "4\n",
            "9\n",
            "16\n"
          ]
        }
      ]
    },
    {
      "cell_type": "code",
      "source": [
        "#aqui temos uma lista feita por numeros inteiros\n",
        "#que o usuario vai visualizar numero apos numero um abaixo do outro ate chegar ao final\n",
        "#quando chegar ao final ele deve visualizar a palavra 'end'\n",
        "lista_int=[5,8,3,4]\n",
        "for i in lista_int:\n",
        "  print(i)\n",
        "print(\"end\")"
      ],
      "metadata": {
        "id": "Fbp-cNyCzpEg",
        "colab": {
          "base_uri": "https://localhost:8080/"
        },
        "outputId": "3d20fb5f-7ae6-4476-ebe2-ab302af2f309"
      },
      "execution_count": null,
      "outputs": [
        {
          "output_type": "stream",
          "name": "stdout",
          "text": [
            "5\n",
            "8\n",
            "3\n",
            "4\n",
            "end\n"
          ]
        }
      ]
    },
    {
      "cell_type": "code",
      "source": [
        "lista_int.index(8)\n",
        "#retorna a posiçao do numero caso ele seja encontrado"
      ],
      "metadata": {
        "id": "xTLEyjpjbFjZ",
        "colab": {
          "base_uri": "https://localhost:8080/"
        },
        "outputId": "560801fd-9dd8-46eb-97c4-6e6f3004a1bf"
      },
      "execution_count": null,
      "outputs": [
        {
          "output_type": "execute_result",
          "data": {
            "text/plain": [
              "1"
            ]
          },
          "metadata": {},
          "execution_count": 16
        }
      ]
    },
    {
      "cell_type": "code",
      "source": [
        "lista_int[-1]\n",
        "lista_int[-2]"
      ],
      "metadata": {
        "id": "L5ZX1y94bvGd",
        "colab": {
          "base_uri": "https://localhost:8080/"
        },
        "outputId": "674b04b7-9872-4317-9247-fc1d2ccd5698"
      },
      "execution_count": null,
      "outputs": [
        {
          "output_type": "execute_result",
          "data": {
            "text/plain": [
              "3"
            ]
          },
          "metadata": {},
          "execution_count": 17
        }
      ]
    },
    {
      "cell_type": "code",
      "source": [
        "#lembrar de ter cuidado quando utilizar o range com lista\n",
        "for x in range(5):\n",
        "  print(x)\n",
        "  #podemos assim saber em que valor estamos /percorrendo\n",
        "  #de 0 ate 4"
      ],
      "metadata": {
        "id": "SWQSxl-QjKRn",
        "colab": {
          "base_uri": "https://localhost:8080/"
        },
        "outputId": "23d6890a-d176-4b37-885c-7e694bb3c500"
      },
      "execution_count": null,
      "outputs": [
        {
          "output_type": "stream",
          "name": "stdout",
          "text": [
            "0\n",
            "1\n",
            "2\n",
            "3\n",
            "4\n"
          ]
        }
      ]
    },
    {
      "cell_type": "code",
      "source": [
        "for x in range(5,10):\n",
        "  print(x)\n",
        "  #podemos assim saber em que valor estamos /percorrendo\n",
        "  #agora iniciamos do 5 e vamos ate o 9"
      ],
      "metadata": {
        "id": "dBk-87CQjlZc",
        "colab": {
          "base_uri": "https://localhost:8080/"
        },
        "outputId": "74b821c8-0d56-496f-e7a1-28719f91fa59"
      },
      "execution_count": null,
      "outputs": [
        {
          "output_type": "stream",
          "name": "stdout",
          "text": [
            "5\n",
            "6\n",
            "7\n",
            "8\n",
            "9\n"
          ]
        }
      ]
    },
    {
      "cell_type": "code",
      "source": [
        "for i in range(5,20,2):\n",
        "#de 5 ate 19 de 2 em 2\n",
        " print(i)\n",
        " #pula de 2 em 2"
      ],
      "metadata": {
        "id": "9f4xjCAbVueD"
      },
      "execution_count": null,
      "outputs": []
    },
    {
      "cell_type": "code",
      "source": [
        "#coordenadas\n",
        "for x in range(4):  #outer loop 0 ate 3\n",
        "  for y in range(3):  ##inner loop\n",
        "    print(f'{x},{y}')\n",
        "    #(x,y) plano cartesiano\n",
        "    #https://youtu.be/_uQrJ0TkZlc?t=6610"
      ],
      "metadata": {
        "id": "OwqOkMyQ_EZB"
      },
      "execution_count": null,
      "outputs": []
    },
    {
      "cell_type": "code",
      "source": [
        "#coordenadas\n",
        "#https://youtu.be/_uQrJ0TkZlc?t=6549\n",
        "#https://youtu.be/kqtD5dpn9C8?t=2714"
      ],
      "metadata": {
        "id": "OiZPxtwzaPKI"
      },
      "execution_count": null,
      "outputs": []
    },
    {
      "cell_type": "code",
      "source": [
        "lista_int.pop()#tira o ultimo elemento da lista\n",
        "print(lista_int)"
      ],
      "metadata": {
        "id": "_o7QrYMca4wp"
      },
      "execution_count": null,
      "outputs": []
    },
    {
      "cell_type": "code",
      "source": [
        "scores = [34, 67, 99, 105]\n",
        "for s in scores:\n",
        " if s > 100:\n",
        "   print(\"Invalid\")\n",
        " break\n",
        "print(s)"
      ],
      "metadata": {
        "id": "BDDnKi_3GdcG",
        "colab": {
          "base_uri": "https://localhost:8080/"
        },
        "outputId": "bb9c4f6c-778c-4f32-bfb3-00d0016709b8"
      },
      "execution_count": null,
      "outputs": [
        {
          "output_type": "stream",
          "name": "stdout",
          "text": [
            "34\n"
          ]
        }
      ]
    },
    {
      "cell_type": "code",
      "source": [
        "#aqui temos uma lista de numeros\n",
        "#e queremos apenas os numeros pares\n",
        "x = [1, 2, 3,4,5,6,7,8,9,10]\n",
        "\n",
        "#solution :\n",
        "y = [ i for i in x if i % 2 == 0]\n",
        "\n",
        "print(y)"
      ],
      "metadata": {
        "colab": {
          "base_uri": "https://localhost:8080/"
        },
        "id": "V3urVffsJ3p6",
        "outputId": "f3deff02-6a53-4716-9434-d2f4061b61c3"
      },
      "execution_count": null,
      "outputs": [
        {
          "output_type": "stream",
          "name": "stdout",
          "text": [
            "[2, 4, 6, 8, 10]\n"
          ]
        }
      ]
    },
    {
      "cell_type": "code",
      "source": [
        "#Aqui temos outra possivel soluçao para termos o retorno do valores pares\n",
        "for i in x:\n",
        "  if(i%2==0):\n",
        "    print(i)"
      ],
      "metadata": {
        "colab": {
          "base_uri": "https://localhost:8080/"
        },
        "id": "4HiPBCcxMwaP",
        "outputId": "d2faf2e3-f1ab-4170-d86a-bc307a9031c7"
      },
      "execution_count": null,
      "outputs": [
        {
          "output_type": "stream",
          "name": "stdout",
          "text": [
            "2\n",
            "4\n",
            "6\n",
            "8\n",
            "10\n"
          ]
        }
      ]
    },
    {
      "cell_type": "code",
      "source": [
        "x = [1, 2, 3]\n",
        "y = [variable-1 for variable in x]\n",
        "print(y)\n",
        "#variable e nosso elemento em cada index\n",
        "#logo nossas variaveis sao 1 2 3\n",
        "#se fosse varible +1 la no vetor y\n",
        "#print(y) seria 2,3,4"
      ],
      "metadata": {
        "colab": {
          "base_uri": "https://localhost:8080/"
        },
        "id": "Xoc6oDQGJ7TM",
        "outputId": "46647136-dbce-4db1-b446-a98c8223016b"
      },
      "execution_count": null,
      "outputs": [
        {
          "output_type": "stream",
          "name": "stdout",
          "text": [
            "[0, 1, 2]\n"
          ]
        }
      ]
    },
    {
      "cell_type": "code",
      "source": [
        "for var in range(5):\n",
        " print (var)"
      ],
      "metadata": {
        "colab": {
          "base_uri": "https://localhost:8080/"
        },
        "id": "H_vUxtuJUFD1",
        "outputId": "e2cb3f6b-5627-49e6-b019-f2c6df14c751"
      },
      "execution_count": null,
      "outputs": [
        {
          "output_type": "stream",
          "name": "stdout",
          "text": [
            "0\n",
            "1\n",
            "2\n",
            "3\n",
            "4\n"
          ]
        }
      ]
    },
    {
      "cell_type": "code",
      "source": [
        "for var in range(2,11):\n",
        " print(var)"
      ],
      "metadata": {
        "colab": {
          "base_uri": "https://localhost:8080/"
        },
        "id": "gvV3S0zWU7WV",
        "outputId": "ba11cd49-dd38-4992-abe4-8bf4187c1fef"
      },
      "execution_count": null,
      "outputs": [
        {
          "output_type": "stream",
          "name": "stdout",
          "text": [
            "2\n",
            "3\n",
            "4\n",
            "5\n",
            "6\n",
            "7\n",
            "8\n",
            "9\n",
            "10\n"
          ]
        }
      ]
    },
    {
      "cell_type": "code",
      "source": [
        "for var in range (0,30,5):\n",
        "   print(var)"
      ],
      "metadata": {
        "colab": {
          "base_uri": "https://localhost:8080/"
        },
        "id": "EIyZ9J7JVGoI",
        "outputId": "8144df33-cfcd-4651-8d3a-a3df73d20ca5"
      },
      "execution_count": null,
      "outputs": [
        {
          "output_type": "stream",
          "name": "stdout",
          "text": [
            "0\n",
            "5\n",
            "10\n",
            "15\n",
            "20\n",
            "25\n"
          ]
        }
      ]
    },
    {
      "cell_type": "code",
      "source": [
        "soma=0\n",
        "for var in range(1,4):\n",
        "  nota=float(input(\"informe a sua nota \"+str(var)+\"?\"))\n",
        "  soma=soma+nota\n",
        "result = soma/var\n",
        "\n",
        "print(soma)\n",
        "print(result)"
      ],
      "metadata": {
        "colab": {
          "base_uri": "https://localhost:8080/"
        },
        "id": "yhyxMGs0aiPv",
        "outputId": "42129596-f79e-41ca-bc5f-f8abf97233df"
      },
      "execution_count": null,
      "outputs": [
        {
          "output_type": "stream",
          "name": "stdout",
          "text": [
            "informe a sua nota 1?6\n",
            "informe a sua nota 2?8\n",
            "informe a sua nota 3?5\n",
            "19.0\n",
            "6.333333333333333\n"
          ]
        }
      ]
    },
    {
      "cell_type": "markdown",
      "source": [
        "#Listas\n"
      ],
      "metadata": {
        "id": "YliaUGjGHm4s"
      }
    },
    {
      "cell_type": "code",
      "source": [
        "#uma lista pode ter diversos tipos de dados\n",
        "#podendo ser float,boolean,string\n",
        "#podemos criar uma lista de listas"
      ],
      "metadata": {
        "id": "6XguC_srxZ5L"
      },
      "execution_count": null,
      "outputs": []
    },
    {
      "cell_type": "code",
      "source": [
        "nome='luis'\n",
        "nome1='pedro'\n",
        "nome2='lucas'\n",
        "nomes=[nome,nome1,nome2]\n",
        "nomes.append(\"fernando\")\n",
        "print(nomes)"
      ],
      "metadata": {
        "colab": {
          "base_uri": "https://localhost:8080/"
        },
        "id": "AQZZ7yfCwmUa",
        "outputId": "05389cb7-cb6f-4496-9fab-3f8aeb78cd0d"
      },
      "execution_count": null,
      "outputs": [
        {
          "output_type": "stream",
          "name": "stdout",
          "text": [
            "['luis', 'pedro', 'lucas', 'fernando']\n"
          ]
        }
      ]
    },
    {
      "cell_type": "code",
      "source": [
        "#index do elemento\n",
        "nomes.pop(2)\n",
        "print(nomes)"
      ],
      "metadata": {
        "colab": {
          "base_uri": "https://localhost:8080/"
        },
        "id": "WqUgKP4uxOR3",
        "outputId": "cb1f3e2f-a860-48c3-c0c8-7274a1dab246"
      },
      "execution_count": null,
      "outputs": [
        {
          "output_type": "stream",
          "name": "stdout",
          "text": [
            "['luis', 'pedro']\n"
          ]
        }
      ]
    },
    {
      "cell_type": "code",
      "source": [
        "#o remove so retira o elemento q ele encontrar igual\n",
        "#ele retira o primeiro elemento q ele encontrar igual\n",
        "lista=['lucas',2,4,6,9,2]\n",
        "lista.append(\"pedrita\")\n",
        "lista.remove(6)\n",
        "print(lista)"
      ],
      "metadata": {
        "colab": {
          "base_uri": "https://localhost:8080/"
        },
        "id": "8Wqbq_Ay5soF",
        "outputId": "57cc355b-a87a-45fa-d38a-7ff5dc511049"
      },
      "execution_count": null,
      "outputs": [
        {
          "output_type": "stream",
          "name": "stdout",
          "text": [
            "['lucas', 2, 4, 9, 2, 'pedrita']\n"
          ]
        }
      ]
    },
    {
      "cell_type": "code",
      "source": [
        "lista.index(4)"
      ],
      "metadata": {
        "colab": {
          "base_uri": "https://localhost:8080/"
        },
        "id": "QSWJg23p7EjL",
        "outputId": "f45c6bf3-a37c-4cf6-fe02-6fa9ba3cb764"
      },
      "execution_count": null,
      "outputs": [
        {
          "output_type": "execute_result",
          "data": {
            "text/plain": [
              "2"
            ]
          },
          "metadata": {},
          "execution_count": 40
        }
      ]
    },
    {
      "cell_type": "code",
      "source": [
        "#count retona a quantidade q aquele elemtno se repete\n",
        "lista.count(2)"
      ],
      "metadata": {
        "colab": {
          "base_uri": "https://localhost:8080/"
        },
        "id": "ShgWW7CB6cS-",
        "outputId": "5e6cb56c-e7ef-4b54-a5f4-8ca2f3e01ead"
      },
      "execution_count": null,
      "outputs": [
        {
          "output_type": "execute_result",
          "data": {
            "text/plain": [
              "2"
            ]
          },
          "metadata": {},
          "execution_count": 34
        }
      ]
    },
    {
      "cell_type": "code",
      "source": [
        "num=[1,2,7,3,4,0,5,6]\n",
        "num.sort()\n",
        "#o sort so é possivel com elementos do mesmo tipo\n",
        "print(num)"
      ],
      "metadata": {
        "colab": {
          "base_uri": "https://localhost:8080/"
        },
        "id": "sAtPfrvL6t9F",
        "outputId": "9171f07f-4fdf-4ef4-ddd7-ee9ff2c492a1"
      },
      "execution_count": null,
      "outputs": [
        {
          "output_type": "stream",
          "name": "stdout",
          "text": [
            "[0, 1, 2, 3, 4, 5, 6, 7]\n",
            "28\n"
          ]
        }
      ]
    },
    {
      "cell_type": "code",
      "source": [
        "#soma de todos os valores da lista\n",
        "print(sum(num))"
      ],
      "metadata": {
        "id": "XROilixm7ib7"
      },
      "execution_count": null,
      "outputs": []
    },
    {
      "cell_type": "code",
      "source": [
        "numeros=[5,2,5,2,2,5]\n",
        "index=0\n",
        "while index < len(numeros):\n",
        " letter = numeros[index]\n",
        " print (letter*'x')\n",
        " index = index + 1"
      ],
      "metadata": {
        "id": "Jyysbev6IpuY",
        "colab": {
          "base_uri": "https://localhost:8080/"
        },
        "outputId": "f0914f64-fe03-47b4-bd1d-8a6304e275b6"
      },
      "execution_count": null,
      "outputs": [
        {
          "output_type": "stream",
          "name": "stdout",
          "text": [
            "xxxxx\n",
            "xx\n",
            "xxxxx\n",
            "xx\n",
            "xx\n",
            "xxxxx\n"
          ]
        }
      ]
    },
    {
      "cell_type": "code",
      "source": [
        "list_string=[\"vila\",\"pizzaria\",\"padaria\",\"casa\",\"trabalho\",\"praia\",\"estudo\",\"cidade\",\"fazenda\"]\n",
        "print(list_string)\n",
        "\n",
        "list_string.sort()\n",
        "print(list_string)\n",
        "\n",
        "del list_string[:-1]#List Slicing\n",
        "print(list_string)"
      ],
      "metadata": {
        "id": "y1kek6cFfhR6",
        "colab": {
          "base_uri": "https://localhost:8080/"
        },
        "outputId": "d88bb09d-264a-4547-c3fb-c3b7e15aa286"
      },
      "execution_count": null,
      "outputs": [
        {
          "output_type": "stream",
          "name": "stdout",
          "text": [
            "['vila', 'pizzaria', 'padaria', 'casa', 'trabalho', 'praia', 'estudo', 'cidade', 'fazenda']\n",
            "['casa', 'cidade', 'estudo', 'fazenda', 'padaria', 'pizzaria', 'praia', 'trabalho', 'vila']\n",
            "['vila']\n"
          ]
        }
      ]
    },
    {
      "cell_type": "code",
      "source": [
        "coisa_list=[\"casa\",1,1.9,'lua']\n",
        "print(coisa_list)"
      ],
      "metadata": {
        "id": "96dyzSL6f0SN",
        "colab": {
          "base_uri": "https://localhost:8080/"
        },
        "outputId": "b63bb4d2-7fad-4c52-fc0f-c759a0d8a9b8"
      },
      "execution_count": null,
      "outputs": [
        {
          "output_type": "stream",
          "name": "stdout",
          "text": [
            "['casa', 1, 1.9, 'lua']\n"
          ]
        }
      ]
    },
    {
      "cell_type": "code",
      "source": [
        "coisa_list.insert(3, \"mar\")#aqui passamos o index e o elemento\n",
        "print(coisa_list)"
      ],
      "metadata": {
        "id": "TYmb4P52iuMY"
      },
      "execution_count": null,
      "outputs": []
    },
    {
      "cell_type": "code",
      "source": [
        "coisa_list.append(\"vida\")\n",
        "print(coisa_list)"
      ],
      "metadata": {
        "id": "_wiZgxypDWpU"
      },
      "execution_count": null,
      "outputs": []
    },
    {
      "cell_type": "code",
      "source": [
        "lista=[5,8,9,11,40,22,21,33,10,1,0,2,90,10,2,190]\n",
        "lista.reverse()\n",
        "\n",
        "print(lista)\n",
        "\n",
        "lista=sorted(lista)\n",
        "print(lista)\n",
        "\n",
        "lista.sort(reverse=True)\n",
        "print(lista)\n",
        "\n",
        "lista.pop()#Removes and returns last object or obj from list\n"
      ],
      "metadata": {
        "id": "KXJOK5bUsWlF"
      },
      "execution_count": null,
      "outputs": []
    },
    {
      "cell_type": "code",
      "source": [
        "set(lista)#os valores aqui nao existem sendo repetidos;/sao unicos"
      ],
      "metadata": {
        "id": "CDwfqjwlDkgO"
      },
      "execution_count": null,
      "outputs": []
    },
    {
      "cell_type": "code",
      "source": [
        "#escreva um programa que ordene uma lista numérica com três elementos.\n",
        "lista=[6,2,1]\n",
        "lista=sorted(lista)\n",
        "print(lista)"
      ],
      "metadata": {
        "id": "NCdZA4sZ17LQ"
      },
      "execution_count": null,
      "outputs": []
    },
    {
      "cell_type": "code",
      "source": [
        "#como coletar algo desejado dentro de uma lista\n",
        "lst = [1,2,[3,4],[5,[20,40,['Destino']],90,122,1010],2,4,7]\n",
        "\n",
        "segunda_lista=lst[3]\n",
        "\n",
        "print(segunda_lista)\n",
        "terceira_lista=segunda_lista[1]\n",
        "\n",
        "print(terceira_lista)\n",
        "palavra_desejada=terceira_lista[2]\n",
        "\n",
        "print(palavra_desejada)"
      ],
      "metadata": {
        "colab": {
          "base_uri": "https://localhost:8080/"
        },
        "id": "mXJBRhKKSz__",
        "outputId": "1f287ee9-0bfa-423b-d510-7f4273301031"
      },
      "execution_count": null,
      "outputs": [
        {
          "output_type": "stream",
          "name": "stdout",
          "text": [
            "[5, [20, 40, ['Destino']], 90, 22, 1010]\n",
            "[20, 40, ['Destino']]\n",
            "['Destino']\n"
          ]
        }
      ]
    },
    {
      "cell_type": "code",
      "source": [
        "#aqui como a lista dentro da lista bolo\n",
        "bolo = ['farinha de trigo', 'ovo', 'leite', 'manteiga']\n",
        "bolo.append(['açucar', 'fermento'])##melhor pra desempenho por adicionar sempre ao final da lista\n",
        "print(bolo[4:])"
      ],
      "metadata": {
        "id": "x_GSPOgpd9VY",
        "outputId": "5fd008c9-790f-4b55-cafe-bb1e17b8286d",
        "colab": {
          "base_uri": "https://localhost:8080/"
        }
      },
      "execution_count": null,
      "outputs": [
        {
          "output_type": "stream",
          "name": "stdout",
          "text": [
            "[['açucar', 'fermento']]\n"
          ]
        }
      ]
    },
    {
      "cell_type": "code",
      "source": [
        "##aqui como elemento da lista\n",
        "bolo = ['farinha de trigo', 'ovo', 'leite', 'manteiga']\n",
        "bolo.extend(['açucar', 'fermento'])\n",
        "print(bolo)"
      ],
      "metadata": {
        "id": "XSSKIIHxdkL5",
        "colab": {
          "base_uri": "https://localhost:8080/"
        },
        "outputId": "28422e3e-b87a-4217-b519-269dc6be60f2"
      },
      "execution_count": null,
      "outputs": [
        {
          "output_type": "stream",
          "name": "stdout",
          "text": [
            "['farinha de trigo', 'ovo', 'leite', 'manteiga', 'açucar', 'fermento']\n"
          ]
        }
      ]
    },
    {
      "cell_type": "code",
      "source": [
        "#list comprehension\n",
        "#uma outa forma de fazer uma operaçao sobre de uma forma mais abstrata\n",
        "\n",
        "num_normal=[2,4,6,8,1]\n",
        "num_multi=[i*(i+1) for i  in  num_normal]\n",
        "print(\"esta e a minha lista normal\"+str(num_normal))\n",
        "\n",
        "#[2*(2+1) , 4*(4+1) , 6*(6+1) ,8*(8+1) + 1*(1+1)]\n",
        "\n",
        "print(\"esta é minha lista\"+str(num_multi))"
      ],
      "metadata": {
        "colab": {
          "base_uri": "https://localhost:8080/"
        },
        "id": "I-4yn9KKDJo1",
        "outputId": "e7867793-9038-4c86-e0b0-35e42c18a7cd"
      },
      "execution_count": null,
      "outputs": [
        {
          "output_type": "stream",
          "name": "stdout",
          "text": [
            "esta e a minha lista normal[2, 4, 6, 8, 1]\n",
            "esta é minha lista[6, 20, 42, 72, 2]\n"
          ]
        }
      ]
    },
    {
      "cell_type": "markdown",
      "source": [
        "##lista e string"
      ],
      "metadata": {
        "id": "qsV6B2OLe220"
      }
    },
    {
      "cell_type": "code",
      "source": [
        "# Converte uma string em uma lista.\n",
        "s = list(\"So much drama .\")\n",
        "print(s)\n",
        "\n",
        "# Converte uma lista em uma string.\n",
        "l = [ \"S\",\"o\",\" \",\"m\",\"u\",\"c\",\"h\",\" \", \"d\",\"r\",\"a\",\"m\",\"a\",\" \",\".\"]\n",
        "print(''.join(l))"
      ],
      "metadata": {
        "id": "zGABOpxve15l",
        "colab": {
          "base_uri": "https://localhost:8080/"
        },
        "outputId": "598b6ef4-5d06-4d17-d4f5-afc7161d4d78"
      },
      "execution_count": null,
      "outputs": [
        {
          "output_type": "stream",
          "name": "stdout",
          "text": [
            "['S', 'o', ' ', 'm', 'u', 'c', 'h', ' ', 'd', 'r', 'a', 'm', 'a', ' ', '.']\n",
            "So much drama .\n"
          ]
        }
      ]
    },
    {
      "cell_type": "code",
      "source": [
        "#aqui temos uma funçao na qual recebemos um valor qualquer e printamos do valor 1 ate o valor qualquer\n",
        "if __name__ == '__main__':\n",
        "    n = int(input())\n",
        "    lista=[]\n",
        "    for x in range(n):\n",
        "        lista.append(str(x))\n",
        "        cao= ''.join(lista)\n",
        "    print(cao[1::])\n",
        "\n"
      ],
      "metadata": {
        "colab": {
          "base_uri": "https://localhost:8080/"
        },
        "id": "cZaWQnDDvL2W",
        "outputId": "18539e72-9f0e-49e2-fdf6-6c76ea4d9424"
      },
      "execution_count": null,
      "outputs": [
        {
          "output_type": "stream",
          "name": "stdout",
          "text": [
            "4\n",
            "123\n"
          ]
        }
      ]
    },
    {
      "cell_type": "markdown",
      "source": [
        "enumerate"
      ],
      "metadata": {
        "id": "590vNnavPVcr"
      }
    },
    {
      "cell_type": "code",
      "source": [
        "#a funçao enumerate serve para coloca a lista na ordem crescente\n",
        "list_string=[\"vila\",\"pizzaria\",\"padaria\",\"casa\",\"trabalho\",\"praia\",\"estudo\",\"cidade\",\"fazenda\"]\n",
        "\n",
        "for i, word in enumerate(list_string):\n",
        "    print(i, word)"
      ],
      "metadata": {
        "id": "gLiQ-iiqPUgI"
      },
      "execution_count": null,
      "outputs": []
    },
    {
      "cell_type": "code",
      "source": [
        "complicado = {'k1':[{'nest_key':['dentro da nest key',['o fundo']]}]}\n",
        "#pegue o fundo\n",
        "\n",
        "print(complicado[\"k1\"][0])"
      ],
      "metadata": {
        "colab": {
          "base_uri": "https://localhost:8080/"
        },
        "id": "ciSPItRFnSmr",
        "outputId": "8b26b0e8-2ba3-40ef-8a05-2665291d926e"
      },
      "execution_count": null,
      "outputs": [
        {
          "output_type": "stream",
          "name": "stdout",
          "text": [
            "{'nest_key': ['dentro da nest key', ['o fundo']]}\n"
          ]
        }
      ]
    },
    {
      "cell_type": "markdown",
      "source": [
        "#FIFO FALTA"
      ],
      "metadata": {
        "id": "s0b6x1-XRSa9"
      }
    },
    {
      "cell_type": "markdown",
      "source": [
        "\n",
        "\n",
        "#Dictionaries in Python\n",
        "\n",
        "\n",
        "---\n",
        "\n",
        "#####desordenado,cam not be sorted\n",
        "#####Dictionaries objects retrieved by key name\n",
        "#####sao mutaveis\n",
        "#####Dictionaries retain order and are a sequence - é uma afirmaçao falsa (incorreta)"
      ],
      "metadata": {
        "id": "lV2q8JsHkwhk"
      }
    },
    {
      "cell_type": "code",
      "source": [
        "#del dictionarie ;        # delete entire dictionary\n",
        "#dict.clear();     # remove all entries in dict\n",
        "#Keys must be immutable. Which means you can use strings, numbers or tuples as dictionary keys but something like ['key'] is not allowed. Following is a simple example"
      ],
      "metadata": {
        "id": "5NlAOOkoVlQi"
      },
      "execution_count": null,
      "outputs": []
    },
    {
      "cell_type": "code",
      "source": [
        "my_dict={\"comida\" : \"pizza\",\"bebida\" : \"cha mate\"}\n",
        "my_dict #pode ser usado para print"
      ],
      "metadata": {
        "id": "yjFyasJBepOp"
      },
      "execution_count": null,
      "outputs": []
    },
    {
      "cell_type": "code",
      "source": [
        "print(my_dict[\"comida\"])"
      ],
      "metadata": {
        "id": "7K0o88Pui_39"
      },
      "execution_count": null,
      "outputs": []
    },
    {
      "cell_type": "code",
      "source": [
        "dicionario_vazio = {}\n",
        "print(\"Dicionário vazio: \", dicionario_vazio)\n",
        "\n",
        "paises = {'BRA': 'Brasil', 'EUA': 'Estados Unidos', 'FRA': 'França'}\n",
        "print(\"Exemplo de dicionário: \", paises)\n",
        "\n",
        "print(\"Tipo de um dicionário: \", type(paises))\n",
        "\n",
        "print(\"Exemplo de dicionário: \", paises[\"BRA\"])\n",
        "\n"
      ],
      "metadata": {
        "id": "tGTWll8cnFGj",
        "colab": {
          "base_uri": "https://localhost:8080/"
        },
        "outputId": "9693d02e-b2c8-4eaf-fbff-006e50d291d2"
      },
      "execution_count": null,
      "outputs": [
        {
          "output_type": "stream",
          "name": "stdout",
          "text": [
            "Dicionário vazio:  {}\n",
            "Exemplo de dicionário:  {'BRA': 'Brasil', 'EUA': 'Estados Unidos', 'FRA': 'França'}\n",
            "Tipo de um dicionário:  <class 'dict'>\n",
            "Exemplo de dicionário:  Brasil\n"
          ]
        }
      ]
    },
    {
      "cell_type": "code",
      "source": [
        "#utilizaçao de formatting with string and concatenation\n",
        "dictionarie={\"k1\":[1,2,3,4],\"k2\":[\"casa\",\"praia\",\"rua\"]}\n",
        "\n",
        "other_list=dictionarie[\"k1\"]\n",
        "\n",
        "espaço_list=dictionarie[\"k2\"]\n",
        "\n",
        "print(\"este é meu dicionario{d}\".format(d=dictionarie)+'\\n'+\"ele possuem 2 itens que sao : este primeiro item{um}\".format(um=other_list)\n",
        "\n",
        "+'\\n'+ \"este sedundo item do dicionario{dois}\".format(dois=espaço_list))\n",
        "\n",
        "lista_lugar=dictionarie[\"k2\"][0].upper()\n",
        "print(lista_lugar)"
      ],
      "metadata": {
        "id": "RIWUKd36psyH",
        "colab": {
          "base_uri": "https://localhost:8080/"
        },
        "outputId": "01776bd4-16d4-47d2-b98d-b249cbad8f8f"
      },
      "execution_count": null,
      "outputs": [
        {
          "output_type": "stream",
          "name": "stdout",
          "text": [
            "este é meu dicionario{'k1': [1, 2, 3, 4], 'k2': ['casa', 'praia', 'rua']}\n",
            "ele possuem 2 itens que sao : este primeiro item[1, 2, 3, 4]\n",
            "este sedundo item do dicionario['casa', 'praia', 'rua']\n",
            "CASA\n"
          ]
        }
      ]
    },
    {
      "cell_type": "code",
      "source": [
        "del dictionarie['k2']; # remove entry with key 'k2'"
      ],
      "metadata": {
        "id": "MQOEHnVKoRF9"
      },
      "execution_count": null,
      "outputs": []
    },
    {
      "cell_type": "code",
      "source": [
        "d={\"v1\":100,\"v2\":200}\n",
        "d"
      ],
      "metadata": {
        "id": "dy53jjFqjAq0"
      },
      "execution_count": null,
      "outputs": []
    },
    {
      "cell_type": "code",
      "source": [
        "d[\"v3\"]=300\n",
        "d"
      ],
      "metadata": {
        "id": "cFncQSRfjAg-"
      },
      "execution_count": null,
      "outputs": []
    },
    {
      "cell_type": "code",
      "source": [
        "d[\"v4\"]={\"inside key \":200}"
      ],
      "metadata": {
        "id": "LEJ8CNHzEMRJ"
      },
      "execution_count": null,
      "outputs": []
    },
    {
      "cell_type": "code",
      "source": [
        "i=0\n",
        "for i  in d.values():\n",
        "  print(i)"
      ],
      "metadata": {
        "id": "IOqcboReEMBw"
      },
      "execution_count": null,
      "outputs": []
    },
    {
      "cell_type": "markdown",
      "source": [
        "# Modularizaçao ou Def //functions\n",
        "####A function is a block of organized, reusable code that is used to perform a single, related action. Functions provide better modularity for your application and a high degree of code reusing."
      ],
      "metadata": {
        "id": "2B-4GIGmhFai"
      }
    },
    {
      "cell_type": "code",
      "source": [
        "#funçoes sao definidas sao palavra reservada def\n",
        "#Functions are considered as the building blocks of any programming language."
      ],
      "metadata": {
        "id": "bf3MxE4aWaSQ"
      },
      "execution_count": null,
      "outputs": []
    },
    {
      "cell_type": "code",
      "source": [
        "def hi(x):\n",
        "  print(\"Ola\"+str(x)+\"seja bem vindo\")\n",
        "hi(input(\"informe o seu nome\"))"
      ],
      "metadata": {
        "colab": {
          "base_uri": "https://localhost:8080/"
        },
        "id": "RJtlGoUiwgRj",
        "outputId": "42a2cbd6-0c0c-4123-aaf1-14c2fe71e645"
      },
      "execution_count": null,
      "outputs": [
        {
          "output_type": "stream",
          "name": "stdout",
          "text": [
            "informe o seu nome6\n",
            "hii6\n"
          ]
        }
      ]
    },
    {
      "cell_type": "code",
      "source": [
        "def soma(x,y):\n",
        "  return x+y;\n",
        "\n",
        "print(soma(2,6))\n",
        "#aqui temos uma funçao com input"
      ],
      "metadata": {
        "id": "wGe7yThHBOXa",
        "colab": {
          "base_uri": "https://localhost:8080/"
        },
        "outputId": "90db07e4-6953-4543-be8b-6afd44579987"
      },
      "execution_count": null,
      "outputs": [
        {
          "output_type": "stream",
          "name": "stdout",
          "text": [
            "8\n"
          ]
        }
      ]
    },
    {
      "cell_type": "code",
      "source": [
        "# Outro exemplo de função que retorna um valor.\n",
        "def eleva_ao_quadrado(n):\n",
        "    return n ** 2\n",
        "\n",
        "print(\"O número {} elevado ao quatrado é {}\".format(10, eleva_ao_quadrado(10)))\n",
        "#aqui temos um output"
      ],
      "metadata": {
        "id": "UDXJaXPQpbdp"
      },
      "execution_count": null,
      "outputs": []
    },
    {
      "cell_type": "code",
      "source": [
        "def foo(a, b=4, c=6):\n",
        "    print(a, b, c)\n",
        "\n",
        "foo(20, c=12)\n",
        "#aqui temos uma funçao com input"
      ],
      "metadata": {
        "id": "j93oQv45l2MU",
        "colab": {
          "base_uri": "https://localhost:8080/"
        },
        "outputId": "d3227cf7-351f-4adb-b929-26b1d40d4ff9"
      },
      "execution_count": null,
      "outputs": [
        {
          "output_type": "stream",
          "name": "stdout",
          "text": [
            "20 4 12\n"
          ]
        }
      ]
    },
    {
      "cell_type": "code",
      "source": [
        "def soma(*args):\n",
        "    resultado = 0\n",
        "    for numero  in args:\n",
        "        resultado += numero\n",
        "    return resultado\n",
        "\n",
        "\n",
        "def main():\n",
        "    print(soma(4,7,11))\n",
        "\n",
        "    print(soma(8,4,1))\n",
        "\n",
        "    print(soma(4,2))\n",
        "\n",
        "    print(soma(2,2,5))\n",
        "print(main())\n",
        "    #ai é quando nos entendemos"
      ],
      "metadata": {
        "id": "4u--Bz5CsLjG",
        "colab": {
          "base_uri": "https://localhost:8080/"
        },
        "outputId": "5ddf4777-7c8c-4c51-9c42-d27b0f86805c"
      },
      "execution_count": null,
      "outputs": [
        {
          "output_type": "stream",
          "name": "stdout",
          "text": [
            "22\n",
            "13\n",
            "6\n",
            "9\n",
            "None\n"
          ]
        }
      ]
    },
    {
      "cell_type": "code",
      "source": [
        "def visitar(*lugares):\n",
        "  for canto in lugares:\n",
        "    print(f\"ja passamos por {canto}\")\n",
        "\n",
        "def main():\n",
        "  visitar(\"trabalho\",\"praia\",\"estudo\",\"cidade\",\"fazenda\")\n",
        "\n",
        "print(main())"
      ],
      "metadata": {
        "id": "kD7-RB7LsO2q",
        "colab": {
          "base_uri": "https://localhost:8080/"
        },
        "outputId": "4683cff0-5279-4ce6-b0b6-460f0308864c"
      },
      "execution_count": null,
      "outputs": [
        {
          "output_type": "stream",
          "name": "stdout",
          "text": [
            "ja passamos por trabalho\n",
            "ja passamos por praia\n",
            "ja passamos por estudo\n",
            "ja passamos por cidade\n",
            "ja passamos por fazenda\n",
            "None\n"
          ]
        }
      ]
    },
    {
      "cell_type": "code",
      "source": [
        "def a_function(a_parameter):\n",
        "    a_variable = 15\n",
        "    return a_parameter\n",
        "\n",
        "a_function(10)\n",
        "\n",
        "print(a_variable)\n",
        "#aqui da um erro ja que temos um comando fora do nossa funçao\n",
        "#deveriamos ter criado ela dentro no bloco da nossa funçao\n",
        "#aqui temos um output"
      ],
      "metadata": {
        "id": "A7WU0rmDVXGc",
        "colab": {
          "base_uri": "https://localhost:8080/",
          "height": 235
        },
        "outputId": "378482b3-0382-443e-c077-d294ec963ee9"
      },
      "execution_count": null,
      "outputs": [
        {
          "output_type": "error",
          "ename": "NameError",
          "evalue": "ignored",
          "traceback": [
            "\u001b[0;31m---------------------------------------------------------------------------\u001b[0m",
            "\u001b[0;31mNameError\u001b[0m                                 Traceback (most recent call last)",
            "\u001b[0;32m<ipython-input-20-1af7329437ff>\u001b[0m in \u001b[0;36m<module>\u001b[0;34m\u001b[0m\n\u001b[1;32m      5\u001b[0m \u001b[0ma_function\u001b[0m\u001b[0;34m(\u001b[0m\u001b[0;36m10\u001b[0m\u001b[0;34m)\u001b[0m\u001b[0;34m\u001b[0m\u001b[0;34m\u001b[0m\u001b[0m\n\u001b[1;32m      6\u001b[0m \u001b[0;34m\u001b[0m\u001b[0m\n\u001b[0;32m----> 7\u001b[0;31m \u001b[0mprint\u001b[0m\u001b[0;34m(\u001b[0m\u001b[0ma_variable\u001b[0m\u001b[0;34m)\u001b[0m\u001b[0;34m\u001b[0m\u001b[0;34m\u001b[0m\u001b[0m\n\u001b[0m\u001b[1;32m      8\u001b[0m \u001b[0;31m#era pra dar um erro\u001b[0m\u001b[0;34m\u001b[0m\u001b[0;34m\u001b[0m\u001b[0;34m\u001b[0m\u001b[0m\n\u001b[1;32m      9\u001b[0m \u001b[0;31m#Variables created inside a function are\u001b[0m\u001b[0;34m\u001b[0m\u001b[0;34m\u001b[0m\u001b[0;34m\u001b[0m\u001b[0m\n",
            "\u001b[0;31mNameError\u001b[0m: name 'a_variable' is not defined"
          ]
        }
      ]
    },
    {
      "cell_type": "code",
      "source": [
        "def print_twice():\n",
        "  print(\"bruce\")\n",
        "  print(\"bruce\")\n",
        "print_twice()"
      ],
      "metadata": {
        "id": "Tn14Z24OHpvF",
        "colab": {
          "base_uri": "https://localhost:8080/"
        },
        "outputId": "3e4ead8a-6a26-40cb-f1da-dc06ffa4483e"
      },
      "execution_count": null,
      "outputs": [
        {
          "output_type": "stream",
          "name": "stdout",
          "text": [
            "bruce\n",
            "bruce\n"
          ]
        }
      ]
    },
    {
      "cell_type": "code",
      "source": [
        "# Function definition is here\n",
        "def printme( str ):\n",
        "   \"This prints a passed string into this function\"\n",
        "   print (str)\n",
        "   return;\n",
        "\n",
        "# Now you can call printme function\n",
        "printme(\"fazendo a chamada  dessa funçao\")\n",
        "printme(\"chamando novamente a mesa funçao tambem podemos mandar outras coisas\")\n",
        "#aqui estamos chamando a mesma funçao duas vezes mas estamos passando diferentes parametros"
      ],
      "metadata": {
        "id": "-WJ8x6yEpbeX"
      },
      "execution_count": null,
      "outputs": []
    },
    {
      "cell_type": "code",
      "source": [
        "def print_lyrics():\n",
        "\n",
        "   print(\"I'm a lumberjack, and I'm okay.\")\n",
        "   print('I sleep all night and I work all day.')\n",
        "\n",
        "def repeat_lyrics():\n",
        "  print_lyrics()\n",
        "  print_lyrics()\n",
        "repeat_lyrics()"
      ],
      "metadata": {
        "id": "v94Id9zg49Rl",
        "colab": {
          "base_uri": "https://localhost:8080/"
        },
        "outputId": "dbc42068-ebcd-41d6-e668-9eb561267fbc"
      },
      "execution_count": null,
      "outputs": [
        {
          "output_type": "stream",
          "name": "stdout",
          "text": [
            "I'm a lumberjack, and I'm okay.\n",
            "I sleep all night and I work all day.\n",
            "I'm a lumberjack, and I'm okay.\n",
            "I sleep all night and I work all day.\n"
          ]
        }
      ]
    },
    {
      "cell_type": "code",
      "source": [
        "def fuc ():\n",
        "  result=0\n",
        "  for k in range(0, 10):\n",
        "    if(( k % 2 ) == 1 ):\n",
        "       result = result + k\n",
        "       print(result)\n",
        "    else:\n",
        "      result=result+1\n",
        "      print(result)\n",
        "\n",
        "fuc()"
      ],
      "metadata": {
        "colab": {
          "base_uri": "https://localhost:8080/"
        },
        "id": "NqRJXb1hRhkV",
        "outputId": "30eae530-fa1c-473e-da86-a6e8e52521a3"
      },
      "execution_count": null,
      "outputs": [
        {
          "output_type": "stream",
          "name": "stdout",
          "text": [
            "1\n",
            "2\n",
            "3\n",
            "6\n",
            "7\n",
            "12\n",
            "13\n",
            "20\n",
            "21\n",
            "30\n"
          ]
        }
      ]
    },
    {
      "cell_type": "code",
      "source": [
        "\n",
        "#modificamos o parametro que quebra do nosso string\n",
        "def get_mail(string):\n",
        "    li = list(string.split(\"@\"))\n",
        "    #pegamos a 2 parte da quebra para pegamos o mail\n",
        "    return li[1]\n",
        "   #retornamos o tipo\n",
        "\n",
        "# Driver code\n",
        "mail = \"fefeNandez@gmail.com\"\n",
        "\n",
        "mail1= \"dodo12@outlook.com\"\n",
        "mail2= \"meialua24@hotmail.com\"\n",
        "print(\"email 1 : \"+get_mail(mail)+\", email 2 : \"+get_mail(mail1)+\" ,email 3 : \"+get_mail(mail2))\n",
        "\n"
      ],
      "metadata": {
        "colab": {
          "base_uri": "https://localhost:8080/"
        },
        "id": "rXZp3wg9YVZL",
        "outputId": "d31fbfc5-5b20-4a96-f102-f221c4bb79b3"
      },
      "execution_count": null,
      "outputs": [
        {
          "output_type": "stream",
          "name": "stdout",
          "text": [
            "email 1 : gmail.com, email 2 : outlook.com ,email 3 : hotmail.com\n"
          ]
        }
      ]
    },
    {
      "cell_type": "code",
      "source": [],
      "metadata": {
        "id": "iK0oFGYyyJYv"
      },
      "execution_count": null,
      "outputs": []
    },
    {
      "cell_type": "code",
      "source": [],
      "metadata": {
        "id": "OgdV33imyJPl"
      },
      "execution_count": null,
      "outputs": []
    },
    {
      "cell_type": "code",
      "source": [],
      "metadata": {
        "id": "gHQ_V1lHyI8L"
      },
      "execution_count": null,
      "outputs": []
    },
    {
      "cell_type": "markdown",
      "source": [
        "#MAP"
      ],
      "metadata": {
        "id": "nKBrXPk-IVlc"
      }
    },
    {
      "cell_type": "code",
      "source": [
        "#pode ser utilizado para voce aplicar uma funçao que voce criou\n",
        "#a valores que voce tem interesse que sofram a açao da funçao e entao retorne algo\n",
        "#FUNÇAO MAP\n",
        "def soma(x):\n",
        "    return x+x\n",
        "value=[3,6,9,12]\n",
        "value_more=Map(soma,value)\n",
        "#map to list\n",
        "value_more=list(value_more)\n"
      ],
      "metadata": {
        "colab": {
          "base_uri": "https://localhost:8080/",
          "height": 235
        },
        "id": "KE6M7RpqF8PZ",
        "outputId": "236dc22b-e35b-4030-9579-201188db7a14"
      },
      "execution_count": null,
      "outputs": [
        {
          "output_type": "error",
          "ename": "NameError",
          "evalue": "ignored",
          "traceback": [
            "\u001b[0;31m---------------------------------------------------------------------------\u001b[0m",
            "\u001b[0;31mNameError\u001b[0m                                 Traceback (most recent call last)",
            "\u001b[0;32m<ipython-input-7-50440faea4df>\u001b[0m in \u001b[0;36m<module>\u001b[0;34m\u001b[0m\n\u001b[1;32m      5\u001b[0m     \u001b[0;32mreturn\u001b[0m \u001b[0mx\u001b[0m\u001b[0;34m+\u001b[0m\u001b[0mx\u001b[0m\u001b[0;34m\u001b[0m\u001b[0;34m\u001b[0m\u001b[0m\n\u001b[1;32m      6\u001b[0m \u001b[0mvalue\u001b[0m\u001b[0;34m=\u001b[0m\u001b[0;34m[\u001b[0m\u001b[0;36m3\u001b[0m\u001b[0;34m,\u001b[0m\u001b[0;36m6\u001b[0m\u001b[0;34m,\u001b[0m\u001b[0;36m9\u001b[0m\u001b[0;34m,\u001b[0m\u001b[0;36m12\u001b[0m\u001b[0;34m]\u001b[0m\u001b[0;34m\u001b[0m\u001b[0;34m\u001b[0m\u001b[0m\n\u001b[0;32m----> 7\u001b[0;31m \u001b[0mvalue_more\u001b[0m\u001b[0;34m=\u001b[0m\u001b[0mMap\u001b[0m\u001b[0;34m(\u001b[0m\u001b[0msoma\u001b[0m\u001b[0;34m,\u001b[0m\u001b[0mvalue\u001b[0m\u001b[0;34m)\u001b[0m\u001b[0;34m\u001b[0m\u001b[0;34m\u001b[0m\u001b[0m\n\u001b[0m\u001b[1;32m      8\u001b[0m \u001b[0;31m#map to list\u001b[0m\u001b[0;34m\u001b[0m\u001b[0;34m\u001b[0m\u001b[0;34m\u001b[0m\u001b[0m\n\u001b[1;32m      9\u001b[0m \u001b[0mvalue_more\u001b[0m\u001b[0;34m=\u001b[0m\u001b[0mlist\u001b[0m\u001b[0;34m(\u001b[0m\u001b[0mvalue_more\u001b[0m\u001b[0;34m)\u001b[0m\u001b[0;34m\u001b[0m\u001b[0;34m\u001b[0m\u001b[0m\n",
            "\u001b[0;31mNameError\u001b[0m: name 'Map' is not defined"
          ]
        }
      ]
    },
    {
      "cell_type": "markdown",
      "source": [
        "#REDUCE"
      ],
      "metadata": {
        "id": "S-dVp9osIYX1"
      }
    },
    {
      "cell_type": "code",
      "source": [],
      "metadata": {
        "id": "pQCCZwiDF8HH"
      },
      "execution_count": null,
      "outputs": []
    },
    {
      "cell_type": "markdown",
      "source": [
        "#ZIP\n",
        "COPILA MAIS DE UMA LISTA DURANTE UM LALI"
      ],
      "metadata": {
        "id": "DYr3urQ6Ia4S"
      }
    },
    {
      "cell_type": "code",
      "source": [
        "#pode ser utilizado para interagir com mais de duas listas ao mesmo tempo\n",
        "#recebe como parametro lista e inputa tuples"
      ],
      "metadata": {
        "id": "hA-DxP2MF79f"
      },
      "execution_count": null,
      "outputs": []
    },
    {
      "cell_type": "code",
      "source": [],
      "metadata": {
        "id": "pliQ6WiwF7vO"
      },
      "execution_count": null,
      "outputs": []
    },
    {
      "cell_type": "code",
      "source": [],
      "metadata": {
        "id": "PcPOq7yoF7Sp"
      },
      "execution_count": null,
      "outputs": []
    },
    {
      "cell_type": "markdown",
      "source": [
        "#Vetores\n",
        "[*array*](https://numpy.org/doc/stable/user/basics.creation.html)\n",
        "\n",
        "[index](https://thispointer.com/find-the-index-of-a-value-in-numpy-array/)\n",
        "\n",
        "---\n",
        "\n",
        "o array é mutavel e seus items sao do mesmo tipo de dado sempre"
      ],
      "metadata": {
        "id": "EByer1cTrKdx"
      }
    },
    {
      "cell_type": "code",
      "source": [
        "a = np.array([2, 3, 4, 5, 6,10,15, 45, 67, 34])"
      ],
      "metadata": {
        "id": "Jsu1tDrRA-ZT"
      },
      "execution_count": null,
      "outputs": []
    },
    {
      "cell_type": "code",
      "source": [
        "a.size"
      ],
      "metadata": {
        "colab": {
          "base_uri": "https://localhost:8080/"
        },
        "id": "l1hbp5zcIjMj",
        "outputId": "5b05d0cb-96e2-470b-fd4a-72361e7490ca"
      },
      "execution_count": null,
      "outputs": [
        {
          "output_type": "execute_result",
          "data": {
            "text/plain": [
              "10"
            ]
          },
          "metadata": {},
          "execution_count": 6
        }
      ]
    },
    {
      "cell_type": "code",
      "source": [
        "result = np.where(a == 15)\n",
        "print('retorno do array e posiçao : ', result)\n",
        "print(\"retornando a possiçao onde o elemento de valor 15 é encontrato \", result[0], sep='\\n')"
      ],
      "metadata": {
        "colab": {
          "base_uri": "https://localhost:8080/"
        },
        "id": "Sq7iIhalI__O",
        "outputId": "242aed34-10c3-468f-95eb-d6d4ef418032"
      },
      "execution_count": null,
      "outputs": [
        {
          "output_type": "stream",
          "name": "stdout",
          "text": [
            "Tuple of arrays returned :  (array([6]),)\n",
            "Elements with value 15 exists at following indices\n",
            "[6]\n"
          ]
        }
      ]
    },
    {
      "cell_type": "code",
      "source": [
        "#cria um vetor que cresce regularmente /\n",
        "np.arange(10)\n"
      ],
      "metadata": {
        "colab": {
          "base_uri": "https://localhost:8080/"
        },
        "id": "Xtr9-sATKCvA",
        "outputId": "4d9b11e6-ddef-4708-825d-56ba65335b95"
      },
      "execution_count": null,
      "outputs": [
        {
          "output_type": "execute_result",
          "data": {
            "text/plain": [
              "array([0, 1, 2, 3, 4, 5, 6, 7, 8, 9])"
            ]
          },
          "metadata": {},
          "execution_count": 7
        }
      ]
    },
    {
      "cell_type": "code",
      "source": [
        "#numpy.linspace criará arrays com um número especificado de elementos\n",
        "#e espaçado igualmente entre os valores inicial e final especificados.\n",
        "np.linspace(0., 8., 6)\n"
      ],
      "metadata": {
        "colab": {
          "base_uri": "https://localhost:8080/"
        },
        "id": "wOSOkjU6U4gX",
        "outputId": "c38ba39b-9494-48b4-f53d-3728d4a3b049"
      },
      "execution_count": null,
      "outputs": [
        {
          "output_type": "execute_result",
          "data": {
            "text/plain": [
              "array([0. , 1.6, 3.2, 4.8, 6.4, 8. ])"
            ]
          },
          "metadata": {},
          "execution_count": 13
        }
      ]
    },
    {
      "cell_type": "code",
      "source": [
        "#array de duas dimensoes\n",
        "a2D = np.array([[1, 2], [3, 4]])"
      ],
      "metadata": {
        "id": "NCXCFO3PA-Sb"
      },
      "execution_count": null,
      "outputs": []
    },
    {
      "cell_type": "code",
      "source": [
        "#esse exemplo é uma matriz identidade\n",
        "#onde quando i=j sera igual a 1(linha coluna)\n",
        "np.eye(4, 4)"
      ],
      "metadata": {
        "colab": {
          "base_uri": "https://localhost:8080/"
        },
        "id": "fEhcRPN_cOHb",
        "outputId": "8f786036-797d-4e86-9ef0-95b63805b84a"
      },
      "execution_count": null,
      "outputs": [
        {
          "output_type": "execute_result",
          "data": {
            "text/plain": [
              "array([[1., 0., 0., 0.],\n",
              "       [0., 1., 0., 0.],\n",
              "       [0., 0., 1., 0.],\n",
              "       [0., 0., 0., 1.]])"
            ]
          },
          "metadata": {},
          "execution_count": 14
        }
      ]
    },
    {
      "cell_type": "code",
      "source": [
        "a = np.array([10,11,12,13,14,15,16,17,18,,19,20])\n",
        "print(arr)"
      ],
      "metadata": {
        "id": "DIiQdk7bapv_",
        "colab": {
          "base_uri": "https://localhost:8080/",
          "height": 226
        },
        "outputId": "5abacaaa-8c1e-49b2-8fde-9149c7f4b0d9"
      },
      "execution_count": null,
      "outputs": [
        {
          "output_type": "error",
          "ename": "NameError",
          "evalue": "ignored",
          "traceback": [
            "\u001b[0;31m---------------------------------------------------------------------------\u001b[0m",
            "\u001b[0;31mNameError\u001b[0m                                 Traceback (most recent call last)",
            "\u001b[0;32m<ipython-input-2-ac3e86931278>\u001b[0m in \u001b[0;36m<module>\u001b[0;34m\u001b[0m\n\u001b[0;32m----> 1\u001b[0;31m \u001b[0marr\u001b[0m \u001b[0;34m=\u001b[0m \u001b[0mnp\u001b[0m\u001b[0;34m.\u001b[0m\u001b[0marray\u001b[0m\u001b[0;34m(\u001b[0m\u001b[0;34m[\u001b[0m\u001b[0;36m1\u001b[0m\u001b[0;34m,\u001b[0m\u001b[0;36m2\u001b[0m\u001b[0;34m,\u001b[0m\u001b[0;36m3\u001b[0m\u001b[0;34m,\u001b[0m\u001b[0;36m4\u001b[0m\u001b[0;34m,\u001b[0m\u001b[0;36m5\u001b[0m\u001b[0;34m,\u001b[0m\u001b[0;36m6\u001b[0m\u001b[0;34m,\u001b[0m\u001b[0;36m7\u001b[0m\u001b[0;34m]\u001b[0m\u001b[0;34m)\u001b[0m\u001b[0;34m\u001b[0m\u001b[0;34m\u001b[0m\u001b[0m\n\u001b[0m\u001b[1;32m      2\u001b[0m \u001b[0marr\u001b[0m\u001b[0;34m=\u001b[0m \u001b[0mnp\u001b[0m\u001b[0;34m.\u001b[0m\u001b[0mwhere\u001b[0m\u001b[0;34m(\u001b[0m\u001b[0marr\u001b[0m\u001b[0;34m%\u001b[0m\u001b[0;36m2\u001b[0m \u001b[0;34m==\u001b[0m \u001b[0;36m0\u001b[0m\u001b[0;34m)\u001b[0m\u001b[0;34m\u001b[0m\u001b[0;34m\u001b[0m\u001b[0m\n\u001b[1;32m      3\u001b[0m \u001b[0;34m\u001b[0m\u001b[0m\n\u001b[1;32m      4\u001b[0m \u001b[0mprint\u001b[0m\u001b[0;34m(\u001b[0m\u001b[0marr\u001b[0m\u001b[0;34m)\u001b[0m\u001b[0;34m\u001b[0m\u001b[0;34m\u001b[0m\u001b[0m\n",
            "\u001b[0;31mNameError\u001b[0m: name 'np' is not defined"
          ]
        }
      ]
    },
    {
      "cell_type": "code",
      "source": [
        "\n",
        "import numpy as np\n",
        "\n",
        "# create numpy array elements\n",
        "a = np.array([2, 3, 4, 5, 6, 45, 67, 34])\n",
        "\n",
        "# display element index where value = 45\n",
        "\n",
        "index_of_element = -1\n",
        "for i in range(a.size):\n",
        "    if a[i] == 45:\n",
        "        index_of_element = i\n",
        "        break\n",
        "\n",
        "if index_of_element != -1:\n",
        "    print(\"element index  : \", index_of_element)\n",
        "else:\n",
        "    print(\"The element not present\")"
      ],
      "metadata": {
        "id": "O7eZKeJPpQZw"
      },
      "execution_count": null,
      "outputs": []
    },
    {
      "cell_type": "code",
      "source": [
        "#as tuplas sao um tipo especial de array que armazena diferentes tipos de data na mesma coleçao\n",
        "#enquanto o array precisa ser do mesmo tipo de dado e sao mutaveis"
      ],
      "metadata": {
        "id": "Jh0dJjakNlgY"
      },
      "execution_count": null,
      "outputs": []
    },
    {
      "cell_type": "markdown",
      "source": [
        "#Tuples ou tuplas\n",
        "\n",
        "\n",
        "---\n",
        "\n",
        "\n",
        "####nao podem ser modificadas/sao imutaveis\n",
        "####pode fazer o wap = é a troca dos valores de duas variáveis da tupla\n",
        "####Entretanto, ela não é completamente imutável, pois quando armazena outro\n",
        "####nao  aceitam muitos metodos"
      ],
      "metadata": {
        "id": "tQ4rL-0XE_y-"
      }
    },
    {
      "cell_type": "code",
      "source": [
        "a = [1, 4, 3]\n",
        "b = [3, 2, 2]\n",
        "\n",
        "def store_original_ids():\n",
        "    a = [1, 4, 3]\n",
        "    b = [3, 2, 2]\n",
        "\n",
        "store_original_ids()\n",
        "#aqui tempos um SWAP\n",
        "temp =b\n",
        "b=a\n",
        "a=temp\n",
        "#que tambem poderia ser resolvido assim\n",
        "\n",
        "##a, b = a, b\n",
        "\n",
        "def check():\n",
        "     if a==[3, 2, 2] and b ==[1, 4, 3] :\n",
        "            print('certo')\n",
        "\n",
        "check()"
      ],
      "metadata": {
        "colab": {
          "base_uri": "https://localhost:8080/"
        },
        "id": "AgNkp_GqE24A",
        "outputId": "2143a3a9-729d-40e4-e701-4e7bc14c04b7"
      },
      "execution_count": null,
      "outputs": [
        {
          "output_type": "stream",
          "name": "stdout",
          "text": [
            "certo\n"
          ]
        }
      ]
    },
    {
      "cell_type": "code",
      "source": [
        "Estados = namedtuple('Estados', ['sigla', 'nome'])\n",
        "estado_pe = Estados('PE', 'Recife')\n",
        "estado_pe"
      ],
      "metadata": {
        "id": "HDklaaFoO5ZI"
      },
      "execution_count": null,
      "outputs": []
    },
    {
      "cell_type": "code",
      "source": [
        "Estados(sigla='PE', nome='recife')\n",
        "print(estado_pe.sigla)\n",
        "print(estado_pe.nome)"
      ],
      "metadata": {
        "id": "IXFP_vg3uiLw"
      },
      "execution_count": null,
      "outputs": []
    },
    {
      "cell_type": "code",
      "source": [
        "#devemos  usar uma 3 variavel para fazer o wap funcionar corretamente\n",
        "#caso contrario um dos valores das variaveis sera perdido\n",
        "#observe abaixo:\n",
        "coordenada_xy = (10, 20)\n",
        "x, y = coordenada_xy\n",
        "temp=x   # 10\n",
        "x=y      # 20\n",
        "y=temp   # 10\n",
        "#portanto usamos a variavel temp para armazena o valor de x antes dele ser modificado/substituido por um novo valor\n",
        "print(\"valor de variavel  x : \"+str(x)+   \"\\n\"\n",
        "     +\"valor de variavel  y : \"+ str(y) + \"\\n\"\n",
        "    + \"valor de variavel temp : \"+ str(temp))\n",
        "#para usar esses valores que conhecemos precisamos colocar eles como se fossem string"
      ],
      "metadata": {
        "id": "rYKpz1hZO529"
      },
      "execution_count": null,
      "outputs": []
    },
    {
      "cell_type": "code",
      "source": [
        "# Swap com tuplas.\n",
        "print(\"x e y antes do swap: \", x, y)\n",
        "\n",
        "x, y = y, x\n",
        "\n",
        "print(\"x e y depois do swap: \", x, y)"
      ],
      "metadata": {
        "id": "ho1Ojn1YO5tR"
      },
      "execution_count": null,
      "outputs": []
    },
    {
      "cell_type": "code",
      "source": [
        "tupla_nomes = ('Giordano', 'Paulo', 'Lucas', 'João', 'Felipe')\n",
        "#se o elemento esta na tupla\n",
        "print('Giordano' in tupla_nomes)\n",
        "\n",
        "print('Paulo' in tupla_nomes)\n",
        "\n",
        "print (tupla_nomes.count('Lucas')) #< possui unica vez o nome lucas\n",
        "\n",
        "print(tupla_nomes.index(\"João\"))# retorna a posiçao na tupla"
      ],
      "metadata": {
        "id": "37akH_CXvNFy",
        "colab": {
          "base_uri": "https://localhost:8080/"
        },
        "outputId": "ccd36ddf-34c2-4c5d-dc4a-e5832f5fe4b6"
      },
      "execution_count": null,
      "outputs": [
        {
          "output_type": "stream",
          "name": "stdout",
          "text": [
            "True\n",
            "True\n",
            "1\n",
            "3\n"
          ]
        }
      ]
    },
    {
      "cell_type": "code",
      "source": [
        "# tupla com apenas um elemento\n",
        "#nao precisa usar sempre ()\n",
        "tupla_elemento = 10,\n",
        "tupla_elemento\n"
      ],
      "metadata": {
        "id": "j0-554BOO5kE"
      },
      "execution_count": null,
      "outputs": []
    },
    {
      "cell_type": "code",
      "source": [
        "nick=(\"n\",\"i\",\"n\",\"a\")\n",
        "\n",
        "nick.index(\"n\")#retorna a vez q aparece primeiro"
      ],
      "metadata": {
        "id": "o-bshhXUypAv"
      },
      "execution_count": null,
      "outputs": []
    },
    {
      "cell_type": "code",
      "source": [
        "name_1=(\"m\",\"a\",\"r\",\"i\",\"a\",\"n\",\"a\")\n",
        "\n",
        "print(name_1.index(\"n\"))#retorna a vez q aparece primeiro\n",
        "\n",
        "print(name_1.index(\"a\"))"
      ],
      "metadata": {
        "id": "bCbGJgLvx5GO"
      },
      "execution_count": null,
      "outputs": []
    },
    {
      "cell_type": "markdown",
      "source": [
        "#Matrizes-FALTA CONTINUAR\n",
        "######sao criadas a partir de uma lista com varias dimensoes"
      ],
      "metadata": {
        "id": "PMpOJGKgZkQJ"
      }
    },
    {
      "cell_type": "code",
      "source": [],
      "metadata": {
        "id": "gI-U4_2LA-Dx"
      },
      "execution_count": null,
      "outputs": []
    },
    {
      "cell_type": "code",
      "source": [],
      "metadata": {
        "id": "zNNN3AocA-BS"
      },
      "execution_count": null,
      "outputs": []
    },
    {
      "cell_type": "code",
      "source": [],
      "metadata": {
        "id": "o7yiwcczA9xq"
      },
      "execution_count": null,
      "outputs": []
    },
    {
      "cell_type": "markdown",
      "source": [
        "#SETS- FALTA CONTINUAR\n"
      ],
      "metadata": {
        "id": "PBTvF5G_WMtH"
      }
    },
    {
      "cell_type": "code",
      "source": [
        "myset=set()\n",
        "myset.add(1)\n",
        "myset.add(3)\n",
        "myset.add(2)\n",
        "myset.add(3)\n",
        "print(myset)\n",
        "#ver mas coisas o Sets em python\n",
        "#valores unicos"
      ],
      "metadata": {
        "id": "ibFdcVmq8rG5",
        "colab": {
          "base_uri": "https://localhost:8080/"
        },
        "outputId": "0a567f4d-5807-4c37-cd64-6fedefb592a6"
      },
      "execution_count": null,
      "outputs": [
        {
          "output_type": "stream",
          "name": "stdout",
          "text": [
            "{1, 2, 3}\n"
          ]
        }
      ]
    },
    {
      "cell_type": "code",
      "source": [
        "type(myset)"
      ],
      "metadata": {
        "colab": {
          "base_uri": "https://localhost:8080/"
        },
        "id": "OeiN9TMCqapo",
        "outputId": "17033194-f575-46a5-dafd-645453ec8aae"
      },
      "execution_count": null,
      "outputs": [
        {
          "output_type": "execute_result",
          "data": {
            "text/plain": [
              "set"
            ]
          },
          "metadata": {},
          "execution_count": 8
        }
      ]
    },
    {
      "cell_type": "markdown",
      "source": [
        "#args"
      ],
      "metadata": {
        "id": "Sc40xCIVCvIO"
      }
    },
    {
      "cell_type": "code",
      "source": [
        "#*Args permite você passar um número indeterminado de parâmetros para uma função.\n",
        "# Os argumentos são passados por posição, ou seja, sem nenhuma chave que os identifique.\n",
        "#A identificação depende apenas da posição em que o parâmetro é passado."
      ],
      "metadata": {
        "id": "UAVGmXm_CyB1"
      },
      "execution_count": null,
      "outputs": []
    },
    {
      "cell_type": "markdown",
      "source": [
        "#Tratamento de exceçoes\n",
        "#####https://docs.python.org/3/library/exceptions.html\n",
        "#####https://www.tutorialspoint.com/python-exception-base-classes"
      ],
      "metadata": {
        "id": "Cp37EgTH0nr_"
      }
    },
    {
      "cell_type": "code",
      "source": [
        "lista1=[1,10]\n",
        "try:\n",
        "  divisao=10/1               #se for 10/0 da o erro\n",
        "  num1=lista1[1]             #se for 3 da o erro\n",
        "\n",
        "except ZeroDivisionError:\n",
        "  print(\"nao é possivel realizar uma divisao por 0\")\n",
        "except IndexError:\n",
        "  print(\"error ao acessar um indice invalido da lista\")\n",
        "else :\n",
        "  print(\"nao houve nenhuma exception\")"
      ],
      "metadata": {
        "id": "vNTJBgpGxRqt"
      },
      "execution_count": null,
      "outputs": []
    },
    {
      "cell_type": "code",
      "source": [
        "#outra maneira de ligar com esse tipo de erro de atribuiçao e outros erros tambem\n",
        "#todas as exception tem pai e tem filho\n",
        "try:\n",
        "  x=a\n",
        "except BaseException as ex:\n",
        "  print('erro desconhecido. Error :{}'.format(ex))"
      ],
      "metadata": {
        "id": "9A9Fcx8oxRfT"
      },
      "execution_count": null,
      "outputs": []
    },
    {
      "cell_type": "markdown",
      "source": [
        "#Leitura de arquivo"
      ],
      "metadata": {
        "id": "oMosRG3c06m7"
      }
    },
    {
      "cell_type": "code",
      "source": [
        "arquivo = open('menino de cafe.txt', 'r') # <<funçao open para abrir o arquivoe o 'r' para indicar leitura\n",
        "##issso é um handle\n",
        "conteudo = arquivo.read() #aqui lemos o arquivo e passamos o conteudo do arquivo para variavel conteudo\n",
        "print(conteudo)\n",
        "#o arquivo precisa ser carregado em arquivos\n",
        "#https://youtu.be/Fo1tW09KIwo"
      ],
      "metadata": {
        "id": "iOjwgO3_06D-",
        "colab": {
          "base_uri": "https://localhost:8080/"
        },
        "outputId": "51460554-04af-4e15-b9d2-982966312872"
      },
      "execution_count": null,
      "outputs": [
        {
          "output_type": "stream",
          "name": "stdout",
          "text": [
            "a luz do sol entra pela janela,clareado o ambiente\n",
            "o calor que tinha antes dentro do quarto se dissipa com a forte rajada de vento que sai pela janela.\n",
            "os fios castanhos ganham sutis tons avermelhados e alaranjados,o rosto palido se torna levemente rosado \n",
            "os cachos mesmo ainda pequenos sao bonitos e combinam com o garoto\n",
            "ele nao se encolhe com o frio que começa a tomar conta do quarto com o passar do tempo.\n",
            "ele continua perto da janela observando o ceu\n",
            "admirado talvez com o branco do ceu  ou talvez apreciando o barulho da chuva ou ate mesmo observando o temporal que acontece la fora.\n",
            "apesar de cantarolar e de dançar pela casa com frequencia ele nao costumava conversa sozinho e tambem nao andava fazendo barulho.\n",
            "os olhos continuavam fixos na janela mesmo apos a queda de algum objeto no andar de baixo da casa\n",
            "nos viviamos naquela casa ja se tinha 5 anos e mesmo assim eu so o via raramente pele casa \n",
            "mas todos sabiam dos passos de dança pela cozinha,foi por causa dele que fiquei de castigo por duas semanas apos ele esquecer o arroz no fogo\n",
            "nao so eu fiquei como todos que estavam na cozinha aquele dia..\n",
            "\n",
            "links:\n",
            "https://guiarails.com.br/security.html\n",
            "https://dev.to/leandronsp/web-basics-a-tcp-server-in-ruby-947\n",
            "https://medium.com/rubycademy/how-network-programming-is-represented-in-ruby-bed554256648\n",
            "\n",
            "https://jzolotarev.medium.com/on-the-rails-c8c4721fd55a\n",
            "https://www.bluleadz.com/blog/http-vs-https-understanding-the-difference-picking-the-best-option-for-your-website\n",
            "https://www.treinaweb.com.br/blog/o-que-e-ruby-on-rails\n",
            "https://prograils.com/top-10-famous-sites-built-with-ruby-on-rails\n",
            "https://www.freecodecamp.org/news/understanding-the-basics-of-ruby-on-rails-http-mvc-and-routes-359b8d809c7a/\n",
            "https://devcenter.heroku.com/articles/getting-started-with-rails7\n",
            "https://medium.com/analytics-vidhya/deploy-ruby-on-rails-6-application-to-heroku-3d07a8d7428c\n",
            "https://guides.rubyonrails.org/routing.html\n",
            "https://www.youtube.com/watch?v=_-Dnys7_ESE&t=1s\n",
            "https://www.youtube.com/watch?v=EQcsD3ff14E&list=PLCC34OHNcOtoz3tvoN9uDkIAaDYqPqoEr\n",
            "https://www.youtube.com/watch?v=fmyvWz5TUWg&t=3160s\n",
            "https://tadhao.medium.com/everything-about-rails-router-cb82faa1b8a1\n",
            "\n",
            "-LENDO-LIDO\n",
            "https://www.devmedia.com.br/introducao-a-rotas-e-responders-no-ruby-on-rails/33521 < BOM,vale ler ate a parte de RESTful\n",
            "https://blog.skylight.io/the-lifecycle-of-a-request/< iniciando\n",
            "https://www.freecodecamp.org/news/understanding-the-basics-of-ruby-on-rails-http-mvc-and-routes-359b8d809c7a/ < lendo,logo no inicio tem conceitos basicos massa\n",
            "https://www.javatpoint.com/ruby-on-rails-router\n"
          ]
        }
      ]
    },
    {
      "cell_type": "code",
      "source": [
        "sequence=open('menino de cafe.txt', 'r')\n",
        "count=0\n",
        "for linetoline in sequence :\n",
        "  count=count+1\n",
        "  print(linetoline)\n",
        "#forma elegante\n",
        "print(\"temos o total de \"+str(count)+\" linhas no nosso texto\")"
      ],
      "metadata": {
        "id": "_rKJkaN36cvJ",
        "colab": {
          "base_uri": "https://localhost:8080/"
        },
        "outputId": "6adee628-2917-491b-cd6e-2b4ffe562fe8"
      },
      "execution_count": null,
      "outputs": [
        {
          "output_type": "stream",
          "name": "stdout",
          "text": [
            "a luz do sol entra pela janela,clareado o ambiente\n",
            "\n",
            "o calor que tinha antes dentro do quarto se dissipa com a forte rajada de vento que sai pela janela.\n",
            "\n",
            "os fios castanhos ganham sutis tons avermelhados e alaranjados,o rosto palido se torna levemente rosado \n",
            "\n",
            "os cachos mesmo ainda pequenos sao bonitos e combinam com o garoto\n",
            "\n",
            "ele nao se encolhe com o frio que começa a tomar conta do quarto com o passar do tempo.\n",
            "\n",
            "ele continua perto da janela observando o ceu\n",
            "\n",
            "admirado talvez com o branco do ceu  ou talvez apreciando o barulho da chuva ou ate mesmo observando o temporal que acontece la fora.\n",
            "\n",
            "apesar de cantarolar e de dançar pela casa com frequencia ele nao costumava conversa sozinho e tambem nao andava fazendo barulho.\n",
            "\n",
            "os olhos continuavam fixos na janela mesmo apos a queda de algum objeto no andar de baixo da casa\n",
            "\n",
            "nos viviamos naquela casa ja se tinha 5 anos e mesmo assim eu so o via raramente pele casa \n",
            "\n",
            "mas todos sabiam dos passos de dança pela cozinha,foi por causa dele que fiquei de castigo por duas semanas apos ele esquecer o arroz no fogo\n",
            "\n",
            "nao so eu fiquei como todos que estavam na cozinha aquele dia..\n",
            "\n",
            "\n",
            "\n",
            "links:\n",
            "\n",
            "https://guiarails.com.br/security.html\n",
            "\n",
            "https://dev.to/leandronsp/web-basics-a-tcp-server-in-ruby-947\n",
            "\n",
            "https://medium.com/rubycademy/how-network-programming-is-represented-in-ruby-bed554256648\n",
            "\n",
            "\n",
            "\n",
            "https://jzolotarev.medium.com/on-the-rails-c8c4721fd55a\n",
            "\n",
            "https://www.bluleadz.com/blog/http-vs-https-understanding-the-difference-picking-the-best-option-for-your-website\n",
            "\n",
            "https://www.treinaweb.com.br/blog/o-que-e-ruby-on-rails\n",
            "\n",
            "https://prograils.com/top-10-famous-sites-built-with-ruby-on-rails\n",
            "\n",
            "https://www.freecodecamp.org/news/understanding-the-basics-of-ruby-on-rails-http-mvc-and-routes-359b8d809c7a/\n",
            "\n",
            "https://devcenter.heroku.com/articles/getting-started-with-rails7\n",
            "\n",
            "https://medium.com/analytics-vidhya/deploy-ruby-on-rails-6-application-to-heroku-3d07a8d7428c\n",
            "\n",
            "https://guides.rubyonrails.org/routing.html\n",
            "\n",
            "https://www.youtube.com/watch?v=_-Dnys7_ESE&t=1s\n",
            "\n",
            "https://www.youtube.com/watch?v=EQcsD3ff14E&list=PLCC34OHNcOtoz3tvoN9uDkIAaDYqPqoEr\n",
            "\n",
            "https://www.youtube.com/watch?v=fmyvWz5TUWg&t=3160s\n",
            "\n",
            "https://tadhao.medium.com/everything-about-rails-router-cb82faa1b8a1\n",
            "\n",
            "\n",
            "\n",
            "-LENDO-LIDO\n",
            "\n",
            "https://www.devmedia.com.br/introducao-a-rotas-e-responders-no-ruby-on-rails/33521 < BOM,vale ler ate a parte de RESTful\n",
            "\n",
            "https://blog.skylight.io/the-lifecycle-of-a-request/< iniciando\n",
            "\n",
            "https://www.freecodecamp.org/news/understanding-the-basics-of-ruby-on-rails-http-mvc-and-routes-359b8d809c7a/ < lendo,logo no inicio tem conceitos basicos massa\n",
            "\n",
            "https://www.javatpoint.com/ruby-on-rails-router\n",
            "temos o total de 36 linhas no nosso texto\n"
          ]
        }
      ]
    },
    {
      "cell_type": "code",
      "source": [
        "arquivo = open('menino de cafe.txt', 'r') # <<funçao open para abrir o arquivoe o 'r' para indicar leitura\n",
        "##issso é um handle\n",
        "conteudo = arquivo.read() #aqui lemos o arquivo e passamos o conteudo do arquivo para variavel conteudo\n",
        "print(len(conteudo))##chacracter\n",
        "print(conteudo[:12])"
      ],
      "metadata": {
        "id": "9Qah0tWs6crT",
        "colab": {
          "base_uri": "https://localhost:8080/"
        },
        "outputId": "c408cdf2-4db3-4e5d-ec58-72a91bef7d1b"
      },
      "execution_count": null,
      "outputs": [
        {
          "output_type": "stream",
          "name": "stdout",
          "text": [
            "2585\n",
            "a luz do sol\n"
          ]
        }
      ]
    },
    {
      "cell_type": "code",
      "source": [
        "\n",
        "try:\n",
        "  arquivo = open('menino de cafe.txt', 'r')\n",
        "  texto = arquivo.read()\n",
        "finally:\n",
        "  print(\"fechando o arquivo\")\n",
        "  at=arquivo.close()\n",
        "  #Utilizamos o Finally nesse caso para que independente que aja erro ou nao\n",
        "  #ocorra o fechamento do arquivo"
      ],
      "metadata": {
        "id": "2AGKkWjsdHsY",
        "colab": {
          "base_uri": "https://localhost:8080/"
        },
        "outputId": "3c1bedb4-0243-4d48-e051-43037b018d6a"
      },
      "execution_count": null,
      "outputs": [
        {
          "output_type": "stream",
          "name": "stdout",
          "text": [
            "fechando o arquivo\n"
          ]
        }
      ]
    },
    {
      "cell_type": "code",
      "source": [
        "pwd"
      ],
      "metadata": {
        "id": "8EMPsvoP6cpr",
        "colab": {
          "base_uri": "https://localhost:8080/",
          "height": 35
        },
        "outputId": "5f86ce9a-e68e-4781-c813-605e87e1985a"
      },
      "execution_count": null,
      "outputs": [
        {
          "output_type": "execute_result",
          "data": {
            "text/plain": [
              "'/content'"
            ],
            "application/vnd.google.colaboratory.intrinsic+json": {
              "type": "string"
            }
          },
          "metadata": {},
          "execution_count": 14
        }
      ]
    },
    {
      "cell_type": "code",
      "source": [
        "#O método de arquivo Python seek() define a posição atual do arquivo no deslocamento.\n",
        "#O argumento wherece é opcional e o padrão é 0, o que significa posicionamento absoluto do arquivo,\n",
        "#outros valores são 1, o que significa busca em relação à posição atual e 2 significa busca em relação ao final do arquivo.\n"
      ],
      "metadata": {
        "id": "sAnV484g6cl1"
      },
      "execution_count": null,
      "outputs": []
    },
    {
      "cell_type": "code",
      "source": [
        "#aqui temos outra forma de ler e exibir o arquivo\n",
        "x = open('test.txt', 'w')\n",
        "x.write('This is my file')\n",
        "x.close()"
      ],
      "metadata": {
        "id": "wt07EjLY6ccG"
      },
      "execution_count": null,
      "outputs": []
    },
    {
      "cell_type": "code",
      "source": [
        "#aqui estamos escrevendo dentro do arquivo\n",
        "with open('test.txt', 'w') as doc_Escrita:\n",
        "    doc_Escrita.write(\"This is line A\\n\")\n",
        "    doc_Escrita.write(\"This is line B\\n\")"
      ],
      "metadata": {
        "id": "xrSGNRhkZ9Yi"
      },
      "execution_count": null,
      "outputs": []
    },
    {
      "cell_type": "code",
      "source": [
        "#neste aqui adicionamos uma linha ao texto\n",
        "with open('/resources/data/Example2.txt', 'a') as testwritefile:\n",
        "    testwritefile.write(\"This is line C\\n\")"
      ],
      "metadata": {
        "id": "CTAGejvVaWXo",
        "colab": {
          "base_uri": "https://localhost:8080/",
          "height": 200
        },
        "outputId": "0b6b0d93-3ea5-44f9-eb3b-d70c5fd229c8"
      },
      "execution_count": null,
      "outputs": [
        {
          "output_type": "error",
          "ename": "FileNotFoundError",
          "evalue": "ignored",
          "traceback": [
            "\u001b[0;31m---------------------------------------------------------------------------\u001b[0m",
            "\u001b[0;31mFileNotFoundError\u001b[0m                         Traceback (most recent call last)",
            "\u001b[0;32m<ipython-input-7-8d25de12182b>\u001b[0m in \u001b[0;36m<module>\u001b[0;34m\u001b[0m\n\u001b[1;32m      1\u001b[0m \u001b[0;31m#neste aqui adicionamos uma linha ao texto\u001b[0m\u001b[0;34m\u001b[0m\u001b[0;34m\u001b[0m\u001b[0;34m\u001b[0m\u001b[0m\n\u001b[0;32m----> 2\u001b[0;31m \u001b[0;32mwith\u001b[0m \u001b[0mopen\u001b[0m\u001b[0;34m(\u001b[0m\u001b[0;34m'/resources/data/Example2.txt'\u001b[0m\u001b[0;34m,\u001b[0m \u001b[0;34m'a'\u001b[0m\u001b[0;34m)\u001b[0m \u001b[0;32mas\u001b[0m \u001b[0mtestwritefile\u001b[0m\u001b[0;34m:\u001b[0m\u001b[0;34m\u001b[0m\u001b[0;34m\u001b[0m\u001b[0m\n\u001b[0m\u001b[1;32m      3\u001b[0m     \u001b[0mtestwritefile\u001b[0m\u001b[0;34m.\u001b[0m\u001b[0mwrite\u001b[0m\u001b[0;34m(\u001b[0m\u001b[0;34m\"This is line C\\n\"\u001b[0m\u001b[0;34m)\u001b[0m\u001b[0;34m\u001b[0m\u001b[0;34m\u001b[0m\u001b[0m\n",
            "\u001b[0;31mFileNotFoundError\u001b[0m: [Errno 2] No such file or directory: '/resources/data/Example2.txt'"
          ]
        }
      ]
    },
    {
      "cell_type": "code",
      "source": [
        "# linhas para ser colocadas no arquivo do tipo txt\n",
        "\n",
        "Lines = [\"Doubt thou, the stars are fire \\n\", \"Doubt, that the sun doth move \\n\", \"Doubt truth to be a liar \\n\",\"But never doubt I love \\n\"]\n",
        "Lines\n",
        "\n",
        "# escrita das linhas no arquivo\n",
        "\n",
        "with open('Example2.txt', 'w') as writefile:\n",
        "    for line in Lines:\n",
        "        print(line)\n",
        "        writefile.write(line)"
      ],
      "metadata": {
        "id": "p95zX_GYa40x",
        "colab": {
          "base_uri": "https://localhost:8080/"
        },
        "outputId": "441df896-fe4e-48d3-87a8-0c19210727e5"
      },
      "execution_count": null,
      "outputs": [
        {
          "output_type": "stream",
          "name": "stdout",
          "text": [
            "Doubt thou, the stars are fire \n",
            "\n",
            "Doubt, that the sun doth move \n",
            "\n",
            "Doubt truth to be a liar \n",
            "\n",
            "But never doubt I love \n",
            "\n"
          ]
        }
      ]
    },
    {
      "cell_type": "code",
      "source": [
        "#procurar saber mais sobre mode  para trabalhar com arquivos  como 'r+'"
      ],
      "metadata": {
        "id": "dJxWIC8MJ4ie"
      },
      "execution_count": null,
      "outputs": []
    },
    {
      "cell_type": "markdown",
      "source": [
        "#FLASK utilizaçao para web"
      ],
      "metadata": {
        "id": "B6JkvJVbS-sK"
      }
    },
    {
      "cell_type": "code",
      "source": [
        "!pip install flask-ngrok\n",
        "!pip install flask-bootstrap"
      ],
      "metadata": {
        "colab": {
          "base_uri": "https://localhost:8080/"
        },
        "id": "ESTxhA3UTCy2",
        "outputId": "1fa63e29-928f-45fc-df9c-df40eadeb72d"
      },
      "execution_count": null,
      "outputs": [
        {
          "output_type": "stream",
          "name": "stdout",
          "text": [
            "Looking in indexes: https://pypi.org/simple, https://us-python.pkg.dev/colab-wheels/public/simple/\n",
            "Collecting flask-ngrok\n",
            "  Downloading flask_ngrok-0.0.25-py3-none-any.whl (3.1 kB)\n",
            "Requirement already satisfied: requests in /usr/local/lib/python3.8/dist-packages (from flask-ngrok) (2.25.1)\n",
            "Requirement already satisfied: Flask>=0.8 in /usr/local/lib/python3.8/dist-packages (from flask-ngrok) (1.1.4)\n",
            "Requirement already satisfied: itsdangerous<2.0,>=0.24 in /usr/local/lib/python3.8/dist-packages (from Flask>=0.8->flask-ngrok) (1.1.0)\n",
            "Requirement already satisfied: click<8.0,>=5.1 in /usr/local/lib/python3.8/dist-packages (from Flask>=0.8->flask-ngrok) (7.1.2)\n",
            "Requirement already satisfied: Jinja2<3.0,>=2.10.1 in /usr/local/lib/python3.8/dist-packages (from Flask>=0.8->flask-ngrok) (2.11.3)\n",
            "Requirement already satisfied: Werkzeug<2.0,>=0.15 in /usr/local/lib/python3.8/dist-packages (from Flask>=0.8->flask-ngrok) (1.0.1)\n",
            "Requirement already satisfied: idna<3,>=2.5 in /usr/local/lib/python3.8/dist-packages (from requests->flask-ngrok) (2.10)\n",
            "Requirement already satisfied: urllib3<1.27,>=1.21.1 in /usr/local/lib/python3.8/dist-packages (from requests->flask-ngrok) (1.24.3)\n",
            "Requirement already satisfied: certifi>=2017.4.17 in /usr/local/lib/python3.8/dist-packages (from requests->flask-ngrok) (2022.12.7)\n",
            "Requirement already satisfied: chardet<5,>=3.0.2 in /usr/local/lib/python3.8/dist-packages (from requests->flask-ngrok) (4.0.0)\n",
            "Requirement already satisfied: MarkupSafe>=0.23 in /usr/local/lib/python3.8/dist-packages (from Jinja2<3.0,>=2.10.1->Flask>=0.8->flask-ngrok) (2.0.1)\n",
            "Installing collected packages: flask-ngrok\n",
            "Successfully installed flask-ngrok-0.0.25\n",
            "Looking in indexes: https://pypi.org/simple, https://us-python.pkg.dev/colab-wheels/public/simple/\n",
            "Collecting flask-bootstrap\n",
            "  Downloading Flask-Bootstrap-3.3.7.1.tar.gz (456 kB)\n",
            "\u001b[2K     \u001b[90m━━━━━━━━━━━━━━━━━━━━━━━━━━━━━━━━━━━━━━━\u001b[0m \u001b[32m456.4/456.4 KB\u001b[0m \u001b[31m7.1 MB/s\u001b[0m eta \u001b[36m0:00:00\u001b[0m\n",
            "\u001b[?25h  Preparing metadata (setup.py) ... \u001b[?25l\u001b[?25hdone\n",
            "Requirement already satisfied: Flask>=0.8 in /usr/local/lib/python3.8/dist-packages (from flask-bootstrap) (1.1.4)\n",
            "Collecting dominate\n",
            "  Downloading dominate-2.7.0-py2.py3-none-any.whl (29 kB)\n",
            "Collecting visitor\n",
            "  Downloading visitor-0.1.3.tar.gz (3.3 kB)\n",
            "  Preparing metadata (setup.py) ... \u001b[?25l\u001b[?25hdone\n",
            "Requirement already satisfied: itsdangerous<2.0,>=0.24 in /usr/local/lib/python3.8/dist-packages (from Flask>=0.8->flask-bootstrap) (1.1.0)\n",
            "Requirement already satisfied: click<8.0,>=5.1 in /usr/local/lib/python3.8/dist-packages (from Flask>=0.8->flask-bootstrap) (7.1.2)\n",
            "Requirement already satisfied: Werkzeug<2.0,>=0.15 in /usr/local/lib/python3.8/dist-packages (from Flask>=0.8->flask-bootstrap) (1.0.1)\n",
            "Requirement already satisfied: Jinja2<3.0,>=2.10.1 in /usr/local/lib/python3.8/dist-packages (from Flask>=0.8->flask-bootstrap) (2.11.3)\n",
            "Requirement already satisfied: MarkupSafe>=0.23 in /usr/local/lib/python3.8/dist-packages (from Jinja2<3.0,>=2.10.1->Flask>=0.8->flask-bootstrap) (2.0.1)\n",
            "Building wheels for collected packages: flask-bootstrap, visitor\n",
            "  Building wheel for flask-bootstrap (setup.py) ... \u001b[?25l\u001b[?25hdone\n",
            "  Created wheel for flask-bootstrap: filename=Flask_Bootstrap-3.3.7.1-py3-none-any.whl size=460123 sha256=25319ee76faadc4248848e94c2b987fc2b2799acd8081c924f017d44f2132296\n",
            "  Stored in directory: /root/.cache/pip/wheels/f2/a3/85/fe8b65a65a447c9906e3b7edb7d9e6c74dfa9c8425c3dd3007\n",
            "  Building wheel for visitor (setup.py) ... \u001b[?25l\u001b[?25hdone\n",
            "  Created wheel for visitor: filename=visitor-0.1.3-py3-none-any.whl size=3943 sha256=a983ffa1d9c564a501331a8a1c0025c145eace2bc1fe876ce157205544974eff\n",
            "  Stored in directory: /root/.cache/pip/wheels/d3/40/52/5dae7760434a82caf8b8f88323029188b2d4ea3ac1235e550a\n",
            "Successfully built flask-bootstrap visitor\n",
            "Installing collected packages: visitor, dominate, flask-bootstrap\n",
            "Successfully installed dominate-2.7.0 flask-bootstrap-3.3.7.1 visitor-0.1.3\n"
          ]
        }
      ]
    },
    {
      "cell_type": "code",
      "source": [
        "from flask_ngrok import run_with_ngrok\n",
        "from flask import Flask, render_template , request\n",
        "import os\n",
        "\n",
        "#criaçao da instancia\n",
        "app = Flask(__name__)\n",
        "\n",
        "@app.route(\"/\")\n",
        "def hello_world():\n",
        "    return \"<p>Hello, World!</p>\""
      ],
      "metadata": {
        "id": "ijpdHwnAXAJ3"
      },
      "execution_count": null,
      "outputs": []
    },
    {
      "cell_type": "markdown",
      "source": [
        "#referencia :"
      ],
      "metadata": {
        "id": "mknWkaZzC4NF"
      }
    },
    {
      "cell_type": "code",
      "source": [
        "#referencia\n",
        "# https://www.geeksforgeeks.org/try-except-else-and-finally-in-python/\n",
        "# https://www.freecodecamp.org/news/learning-python-from-zero-to-hero-120ea540b567/\n",
        "# https://algoritmosempython.com.br/cursos/programacao-python/listas/\n",
        "# https://www.youtube.com/watch?v=t8pPdKYpowI\n",
        "# https://www.youtube.com/watch?v=rfscVS0vtbw\n",
        "# https://www.w3schools.com/python/python_for_loops.asp\n",
        "# youtube.com/watch?v=kqtD5dpn9C8\n",
        "# https://youtu.be/Fo1tW09KIwo\n",
        "# https://algoritmosempython.com.br/cursos/programacao-python/entrada-saida/\n",
        "# https://www.youtube.com/watch?v=ax3kaDGa1YE\n",
        "# https://algoritmosempython.com.br/cursos/programacao-python/fluxo-controle/\n",
        "# https://algoritmosempython.com.br/cursos/programacao-python/tuplas/\n",
        "# https://blog.betrybe.com/tecnologia/tuplas-em-python/#:~:text=Boa%20leitura!-,O%20que%20%C3%A9%20tupla%3F,alterar%20ou%20remover%20seus%20elementos.\n",
        "# https://docs.python.org/3/tutorial/controlflow.html\n",
        "# https://pydatascience.org/data-science-cheatsheets/\n",
        "# https://programmingwithmosh.com/wp-content/uploads/2019/02/Python-Cheat-Sheet.pdf\n",
        "# https://www.youtube.com/watch?v=u-OmVr_fT4s\n",
        "# https://github.com/Pierian-Data/Complete-Python-3-Bootcamp\n",
        "# https://projecteuler.net/archives\n",
        "# http://codingbat.com/python\n",
        "# https://www.tutorialspoint.com/python-exception-base-classes\n",
        "# https://docs.python.org/3/library/exceptions.html\n",
        "#https://www.geeksforgeeks.org/python-math-function-sqrt/\n",
        "# 2022 Complete Python Bootcamp From Zero to Hero in Python\n",
        "# https://www.techtudo.com.br/noticias/2018/10/o-que-sao-cookies-entenda-os-dados-que-os-sites-guardam-sobre-voce.ghtml\n",
        "# https://www.freecodecamp.org/learn/scientific-computing-with-python/python-for-everybody/build-your-own-functions\n",
        "# https://www.tutorialspoint.com/python/python_functions.htm\n",
        "# https://www.tutorialspoint.com/python/python_break_statement.htm\n",
        "# https://towardsdatascience.com/how-to-make-goodreads-com-top-400-list-8e3a26e509bf\n",
        "# https://www.sqlshack.com/understanding-args-and-kwargs-arguments-in-python/\n",
        "# https://cadernodelaboratorio.com.br/args-e-kwargs-o-que-significam-em-python/\n",
        "# file:///C:/Users/Dell/Documents/estudos/100%20dias%20com%20python/Python+Syntax+Cheat+Sheet+Booklet.pdf\n",
        "# https://stackoverflow.com/questions/4967580/how-to-get-the-size-of-a-string-in-python\n",
        "#  Replit pode ser usado tb para codar\n",
        "#https://www.youtube.com/watch?v=Ej_02ICOIgs\n",
        "#https://www.youtube.com/watch?v=XGf2GcyHPhc\n",
        "#https://www.youtube.com/watch?v=LHBE6Q9XlzI\n",
        "#https://www.youtube.com/watch?v=EsDFiZPljYo&list=PLWKjhJtqVAblvI1i46ScbKV2jH1gdL7VQ\n",
        "#https://www.youtube.com/watch?v=JeznW_7DlB0\n",
        "# https://www.tutorialspoint.com/python/python_date_time.htm\n",
        "# https://www.w3schools.com/python/ref_keyword_finally.asp\n",
        "#https://stackoverflow.com/questions/52345913/how-to-handle-wait-for-input-signal-in-python\n",
        "#https://stackabuse.com/getting-user-input-in-python/\n",
        "#https://docs.python.org/3/library/signal.html\n",
        "#https://www.linkedin.com/pulse/signal-processing-python-part-1-generate-signals-basic-hampiholi\n",
        "#https://colab.research.google.com/github/computationalcore/introduction-to-python/blob/master/notebooks/4-files/PY0101EN-4-2-WriteFile.ipynb#scrollTo=fFFgFOl00uqo"
      ],
      "metadata": {
        "id": "GiDKDbyf-OoP"
      },
      "execution_count": null,
      "outputs": []
    },
    {
      "cell_type": "code",
      "source": [
        "#pessoas importantes na computaçao:\n",
        "# https://deepai.org/profile/sanjay-ghemawat\n",
        "# https://en.wikipedia.org/wiki/Sanjay_Ghemawat\n",
        "# https://pt.wikipedia.org/wiki/Dennis_Ritchie\n",
        "# https://horizontes.sbc.org.br/index.php/2021/12/dennis-m-ritchie-humildade-e-genialidade/\n",
        "# https://pt.wikipedia.org/wiki/Margaret_Hamilton_(cientista_da_computa%C3%A7%C3%A3o)\n",
        "# https://horizontes.sbc.org.br/index.php/2021/05/margaret-hamilton-mae-cientista-na-lideranca-do-apollo-11/\n"
      ],
      "metadata": {
        "id": "BybfMNgnn7Os"
      },
      "execution_count": null,
      "outputs": []
    }
  ]
}