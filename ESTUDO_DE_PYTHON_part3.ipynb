{
 "cells": [
  {
   "cell_type": "markdown",
   "id": "ed87ddbe",
   "metadata": {
    "id": "2B-4GIGmhFai"
   },
   "source": [
    "# Modularizaçao ou Def //functions\n",
    "####A function is a block of organized, reusable code that is used to perform a single, related action. Functions provide better modularity for your application and a high degree of code reusing."
   ]
  },
  {
   "cell_type": "code",
   "execution_count": null,
   "id": "f8a39682",
   "metadata": {
    "id": "bf3MxE4aWaSQ"
   },
   "outputs": [],
   "source": [
    "#funçoes sao definidas sao palavra reservada def\n",
    "#Functions are considered as the building blocks of any programming language."
   ]
  },
  {
   "cell_type": "code",
   "execution_count": null,
   "id": "e7af7789",
   "metadata": {
    "colab": {
     "base_uri": "https://localhost:8080/"
    },
    "id": "RJtlGoUiwgRj",
    "outputId": "42a2cbd6-0c0c-4123-aaf1-14c2fe71e645"
   },
   "outputs": [
    {
     "name": "stdout",
     "output_type": "stream",
     "text": [
      "informe o seu nome6\n",
      "hii6\n"
     ]
    }
   ],
   "source": [
    "def hi(x):\n",
    "  print(\"Ola\"+str(x)+\"seja bem vindo\")\n",
    "hi(input(\"informe o seu nome\"))"
   ]
  },
  {
   "cell_type": "code",
   "execution_count": null,
   "id": "0e5db00a",
   "metadata": {
    "colab": {
     "base_uri": "https://localhost:8080/"
    },
    "id": "wGe7yThHBOXa",
    "outputId": "90db07e4-6953-4543-be8b-6afd44579987"
   },
   "outputs": [
    {
     "name": "stdout",
     "output_type": "stream",
     "text": [
      "8\n"
     ]
    }
   ],
   "source": [
    "def soma(x,y):\n",
    "  return x+y;\n",
    "\n",
    "print(soma(2,6))\n",
    "#aqui temos uma funçao com input"
   ]
  },
  {
   "cell_type": "code",
   "execution_count": null,
   "id": "f5c2273f",
   "metadata": {
    "id": "UDXJaXPQpbdp"
   },
   "outputs": [],
   "source": [
    "# Outro exemplo de função que retorna um valor.\n",
    "def eleva_ao_quadrado(n):\n",
    "    return n ** 2\n",
    "\n",
    "print(\"O número {} elevado ao quatrado é {}\".format(10, eleva_ao_quadrado(10)))\n",
    "#aqui temos um output"
   ]
  },
  {
   "cell_type": "code",
   "execution_count": null,
   "id": "231ae2b0",
   "metadata": {
    "colab": {
     "base_uri": "https://localhost:8080/"
    },
    "id": "j93oQv45l2MU",
    "outputId": "d3227cf7-351f-4adb-b929-26b1d40d4ff9"
   },
   "outputs": [
    {
     "name": "stdout",
     "output_type": "stream",
     "text": [
      "20 4 12\n"
     ]
    }
   ],
   "source": [
    "def foo(a, b=4, c=6):\n",
    "    print(a, b, c)\n",
    "\n",
    "foo(20, c=12)\n",
    "#aqui temos uma funçao com input"
   ]
  },
  {
   "cell_type": "code",
   "execution_count": null,
   "id": "575c9dba",
   "metadata": {
    "colab": {
     "base_uri": "https://localhost:8080/"
    },
    "id": "4u--Bz5CsLjG",
    "outputId": "5ddf4777-7c8c-4c51-9c42-d27b0f86805c"
   },
   "outputs": [
    {
     "name": "stdout",
     "output_type": "stream",
     "text": [
      "22\n",
      "13\n",
      "6\n",
      "9\n",
      "None\n"
     ]
    }
   ],
   "source": [
    "def soma(*args):\n",
    "    resultado = 0\n",
    "    for numero  in args:\n",
    "        resultado += numero\n",
    "    return resultado\n",
    "\n",
    "\n",
    "def main():\n",
    "    print(soma(4,7,11))\n",
    "\n",
    "    print(soma(8,4,1))\n",
    "\n",
    "    print(soma(4,2))\n",
    "\n",
    "    print(soma(2,2,5))\n",
    "print(main())\n",
    "    #ai é quando nos entendemos"
   ]
  },
  {
   "cell_type": "code",
   "execution_count": null,
   "id": "20be93f2",
   "metadata": {
    "colab": {
     "base_uri": "https://localhost:8080/"
    },
    "id": "kD7-RB7LsO2q",
    "outputId": "4683cff0-5279-4ce6-b0b6-460f0308864c"
   },
   "outputs": [
    {
     "name": "stdout",
     "output_type": "stream",
     "text": [
      "ja passamos por trabalho\n",
      "ja passamos por praia\n",
      "ja passamos por estudo\n",
      "ja passamos por cidade\n",
      "ja passamos por fazenda\n",
      "None\n"
     ]
    }
   ],
   "source": [
    "def visitar(*lugares):\n",
    "  for canto in lugares:\n",
    "    print(f\"ja passamos por {canto}\")\n",
    "\n",
    "def main():\n",
    "  visitar(\"trabalho\",\"praia\",\"estudo\",\"cidade\",\"fazenda\")\n",
    "\n",
    "print(main())"
   ]
  },
  {
   "cell_type": "code",
   "execution_count": null,
   "id": "130af4d5",
   "metadata": {
    "colab": {
     "base_uri": "https://localhost:8080/",
     "height": 235
    },
    "id": "A7WU0rmDVXGc",
    "outputId": "378482b3-0382-443e-c077-d294ec963ee9"
   },
   "outputs": [
    {
     "ename": "NameError",
     "evalue": "ignored",
     "output_type": "error",
     "traceback": [
      "\u001b[0;31m---------------------------------------------------------------------------\u001b[0m",
      "\u001b[0;31mNameError\u001b[0m                                 Traceback (most recent call last)",
      "\u001b[0;32m<ipython-input-20-1af7329437ff>\u001b[0m in \u001b[0;36m<module>\u001b[0;34m\u001b[0m\n\u001b[1;32m      5\u001b[0m \u001b[0ma_function\u001b[0m\u001b[0;34m(\u001b[0m\u001b[0;36m10\u001b[0m\u001b[0;34m)\u001b[0m\u001b[0;34m\u001b[0m\u001b[0;34m\u001b[0m\u001b[0m\n\u001b[1;32m      6\u001b[0m \u001b[0;34m\u001b[0m\u001b[0m\n\u001b[0;32m----> 7\u001b[0;31m \u001b[0mprint\u001b[0m\u001b[0;34m(\u001b[0m\u001b[0ma_variable\u001b[0m\u001b[0;34m)\u001b[0m\u001b[0;34m\u001b[0m\u001b[0;34m\u001b[0m\u001b[0m\n\u001b[0m\u001b[1;32m      8\u001b[0m \u001b[0;31m#era pra dar um erro\u001b[0m\u001b[0;34m\u001b[0m\u001b[0;34m\u001b[0m\u001b[0;34m\u001b[0m\u001b[0m\n\u001b[1;32m      9\u001b[0m \u001b[0;31m#Variables created inside a function are\u001b[0m\u001b[0;34m\u001b[0m\u001b[0;34m\u001b[0m\u001b[0;34m\u001b[0m\u001b[0m\n",
      "\u001b[0;31mNameError\u001b[0m: name 'a_variable' is not defined"
     ]
    }
   ],
   "source": [
    "def a_function(a_parameter):\n",
    "    a_variable = 15\n",
    "    return a_parameter\n",
    "\n",
    "a_function(10)\n",
    "\n",
    "print(a_variable)\n",
    "#aqui da um erro ja que temos um comando fora do nossa funçao\n",
    "#deveriamos ter criado ela dentro no bloco da nossa funçao\n",
    "#aqui temos um output"
   ]
  },
  {
   "cell_type": "code",
   "execution_count": null,
   "id": "14e0a79f",
   "metadata": {
    "colab": {
     "base_uri": "https://localhost:8080/"
    },
    "id": "Tn14Z24OHpvF",
    "outputId": "3e4ead8a-6a26-40cb-f1da-dc06ffa4483e"
   },
   "outputs": [
    {
     "name": "stdout",
     "output_type": "stream",
     "text": [
      "bruce\n",
      "bruce\n"
     ]
    }
   ],
   "source": [
    "def print_twice():\n",
    "  print(\"bruce\")\n",
    "  print(\"bruce\")\n",
    "print_twice()"
   ]
  },
  {
   "cell_type": "code",
   "execution_count": null,
   "id": "cb77eb81",
   "metadata": {
    "id": "-WJ8x6yEpbeX"
   },
   "outputs": [],
   "source": [
    "# Function definition is here\n",
    "def printme( str ):\n",
    "   \"This prints a passed string into this function\"\n",
    "   print (str)\n",
    "   return;\n",
    "\n",
    "# Now you can call printme function\n",
    "printme(\"fazendo a chamada  dessa funçao\")\n",
    "printme(\"chamando novamente a mesa funçao tambem podemos mandar outras coisas\")\n",
    "#aqui estamos chamando a mesma funçao duas vezes mas estamos passando diferentes parametros"
   ]
  },
  {
   "cell_type": "code",
   "execution_count": null,
   "id": "f8f9a3fa",
   "metadata": {
    "colab": {
     "base_uri": "https://localhost:8080/"
    },
    "id": "v94Id9zg49Rl",
    "outputId": "dbc42068-ebcd-41d6-e668-9eb561267fbc"
   },
   "outputs": [
    {
     "name": "stdout",
     "output_type": "stream",
     "text": [
      "I'm a lumberjack, and I'm okay.\n",
      "I sleep all night and I work all day.\n",
      "I'm a lumberjack, and I'm okay.\n",
      "I sleep all night and I work all day.\n"
     ]
    }
   ],
   "source": [
    "def print_lyrics():\n",
    "\n",
    "   print(\"I'm a lumberjack, and I'm okay.\")\n",
    "   print('I sleep all night and I work all day.')\n",
    "\n",
    "def repeat_lyrics():\n",
    "  print_lyrics()\n",
    "  print_lyrics()\n",
    "repeat_lyrics()"
   ]
  },
  {
   "cell_type": "code",
   "execution_count": null,
   "id": "21e2a75a",
   "metadata": {
    "colab": {
     "base_uri": "https://localhost:8080/"
    },
    "id": "NqRJXb1hRhkV",
    "outputId": "30eae530-fa1c-473e-da86-a6e8e52521a3"
   },
   "outputs": [
    {
     "name": "stdout",
     "output_type": "stream",
     "text": [
      "1\n",
      "2\n",
      "3\n",
      "6\n",
      "7\n",
      "12\n",
      "13\n",
      "20\n",
      "21\n",
      "30\n"
     ]
    }
   ],
   "source": [
    "def fuc ():\n",
    "  result=0\n",
    "  for k in range(0, 10):\n",
    "    if(( k % 2 ) == 1 ):\n",
    "       result = result + k\n",
    "       print(result)\n",
    "    else:\n",
    "      result=result+1\n",
    "      print(result)\n",
    "\n",
    "fuc()"
   ]
  },
  {
   "cell_type": "code",
   "execution_count": null,
   "id": "ce7bf79a",
   "metadata": {
    "colab": {
     "base_uri": "https://localhost:8080/"
    },
    "id": "rXZp3wg9YVZL",
    "outputId": "d31fbfc5-5b20-4a96-f102-f221c4bb79b3"
   },
   "outputs": [
    {
     "name": "stdout",
     "output_type": "stream",
     "text": [
      "email 1 : gmail.com, email 2 : outlook.com ,email 3 : hotmail.com\n"
     ]
    }
   ],
   "source": [
    "\n",
    "#modificamos o parametro que quebra do nosso string\n",
    "def get_mail(string):\n",
    "    li = list(string.split(\"@\"))\n",
    "    #pegamos a 2 parte da saber o tipo da fonte de email \n",
    "    return li[1]\n",
    "   #retornamos o tipo\n",
    "\n",
    "# Driver code\n",
    "mail = \"fefeNandez@gmail.com\"\n",
    "\n",
    "mail1= \"dodo12@outlook.com\"\n",
    "mail2= \"meialua24@hotmail.com\"\n",
    "print(\"email 1 : \"+get_mail(mail)+\", email 2 : \"+get_mail(mail1)+\" ,email 3 : \"+get_mail(mail2))\n",
    "\n"
   ]
  },
  {
   "cell_type": "code",
   "execution_count": null,
   "id": "2d70ca75",
   "metadata": {},
   "outputs": [],
   "source": [
    "# Definição do dicionário de produtos e listas de itens\n",
    "produtos = {\n",
    "    \"Bebidas\": [\"coca\", \"cha mate\", \"agua\", \"chocolate quente\"],\n",
    "    \"Comida\": [\"bolo\", \"file com fritas\", \"chocolate\"],\n",
    "    \"Custo_Bebidas\": [5.0, 2.4, 0.5, 2],\n",
    "    \"Custo_Comida\": [10, 20, 5.3]\n",
    "}\n",
    "\n",
    "bebidas_list = produtos[\"Bebidas\"]\n",
    "alimentos_list = produtos[\"Comida\"]\n",
    "\n",
    "custoC_list = produtos[\"Custo_Comida\"]\n",
    "custoB_list = produtos[\"Custo_Bebidas\"]\n",
    "\n",
    "# Função para exibir os produtos disponíveis\n",
    "def exibir_produtos():\n",
    "    print(\"Produtos disponíveis:\")\n",
    "    print(\"Lista de Bebidas:\")\n",
    "    for i, bebida in enumerate(bebidas_list):\n",
    "        print(f\"{i + 1}. {bebida} - R${produtos['Custo_Bebidas'][i]:.2f}\")\n",
    "    print(\"Lista de Comida:\")\n",
    "    for i, comida in enumerate(alimentos_list):\n",
    "        print(f\"{i + 1}. {comida} - R${produtos['Custo_Comida'][i]:.2f}\")\n",
    "\n",
    "# Função para obter a posição do item na lista de bebidas\n",
    "def itemPosiçãoB(item):\n",
    "    achou = False\n",
    "    i = 0\n",
    "    while i < len(bebidas_list):\n",
    "        if bebidas_list[i] == item:\n",
    "            achou = True\n",
    "            break\n",
    "        i += 1\n",
    "    if achou:\n",
    "        return i\n",
    "    else:\n",
    "        return -1\n",
    "\n",
    "# Função para obter a posição do item na lista de alimentos\n",
    "def itemPosiçãoC(item):\n",
    "    achou = False\n",
    "    i = 0\n",
    "    while i < len(alimentos_list):\n",
    "        if alimentos_list[i] == item:\n",
    "            achou = True\n",
    "            break\n",
    "        i += 1\n",
    "    if achou:\n",
    "        return i\n",
    "    else:\n",
    "        return -1\n",
    "    \n",
    "# Função para calcular o preço da bebida com base na quantidade\n",
    "def calcular_preço_bebida(posição):\n",
    "    qtd = int(input(\"Informe a quantidade do item que você deseja: \"))\n",
    "    valor = custoB_list[posição] * qtd\n",
    "    return valor\n",
    "\n",
    "# Função para calcular o preço da comida com base na quantidade\n",
    "def calcular_preço_comida(posição):\n",
    "    qtd = int(input(\"Informe a quantidade do item que você deseja: \"))\n",
    "    valor = custoC_list[posição] * qtd\n",
    "    return valor\n",
    "\n",
    "# Saudação inicial\n",
    "print(\"Seja bem-vindo à loja\")\n",
    "exibir_produtos()\n",
    "\n",
    "# Obtenção da opção do usuário\n",
    "opçãolista = int(input(\"Selecione 1 para selecionar algum item da lista de bebidas disponíveis\\nSelecione 2 para selecionar algum item da lista de alimentos disponíveis\\nSelecione 0 para sair do menu: \"))\n",
    "\n",
    "if opçãolista == 1:\n",
    "    escolhido = input(\"Informe por escrito qual o nome do item selecionado: \")\n",
    "    posição = itemPosiçãoB(escolhido)\n",
    "    if posição != -1:\n",
    "        totalB = calcular_preço_bebida(posição)\n",
    "        print(f\"O valor total para {escolhido} é: R${totalB:.2f}\")\n",
    "    else:\n",
    "        print(\"Item não encontrado na lista de bebidas.\")\n",
    "        \n",
    "elif opçãolista == 2:\n",
    "    escolhido = input(\"Informe por escrito qual o nome do item selecionado: \")\n",
    "    posição = itemPosiçãoC(escolhido)\n",
    "    if posição != -1:\n",
    "        totalC = calcular_preço_comida(posição)\n",
    "        print(f\"O valor total para {escolhido} é: R${totalC:.2f}\")\n",
    "    else:\n",
    "        print(\"Item não encontrado na lista de alimentos.\")\n",
    "\n",
    "elif opçãolista == 0:\n",
    "    print(\"Obrigado por visitar nossa loja. Até logo!\")\n",
    "\n",
    "else:\n",
    "    print(\"Opção inválida. Por favor, selecione uma opção válida.\")\n"
   ]
  },
  {
   "cell_type": "markdown",
   "id": "6451d1ee",
   "metadata": {
    "id": "nKBrXPk-IVlc"
   },
   "source": [
    "#MAP"
   ]
  },
  {
   "cell_type": "code",
   "execution_count": null,
   "id": "adc0ae9a",
   "metadata": {
    "colab": {
     "base_uri": "https://localhost:8080/",
     "height": 235
    },
    "id": "KE6M7RpqF8PZ",
    "outputId": "236dc22b-e35b-4030-9579-201188db7a14"
   },
   "outputs": [
    {
     "ename": "NameError",
     "evalue": "ignored",
     "output_type": "error",
     "traceback": [
      "\u001b[0;31m---------------------------------------------------------------------------\u001b[0m",
      "\u001b[0;31mNameError\u001b[0m                                 Traceback (most recent call last)",
      "\u001b[0;32m<ipython-input-7-50440faea4df>\u001b[0m in \u001b[0;36m<module>\u001b[0;34m\u001b[0m\n\u001b[1;32m      5\u001b[0m     \u001b[0;32mreturn\u001b[0m \u001b[0mx\u001b[0m\u001b[0;34m+\u001b[0m\u001b[0mx\u001b[0m\u001b[0;34m\u001b[0m\u001b[0;34m\u001b[0m\u001b[0m\n\u001b[1;32m      6\u001b[0m \u001b[0mvalue\u001b[0m\u001b[0;34m=\u001b[0m\u001b[0;34m[\u001b[0m\u001b[0;36m3\u001b[0m\u001b[0;34m,\u001b[0m\u001b[0;36m6\u001b[0m\u001b[0;34m,\u001b[0m\u001b[0;36m9\u001b[0m\u001b[0;34m,\u001b[0m\u001b[0;36m12\u001b[0m\u001b[0;34m]\u001b[0m\u001b[0;34m\u001b[0m\u001b[0;34m\u001b[0m\u001b[0m\n\u001b[0;32m----> 7\u001b[0;31m \u001b[0mvalue_more\u001b[0m\u001b[0;34m=\u001b[0m\u001b[0mMap\u001b[0m\u001b[0;34m(\u001b[0m\u001b[0msoma\u001b[0m\u001b[0;34m,\u001b[0m\u001b[0mvalue\u001b[0m\u001b[0;34m)\u001b[0m\u001b[0;34m\u001b[0m\u001b[0;34m\u001b[0m\u001b[0m\n\u001b[0m\u001b[1;32m      8\u001b[0m \u001b[0;31m#map to list\u001b[0m\u001b[0;34m\u001b[0m\u001b[0;34m\u001b[0m\u001b[0;34m\u001b[0m\u001b[0m\n\u001b[1;32m      9\u001b[0m \u001b[0mvalue_more\u001b[0m\u001b[0;34m=\u001b[0m\u001b[0mlist\u001b[0m\u001b[0;34m(\u001b[0m\u001b[0mvalue_more\u001b[0m\u001b[0;34m)\u001b[0m\u001b[0;34m\u001b[0m\u001b[0;34m\u001b[0m\u001b[0m\n",
      "\u001b[0;31mNameError\u001b[0m: name 'Map' is not defined"
     ]
    }
   ],
   "source": [
    "#pode ser utilizado para voce aplicar uma funçao que voce criou\n",
    "#a valores que voce tem interesse que sofram a açao da funçao e entao retorne algo\n",
    "#FUNÇAO MAP\n",
    "def soma(x):\n",
    "    return x+x\n",
    "value=[3,6,9,12]\n",
    "value_more=Map(soma,value)\n",
    "#map to list\n",
    "value_more=list(value_more)\n"
   ]
  },
  {
   "cell_type": "markdown",
   "id": "52bf5b80",
   "metadata": {
    "id": "S-dVp9osIYX1"
   },
   "source": [
    "#REDUCE"
   ]
  },
  {
   "cell_type": "code",
   "execution_count": null,
   "id": "cc507d90",
   "metadata": {
    "id": "pQCCZwiDF8HH"
   },
   "outputs": [],
   "source": []
  },
  {
   "cell_type": "markdown",
   "id": "32604f30",
   "metadata": {
    "id": "DYr3urQ6Ia4S"
   },
   "source": [
    "#ZIP\n",
    "COPILA MAIS DE UMA LISTA DURANTE UM LALI"
   ]
  },
  {
   "cell_type": "code",
   "execution_count": null,
   "id": "b576613c",
   "metadata": {
    "id": "hA-DxP2MF79f"
   },
   "outputs": [],
   "source": [
    "#pode ser utilizado para interagir com mais de duas listas ao mesmo tempo\n",
    "#recebe como parametro lista e inputa tuples"
   ]
  },
  {
   "cell_type": "markdown",
   "id": "eca465fa",
   "metadata": {
    "id": "EByer1cTrKdx"
   },
   "source": [
    "#Vetores\n",
    "[*array*](https://numpy.org/doc/stable/user/basics.creation.html)\n",
    "\n",
    "[index](https://thispointer.com/find-the-index-of-a-value-in-numpy-array/)\n",
    "\n",
    "---\n",
    "\n",
    "o array é mutavel e seus items sao do mesmo tipo de dado sempre"
   ]
  },
  {
   "cell_type": "code",
   "execution_count": null,
   "id": "2750f617",
   "metadata": {
    "id": "Jsu1tDrRA-ZT"
   },
   "outputs": [],
   "source": [
    "a = np.array([2, 3, 4, 5, 6,10,15, 45, 67, 34])"
   ]
  },
  {
   "cell_type": "code",
   "execution_count": null,
   "id": "d36ec087",
   "metadata": {
    "colab": {
     "base_uri": "https://localhost:8080/"
    },
    "id": "l1hbp5zcIjMj",
    "outputId": "5b05d0cb-96e2-470b-fd4a-72361e7490ca"
   },
   "outputs": [
    {
     "data": {
      "text/plain": [
       "10"
      ]
     },
     "execution_count": 6,
     "metadata": {},
     "output_type": "execute_result"
    }
   ],
   "source": [
    "a.size"
   ]
  },
  {
   "cell_type": "code",
   "execution_count": null,
   "id": "07f8c987",
   "metadata": {
    "colab": {
     "base_uri": "https://localhost:8080/"
    },
    "id": "Sq7iIhalI__O",
    "outputId": "242aed34-10c3-468f-95eb-d6d4ef418032"
   },
   "outputs": [
    {
     "name": "stdout",
     "output_type": "stream",
     "text": [
      "Tuple of arrays returned :  (array([6]),)\n",
      "Elements with value 15 exists at following indices\n",
      "[6]\n"
     ]
    }
   ],
   "source": [
    "result = np.where(a == 15)\n",
    "print('retorno do array e posiçao : ', result)\n",
    "print(\"retornando a possiçao onde o elemento de valor 15 é encontrato \", result[0], sep='\\n')"
   ]
  },
  {
   "cell_type": "code",
   "execution_count": null,
   "id": "221c3b63",
   "metadata": {
    "colab": {
     "base_uri": "https://localhost:8080/"
    },
    "id": "Xtr9-sATKCvA",
    "outputId": "4d9b11e6-ddef-4708-825d-56ba65335b95"
   },
   "outputs": [
    {
     "data": {
      "text/plain": [
       "array([0, 1, 2, 3, 4, 5, 6, 7, 8, 9])"
      ]
     },
     "execution_count": 7,
     "metadata": {},
     "output_type": "execute_result"
    }
   ],
   "source": [
    "#cria um vetor que cresce regularmente /\n",
    "np.arange(10)\n"
   ]
  },
  {
   "cell_type": "code",
   "execution_count": null,
   "id": "b02e4ffd",
   "metadata": {
    "colab": {
     "base_uri": "https://localhost:8080/"
    },
    "id": "wOSOkjU6U4gX",
    "outputId": "c38ba39b-9494-48b4-f53d-3728d4a3b049"
   },
   "outputs": [
    {
     "data": {
      "text/plain": [
       "array([0. , 1.6, 3.2, 4.8, 6.4, 8. ])"
      ]
     },
     "execution_count": 13,
     "metadata": {},
     "output_type": "execute_result"
    }
   ],
   "source": [
    "#numpy.linspace criará arrays com um número especificado de elementos\n",
    "#e espaçado igualmente entre os valores inicial e final especificados.\n",
    "np.linspace(0., 8., 6)\n"
   ]
  },
  {
   "cell_type": "code",
   "execution_count": null,
   "id": "e6d397e4",
   "metadata": {
    "id": "NCXCFO3PA-Sb"
   },
   "outputs": [],
   "source": [
    "#array de duas dimensoes\n",
    "a2D = np.array([[1, 2], [3, 4]])"
   ]
  },
  {
   "cell_type": "code",
   "execution_count": null,
   "id": "53132f1d",
   "metadata": {
    "colab": {
     "base_uri": "https://localhost:8080/"
    },
    "id": "fEhcRPN_cOHb",
    "outputId": "8f786036-797d-4e86-9ef0-95b63805b84a"
   },
   "outputs": [
    {
     "data": {
      "text/plain": [
       "array([[1., 0., 0., 0.],\n",
       "       [0., 1., 0., 0.],\n",
       "       [0., 0., 1., 0.],\n",
       "       [0., 0., 0., 1.]])"
      ]
     },
     "execution_count": 14,
     "metadata": {},
     "output_type": "execute_result"
    }
   ],
   "source": [
    "#esse exemplo é uma matriz identidade\n",
    "#onde quando i=j sera igual a 1(linha coluna)\n",
    "np.eye(4, 4)"
   ]
  },
  {
   "cell_type": "code",
   "execution_count": null,
   "id": "e3735a9f",
   "metadata": {
    "colab": {
     "base_uri": "https://localhost:8080/",
     "height": 226
    },
    "id": "DIiQdk7bapv_",
    "outputId": "5abacaaa-8c1e-49b2-8fde-9149c7f4b0d9"
   },
   "outputs": [
    {
     "ename": "NameError",
     "evalue": "ignored",
     "output_type": "error",
     "traceback": [
      "\u001b[0;31m---------------------------------------------------------------------------\u001b[0m",
      "\u001b[0;31mNameError\u001b[0m                                 Traceback (most recent call last)",
      "\u001b[0;32m<ipython-input-2-ac3e86931278>\u001b[0m in \u001b[0;36m<module>\u001b[0;34m\u001b[0m\n\u001b[0;32m----> 1\u001b[0;31m \u001b[0marr\u001b[0m \u001b[0;34m=\u001b[0m \u001b[0mnp\u001b[0m\u001b[0;34m.\u001b[0m\u001b[0marray\u001b[0m\u001b[0;34m(\u001b[0m\u001b[0;34m[\u001b[0m\u001b[0;36m1\u001b[0m\u001b[0;34m,\u001b[0m\u001b[0;36m2\u001b[0m\u001b[0;34m,\u001b[0m\u001b[0;36m3\u001b[0m\u001b[0;34m,\u001b[0m\u001b[0;36m4\u001b[0m\u001b[0;34m,\u001b[0m\u001b[0;36m5\u001b[0m\u001b[0;34m,\u001b[0m\u001b[0;36m6\u001b[0m\u001b[0;34m,\u001b[0m\u001b[0;36m7\u001b[0m\u001b[0;34m]\u001b[0m\u001b[0;34m)\u001b[0m\u001b[0;34m\u001b[0m\u001b[0;34m\u001b[0m\u001b[0m\n\u001b[0m\u001b[1;32m      2\u001b[0m \u001b[0marr\u001b[0m\u001b[0;34m=\u001b[0m \u001b[0mnp\u001b[0m\u001b[0;34m.\u001b[0m\u001b[0mwhere\u001b[0m\u001b[0;34m(\u001b[0m\u001b[0marr\u001b[0m\u001b[0;34m%\u001b[0m\u001b[0;36m2\u001b[0m \u001b[0;34m==\u001b[0m \u001b[0;36m0\u001b[0m\u001b[0;34m)\u001b[0m\u001b[0;34m\u001b[0m\u001b[0;34m\u001b[0m\u001b[0m\n\u001b[1;32m      3\u001b[0m \u001b[0;34m\u001b[0m\u001b[0m\n\u001b[1;32m      4\u001b[0m \u001b[0mprint\u001b[0m\u001b[0;34m(\u001b[0m\u001b[0marr\u001b[0m\u001b[0;34m)\u001b[0m\u001b[0;34m\u001b[0m\u001b[0;34m\u001b[0m\u001b[0m\n",
      "\u001b[0;31mNameError\u001b[0m: name 'np' is not defined"
     ]
    }
   ],
   "source": [
    "a = np.array([10,11,12,13,14,15,16,17,18,,19,20])\n",
    "print(arr)"
   ]
  },
  {
   "cell_type": "code",
   "execution_count": null,
   "id": "9f199fbe",
   "metadata": {
    "id": "O7eZKeJPpQZw"
   },
   "outputs": [],
   "source": [
    "\n",
    "import numpy as np\n",
    "\n",
    "# create numpy array elements\n",
    "a = np.array([2, 3, 4, 5, 6, 45, 67, 34])\n",
    "\n",
    "# display element index where value = 45\n",
    "\n",
    "index_of_element = -1\n",
    "for i in range(a.size):\n",
    "    if a[i] == 45:\n",
    "        index_of_element = i\n",
    "        break\n",
    "\n",
    "if index_of_element != -1:\n",
    "    print(\"element index  : \", index_of_element)\n",
    "else:\n",
    "    print(\"The element not present\")"
   ]
  },
  {
   "cell_type": "code",
   "execution_count": null,
   "id": "130a679e",
   "metadata": {
    "id": "Jh0dJjakNlgY"
   },
   "outputs": [],
   "source": [
    "#as tuplas sao um tipo especial de array que armazena diferentes tipos de data na mesma coleçao\n",
    "#enquanto o array precisa ser do mesmo tipo de dado e sao mutaveis"
   ]
  },
  {
   "cell_type": "markdown",
   "id": "7ac731b9",
   "metadata": {
    "id": "tQ4rL-0XE_y-"
   },
   "source": [
    "#Tuples ou tuplas\n",
    "\n",
    "\n",
    "---\n",
    "\n",
    "\n",
    "####nao podem ser modificadas/sao imutaveis\n",
    "####pode fazer o wap = é a troca dos valores de duas variáveis da tupla\n",
    "####Entretanto, ela não é completamente imutável, pois quando armazena outro\n",
    "####nao  aceitam muitos metodos"
   ]
  },
  {
   "cell_type": "code",
   "execution_count": null,
   "id": "5850996a",
   "metadata": {
    "colab": {
     "base_uri": "https://localhost:8080/"
    },
    "id": "AgNkp_GqE24A",
    "outputId": "2143a3a9-729d-40e4-e701-4e7bc14c04b7"
   },
   "outputs": [
    {
     "name": "stdout",
     "output_type": "stream",
     "text": [
      "certo\n"
     ]
    }
   ],
   "source": [
    "a = [1, 4, 3]\n",
    "b = [3, 2, 2]\n",
    "\n",
    "def store_original_ids():\n",
    "    a = [1, 4, 3]\n",
    "    b = [3, 2, 2]\n",
    "\n",
    "store_original_ids()\n",
    "#aqui tempos um SWAP\n",
    "temp =b\n",
    "b=a\n",
    "a=temp\n",
    "#que tambem poderia ser resolvido assim\n",
    "\n",
    "##a, b = a, b\n",
    "\n",
    "def check():\n",
    "     if a==[3, 2, 2] and b ==[1, 4, 3] :\n",
    "            print('certo')\n",
    "\n",
    "check()"
   ]
  },
  {
   "cell_type": "code",
   "execution_count": null,
   "id": "ffc2b255",
   "metadata": {
    "id": "HDklaaFoO5ZI"
   },
   "outputs": [],
   "source": [
    "Estados = namedtuple('Estados', ['sigla', 'nome'])\n",
    "estado_pe = Estados('PE', 'Recife')\n",
    "estado_pe"
   ]
  },
  {
   "cell_type": "code",
   "execution_count": null,
   "id": "5247e2ee",
   "metadata": {
    "id": "IXFP_vg3uiLw"
   },
   "outputs": [],
   "source": [
    "Estados(sigla='PE', nome='recife')\n",
    "print(estado_pe.sigla)\n",
    "print(estado_pe.nome)"
   ]
  },
  {
   "cell_type": "code",
   "execution_count": null,
   "id": "dfe46940",
   "metadata": {
    "id": "rYKpz1hZO529"
   },
   "outputs": [],
   "source": [
    "#devemos  usar uma 3 variavel para fazer o wap funcionar corretamente\n",
    "#caso contrario um dos valores das variaveis sera perdido\n",
    "#observe abaixo:\n",
    "coordenada_xy = (10, 20)\n",
    "x, y = coordenada_xy\n",
    "temp=x   # 10\n",
    "x=y      # 20\n",
    "y=temp   # 10\n",
    "#portanto usamos a variavel temp para armazena o valor de x antes dele ser modificado/substituido por um novo valor\n",
    "print(\"valor de variavel  x : \"+str(x)+   \"\\n\"\n",
    "     +\"valor de variavel  y : \"+ str(y) + \"\\n\"\n",
    "    + \"valor de variavel temp : \"+ str(temp))\n",
    "#para usar esses valores que conhecemos precisamos colocar eles como se fossem string"
   ]
  },
  {
   "cell_type": "code",
   "execution_count": null,
   "id": "dcc3e1e5",
   "metadata": {
    "id": "ho1Ojn1YO5tR"
   },
   "outputs": [],
   "source": [
    "# Swap com tuplas.\n",
    "print(\"x e y antes do swap: \", x, y)\n",
    "\n",
    "x, y = y, x\n",
    "\n",
    "print(\"x e y depois do swap: \", x, y)"
   ]
  },
  {
   "cell_type": "code",
   "execution_count": null,
   "id": "f2676203",
   "metadata": {
    "colab": {
     "base_uri": "https://localhost:8080/"
    },
    "id": "37akH_CXvNFy",
    "outputId": "ccd36ddf-34c2-4c5d-dc4a-e5832f5fe4b6"
   },
   "outputs": [
    {
     "name": "stdout",
     "output_type": "stream",
     "text": [
      "True\n",
      "True\n",
      "1\n",
      "3\n"
     ]
    }
   ],
   "source": [
    "tupla_nomes = ('Giordano', 'Paulo', 'Lucas', 'João', 'Felipe')\n",
    "#se o elemento esta na tupla\n",
    "print('Giordano' in tupla_nomes)\n",
    "\n",
    "print('Paulo' in tupla_nomes)\n",
    "\n",
    "print (tupla_nomes.count('Lucas')) #< possui unica vez o nome lucas\n",
    "\n",
    "print(tupla_nomes.index(\"João\"))# retorna a posiçao na tupla"
   ]
  },
  {
   "cell_type": "code",
   "execution_count": null,
   "id": "90e62ab5",
   "metadata": {
    "id": "j0-554BOO5kE"
   },
   "outputs": [],
   "source": [
    "# tupla com apenas um elemento\n",
    "#nao precisa usar sempre ()\n",
    "tupla_elemento = 10,\n",
    "tupla_elemento\n"
   ]
  },
  {
   "cell_type": "code",
   "execution_count": null,
   "id": "103682c8",
   "metadata": {
    "id": "o-bshhXUypAv"
   },
   "outputs": [],
   "source": [
    "nick=(\"n\",\"i\",\"n\",\"a\")\n",
    "\n",
    "nick.index(\"n\")#retorna a vez q aparece primeiro"
   ]
  },
  {
   "cell_type": "code",
   "execution_count": null,
   "id": "54aa69b3",
   "metadata": {
    "id": "bCbGJgLvx5GO"
   },
   "outputs": [],
   "source": [
    "name_1=(\"m\",\"a\",\"r\",\"i\",\"a\",\"n\",\"a\")\n",
    "\n",
    "print(name_1.index(\"n\"))#retorna a vez q aparece primeiro\n",
    "\n",
    "print(name_1.index(\"a\"))"
   ]
  },
  {
   "cell_type": "markdown",
   "id": "4d8852c2",
   "metadata": {
    "id": "PMpOJGKgZkQJ"
   },
   "source": [
    "#Matrizes-FALTA CONTINUAR\n",
    "######sao criadas a partir de uma lista com varias dimensoes"
   ]
  },
  {
   "cell_type": "code",
   "execution_count": null,
   "id": "50029d01",
   "metadata": {
    "id": "gI-U4_2LA-Dx"
   },
   "outputs": [],
   "source": []
  },
  {
   "cell_type": "code",
   "execution_count": null,
   "id": "42e0686a",
   "metadata": {
    "id": "zNNN3AocA-BS"
   },
   "outputs": [],
   "source": []
  },
  {
   "cell_type": "code",
   "execution_count": null,
   "id": "892c2a35",
   "metadata": {
    "id": "o7yiwcczA9xq"
   },
   "outputs": [],
   "source": []
  },
  {
   "cell_type": "markdown",
   "id": "2ff1cdd5",
   "metadata": {
    "id": "PBTvF5G_WMtH"
   },
   "source": [
    "#SETS- FALTA CONTINUAR\n"
   ]
  },
  {
   "cell_type": "code",
   "execution_count": null,
   "id": "de10b17b",
   "metadata": {
    "colab": {
     "base_uri": "https://localhost:8080/"
    },
    "id": "ibFdcVmq8rG5",
    "outputId": "0a567f4d-5807-4c37-cd64-6fedefb592a6"
   },
   "outputs": [
    {
     "name": "stdout",
     "output_type": "stream",
     "text": [
      "{1, 2, 3}\n"
     ]
    }
   ],
   "source": [
    "myset=set()\n",
    "myset.add(1)\n",
    "myset.add(3)\n",
    "myset.add(2)\n",
    "myset.add(3)\n",
    "print(myset)\n",
    "#ver mas coisas o Sets em python\n",
    "#valores unicos"
   ]
  },
  {
   "cell_type": "code",
   "execution_count": null,
   "id": "ebe280a0",
   "metadata": {
    "colab": {
     "base_uri": "https://localhost:8080/"
    },
    "id": "OeiN9TMCqapo",
    "outputId": "17033194-f575-46a5-dafd-645453ec8aae"
   },
   "outputs": [
    {
     "data": {
      "text/plain": [
       "set"
      ]
     },
     "execution_count": 8,
     "metadata": {},
     "output_type": "execute_result"
    }
   ],
   "source": [
    "type(myset)"
   ]
  },
  {
   "cell_type": "markdown",
   "id": "b4d78217",
   "metadata": {
    "id": "Sc40xCIVCvIO"
   },
   "source": [
    "#args"
   ]
  },
  {
   "cell_type": "code",
   "execution_count": null,
   "id": "2fc92882",
   "metadata": {
    "id": "UAVGmXm_CyB1"
   },
   "outputs": [],
   "source": [
    "#*Args permite você passar um número indeterminado de parâmetros para uma função.\n",
    "# Os argumentos são passados por posição, ou seja, sem nenhuma chave que os identifique.\n",
    "#A identificação depende apenas da posição em que o parâmetro é passado."
   ]
  },
  {
   "cell_type": "markdown",
   "id": "1dcf3e8d",
   "metadata": {
    "id": "Cp37EgTH0nr_"
   },
   "source": [
    "#Tratamento de exceçoes\n",
    "#####https://docs.python.org/3/library/exceptions.html\n",
    "#####https://www.tutorialspoint.com/python-exception-base-classes"
   ]
  },
  {
   "cell_type": "code",
   "execution_count": null,
   "id": "13dfe9d1",
   "metadata": {
    "id": "vNTJBgpGxRqt"
   },
   "outputs": [],
   "source": [
    "lista1=[1,10]\n",
    "try:\n",
    "  divisao=10/1               #se for 10/0 da o erro\n",
    "  num1=lista1[1]             #se for 3 da o erro\n",
    "\n",
    "except ZeroDivisionError:\n",
    "  print(\"nao é possivel realizar uma divisao por 0\")\n",
    "except IndexError:\n",
    "  print(\"error ao acessar um indice invalido da lista\")\n",
    "else :\n",
    "  print(\"nao houve nenhuma exception\")"
   ]
  },
  {
   "cell_type": "code",
   "execution_count": null,
   "id": "b2ba56b1",
   "metadata": {
    "id": "9A9Fcx8oxRfT"
   },
   "outputs": [],
   "source": [
    "#outra maneira de ligar com esse tipo de erro de atribuiçao e outros erros tambem\n",
    "#todas as exception tem pai e tem filho\n",
    "try:\n",
    "  x=a\n",
    "except BaseException as ex:\n",
    "  print('erro desconhecido. Error :{}'.format(ex))"
   ]
  },
  {
   "cell_type": "markdown",
   "id": "9aaad050",
   "metadata": {
    "id": "oMosRG3c06m7"
   },
   "source": [
    "#Leitura de arquivo"
   ]
  },
  {
   "cell_type": "code",
   "execution_count": null,
   "id": "c7d85536",
   "metadata": {
    "colab": {
     "base_uri": "https://localhost:8080/"
    },
    "id": "iOjwgO3_06D-",
    "outputId": "51460554-04af-4e15-b9d2-982966312872"
   },
   "outputs": [
    {
     "name": "stdout",
     "output_type": "stream",
     "text": [
      "a luz do sol entra pela janela,clareado o ambiente\n",
      "o calor que tinha antes dentro do quarto se dissipa com a forte rajada de vento que sai pela janela.\n",
      "os fios castanhos ganham sutis tons avermelhados e alaranjados,o rosto palido se torna levemente rosado \n",
      "os cachos mesmo ainda pequenos sao bonitos e combinam com o garoto\n",
      "ele nao se encolhe com o frio que começa a tomar conta do quarto com o passar do tempo.\n",
      "ele continua perto da janela observando o ceu\n",
      "admirado talvez com o branco do ceu  ou talvez apreciando o barulho da chuva ou ate mesmo observando o temporal que acontece la fora.\n",
      "apesar de cantarolar e de dançar pela casa com frequencia ele nao costumava conversa sozinho e tambem nao andava fazendo barulho.\n",
      "os olhos continuavam fixos na janela mesmo apos a queda de algum objeto no andar de baixo da casa\n",
      "nos viviamos naquela casa ja se tinha 5 anos e mesmo assim eu so o via raramente pele casa \n",
      "mas todos sabiam dos passos de dança pela cozinha,foi por causa dele que fiquei de castigo por duas semanas apos ele esquecer o arroz no fogo\n",
      "nao so eu fiquei como todos que estavam na cozinha aquele dia..\n",
      "\n",
      "links:\n",
      "https://guiarails.com.br/security.html\n",
      "https://dev.to/leandronsp/web-basics-a-tcp-server-in-ruby-947\n",
      "https://medium.com/rubycademy/how-network-programming-is-represented-in-ruby-bed554256648\n",
      "\n",
      "https://jzolotarev.medium.com/on-the-rails-c8c4721fd55a\n",
      "https://www.bluleadz.com/blog/http-vs-https-understanding-the-difference-picking-the-best-option-for-your-website\n",
      "https://www.treinaweb.com.br/blog/o-que-e-ruby-on-rails\n",
      "https://prograils.com/top-10-famous-sites-built-with-ruby-on-rails\n",
      "https://www.freecodecamp.org/news/understanding-the-basics-of-ruby-on-rails-http-mvc-and-routes-359b8d809c7a/\n",
      "https://devcenter.heroku.com/articles/getting-started-with-rails7\n",
      "https://medium.com/analytics-vidhya/deploy-ruby-on-rails-6-application-to-heroku-3d07a8d7428c\n",
      "https://guides.rubyonrails.org/routing.html\n",
      "https://www.youtube.com/watch?v=_-Dnys7_ESE&t=1s\n",
      "https://www.youtube.com/watch?v=EQcsD3ff14E&list=PLCC34OHNcOtoz3tvoN9uDkIAaDYqPqoEr\n",
      "https://www.youtube.com/watch?v=fmyvWz5TUWg&t=3160s\n",
      "https://tadhao.medium.com/everything-about-rails-router-cb82faa1b8a1\n",
      "\n",
      "-LENDO-LIDO\n",
      "https://www.devmedia.com.br/introducao-a-rotas-e-responders-no-ruby-on-rails/33521 < BOM,vale ler ate a parte de RESTful\n",
      "https://blog.skylight.io/the-lifecycle-of-a-request/< iniciando\n",
      "https://www.freecodecamp.org/news/understanding-the-basics-of-ruby-on-rails-http-mvc-and-routes-359b8d809c7a/ < lendo,logo no inicio tem conceitos basicos massa\n",
      "https://www.javatpoint.com/ruby-on-rails-router\n"
     ]
    }
   ],
   "source": [
    "arquivo = open('menino de cafe.txt', 'r') # <<funçao open para abrir o arquivoe o 'r' para indicar leitura\n",
    "##issso é um handle\n",
    "conteudo = arquivo.read() #aqui lemos o arquivo e passamos o conteudo do arquivo para variavel conteudo\n",
    "print(conteudo)\n",
    "#o arquivo precisa ser carregado em arquivos\n",
    "#https://youtu.be/Fo1tW09KIwo"
   ]
  },
  {
   "cell_type": "code",
   "execution_count": null,
   "id": "1b40608c",
   "metadata": {
    "colab": {
     "base_uri": "https://localhost:8080/"
    },
    "id": "_rKJkaN36cvJ",
    "outputId": "6adee628-2917-491b-cd6e-2b4ffe562fe8"
   },
   "outputs": [
    {
     "name": "stdout",
     "output_type": "stream",
     "text": [
      "a luz do sol entra pela janela,clareado o ambiente\n",
      "\n",
      "o calor que tinha antes dentro do quarto se dissipa com a forte rajada de vento que sai pela janela.\n",
      "\n",
      "os fios castanhos ganham sutis tons avermelhados e alaranjados,o rosto palido se torna levemente rosado \n",
      "\n",
      "os cachos mesmo ainda pequenos sao bonitos e combinam com o garoto\n",
      "\n",
      "ele nao se encolhe com o frio que começa a tomar conta do quarto com o passar do tempo.\n",
      "\n",
      "ele continua perto da janela observando o ceu\n",
      "\n",
      "admirado talvez com o branco do ceu  ou talvez apreciando o barulho da chuva ou ate mesmo observando o temporal que acontece la fora.\n",
      "\n",
      "apesar de cantarolar e de dançar pela casa com frequencia ele nao costumava conversa sozinho e tambem nao andava fazendo barulho.\n",
      "\n",
      "os olhos continuavam fixos na janela mesmo apos a queda de algum objeto no andar de baixo da casa\n",
      "\n",
      "nos viviamos naquela casa ja se tinha 5 anos e mesmo assim eu so o via raramente pele casa \n",
      "\n",
      "mas todos sabiam dos passos de dança pela cozinha,foi por causa dele que fiquei de castigo por duas semanas apos ele esquecer o arroz no fogo\n",
      "\n",
      "nao so eu fiquei como todos que estavam na cozinha aquele dia..\n",
      "\n",
      "\n",
      "\n",
      "links:\n",
      "\n",
      "https://guiarails.com.br/security.html\n",
      "\n",
      "https://dev.to/leandronsp/web-basics-a-tcp-server-in-ruby-947\n",
      "\n",
      "https://medium.com/rubycademy/how-network-programming-is-represented-in-ruby-bed554256648\n",
      "\n",
      "\n",
      "\n",
      "https://jzolotarev.medium.com/on-the-rails-c8c4721fd55a\n",
      "\n",
      "https://www.bluleadz.com/blog/http-vs-https-understanding-the-difference-picking-the-best-option-for-your-website\n",
      "\n",
      "https://www.treinaweb.com.br/blog/o-que-e-ruby-on-rails\n",
      "\n",
      "https://prograils.com/top-10-famous-sites-built-with-ruby-on-rails\n",
      "\n",
      "https://www.freecodecamp.org/news/understanding-the-basics-of-ruby-on-rails-http-mvc-and-routes-359b8d809c7a/\n",
      "\n",
      "https://devcenter.heroku.com/articles/getting-started-with-rails7\n",
      "\n",
      "https://medium.com/analytics-vidhya/deploy-ruby-on-rails-6-application-to-heroku-3d07a8d7428c\n",
      "\n",
      "https://guides.rubyonrails.org/routing.html\n",
      "\n",
      "https://www.youtube.com/watch?v=_-Dnys7_ESE&t=1s\n",
      "\n",
      "https://www.youtube.com/watch?v=EQcsD3ff14E&list=PLCC34OHNcOtoz3tvoN9uDkIAaDYqPqoEr\n",
      "\n",
      "https://www.youtube.com/watch?v=fmyvWz5TUWg&t=3160s\n",
      "\n",
      "https://tadhao.medium.com/everything-about-rails-router-cb82faa1b8a1\n",
      "\n",
      "\n",
      "\n",
      "-LENDO-LIDO\n",
      "\n",
      "https://www.devmedia.com.br/introducao-a-rotas-e-responders-no-ruby-on-rails/33521 < BOM,vale ler ate a parte de RESTful\n",
      "\n",
      "https://blog.skylight.io/the-lifecycle-of-a-request/< iniciando\n",
      "\n",
      "https://www.freecodecamp.org/news/understanding-the-basics-of-ruby-on-rails-http-mvc-and-routes-359b8d809c7a/ < lendo,logo no inicio tem conceitos basicos massa\n",
      "\n",
      "https://www.javatpoint.com/ruby-on-rails-router\n",
      "temos o total de 36 linhas no nosso texto\n"
     ]
    }
   ],
   "source": [
    "sequence=open('menino de cafe.txt', 'r')\n",
    "count=0\n",
    "for linetoline in sequence :\n",
    "  count=count+1\n",
    "  print(linetoline)\n",
    "#forma elegante\n",
    "print(\"temos o total de \"+str(count)+\" linhas no nosso texto\")"
   ]
  },
  {
   "cell_type": "code",
   "execution_count": null,
   "id": "2bb55177",
   "metadata": {
    "colab": {
     "base_uri": "https://localhost:8080/"
    },
    "id": "9Qah0tWs6crT",
    "outputId": "c408cdf2-4db3-4e5d-ec58-72a91bef7d1b"
   },
   "outputs": [
    {
     "name": "stdout",
     "output_type": "stream",
     "text": [
      "2585\n",
      "a luz do sol\n"
     ]
    }
   ],
   "source": [
    "arquivo = open('menino de cafe.txt', 'r') # <<funçao open para abrir o arquivoe o 'r' para indicar leitura\n",
    "##issso é um handle\n",
    "conteudo = arquivo.read() #aqui lemos o arquivo e passamos o conteudo do arquivo para variavel conteudo\n",
    "print(len(conteudo))##chacracter\n",
    "print(conteudo[:12])"
   ]
  },
  {
   "cell_type": "code",
   "execution_count": null,
   "id": "08bf7edb",
   "metadata": {
    "colab": {
     "base_uri": "https://localhost:8080/"
    },
    "id": "2AGKkWjsdHsY",
    "outputId": "3c1bedb4-0243-4d48-e051-43037b018d6a"
   },
   "outputs": [
    {
     "name": "stdout",
     "output_type": "stream",
     "text": [
      "fechando o arquivo\n"
     ]
    }
   ],
   "source": [
    "\n",
    "try:\n",
    "  arquivo = open('menino de cafe.txt', 'r')\n",
    "  texto = arquivo.read()\n",
    "finally:\n",
    "  print(\"fechando o arquivo\")\n",
    "  at=arquivo.close()\n",
    "  #Utilizamos o Finally nesse caso para que independente que aja erro ou nao\n",
    "  #ocorra o fechamento do arquivo"
   ]
  },
  {
   "cell_type": "code",
   "execution_count": null,
   "id": "8a60295e",
   "metadata": {
    "colab": {
     "base_uri": "https://localhost:8080/",
     "height": 35
    },
    "id": "8EMPsvoP6cpr",
    "outputId": "5f86ce9a-e68e-4781-c813-605e87e1985a"
   },
   "outputs": [
    {
     "data": {
      "application/vnd.google.colaboratory.intrinsic+json": {
       "type": "string"
      },
      "text/plain": [
       "'/content'"
      ]
     },
     "execution_count": 14,
     "metadata": {},
     "output_type": "execute_result"
    }
   ],
   "source": [
    "pwd"
   ]
  },
  {
   "cell_type": "code",
   "execution_count": null,
   "id": "1872f6aa",
   "metadata": {
    "id": "sAnV484g6cl1"
   },
   "outputs": [],
   "source": [
    "#O método de arquivo Python seek() define a posição atual do arquivo no deslocamento.\n",
    "#O argumento wherece é opcional e o padrão é 0, o que significa posicionamento absoluto do arquivo,\n",
    "#outros valores são 1, o que significa busca em relação à posição atual e 2 significa busca em relação ao final do arquivo.\n"
   ]
  },
  {
   "cell_type": "code",
   "execution_count": null,
   "id": "affed294",
   "metadata": {
    "id": "wt07EjLY6ccG"
   },
   "outputs": [],
   "source": [
    "#aqui temos outra forma de ler e exibir o arquivo\n",
    "x = open('test.txt', 'w')\n",
    "x.write('This is my file')\n",
    "x.close()"
   ]
  },
  {
   "cell_type": "code",
   "execution_count": null,
   "id": "94bdfd6b",
   "metadata": {
    "id": "xrSGNRhkZ9Yi"
   },
   "outputs": [],
   "source": [
    "#aqui estamos escrevendo dentro do arquivo\n",
    "with open('test.txt', 'w') as doc_Escrita:\n",
    "    doc_Escrita.write(\"This is line A\\n\")\n",
    "    doc_Escrita.write(\"This is line B\\n\")"
   ]
  },
  {
   "cell_type": "code",
   "execution_count": null,
   "id": "e57df2f8",
   "metadata": {
    "colab": {
     "base_uri": "https://localhost:8080/",
     "height": 200
    },
    "id": "CTAGejvVaWXo",
    "outputId": "0b6b0d93-3ea5-44f9-eb3b-d70c5fd229c8"
   },
   "outputs": [
    {
     "ename": "FileNotFoundError",
     "evalue": "ignored",
     "output_type": "error",
     "traceback": [
      "\u001b[0;31m---------------------------------------------------------------------------\u001b[0m",
      "\u001b[0;31mFileNotFoundError\u001b[0m                         Traceback (most recent call last)",
      "\u001b[0;32m<ipython-input-7-8d25de12182b>\u001b[0m in \u001b[0;36m<module>\u001b[0;34m\u001b[0m\n\u001b[1;32m      1\u001b[0m \u001b[0;31m#neste aqui adicionamos uma linha ao texto\u001b[0m\u001b[0;34m\u001b[0m\u001b[0;34m\u001b[0m\u001b[0;34m\u001b[0m\u001b[0m\n\u001b[0;32m----> 2\u001b[0;31m \u001b[0;32mwith\u001b[0m \u001b[0mopen\u001b[0m\u001b[0;34m(\u001b[0m\u001b[0;34m'/resources/data/Example2.txt'\u001b[0m\u001b[0;34m,\u001b[0m \u001b[0;34m'a'\u001b[0m\u001b[0;34m)\u001b[0m \u001b[0;32mas\u001b[0m \u001b[0mtestwritefile\u001b[0m\u001b[0;34m:\u001b[0m\u001b[0;34m\u001b[0m\u001b[0;34m\u001b[0m\u001b[0m\n\u001b[0m\u001b[1;32m      3\u001b[0m     \u001b[0mtestwritefile\u001b[0m\u001b[0;34m.\u001b[0m\u001b[0mwrite\u001b[0m\u001b[0;34m(\u001b[0m\u001b[0;34m\"This is line C\\n\"\u001b[0m\u001b[0;34m)\u001b[0m\u001b[0;34m\u001b[0m\u001b[0;34m\u001b[0m\u001b[0m\n",
      "\u001b[0;31mFileNotFoundError\u001b[0m: [Errno 2] No such file or directory: '/resources/data/Example2.txt'"
     ]
    }
   ],
   "source": [
    "#neste aqui adicionamos uma linha ao texto\n",
    "with open('/resources/data/Example2.txt', 'a') as testwritefile:\n",
    "    testwritefile.write(\"This is line C\\n\")"
   ]
  },
  {
   "cell_type": "code",
   "execution_count": null,
   "id": "843038b4",
   "metadata": {
    "colab": {
     "base_uri": "https://localhost:8080/"
    },
    "id": "p95zX_GYa40x",
    "outputId": "441df896-fe4e-48d3-87a8-0c19210727e5"
   },
   "outputs": [
    {
     "name": "stdout",
     "output_type": "stream",
     "text": [
      "Doubt thou, the stars are fire \n",
      "\n",
      "Doubt, that the sun doth move \n",
      "\n",
      "Doubt truth to be a liar \n",
      "\n",
      "But never doubt I love \n",
      "\n"
     ]
    }
   ],
   "source": [
    "# linhas para ser colocadas no arquivo do tipo txt\n",
    "\n",
    "Lines = [\"Doubt thou, the stars are fire \\n\", \"Doubt, that the sun doth move \\n\", \"Doubt truth to be a liar \\n\",\"But never doubt I love \\n\"]\n",
    "Lines\n",
    "\n",
    "# escrita das linhas no arquivo\n",
    "\n",
    "with open('Example2.txt', 'w') as writefile:\n",
    "    for line in Lines:\n",
    "        print(line)\n",
    "        writefile.write(line)"
   ]
  },
  {
   "cell_type": "code",
   "execution_count": null,
   "id": "198c0dfc",
   "metadata": {
    "id": "dJxWIC8MJ4ie"
   },
   "outputs": [],
   "source": [
    "#procurar saber mais sobre mode  para trabalhar com arquivos  como 'r+'"
   ]
  },
  {
   "cell_type": "markdown",
   "id": "49521cda",
   "metadata": {
    "id": "B6JkvJVbS-sK"
   },
   "source": [
    "#FLASK utilizaçao para web"
   ]
  },
  {
   "cell_type": "code",
   "execution_count": null,
   "id": "7af518ca",
   "metadata": {
    "colab": {
     "base_uri": "https://localhost:8080/"
    },
    "id": "ESTxhA3UTCy2",
    "outputId": "1fa63e29-928f-45fc-df9c-df40eadeb72d"
   },
   "outputs": [
    {
     "name": "stdout",
     "output_type": "stream",
     "text": [
      "Looking in indexes: https://pypi.org/simple, https://us-python.pkg.dev/colab-wheels/public/simple/\n",
      "Collecting flask-ngrok\n",
      "  Downloading flask_ngrok-0.0.25-py3-none-any.whl (3.1 kB)\n",
      "Requirement already satisfied: requests in /usr/local/lib/python3.8/dist-packages (from flask-ngrok) (2.25.1)\n",
      "Requirement already satisfied: Flask>=0.8 in /usr/local/lib/python3.8/dist-packages (from flask-ngrok) (1.1.4)\n",
      "Requirement already satisfied: itsdangerous<2.0,>=0.24 in /usr/local/lib/python3.8/dist-packages (from Flask>=0.8->flask-ngrok) (1.1.0)\n",
      "Requirement already satisfied: click<8.0,>=5.1 in /usr/local/lib/python3.8/dist-packages (from Flask>=0.8->flask-ngrok) (7.1.2)\n",
      "Requirement already satisfied: Jinja2<3.0,>=2.10.1 in /usr/local/lib/python3.8/dist-packages (from Flask>=0.8->flask-ngrok) (2.11.3)\n",
      "Requirement already satisfied: Werkzeug<2.0,>=0.15 in /usr/local/lib/python3.8/dist-packages (from Flask>=0.8->flask-ngrok) (1.0.1)\n",
      "Requirement already satisfied: idna<3,>=2.5 in /usr/local/lib/python3.8/dist-packages (from requests->flask-ngrok) (2.10)\n",
      "Requirement already satisfied: urllib3<1.27,>=1.21.1 in /usr/local/lib/python3.8/dist-packages (from requests->flask-ngrok) (1.24.3)\n",
      "Requirement already satisfied: certifi>=2017.4.17 in /usr/local/lib/python3.8/dist-packages (from requests->flask-ngrok) (2022.12.7)\n",
      "Requirement already satisfied: chardet<5,>=3.0.2 in /usr/local/lib/python3.8/dist-packages (from requests->flask-ngrok) (4.0.0)\n",
      "Requirement already satisfied: MarkupSafe>=0.23 in /usr/local/lib/python3.8/dist-packages (from Jinja2<3.0,>=2.10.1->Flask>=0.8->flask-ngrok) (2.0.1)\n",
      "Installing collected packages: flask-ngrok\n",
      "Successfully installed flask-ngrok-0.0.25\n",
      "Looking in indexes: https://pypi.org/simple, https://us-python.pkg.dev/colab-wheels/public/simple/\n",
      "Collecting flask-bootstrap\n",
      "  Downloading Flask-Bootstrap-3.3.7.1.tar.gz (456 kB)\n",
      "\u001b[2K     \u001b[90m━━━━━━━━━━━━━━━━━━━━━━━━━━━━━━━━━━━━━━━\u001b[0m \u001b[32m456.4/456.4 KB\u001b[0m \u001b[31m7.1 MB/s\u001b[0m eta \u001b[36m0:00:00\u001b[0m\n",
      "\u001b[?25h  Preparing metadata (setup.py) ... \u001b[?25l\u001b[?25hdone\n",
      "Requirement already satisfied: Flask>=0.8 in /usr/local/lib/python3.8/dist-packages (from flask-bootstrap) (1.1.4)\n",
      "Collecting dominate\n",
      "  Downloading dominate-2.7.0-py2.py3-none-any.whl (29 kB)\n",
      "Collecting visitor\n",
      "  Downloading visitor-0.1.3.tar.gz (3.3 kB)\n",
      "  Preparing metadata (setup.py) ... \u001b[?25l\u001b[?25hdone\n",
      "Requirement already satisfied: itsdangerous<2.0,>=0.24 in /usr/local/lib/python3.8/dist-packages (from Flask>=0.8->flask-bootstrap) (1.1.0)\n",
      "Requirement already satisfied: click<8.0,>=5.1 in /usr/local/lib/python3.8/dist-packages (from Flask>=0.8->flask-bootstrap) (7.1.2)\n",
      "Requirement already satisfied: Werkzeug<2.0,>=0.15 in /usr/local/lib/python3.8/dist-packages (from Flask>=0.8->flask-bootstrap) (1.0.1)\n",
      "Requirement already satisfied: Jinja2<3.0,>=2.10.1 in /usr/local/lib/python3.8/dist-packages (from Flask>=0.8->flask-bootstrap) (2.11.3)\n",
      "Requirement already satisfied: MarkupSafe>=0.23 in /usr/local/lib/python3.8/dist-packages (from Jinja2<3.0,>=2.10.1->Flask>=0.8->flask-bootstrap) (2.0.1)\n",
      "Building wheels for collected packages: flask-bootstrap, visitor\n",
      "  Building wheel for flask-bootstrap (setup.py) ... \u001b[?25l\u001b[?25hdone\n",
      "  Created wheel for flask-bootstrap: filename=Flask_Bootstrap-3.3.7.1-py3-none-any.whl size=460123 sha256=25319ee76faadc4248848e94c2b987fc2b2799acd8081c924f017d44f2132296\n",
      "  Stored in directory: /root/.cache/pip/wheels/f2/a3/85/fe8b65a65a447c9906e3b7edb7d9e6c74dfa9c8425c3dd3007\n",
      "  Building wheel for visitor (setup.py) ... \u001b[?25l\u001b[?25hdone\n",
      "  Created wheel for visitor: filename=visitor-0.1.3-py3-none-any.whl size=3943 sha256=a983ffa1d9c564a501331a8a1c0025c145eace2bc1fe876ce157205544974eff\n",
      "  Stored in directory: /root/.cache/pip/wheels/d3/40/52/5dae7760434a82caf8b8f88323029188b2d4ea3ac1235e550a\n",
      "Successfully built flask-bootstrap visitor\n",
      "Installing collected packages: visitor, dominate, flask-bootstrap\n",
      "Successfully installed dominate-2.7.0 flask-bootstrap-3.3.7.1 visitor-0.1.3\n"
     ]
    }
   ],
   "source": [
    "!pip install flask-ngrok\n",
    "!pip install flask-bootstrap"
   ]
  },
  {
   "cell_type": "code",
   "execution_count": null,
   "id": "b539de80",
   "metadata": {
    "id": "ijpdHwnAXAJ3"
   },
   "outputs": [],
   "source": [
    "from flask_ngrok import run_with_ngrok\n",
    "from flask import Flask, render_template , request\n",
    "import os\n",
    "\n",
    "#criaçao da instancia\n",
    "app = Flask(__name__)\n",
    "\n",
    "@app.route(\"/\")\n",
    "def hello_world():\n",
    "    return \"<p>Hello, World!</p>\""
   ]
  },
  {
   "cell_type": "markdown",
   "id": "f6685af7",
   "metadata": {
    "id": "mknWkaZzC4NF"
   },
   "source": [
    "#referencia :"
   ]
  },
  {
   "cell_type": "code",
   "execution_count": null,
   "id": "0fffa7ef",
   "metadata": {
    "id": "GiDKDbyf-OoP"
   },
   "outputs": [],
   "source": [
    "#referencia\n",
    "# https://www.geeksforgeeks.org/try-except-else-and-finally-in-python/\n",
    "# https://www.freecodecamp.org/news/learning-python-from-zero-to-hero-120ea540b567/\n",
    "# https://algoritmosempython.com.br/cursos/programacao-python/listas/\n",
    "# https://www.youtube.com/watch?v=t8pPdKYpowI\n",
    "# https://www.youtube.com/watch?v=rfscVS0vtbw\n",
    "# https://www.w3schools.com/python/python_for_loops.asp\n",
    "# youtube.com/watch?v=kqtD5dpn9C8\n",
    "# https://youtu.be/Fo1tW09KIwo\n",
    "# https://algoritmosempython.com.br/cursos/programacao-python/entrada-saida/\n",
    "# https://www.youtube.com/watch?v=ax3kaDGa1YE\n",
    "# https://algoritmosempython.com.br/cursos/programacao-python/fluxo-controle/\n",
    "# https://algoritmosempython.com.br/cursos/programacao-python/tuplas/\n",
    "# https://blog.betrybe.com/tecnologia/tuplas-em-python/#:~:text=Boa%20leitura!-,O%20que%20%C3%A9%20tupla%3F,alterar%20ou%20remover%20seus%20elementos.\n",
    "# https://docs.python.org/3/tutorial/controlflow.html\n",
    "# https://pydatascience.org/data-science-cheatsheets/\n",
    "# https://programmingwithmosh.com/wp-content/uploads/2019/02/Python-Cheat-Sheet.pdf\n",
    "# https://www.youtube.com/watch?v=u-OmVr_fT4s\n",
    "# https://github.com/Pierian-Data/Complete-Python-3-Bootcamp\n",
    "# https://projecteuler.net/archives\n",
    "# http://codingbat.com/python\n",
    "# https://www.tutorialspoint.com/python-exception-base-classes\n",
    "# https://docs.python.org/3/library/exceptions.html\n",
    "#https://www.geeksforgeeks.org/python-math-function-sqrt/\n",
    "# 2022 Complete Python Bootcamp From Zero to Hero in Python\n",
    "# https://www.techtudo.com.br/noticias/2018/10/o-que-sao-cookies-entenda-os-dados-que-os-sites-guardam-sobre-voce.ghtml\n",
    "# https://www.freecodecamp.org/learn/scientific-computing-with-python/python-for-everybody/build-your-own-functions\n",
    "# https://www.tutorialspoint.com/python/python_functions.htm\n",
    "# https://www.tutorialspoint.com/python/python_break_statement.htm\n",
    "# https://towardsdatascience.com/how-to-make-goodreads-com-top-400-list-8e3a26e509bf\n",
    "# https://www.sqlshack.com/understanding-args-and-kwargs-arguments-in-python/\n",
    "# https://cadernodelaboratorio.com.br/args-e-kwargs-o-que-significam-em-python/\n",
    "# file:///C:/Users/Dell/Documents/estudos/100%20dias%20com%20python/Python+Syntax+Cheat+Sheet+Booklet.pdf\n",
    "# https://stackoverflow.com/questions/4967580/how-to-get-the-size-of-a-string-in-python\n",
    "#  Replit pode ser usado tb para codar\n",
    "#https://www.youtube.com/watch?v=Ej_02ICOIgs\n",
    "#https://www.youtube.com/watch?v=XGf2GcyHPhc\n",
    "#https://www.youtube.com/watch?v=LHBE6Q9XlzI\n",
    "#https://www.youtube.com/watch?v=EsDFiZPljYo&list=PLWKjhJtqVAblvI1i46ScbKV2jH1gdL7VQ\n",
    "#https://www.youtube.com/watch?v=JeznW_7DlB0\n",
    "# https://www.tutorialspoint.com/python/python_date_time.htm\n",
    "# https://www.w3schools.com/python/ref_keyword_finally.asp\n",
    "#https://stackoverflow.com/questions/52345913/how-to-handle-wait-for-input-signal-in-python\n",
    "#https://stackabuse.com/getting-user-input-in-python/\n",
    "#https://docs.python.org/3/library/signal.html\n",
    "#https://www.linkedin.com/pulse/signal-processing-python-part-1-generate-signals-basic-hampiholi\n",
    "#https://colab.research.google.com/github/computationalcore/introduction-to-python/blob/master/notebooks/4-files/PY0101EN-4-2-WriteFile.ipynb#scrollTo=fFFgFOl00uqo"
   ]
  },
  {
   "cell_type": "code",
   "execution_count": null,
   "id": "922644e8",
   "metadata": {
    "id": "BybfMNgnn7Os"
   },
   "outputs": [],
   "source": [
    "#pessoas importantes na computaçao:\n",
    "# https://deepai.org/profile/sanjay-ghemawat\n",
    "# https://en.wikipedia.org/wiki/Sanjay_Ghemawat\n",
    "# https://pt.wikipedia.org/wiki/Dennis_Ritchie\n",
    "# https://horizontes.sbc.org.br/index.php/2021/12/dennis-m-ritchie-humildade-e-genialidade/\n",
    "# https://pt.wikipedia.org/wiki/Margaret_Hamilton_(cientista_da_computa%C3%A7%C3%A3o)\n",
    "# https://horizontes.sbc.org.br/index.php/2021/05/margaret-hamilton-mae-cientista-na-lideranca-do-apollo-11/\n"
   ]
  }
 ],
 "metadata": {
  "language_info": {
   "name": "python"
  }
 },
 "nbformat": 4,
 "nbformat_minor": 5
}
