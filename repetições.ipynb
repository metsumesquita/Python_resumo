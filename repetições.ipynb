{
  "nbformat": 4,
  "nbformat_minor": 0,
  "metadata": {
    "colab": {
      "provenance": [],
      "toc_visible": true,
      "authorship_tag": "ABX9TyNdDPJnZabFEr/8F5zrVfCy",
      "include_colab_link": true
    },
    "kernelspec": {
      "name": "python3",
      "display_name": "Python 3"
    },
    "language_info": {
      "name": "python"
    }
  },
  "cells": [
    {
      "cell_type": "markdown",
      "metadata": {
        "id": "view-in-github",
        "colab_type": "text"
      },
      "source": [
        "<a href=\"https://colab.research.google.com/github/metsumesquita/Python_resumo/blob/main/repeti%C3%A7%C3%B5es.ipynb\" target=\"_parent\"><img src=\"https://colab.research.google.com/assets/colab-badge.svg\" alt=\"Open In Colab\"/></a>"
      ]
    },
    {
      "cell_type": "code",
      "source": [
        "i=1\n",
        "while i<=5:\n",
        "  print(i)\n",
        "  i=i+1\n",
        "print('crescente')"
      ],
      "metadata": {
        "id": "SZS8q1RLtPGi"
      },
      "execution_count": null,
      "outputs": []
    },
    {
      "cell_type": "code",
      "source": [
        "#repeated\n",
        "n=5\n",
        "while n>0:\n",
        "  print(n)\n",
        "  n=n-1\n",
        "print('decrescente')"
      ],
      "metadata": {
        "id": "vbXQRx20tPDO"
      },
      "execution_count": null,
      "outputs": []
    },
    {
      "cell_type": "code",
      "source": [
        "numerofinal=int(input(\"Digite o ultimo numero a imprimir: \"))\n",
        "x=1\n",
        "while x<= numerofinal:\n",
        "  print(x)\n",
        "  x=x+1"
      ],
      "metadata": {
        "id": "u_jF3ffetPA6"
      },
      "execution_count": null,
      "outputs": []
    },
    {
      "cell_type": "code",
      "source": [
        "i=1\n",
        "while i<=5:\n",
        "  print(i*'*')\n",
        "  i+=1"
      ],
      "metadata": {
        "id": "Ec6sxMoftO5F"
      },
      "execution_count": null,
      "outputs": []
    },
    {
      "cell_type": "code",
      "source": [
        "\n",
        "for letter in 'Python':     # First Example\n",
        "   if letter == 'h':\n",
        "    break\n",
        "   print ('Current Letter :', letter)\n",
        "\n",
        "   #devemos estudar mais depois como utilizar o break ele pode ser interessante mais tarde"
      ],
      "metadata": {
        "id": "e9yF3AO6tO13"
      },
      "execution_count": null,
      "outputs": []
    },
    {
      "cell_type": "markdown",
      "source": [
        "\\#armazenando inputs do usuario em uma lista,usando Done para finalizar ou sair"
      ],
      "metadata": {
        "id": "OcxUKZlarJcw"
      }
    },
    {
      "cell_type": "code",
      "source": [
        "# Create the variable for user input\n",
        "user_input = ''\n",
        "# Create the list to store the values\n",
        "inputs = []\n",
        "\n",
        "# The while loop\n",
        "while user_input.lower() != 'done':\n",
        "    # Check if there's a value in user_input\n",
        "    if user_input:\n",
        "        # Store the value in the list\n",
        "        inputs.append(user_input)\n",
        "    # Prompt for a new value\n",
        "    user_input = input('Enter a new value, or done when done')"
      ],
      "metadata": {
        "id": "3aTg8RD6rGYq"
      },
      "execution_count": null,
      "outputs": []
    },
    {
      "cell_type": "markdown",
      "source": [
        "##a repetição sendo utilizada para acumular valores"
      ],
      "metadata": {
        "id": "z9BB7NH5tefI"
      }
    },
    {
      "cell_type": "code",
      "source": [
        "#soma de 10 numeros\n",
        "n=1\n",
        "soma=0\n",
        "while n<= 10:\n",
        "  x = int(input(\"Digite o %dº número: \" % n))\n",
        "  soma = soma+x\n",
        "  n=n+1\n",
        "  print(\"Soma: %d\"%soma)\n",
        "media=soma/10\n",
        "print(\"media:\",media)"
      ],
      "metadata": {
        "id": "GaF2VwSjtOz8"
      },
      "execution_count": null,
      "outputs": []
    },
    {
      "cell_type": "markdown",
      "source": [
        "#quebra de um loop usando break em um while\n"
      ],
      "metadata": {
        "id": "-4iP1RTVtj4g"
      }
    },
    {
      "cell_type": "code",
      "source": [
        "soma = 0\n",
        "n = 1\n",
        "\n",
        "while True:\n",
        "    x = int(input(\"Digite o %dº número (ou 0 para interromper): \" % n))\n",
        "    if x == 0:\n",
        "        print(\"Interrupção do loop solicitada.\")\n",
        "        break\n",
        "    soma += x\n",
        "    n += 1\n",
        "\n",
        "print(\"A soma é:\", soma)\n",
        "print(\"Quantidade de numeros digitados\",n)\n",
        "media =soma/(n-1)\n",
        "print(\"media ariticetica\",media)"
      ],
      "metadata": {
        "id": "VJqHrznjtOw2"
      },
      "execution_count": null,
      "outputs": []
    },
    {
      "cell_type": "markdown",
      "source": [
        "#for e listas"
      ],
      "metadata": {
        "id": "6WLdUbDqFBF4"
      }
    },
    {
      "cell_type": "code",
      "source": [
        "#dado um valor informado\n",
        "#devolvemos uma string com os numero 1 ate o valor informado\n",
        "if __name__ == '__main__':\n",
        "    n = int(input())\n",
        "    string=''\n",
        "    for i in range(1,n,1):\n",
        "        string =str(i)+string\n",
        "print(string[::-1])"
      ],
      "metadata": {
        "id": "0hx8nGKRtOuK"
      },
      "execution_count": null,
      "outputs": []
    },
    {
      "cell_type": "code",
      "source": [
        "#se n maior que zero e menor ou igual a 20\n",
        "#iremos fazer esse valor n vezes ele mesmo\n",
        "#ate chegar (n-1)*(n-1)\n",
        "if __name__ == '__main__':\n",
        "    n = int(input())\n",
        "    if(n>=1 and n<=20):\n",
        "      for x in range(n):\n",
        "       if(x<n):\n",
        "            print(x*x)"
      ],
      "metadata": {
        "id": "Bive6UrXFFi4"
      },
      "execution_count": null,
      "outputs": []
    },
    {
      "cell_type": "code",
      "source": [
        "#aqui temos uma lista feita por numeros inteiros\n",
        "#que o usuario vai visualizar numero apos numero um abaixo do outro ate chegar ao final\n",
        "#quando chegar ao final ele deve visualizar a palavra 'end'\n",
        "lista_int=[5,8,3,4]\n",
        "for i in lista_int:\n",
        "  print(i)\n",
        "print(\"end\")"
      ],
      "metadata": {
        "id": "zdhHI29UFJUk"
      },
      "execution_count": null,
      "outputs": []
    },
    {
      "cell_type": "code",
      "source": [
        "lista_int.index(8)\n",
        "#retorna a posiçao do numero caso ele seja encontrado"
      ],
      "metadata": {
        "id": "hUFU-joFjEct"
      },
      "execution_count": null,
      "outputs": []
    },
    {
      "cell_type": "code",
      "source": [
        "lista_int[-1]\n",
        "lista_int[-2]"
      ],
      "metadata": {
        "id": "v24eV5vdjGe0"
      },
      "execution_count": null,
      "outputs": []
    },
    {
      "cell_type": "code",
      "source": [
        "lista_int.pop()#tira o ultimo elemento da lista\n",
        "print(lista_int)"
      ],
      "metadata": {
        "id": "oGt6Xwg0koqg"
      },
      "execution_count": null,
      "outputs": []
    },
    {
      "cell_type": "markdown",
      "source": [
        "#repetição e listas utilizando condicional e in"
      ],
      "metadata": {
        "id": "DjK8twpxlG4b"
      }
    },
    {
      "cell_type": "code",
      "source": [
        "scores = [34, 67, 99, 105]\n",
        "for s in scores:\n",
        " if s > 100:\n",
        "   print(\"Invalid\")\n",
        " break\n",
        "print(s)"
      ],
      "metadata": {
        "id": "TTfqqEltkyVr"
      },
      "execution_count": null,
      "outputs": []
    },
    {
      "cell_type": "code",
      "source": [
        "#aqui temos uma lista de numeros\n",
        "#e queremos apenas os numeros pares\n",
        "x = [1, 2, 3,4,5,6,7,8,9,10]\n",
        "\n",
        "#solution :\n",
        "y = [ i for i in x if i % 2 == 0]\n",
        "\n",
        "print(y)"
      ],
      "metadata": {
        "id": "5rdSOzTXlGFU"
      },
      "execution_count": null,
      "outputs": []
    },
    {
      "cell_type": "code",
      "source": [
        "x = [1, 2, 3]\n",
        "y = [variable-1 for variable in x]\n",
        "print(y)\n",
        "#variable e nosso elemento em cada index\n",
        "#logo nossas variaveis sao 1 2 3\n",
        "#se fosse varible +1 la no vetor y\n",
        "#print(y) seria 2,3,4"
      ],
      "metadata": {
        "id": "GDOKjrxClX1G"
      },
      "execution_count": null,
      "outputs": []
    },
    {
      "cell_type": "markdown",
      "source": [
        "#utilização do range para  contar"
      ],
      "metadata": {
        "id": "VvwB_6L1lhwR"
      }
    },
    {
      "cell_type": "code",
      "source": [
        "for var in range(5):\n",
        " print (var)"
      ],
      "metadata": {
        "id": "rq_tbQulllgg"
      },
      "execution_count": null,
      "outputs": []
    },
    {
      "cell_type": "code",
      "source": [
        "for var in range(2,11):\n",
        " print(var)"
      ],
      "metadata": {
        "id": "2AyziX12loAO"
      },
      "execution_count": null,
      "outputs": []
    },
    {
      "cell_type": "code",
      "source": [
        "for var in range (0,30,5):\n",
        "   print(var)"
      ],
      "metadata": {
        "id": "J64QE70Clqf8"
      },
      "execution_count": null,
      "outputs": []
    },
    {
      "cell_type": "markdown",
      "source": [
        "#problema de 3 notas por semestre,qual a media do aluno"
      ],
      "metadata": {
        "id": "izVUNf3clxGP"
      }
    },
    {
      "cell_type": "code",
      "source": [
        "soma=0\n",
        "for var in range(1,4):\n",
        "  nota=float(input(\"informe a sua nota do semestre\"+str(var)+\"?\"))\n",
        "  soma=soma+nota\n",
        "result = soma/var\n",
        "\n",
        "print(soma)\n",
        "print(\"a sua media é\",result)"
      ],
      "metadata": {
        "id": "oGZ23lUDlxy1"
      },
      "execution_count": null,
      "outputs": []
    },
    {
      "cell_type": "markdown",
      "source": [
        "#referencia"
      ],
      "metadata": {
        "id": "4MkkHzI_pfAF"
      }
    },
    {
      "cell_type": "code",
      "source": [
        "https://learn.microsoft.com/pt-br/training/modules/python-loops/2-while-loops"
      ],
      "metadata": {
        "id": "Bx2XrcpcphJl"
      },
      "execution_count": null,
      "outputs": []
    }
  ]
}