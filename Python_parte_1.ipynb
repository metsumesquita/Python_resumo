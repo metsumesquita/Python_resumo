{
  "nbformat": 4,
  "nbformat_minor": 0,
  "metadata": {
    "colab": {
      "provenance": [],
      "toc_visible": true,
      "authorship_tag": "ABX9TyOlEX39PTz280gkzKf7zz3P",
      "include_colab_link": true
    },
    "kernelspec": {
      "name": "python3",
      "display_name": "Python 3"
    },
    "language_info": {
      "name": "python"
    }
  },
  "cells": [
    {
      "cell_type": "markdown",
      "metadata": {
        "id": "view-in-github",
        "colab_type": "text"
      },
      "source": [
        "<a href=\"https://colab.research.google.com/github/metsumesquita/Python_resumo/blob/main/Python_parte_1.ipynb\" target=\"_parent\"><img src=\"https://colab.research.google.com/assets/colab-badge.svg\" alt=\"Open In Colab\"/></a>"
      ]
    },
    {
      "cell_type": "code",
      "source": [
        "#vamos aborda os assunto de variaveis,atribuiçoes,strings e +"
      ],
      "metadata": {
        "id": "xHA8NptF6VKD"
      },
      "execution_count": null,
      "outputs": []
    },
    {
      "cell_type": "code",
      "source": [
        "# utilizamso o # para fazer comentarios "
      ],
      "metadata": {
        "id": "To5pmBi7pH6n"
      },
      "execution_count": null,
      "outputs": []
    },
    {
      "cell_type": "markdown",
      "source": [
        "#Importaçoes"
      ],
      "metadata": {
        "id": "k60C4i-pz6U7"
      }
    },
    {
      "cell_type": "code",
      "source": [
        "from scipy import signal\n",
        "import numpy as np\n",
        "import matplotlib.pyplot as plt"
      ],
      "metadata": {
        "id": "U70P8bI4z4pn"
      },
      "execution_count": null,
      "outputs": []
    },
    {
      "cell_type": "code",
      "source": [
        "from collections import namedtuple "
      ],
      "metadata": {
        "id": "Uhko4EXtz8Wb"
      },
      "execution_count": null,
      "outputs": []
    },
    {
      "cell_type": "markdown",
      "source": [
        "#Variaveis e atribuiçao\n",
        "\n",
        "\n"
      ],
      "metadata": {
        "id": "jMwOSsv9r8yK"
      }
    },
    {
      "cell_type": "code",
      "execution_count": null,
      "metadata": {
        "id": "BVA4ii5pzAk_"
      },
      "outputs": [],
      "source": [
        "#as variaveis é apenas um nome dado a uma locaçao de memoria\n",
        "#o string nao sao mutaveis\n",
        "#toda a operaçao feita sobre a variavel afeta a locaçao de memoria"
      ]
    },
    {
      "cell_type": "code",
      "source": [
        "# - regra para criar uma variavel -\n",
        "# não é permitido usar numeros no começo das variaveis\n",
        "# não é permitido utilizar o espaço dentro de uma variavel\n",
        "#Python é case-sensitive.\n",
        "#entao Agua é diferente de agua que tambem e diferente de aGua e por ai vai\n",
        "#vale lembrar que nao utilizamos as palavras reservadas "
      ],
      "metadata": {
        "id": "yb5CsmEnvN6i"
      },
      "execution_count": null,
      "outputs": []
    },
    {
      "cell_type": "code",
      "source": [
        "print(\"Hello World\")"
      ],
      "metadata": {
        "colab": {
          "base_uri": "https://localhost:8080/"
        },
        "id": "Yr9zg1UKu4Y5",
        "outputId": "6cbf754e-46b3-4974-9e52-4e6560515e98"
      },
      "execution_count": null,
      "outputs": [
        {
          "output_type": "stream",
          "name": "stdout",
          "text": [
            "Hello World\n"
          ]
        }
      ]
    },
    {
      "cell_type": "code",
      "source": [
        "fala = \"Ela falou : \\\"Olá\\\"\" \n",
        "print(fala)"
      ],
      "metadata": {
        "colab": {
          "base_uri": "https://localhost:8080/"
        },
        "id": "iPXEJyu3u4Sf",
        "outputId": "e7eba4a2-a135-4a35-a503-5bfe42bd886e"
      },
      "execution_count": null,
      "outputs": [
        {
          "output_type": "stream",
          "name": "stdout",
          "text": [
            "Ela falou : \"Olá\"\n"
          ]
        }
      ]
    },
    {
      "cell_type": "code",
      "source": [
        "type(fala)"
      ],
      "metadata": {
        "colab": {
          "base_uri": "https://localhost:8080/"
        },
        "id": "dqh_-JSLGes7",
        "outputId": "bae55bf7-ad12-466c-dea9-e6672642f639"
      },
      "execution_count": null,
      "outputs": [
        {
          "output_type": "execute_result",
          "data": {
            "text/plain": [
              "str"
            ]
          },
          "metadata": {},
          "execution_count": 18
        }
      ]
    },
    {
      "cell_type": "code",
      "source": [
        "#toda variavel que tiver uma atribuiçao como :\n",
        "# pessoa_nome = \"lucia\"\n",
        "#tera a variavel do tipo str que é do Tipo String"
      ],
      "metadata": {
        "id": "tfY8xO3LIU_p"
      },
      "execution_count": null,
      "outputs": []
    },
    {
      "cell_type": "code",
      "source": [
        "#podemos utilizar o \\n para pularmos para a proxima linha\n",
        "#enquanto otilizamos o \\t para darmos aquele espaço que o tab dá"
      ],
      "metadata": {
        "id": "M23aIBGdyV8a"
      },
      "execution_count": null,
      "outputs": []
    },
    {
      "cell_type": "code",
      "source": [
        "#alterando uma frase\n",
        "phrase=\"Gato de gravata\"\n",
        "print(\"essa é a frase original\\t\"+phrase)\n",
        "print(\"essa é a visualizaçao alterada\\t\"+phrase.replace(\"Gato\",\"Urso\"))\n",
        "#notamos aqui que a variavel phrase nao tem seu valor armazenado alterado"
      ],
      "metadata": {
        "colab": {
          "base_uri": "https://localhost:8080/"
        },
        "id": "RL37O7Sru4Ki",
        "outputId": "3c471ea0-2904-41d3-8f41-7b1718daf716"
      },
      "execution_count": null,
      "outputs": [
        {
          "output_type": "stream",
          "name": "stdout",
          "text": [
            "essa é a frase original\tGato de gravata\n",
            "essa é a visualizaçao alterada\tUrso de gravata\n"
          ]
        }
      ]
    },
    {
      "cell_type": "code",
      "source": [
        "print(phrase.startswith(\"Urso\"))"
      ],
      "metadata": {
        "colab": {
          "base_uri": "https://localhost:8080/"
        },
        "id": "BK4J4_bwymHb",
        "outputId": "9fe0ff55-4b50-4373-c973-4f4caeef4afe"
      },
      "execution_count": null,
      "outputs": [
        {
          "output_type": "stream",
          "name": "stdout",
          "text": [
            "False\n"
          ]
        }
      ]
    },
    {
      "cell_type": "code",
      "source": [
        "print(phrase.startswith(\"Gato\"))"
      ],
      "metadata": {
        "colab": {
          "base_uri": "https://localhost:8080/"
        },
        "id": "AZpxlL1hyqhH",
        "outputId": "43fa8b0d-8822-46b1-df04-76c28c93124c"
      },
      "execution_count": null,
      "outputs": [
        {
          "output_type": "stream",
          "name": "stdout",
          "text": [
            "True\n"
          ]
        }
      ]
    },
    {
      "cell_type": "code",
      "source": [
        "print(phrase.endswith(\"gravata\"))"
      ],
      "metadata": {
        "colab": {
          "base_uri": "https://localhost:8080/"
        },
        "id": "hUOE1SSIytCN",
        "outputId": "8cb3607e-3af9-405b-fa55-378c378c0a79"
      },
      "execution_count": null,
      "outputs": [
        {
          "output_type": "stream",
          "name": "stdout",
          "text": [
            "True\n"
          ]
        }
      ]
    },
    {
      "cell_type": "code",
      "source": [
        "#deixa em maiusculo a primeira letra de cada palavra\n",
        "frase_livro=\"“My life was an unending, unchanging midnight.\\nIt must, by necessity, always be midnight for me.\\n So how was it possible that the sun was rising now, in the middle of my midnight?” \"\n",
        "print(frase_livro.title())"
      ],
      "metadata": {
        "colab": {
          "base_uri": "https://localhost:8080/"
        },
        "id": "jDAfzml8xEYM",
        "outputId": "73dc42c2-011b-42ce-8e83-4f35065ea8f1"
      },
      "execution_count": null,
      "outputs": [
        {
          "output_type": "stream",
          "name": "stdout",
          "text": [
            "“My Life Was An Unending, Unchanging Midnight.\n",
            "It Must, By Necessity, Always Be Midnight For Me.\n",
            " So How Was It Possible That The Sun Was Rising Now, In The Middle Of My Midnight?” \n"
          ]
        }
      ]
    },
    {
      "cell_type": "code",
      "source": [
        "print(1940,\"A casa do penhasco\")"
      ],
      "metadata": {
        "colab": {
          "base_uri": "https://localhost:8080/"
        },
        "id": "584Mow0USQYn",
        "outputId": "fc3c205a-3621-4232-ad2b-3e5efb9b360a"
      },
      "execution_count": null,
      "outputs": [
        {
          "output_type": "stream",
          "name": "stdout",
          "text": [
            "1940 A casa do penhasco\n"
          ]
        }
      ]
    },
    {
      "cell_type": "code",
      "source": [
        "comida=\"banana\"\n",
        "comida.find(\"na\")\n",
        "#aqui ele retorna a posiçao do \"n\""
      ],
      "metadata": {
        "id": "7BAYTEX7mN_h"
      },
      "execution_count": null,
      "outputs": []
    },
    {
      "cell_type": "markdown",
      "source": [
        "#Leitura de Dados do Teclado/Entrada e Trabalhando com String\n",
        "######[mais informaçao](https://https://algoritmosempython.com.br/cursos/programacao-python/entrada-saida/)"
      ],
      "metadata": {
        "id": "CGHkoUU7sNzK"
      }
    },
    {
      "cell_type": "code",
      "source": [
        "#aqui notamos que essas duas variaveis ,sao consideradas strings\n",
        "num1=input('Informe o valor da variavel 1 : ')\n",
        "num2=input('Informe o valor da variavel 2 : ')\n",
        "print('Resposta : '+num1+num2)\n",
        "##num1 e num2 sao strings\n",
        "#mas nao era isso q esperavamos ou queriamos\n",
        "#para fazer uma operaçao precisamos transforma esses valores em numeros inteiros\n",
        "soma=int(num1)+int(num2)\n",
        "#soma precisa ser do tipo string para poder ser utilizado com o print dessa forma abaixo\n",
        "print('Resultado desejado: '+str(soma) )"
      ],
      "metadata": {
        "id": "xPjljkCUs9Fc"
      },
      "execution_count": null,
      "outputs": []
    },
    {
      "cell_type": "code",
      "source": [
        "nome=input(\"Informe o seu nome : \")\n",
        "idade=int(input(\"Informe a sua idade : \"))\n",
        "print(\"Seu nome é : \"+nome+\"e  sua idade é  : \"+ str(idade) )"
      ],
      "metadata": {
        "id": "wYvlHfgq9KZa"
      },
      "execution_count": null,
      "outputs": []
    },
    {
      "cell_type": "code",
      "source": [
        "#Faça um programa que receba a idade do usuário e diga se ele é maior ou menor de idade. \n",
        "if(idade>=18):\n",
        "  print(nome+ \"é maior de idade \")\n",
        "else:\n",
        "  print(nome+\" é menor de idade\")"
      ],
      "metadata": {
        "id": "8Bjq-F0-GcRl"
      },
      "execution_count": null,
      "outputs": []
    },
    {
      "cell_type": "code",
      "source": [
        "#a seguir temos exemplos de atribuiçao de diferentes types de dados "
      ],
      "metadata": {
        "id": "TGCSZ2vTH43h"
      },
      "execution_count": null,
      "outputs": []
    },
    {
      "cell_type": "code",
      "source": [
        "#string\n",
        "meu_texto = input(\"Digite um texto : \")"
      ],
      "metadata": {
        "id": "XbfGvGBwH3Gy"
      },
      "execution_count": null,
      "outputs": []
    },
    {
      "cell_type": "code",
      "source": [
        "#imputando uma variavel do tipo int\n",
        "numero_inteiro = int(input(\"Digite um numero inteiro qualquer : \"))\n",
        "\n",
        "#imputando uma variavel do tipo float\n",
        "numero_decimal = float(input(\"Digite um numero decimal qualquer : \"))"
      ],
      "metadata": {
        "id": "X76QnWqc6EKB"
      },
      "execution_count": null,
      "outputs": []
    },
    {
      "cell_type": "code",
      "source": [
        "#alfa numerico\n",
        "'54A12B'.isalnum()"
      ],
      "metadata": {
        "id": "rOjppYeMRt9b"
      },
      "execution_count": null,
      "outputs": []
    },
    {
      "cell_type": "markdown",
      "source": [
        "#concatenando strings\n",
        "#####utilizaçao do find(),upper e lower case"
      ],
      "metadata": {
        "id": "-l1mLiqDSZmz"
      }
    },
    {
      "cell_type": "code",
      "source": [
        "a=\"Ola todos,nos da light academy\"\n",
        "b=\"Estamos convidando todos os novatos para o evento de sabado a noite\"\n",
        "c=a + b +\"\\n\" #quebra de linha\n",
        "print(c+\"as 18 horas\") \n",
        "d=a+\"\"+b+\"\\n\" #quebra de linha\n",
        "print(d)\n",
        "#com quebra de linha\n",
        "print(d.strip())\n",
        "#sem quebra de linha"
      ],
      "metadata": {
        "id": "CTK_Oj12Sdrq"
      },
      "execution_count": null,
      "outputs": []
    },
    {
      "cell_type": "code",
      "source": [
        "c=a+'\\n'+b #quebra de linha\n",
        "print(c)"
      ],
      "metadata": {
        "id": "a0amRNDLSdki"
      },
      "execution_count": null,
      "outputs": []
    },
    {
      "cell_type": "code",
      "source": [
        "#ver as coisas de Index\n",
        "frase=\"Os gatos persa sao a raça mais popular entre as outras raças de gato\"\n",
        "\n",
        "print(frase[0])\n",
        "print(frase[1])#espaço\n",
        "print(frase[2])\n",
        "print(frase[3])\n",
        "print(frase[4])\n",
        "print(frase[5])\n",
        "print(frase[6])\n",
        "print(frase[7])"
      ],
      "metadata": {
        "id": "KldCShpbivbR"
      },
      "execution_count": null,
      "outputs": []
    },
    {
      "cell_type": "code",
      "source": [
        "print(str(frase.upper()))#maiusculo\n",
        "print(str(frase.lower()))#minusculo"
      ],
      "metadata": {
        "id": "pRiqEQhBi01R"
      },
      "execution_count": null,
      "outputs": []
    },
    {
      "cell_type": "code",
      "source": [
        "print(frase[0:])\n",
        "#retorna do inicio ate o final da frase\n",
        "\n",
        "print(frase.find('g'))\n",
        "#o find retorna a posiçao que é encontrado simbolo no caso no g\n",
        "#caso nao seja encontrado retorna -1\n",
        "\n",
        "print(\"gatos\" in frase)\n",
        "#aqui especificamos se esse \"algo\" esta sendo usando na frase"
      ],
      "metadata": {
        "id": "Qj2btmeWjlTV"
      },
      "execution_count": null,
      "outputs": []
    },
    {
      "cell_type": "markdown",
      "source": [
        "##manipulaçao de strings"
      ],
      "metadata": {
        "id": "QtRDyfy1njCK"
      }
    },
    {
      "cell_type": "code",
      "source": [
        "name='sam'\n",
        "last_letters=name[1::]\n",
        "new_name='P'+last_letters\n",
        "print(new_name)"
      ],
      "metadata": {
        "id": "sbgsN20kSdNE"
      },
      "execution_count": null,
      "outputs": []
    },
    {
      "cell_type": "code",
      "source": [
        "#aqui conseguimos pegar seguimentos ou pedaços de um str\n",
        "print('tinker'[1:4])\n",
        "#a gente tambem pode chamar isso de fatiar a palavra"
      ],
      "metadata": {
        "id": "oZl72IYfjlRr"
      },
      "execution_count": null,
      "outputs": []
    },
    {
      "cell_type": "code",
      "source": [
        "my_frase='abcdefghiklmno'\n",
        "my_frase[::]"
      ],
      "metadata": {
        "id": "St5GIy6DkPtC"
      },
      "execution_count": null,
      "outputs": []
    },
    {
      "cell_type": "code",
      "source": [
        "my_frase[::2]#pula 2 em 2\n",
        "my_frase[::-1]#inverte\n",
        "'Hello World'[7]"
      ],
      "metadata": {
        "id": "Lmgq7ogcliDn"
      },
      "execution_count": null,
      "outputs": []
    },
    {
      "cell_type": "code",
      "source": [
        "#aqui temos outra forma de fazer a visualizaçao do que foi armazenado pela variavel fruit\n",
        "fruit=input(\"nome da fruta :\")\n",
        "index = 0\n",
        "while index < len(fruit):\n",
        " letter = fruit[index]\n",
        " print (letter)\n",
        " index = index + 1"
      ],
      "metadata": {
        "colab": {
          "base_uri": "https://localhost:8080/"
        },
        "id": "FoxUfdKInaqT",
        "outputId": "b47b7e63-0c51-4e0f-c0d5-7bb0a7d739f7"
      },
      "execution_count": null,
      "outputs": [
        {
          "output_type": "stream",
          "name": "stdout",
          "text": [
            "nome da fruta :casa\n",
            "c\n",
            "a\n",
            "s\n",
            "a\n"
          ]
        }
      ]
    },
    {
      "cell_type": "code",
      "source": [
        "#alem disso podemos saber o tamanho desse string,quantidade de letras\n",
        "print(len(fruit)) #banana=6\n",
        "#vem a ser util quando desejamos limitar o numero de letras para ser utilizado pelo usuario\n",
        "#por exemplo em um formulario 50 letras pra um nome pode ser um absurdo"
      ],
      "metadata": {
        "id": "IO8mAldVoJSM"
      },
      "execution_count": null,
      "outputs": []
    },
    {
      "cell_type": "markdown",
      "source": [
        "# Utilizaçao do format"
      ],
      "metadata": {
        "id": "_ajvmkT7oYkw"
      }
    },
    {
      "cell_type": "code",
      "source": [
        "first_nm=input(\"o primeiro nome : \")\n",
        "last_nm=input(\"o sobrenome:\")\n",
        "msg= f'{first_nm}[ {last_nm} ]is a coder'\n",
        "print(msg)"
      ],
      "metadata": {
        "id": "aC76EycyoeHa"
      },
      "execution_count": null,
      "outputs": []
    },
    {
      "cell_type": "code",
      "source": [
        "insert=\"inserido aqui\"\n",
        "print(f'vamos colocar algo aqui {insert}')"
      ],
      "metadata": {
        "id": "EOKujzb8ohg9"
      },
      "execution_count": null,
      "outputs": []
    },
    {
      "cell_type": "code",
      "source": [
        "#tambem tem esse outro formato aqui\n",
        "print('vamos colocar algo aqui {}'.format(\"INSERIDO AQUI\"))"
      ],
      "metadata": {
        "id": "yk5jMkGbolto"
      },
      "execution_count": null,
      "outputs": []
    },
    {
      "cell_type": "code",
      "source": [
        "print(\"o {0} {2} {1}\".format('gato','correu','preto'))"
      ],
      "metadata": {
        "id": "sK8RApfhos7r"
      },
      "execution_count": null,
      "outputs": []
    },
    {
      "cell_type": "code",
      "source": [
        "# que tambem pode ser feito dessa outra forma\n",
        "print(\"o {g} {p} {c}\".format(g='gato',c='correu',p='preto'))\n",
        "#que pode ser util para fazer diversas substituiçoes"
      ],
      "metadata": {
        "id": "8kpOYdcGovyf"
      },
      "execution_count": null,
      "outputs": []
    },
    {
      "cell_type": "code",
      "source": [
        "print(' Regras do Python {} '.format('!'))"
      ],
      "metadata": {
        "id": "RIYrS0jXo7JG"
      },
      "execution_count": null,
      "outputs": []
    },
    {
      "cell_type": "markdown",
      "source": [
        "#referencia"
      ],
      "metadata": {
        "id": "8Bv3xPuF2n96"
      }
    },
    {
      "cell_type": "code",
      "source": [
        "# https://stackabuse.com/getting-user-input-in-python/\n",
        "# https://programmingwithmosh.com/wp-content/uploads/2019/02/Python-Cheat-Sheet.pdf\n",
        "# https://algoritmosempython.com.br/cursos/programacao-python/entrada-saida/\n",
        "# https://stackoverflow.com/questions/4967580/how-to-get-the-size-of-a-string-in-python"
      ],
      "metadata": {
        "id": "yP0YD1GZ2tR_"
      },
      "execution_count": null,
      "outputs": []
    }
  ]
}